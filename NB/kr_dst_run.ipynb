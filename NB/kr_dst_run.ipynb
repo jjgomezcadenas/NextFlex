{
 "cells": [
  {
   "cell_type": "markdown",
   "metadata": {},
   "source": [
    "<p style=\"font-family: Arial; font-size:3.75em;color:purple; font-style:bold\"><br>\n",
    "kr_dst run notebook</p><br>"
   ]
  },
  {
   "cell_type": "markdown",
   "metadata": {},
   "source": [
    "# Runs the kr_dst"
   ]
  },
  {
   "cell_type": "code",
   "execution_count": 1,
   "metadata": {},
   "outputs": [],
   "source": [
    "import os\n",
    "import sys\n",
    "import glob\n",
    "import logging\n",
    "import math\n",
    "import numpy  as np\n",
    "import warnings\n",
    "from scipy.stats import norm\n",
    "import pandas as pd\n",
    "import matplotlib.pyplot as plt\n",
    "from matplotlib import colors\n",
    "from   dataclasses import dataclass"
   ]
  },
  {
   "cell_type": "code",
   "execution_count": 2,
   "metadata": {},
   "outputs": [],
   "source": [
    "from nextflex.core import Setup\n",
    "from nextflex.core import PosQ"
   ]
  },
  {
   "cell_type": "code",
   "execution_count": 3,
   "metadata": {},
   "outputs": [],
   "source": [
    "from nextflex.core import get_evt_true_positions_and_energy\n",
    "from nextflex.core import get_evt_true_positions_df\n",
    "from nextflex.core import get_sensor_response\n",
    "from nextflex.core import sensor_response_ti\n",
    "from nextflex.core import event_sensor_response_ti\n",
    "from nextflex.core import sensor_number_response_ti"
   ]
  },
  {
   "cell_type": "code",
   "execution_count": 4,
   "metadata": {},
   "outputs": [],
   "source": [
    "from nextflex.core import mcparts_and_sensors_response\n",
    "from nextflex.core import get_s1\n",
    "from nextflex.core import get_s2\n",
    "from nextflex.core import get_qtot"
   ]
  },
  {
   "cell_type": "code",
   "execution_count": 5,
   "metadata": {},
   "outputs": [],
   "source": [
    "from nextflex.core import get_q\n",
    "from nextflex.core import get_pos\n",
    "from nextflex.core import get_position\n",
    "from nextflex.core import diff_pos"
   ]
  },
  {
   "cell_type": "code",
   "execution_count": 20,
   "metadata": {},
   "outputs": [],
   "source": [
    "from nextflex.krypton_dst import kr_dst\n",
    "from nextflex.krypton_dst import kr_join_dst"
   ]
  },
  {
   "cell_type": "code",
   "execution_count": 7,
   "metadata": {},
   "outputs": [],
   "source": [
    "from nextflex.krypton_analysis import histo_df\n",
    "from nextflex.krypton_analysis import histos_df\n",
    "from nextflex.krypton_analysis import histo1d\n",
    "from nextflex.krypton_analysis import histos1d"
   ]
  },
  {
   "cell_type": "code",
   "execution_count": 8,
   "metadata": {},
   "outputs": [],
   "source": [
    "import invisible_cities.core.system_of_units  as units\n",
    "from invisible_cities.core.core_functions     import in_range\n",
    "\n",
    "from invisible_cities.io.mcinfo_io import get_sensor_binning\n",
    "from invisible_cities.io.mcinfo_io import load_mcparticles_df\n",
    "from invisible_cities.io.mcinfo_io import load_mcsensor_response_df"
   ]
  },
  {
   "cell_type": "code",
   "execution_count": 9,
   "metadata": {},
   "outputs": [],
   "source": [
    "%matplotlib inline\n",
    "%load_ext autoreload\n",
    "%autoreload 2"
   ]
  },
  {
   "cell_type": "markdown",
   "metadata": {},
   "source": [
    "## Run configuration"
   ]
  },
  {
   "cell_type": "code",
   "execution_count": 10,
   "metadata": {},
   "outputs": [
    {
     "name": "stdout",
     "output_type": "stream",
     "text": [
      "path to data =/Users/jj/Development/flexdata\n"
     ]
    }
   ],
   "source": [
    "FDATA = os.environ['FLEXDATA']\n",
    "print(f'path to data ={FDATA}')"
   ]
  },
  {
   "cell_type": "markdown",
   "metadata": {},
   "source": [
    "### Setup\n",
    "\n",
    "***\n",
    "@dataclass\\\n",
    "class Setup:\n",
    "\n",
    "    sipmPDE           : float = 1.0\n",
    "    maskPDE           : float = 1.0\n",
    "    qTh               : float = 0.0\n",
    "    tpConfig          : str   = \"FLEX100_M6_O6\" # means thickness 6 mm hole 6mm\n",
    "    mapDIR            : str   = \"flexmaps\" # where to find the SiPM map\n",
    "    fibres            : bool  = False\n",
    "\n",
    "***\n"
   ]
  },
  {
   "cell_type": "code",
   "execution_count": 11,
   "metadata": {},
   "outputs": [
    {
     "name": "stdout",
     "output_type": "stream",
     "text": [
      "\n",
      "        Setup <PMTs_sipmPDE_1.0_maskPDE_1.0_qTh_0.0_FLEX100_M6_O6>:\n",
      "        tracking plane configuration = FLEX100_M6_O6\n",
      "        sipm PDE                     = 1.0\n",
      "        transmission of teflon masks = 1.0\n",
      "        charge threshold             = 0.0\n",
      "        Fibres?                      = False\n",
      "        \n"
     ]
    }
   ],
   "source": [
    "setup = Setup(sipmPDE    = 1.0,\n",
    "              maskPDE    = 1.0,\n",
    "              qTh        = 0.0,\n",
    "              tpConfig   = \"FLEX100_M6_O6\", \n",
    "              mapDIR     = \"flexmaps\",\n",
    "              fibres     = False)\n",
    "print(setup)"
   ]
  },
  {
   "cell_type": "markdown",
   "metadata": {},
   "source": [
    "### SiPM map"
   ]
  },
  {
   "cell_type": "code",
   "execution_count": 12,
   "metadata": {},
   "outputs": [
    {
     "data": {
      "text/html": [
       "<div>\n",
       "<style scoped>\n",
       "    .dataframe tbody tr th:only-of-type {\n",
       "        vertical-align: middle;\n",
       "    }\n",
       "\n",
       "    .dataframe tbody tr th {\n",
       "        vertical-align: top;\n",
       "    }\n",
       "\n",
       "    .dataframe thead th {\n",
       "        text-align: right;\n",
       "    }\n",
       "</style>\n",
       "<table border=\"1\" class=\"dataframe\">\n",
       "  <thead>\n",
       "    <tr style=\"text-align: right;\">\n",
       "      <th></th>\n",
       "      <th>Unnamed: 0</th>\n",
       "      <th>sensor_id</th>\n",
       "      <th>sensor_name</th>\n",
       "      <th>x</th>\n",
       "      <th>y</th>\n",
       "      <th>xl</th>\n",
       "      <th>xr</th>\n",
       "      <th>yu</th>\n",
       "      <th>yd</th>\n",
       "      <th>id_xl</th>\n",
       "      <th>id_xr</th>\n",
       "      <th>id_yu</th>\n",
       "      <th>id_yd</th>\n",
       "    </tr>\n",
       "  </thead>\n",
       "  <tbody>\n",
       "    <tr>\n",
       "      <th>0</th>\n",
       "      <td>0</td>\n",
       "      <td>1040</td>\n",
       "      <td>TP_SiPM</td>\n",
       "      <td>15.55</td>\n",
       "      <td>-450.95</td>\n",
       "      <td>1.907349e-07</td>\n",
       "      <td>31.100000</td>\n",
       "      <td>-435.400012</td>\n",
       "      <td>-466.500012</td>\n",
       "      <td>1039</td>\n",
       "      <td>1041</td>\n",
       "      <td>1066</td>\n",
       "      <td>1019</td>\n",
       "    </tr>\n",
       "    <tr>\n",
       "      <th>1</th>\n",
       "      <td>1</td>\n",
       "      <td>4059</td>\n",
       "      <td>TP_SiPM</td>\n",
       "      <td>93.30</td>\n",
       "      <td>450.95</td>\n",
       "      <td>7.775000e+01</td>\n",
       "      <td>108.850003</td>\n",
       "      <td>466.500012</td>\n",
       "      <td>435.400012</td>\n",
       "      <td>4058</td>\n",
       "      <td>4060</td>\n",
       "      <td>4080</td>\n",
       "      <td>4033</td>\n",
       "    </tr>\n",
       "    <tr>\n",
       "      <th>2</th>\n",
       "      <td>2</td>\n",
       "      <td>3753</td>\n",
       "      <td>TP_SiPM</td>\n",
       "      <td>-62.20</td>\n",
       "      <td>326.55</td>\n",
       "      <td>-7.775000e+01</td>\n",
       "      <td>-46.650001</td>\n",
       "      <td>342.099988</td>\n",
       "      <td>310.999988</td>\n",
       "      <td>3752</td>\n",
       "      <td>3754</td>\n",
       "      <td>3799</td>\n",
       "      <td>3705</td>\n",
       "    </tr>\n",
       "    <tr>\n",
       "      <th>3</th>\n",
       "      <td>3</td>\n",
       "      <td>3842</td>\n",
       "      <td>TP_SiPM</td>\n",
       "      <td>-77.75</td>\n",
       "      <td>357.65</td>\n",
       "      <td>-9.330000e+01</td>\n",
       "      <td>-62.200000</td>\n",
       "      <td>373.199994</td>\n",
       "      <td>342.099994</td>\n",
       "      <td>3841</td>\n",
       "      <td>3843</td>\n",
       "      <td>3884</td>\n",
       "      <td>3798</td>\n",
       "    </tr>\n",
       "    <tr>\n",
       "      <th>4</th>\n",
       "      <td>4</td>\n",
       "      <td>3797</td>\n",
       "      <td>TP_SiPM</td>\n",
       "      <td>-93.30</td>\n",
       "      <td>342.10</td>\n",
       "      <td>-1.088500e+02</td>\n",
       "      <td>-77.750003</td>\n",
       "      <td>357.650006</td>\n",
       "      <td>326.550006</td>\n",
       "      <td>3796</td>\n",
       "      <td>3798</td>\n",
       "      <td>3841</td>\n",
       "      <td>3751</td>\n",
       "    </tr>\n",
       "  </tbody>\n",
       "</table>\n",
       "</div>"
      ],
      "text/plain": [
       "   Unnamed: 0  sensor_id sensor_name      x       y            xl          xr  \\\n",
       "0           0       1040     TP_SiPM  15.55 -450.95  1.907349e-07   31.100000   \n",
       "1           1       4059     TP_SiPM  93.30  450.95  7.775000e+01  108.850003   \n",
       "2           2       3753     TP_SiPM -62.20  326.55 -7.775000e+01  -46.650001   \n",
       "3           3       3842     TP_SiPM -77.75  357.65 -9.330000e+01  -62.200000   \n",
       "4           4       3797     TP_SiPM -93.30  342.10 -1.088500e+02  -77.750003   \n",
       "\n",
       "           yu          yd  id_xl  id_xr  id_yu  id_yd  \n",
       "0 -435.400012 -466.500012   1039   1041   1066   1019  \n",
       "1  466.500012  435.400012   4058   4060   4080   4033  \n",
       "2  342.099988  310.999988   3752   3754   3799   3705  \n",
       "3  373.199994  342.099994   3841   3843   3884   3798  \n",
       "4  357.650006  326.550006   3796   3798   3841   3751  "
      ]
     },
     "execution_count": 12,
     "metadata": {},
     "output_type": "execute_result"
    }
   ],
   "source": [
    "mapFile       = os.path.join(FDATA,setup.mapDIR, 'sipm_map.csv')\n",
    "sipm_map      = pd.read_csv(mapFile)\n",
    "sipm_map.head()"
   ]
  },
  {
   "cell_type": "markdown",
   "metadata": {},
   "source": [
    "### Directory for files describing the SiPM plane configuration"
   ]
  },
  {
   "cell_type": "code",
   "execution_count": 14,
   "metadata": {},
   "outputs": [
    {
     "name": "stdout",
     "output_type": "stream",
     "text": [
      "found 100 files\n"
     ]
    }
   ],
   "source": [
    "ifnames = glob.glob(f\"{FDATA}/{setup.tpConfig}/*.h5\")\n",
    "print(f'found {len(ifnames)} files')"
   ]
  },
  {
   "cell_type": "markdown",
   "metadata": {},
   "source": [
    "### Extract kr_dsts from h5"
   ]
  },
  {
   "cell_type": "code",
   "execution_count": 20,
   "metadata": {},
   "outputs": [
    {
     "name": "stdout",
     "output_type": "stream",
     "text": [
      "reading file /Users/jj/Development/flexdata/FLEX100_M6_O6/FLEX100_M6_O6.Kr83.ACTIVE.1023.next.h5\n",
      "saving file /Users/jj/Development/flexdata/FLEX100_M6_O6/FLEX100_M6_O6Kr83.ACTIVE.1023.next.csv, with 100 events\n",
      "reading file /Users/jj/Development/flexdata/FLEX100_M6_O6/FLEX100_M6_O6.Kr83.ACTIVE.1032.next.h5\n",
      "saving file /Users/jj/Development/flexdata/FLEX100_M6_O6/FLEX100_M6_O6Kr83.ACTIVE.1032.next.csv, with 100 events\n",
      "reading file /Users/jj/Development/flexdata/FLEX100_M6_O6/FLEX100_M6_O6.Kr83.ACTIVE.1031.next.h5\n",
      "saving file /Users/jj/Development/flexdata/FLEX100_M6_O6/FLEX100_M6_O6Kr83.ACTIVE.1031.next.csv, with 100 events\n",
      "reading file /Users/jj/Development/flexdata/FLEX100_M6_O6/FLEX100_M6_O6.Kr83.ACTIVE.1024.next.h5\n",
      "saving file /Users/jj/Development/flexdata/FLEX100_M6_O6/FLEX100_M6_O6Kr83.ACTIVE.1024.next.csv, with 100 events\n",
      "reading file /Users/jj/Development/flexdata/FLEX100_M6_O6/FLEX100_M6_O6.Kr83.ACTIVE.1018.next.h5\n",
      "saving file /Users/jj/Development/flexdata/FLEX100_M6_O6/FLEX100_M6_O6Kr83.ACTIVE.1018.next.csv, with 100 events\n",
      "good files =100\n",
      "bad files =0\n"
     ]
    }
   ],
   "source": [
    "gf, bf = kr_dst(ifnames, sipm_map, setup, ic=20)\n",
    "print(f'good files ={len(gf)}')\n",
    "print(f'bad files ={len(bf)}')\n"
   ]
  },
  {
   "cell_type": "markdown",
   "metadata": {},
   "source": [
    "### Join kr_dsts "
   ]
  },
  {
   "cell_type": "code",
   "execution_count": 15,
   "metadata": {},
   "outputs": [
    {
     "name": "stdout",
     "output_type": "stream",
     "text": [
      "found 100 files\n"
     ]
    }
   ],
   "source": [
    "ifnames = glob.glob(f\"{FDATA}/{setup.tpConfig}/*.csv\")\n",
    "print(f'found {len(ifnames)} files')"
   ]
  },
  {
   "cell_type": "code",
   "execution_count": 16,
   "metadata": {},
   "outputs": [
    {
     "name": "stdout",
     "output_type": "stream",
     "text": [
      "output file name = PMTs_sipmPDE_1.0_maskPDE_1.0_qTh_0.0_FLEX100_M6_O6.csv\n"
     ]
    }
   ],
   "source": [
    "ofile_name = f\"{setup.name}.csv\"\n",
    "print(f\"output file name = {ofile_name}\")"
   ]
  },
  {
   "cell_type": "code",
   "execution_count": 22,
   "metadata": {},
   "outputs": [
    {
     "name": "stdout",
     "output_type": "stream",
     "text": [
      "Path to ofile = /Users/jj/Development/flexdata/kdsts/PMTs_sipmPDE_1.0_maskPDE_1.0_qTh_0.0_FLEX100_M6_O6.csv\n"
     ]
    }
   ],
   "source": [
    "ofile = f\"{FDATA}/kdsts/{ofile_name}\"\n",
    "print(f\"Path to ofile = {ofile}\")"
   ]
  },
  {
   "cell_type": "code",
   "execution_count": 23,
   "metadata": {},
   "outputs": [
    {
     "name": "stdout",
     "output_type": "stream",
     "text": [
      "bad files =0\n",
      "    event_id      true_x      true_y      true_z         KE  S1e   S2e  Qtot  \\\n",
      "0     101900  359.476500    9.660492   722.39014  55.389090   18  8395   794   \n",
      "1     101901  186.837890  -43.123417  1162.73030  41.543297   22  8774   747   \n",
      "2     101902 -259.909730  -53.806812  1087.68680  54.014584   29  8693   829   \n",
      "3     101903 -399.442720 -187.637620   699.62256  41.543297   28  7923   756   \n",
      "4     101904   77.765274  -40.491470   991.10700  43.017110   35  8940   771   \n",
      "..       ...         ...         ...         ...        ...  ...   ...   ...   \n",
      "95    103595 -183.870450  435.716060   677.17190  41.543297   24  6810   614   \n",
      "96    103596  273.419280 -302.450700  1186.15840  54.050537   20  8160   780   \n",
      "97    103597  267.384200 -260.087040   634.82007  41.543297   31  8315   784   \n",
      "98    103598  406.801400 -110.261090   435.15662  41.543297   11  7737   760   \n",
      "99    103599  135.363780  -17.823605   641.65350  41.543297   19  8711   830   \n",
      "\n",
      "      xMax    yMax  ...        rPos  qMax    qL    qR    qU    qD     dxPos  \\\n",
      "0   357.65   15.55  ...  372.041112  54.0  27.0  44.0  18.0  42.0 -0.288295   \n",
      "1   186.60  -46.65  ...  229.763372  38.0  37.0  28.0  35.0  22.0  1.596625   \n",
      "2  -264.35  -46.65  ...  311.496957  54.0  23.0  38.0  22.0  41.0  2.412013   \n",
      "3  -404.30 -186.60  ...  586.678595  59.0  15.0  38.0  35.0  27.0  1.663972   \n",
      "4    77.75  -46.65  ...  121.386248  50.0  20.0  24.0  43.0  17.0 -0.646428   \n",
      "..     ...     ...  ...         ...   ...   ...   ...   ...   ...       ...   \n",
      "95 -186.60  435.40  ...  613.699945  63.0  24.0  42.0   0.0  41.0  0.559783   \n",
      "96  279.90 -311.00  ...  584.728454  43.0  42.0  17.0  43.0  26.0 -2.669441   \n",
      "97  264.35 -264.35  ...  529.575114  74.0  19.0  54.0  41.0  17.0 -0.668198   \n",
      "98  404.30 -108.85  ...  515.673138  68.0  25.0  41.0  33.0  39.0  0.644681   \n",
      "99  139.95  -15.55  ...  151.882194  80.0  47.0  16.0  24.0  22.0 -1.215235   \n",
      "\n",
      "       dyPos     dxMax     dyMax  \n",
      "0  -2.615824  1.826501 -5.889508  \n",
      "1   1.398689  0.237891  3.526583  \n",
      "2  -4.631598  4.440271 -7.156812  \n",
      "3  -2.065715  4.857281 -1.037619  \n",
      "4   2.483076  0.015274  6.158530  \n",
      "..       ...       ...       ...  \n",
      "95  6.446355  2.729547  0.316064  \n",
      "96  6.189018 -6.480719  8.549286  \n",
      "97  1.435694  3.034186  4.262964  \n",
      "98 -0.744665  2.501392 -1.411093  \n",
      "99 -2.520430 -4.586215 -2.273605  \n",
      "\n",
      "[10000 rows x 22 columns]\n"
     ]
    }
   ],
   "source": [
    "krdf, BF = kr_join_dst(ifnames, verbose=False)\n",
    "print(f'bad files ={len(BF)}')\n",
    "print(krdf)\n",
    "krdf.to_csv(ofile)"
   ]
  },
  {
   "cell_type": "markdown",
   "metadata": {},
   "source": [
    "## FLEX100_M6_O6 with SiPM = 0.4"
   ]
  },
  {
   "cell_type": "code",
   "execution_count": 38,
   "metadata": {},
   "outputs": [
    {
     "name": "stdout",
     "output_type": "stream",
     "text": [
      "found 100 files\n"
     ]
    }
   ],
   "source": [
    "ifnames = glob.glob(f\"{FDATA}/{setup.tpConfig}/*.h5\")\n",
    "print(f'found {len(ifnames)} files')"
   ]
  },
  {
   "cell_type": "code",
   "execution_count": 39,
   "metadata": {},
   "outputs": [
    {
     "name": "stdout",
     "output_type": "stream",
     "text": [
      "\n",
      "        Setup <PMTs_sipmPDE_0.4_maskPDE_1.0_qTh_0.0_FLEX100_M6_O6>:\n",
      "        tracking plane configuration = FLEX100_M6_O6\n",
      "        sipm PDE                     = 0.4\n",
      "        transmission of teflon masks = 1.0\n",
      "        charge threshold             = 0.0\n",
      "        Fibres?                      = False\n",
      "        \n"
     ]
    }
   ],
   "source": [
    "setup = Setup(sipmPDE    = 0.4,\n",
    "              maskPDE    = 1.0,\n",
    "              qTh        = 0.0,\n",
    "              tpConfig   = \"FLEX100_M6_O6\")\n",
    "print(setup)"
   ]
  },
  {
   "cell_type": "code",
   "execution_count": 40,
   "metadata": {},
   "outputs": [
    {
     "name": "stdout",
     "output_type": "stream",
     "text": [
      "reading file /Users/jj/Development/flexdata/FLEX100_M6_O6/FLEX100_M6_O6.Kr83.ACTIVE.1023.next.h5\n",
      "saving file /Users/jj/Development/flexdata/FLEX100_M6_O6/FLEX100_M6_O6Kr83.ACTIVE.1023.next.csv, with 100 events\n",
      "reading file /Users/jj/Development/flexdata/FLEX100_M6_O6/FLEX100_M6_O6.Kr83.ACTIVE.1032.next.h5\n",
      "saving file /Users/jj/Development/flexdata/FLEX100_M6_O6/FLEX100_M6_O6Kr83.ACTIVE.1032.next.csv, with 100 events\n",
      "reading file /Users/jj/Development/flexdata/FLEX100_M6_O6/FLEX100_M6_O6.Kr83.ACTIVE.1031.next.h5\n",
      "saving file /Users/jj/Development/flexdata/FLEX100_M6_O6/FLEX100_M6_O6Kr83.ACTIVE.1031.next.csv, with 100 events\n",
      "reading file /Users/jj/Development/flexdata/FLEX100_M6_O6/FLEX100_M6_O6.Kr83.ACTIVE.1024.next.h5\n",
      "saving file /Users/jj/Development/flexdata/FLEX100_M6_O6/FLEX100_M6_O6Kr83.ACTIVE.1024.next.csv, with 100 events\n",
      "reading file /Users/jj/Development/flexdata/FLEX100_M6_O6/FLEX100_M6_O6.Kr83.ACTIVE.1018.next.h5\n",
      "saving file /Users/jj/Development/flexdata/FLEX100_M6_O6/FLEX100_M6_O6Kr83.ACTIVE.1018.next.csv, with 100 events\n",
      "good files =100\n",
      "bad files =0\n"
     ]
    }
   ],
   "source": [
    "gf, bf = kr_dst(ifnames, sipm_map, setup, ic=20)\n",
    "print(f'good files ={len(gf)}')\n",
    "print(f'bad files ={len(bf)}')\n"
   ]
  },
  {
   "cell_type": "code",
   "execution_count": 41,
   "metadata": {},
   "outputs": [
    {
     "name": "stdout",
     "output_type": "stream",
     "text": [
      "found 100 files\n"
     ]
    }
   ],
   "source": [
    "ifnames2 = glob.glob(f\"{FDATA}/{setup.tpConfig}/*.csv\")\n",
    "print(f'found {len(ifnames2)} files')"
   ]
  },
  {
   "cell_type": "code",
   "execution_count": 42,
   "metadata": {},
   "outputs": [
    {
     "name": "stdout",
     "output_type": "stream",
     "text": [
      "Path to ofile = /Users/jj/Development/flexdata/kdsts/PMTs_sipmPDE_0.4_maskPDE_1.0_qTh_0.0_FLEX100_M6_O6.csv\n"
     ]
    }
   ],
   "source": [
    "ofile_name = f\"{setup.name}.csv\"\n",
    "ofile = f\"{FDATA}/kdsts/{ofile_name}\"\n",
    "print(f\"Path to ofile = {ofile}\")"
   ]
  },
  {
   "cell_type": "code",
   "execution_count": 43,
   "metadata": {},
   "outputs": [
    {
     "name": "stdout",
     "output_type": "stream",
     "text": [
      "bad files =0\n"
     ]
    }
   ],
   "source": [
    "krdf, BF = kr_join_dst(ifnames2, verbose=False)\n",
    "print(f'bad files ={len(BF)}')\n",
    "#print(krdf)\n",
    "krdf.to_csv(ofile)"
   ]
  },
  {
   "cell_type": "markdown",
   "metadata": {},
   "source": [
    "## FLEX100_M6_O6 with SiPM = 0.4, qth > 5"
   ]
  },
  {
   "cell_type": "code",
   "execution_count": 44,
   "metadata": {},
   "outputs": [
    {
     "name": "stdout",
     "output_type": "stream",
     "text": [
      "found 100 files\n"
     ]
    }
   ],
   "source": [
    "ifnames = glob.glob(f\"{FDATA}/{setup.tpConfig}/*.h5\")\n",
    "print(f'found {len(ifnames)} files')"
   ]
  },
  {
   "cell_type": "code",
   "execution_count": 45,
   "metadata": {},
   "outputs": [
    {
     "name": "stdout",
     "output_type": "stream",
     "text": [
      "\n",
      "        Setup <PMTs_sipmPDE_0.4_maskPDE_1.0_qTh_5.0_FLEX100_M6_O6>:\n",
      "        tracking plane configuration = FLEX100_M6_O6\n",
      "        sipm PDE                     = 0.4\n",
      "        transmission of teflon masks = 1.0\n",
      "        charge threshold             = 5.0\n",
      "        Fibres?                      = False\n",
      "        \n"
     ]
    }
   ],
   "source": [
    "setup = Setup(sipmPDE    = 0.4,\n",
    "              maskPDE    = 1.0,\n",
    "              qTh        = 5.0,\n",
    "              tpConfig   = \"FLEX100_M6_O6\")\n",
    "print(setup)"
   ]
  },
  {
   "cell_type": "code",
   "execution_count": 46,
   "metadata": {},
   "outputs": [
    {
     "name": "stdout",
     "output_type": "stream",
     "text": [
      "reading file /Users/jj/Development/flexdata/FLEX100_M6_O6/FLEX100_M6_O6.Kr83.ACTIVE.1023.next.h5\n",
      "saving file /Users/jj/Development/flexdata/FLEX100_M6_O6/FLEX100_M6_O6Kr83.ACTIVE.1023.next.csv, with 100 events\n",
      "reading file /Users/jj/Development/flexdata/FLEX100_M6_O6/FLEX100_M6_O6.Kr83.ACTIVE.1091.next.h5\n",
      "saving file /Users/jj/Development/flexdata/FLEX100_M6_O6/FLEX100_M6_O6Kr83.ACTIVE.1091.next.csv, with 100 events\n",
      "good files =100\n",
      "bad files =0\n"
     ]
    }
   ],
   "source": [
    "gf, bf = kr_dst(ifnames, sipm_map, setup, ic=50)\n",
    "print(f'good files ={len(gf)}')\n",
    "print(f'bad files ={len(bf)}')"
   ]
  },
  {
   "cell_type": "code",
   "execution_count": 47,
   "metadata": {},
   "outputs": [
    {
     "name": "stdout",
     "output_type": "stream",
     "text": [
      "Path to ofile = /Users/jj/Development/flexdata/kdsts/PMTs_sipmPDE_0.4_maskPDE_1.0_qTh_5.0_FLEX100_M6_O6.csv\n"
     ]
    }
   ],
   "source": [
    "ofile_name = f\"{setup.name}.csv\"\n",
    "ofile = f\"{FDATA}/kdsts/{ofile_name}\"\n",
    "print(f\"Path to ofile = {ofile}\")"
   ]
  },
  {
   "cell_type": "code",
   "execution_count": 48,
   "metadata": {},
   "outputs": [
    {
     "name": "stdout",
     "output_type": "stream",
     "text": [
      "bad files =0\n"
     ]
    }
   ],
   "source": [
    "krdf, BF = kr_join_dst(ifnames2, verbose=False)\n",
    "print(f'bad files ={len(BF)}')\n",
    "#print(krdf)\n",
    "krdf.to_csv(ofile)"
   ]
  },
  {
   "cell_type": "code",
   "execution_count": null,
   "metadata": {},
   "outputs": [],
   "source": []
  }
 ],
 "metadata": {
  "kernelspec": {
   "display_name": "Python 3",
   "language": "python",
   "name": "python3"
  },
  "language_info": {
   "codemirror_mode": {
    "name": "ipython",
    "version": 3
   },
   "file_extension": ".py",
   "mimetype": "text/x-python",
   "name": "python",
   "nbconvert_exporter": "python",
   "pygments_lexer": "ipython3",
   "version": "3.7.7"
  }
 },
 "nbformat": 4,
 "nbformat_minor": 4
}
