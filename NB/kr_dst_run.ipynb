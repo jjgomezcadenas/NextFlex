{
 "cells": [
  {
   "cell_type": "markdown",
   "metadata": {},
   "source": [
    "<p style=\"font-family: Arial; font-size:3.75em;color:purple; font-style:bold\"><br>\n",
    "kr_dst run notebook</p><br>"
   ]
  },
  {
   "cell_type": "markdown",
   "metadata": {},
   "source": [
    "# Runs the kr_dst"
   ]
  },
  {
   "cell_type": "code",
   "execution_count": 49,
   "metadata": {},
   "outputs": [],
   "source": [
    "import os\n",
    "import sys\n",
    "import glob\n",
    "import logging\n",
    "import math\n",
    "import numpy  as np\n",
    "import warnings\n",
    "from scipy.stats import norm\n",
    "import pandas as pd\n",
    "import matplotlib.pyplot as plt\n",
    "from matplotlib import colors\n",
    "from   dataclasses import dataclass"
   ]
  },
  {
   "cell_type": "code",
   "execution_count": 50,
   "metadata": {},
   "outputs": [],
   "source": [
    "from nextflex.core import Setup\n",
    "from nextflex.core import PosQ"
   ]
  },
  {
   "cell_type": "code",
   "execution_count": 51,
   "metadata": {},
   "outputs": [],
   "source": [
    "from nextflex.core import get_evt_true_positions_and_energy\n",
    "from nextflex.core import get_evt_true_positions_df\n",
    "from nextflex.core import get_sensor_response\n",
    "from nextflex.core import sensor_response_ti\n",
    "from nextflex.core import event_sensor_response_ti\n",
    "from nextflex.core import sensor_number_response_ti"
   ]
  },
  {
   "cell_type": "code",
   "execution_count": 52,
   "metadata": {},
   "outputs": [],
   "source": [
    "from nextflex.core import mcparts_and_sensors_response\n",
    "from nextflex.core import get_s1\n",
    "from nextflex.core import get_s2\n",
    "from nextflex.core import get_qtot"
   ]
  },
  {
   "cell_type": "code",
   "execution_count": 53,
   "metadata": {},
   "outputs": [],
   "source": [
    "from nextflex.core import get_q\n",
    "from nextflex.core import get_pos\n",
    "from nextflex.core import get_position\n",
    "from nextflex.core import diff_pos"
   ]
  },
  {
   "cell_type": "code",
   "execution_count": 80,
   "metadata": {},
   "outputs": [],
   "source": [
    "from nextflex.krypton_dst import kr_dst\n",
    "from nextflex.krypton_dst import kr_join_dst\n",
    "from nextflex.krypton_dst import prepare_tmpdir"
   ]
  },
  {
   "cell_type": "code",
   "execution_count": 55,
   "metadata": {},
   "outputs": [],
   "source": [
    "from nextflex.krypton_analysis import histo_df\n",
    "from nextflex.krypton_analysis import histos_df\n",
    "from nextflex.krypton_analysis import histo1d\n",
    "from nextflex.krypton_analysis import histos1d"
   ]
  },
  {
   "cell_type": "code",
   "execution_count": 56,
   "metadata": {},
   "outputs": [],
   "source": [
    "import invisible_cities.core.system_of_units  as units\n",
    "from invisible_cities.core.core_functions     import in_range\n",
    "\n",
    "from invisible_cities.io.mcinfo_io import get_sensor_binning\n",
    "from invisible_cities.io.mcinfo_io import load_mcparticles_df\n",
    "from invisible_cities.io.mcinfo_io import load_mcsensor_response_df"
   ]
  },
  {
   "cell_type": "code",
   "execution_count": 57,
   "metadata": {},
   "outputs": [
    {
     "name": "stdout",
     "output_type": "stream",
     "text": [
      "The autoreload extension is already loaded. To reload it, use:\n",
      "  %reload_ext autoreload\n"
     ]
    }
   ],
   "source": [
    "%matplotlib inline\n",
    "%load_ext autoreload\n",
    "%autoreload 2"
   ]
  },
  {
   "cell_type": "markdown",
   "metadata": {},
   "source": [
    "## Run configuration"
   ]
  },
  {
   "cell_type": "code",
   "execution_count": 58,
   "metadata": {},
   "outputs": [
    {
     "name": "stdout",
     "output_type": "stream",
     "text": [
      "path to data =/Users/jj/Development/flexdata\n"
     ]
    }
   ],
   "source": [
    "FDATA = os.environ['FLEXDATA']\n",
    "print(f'path to data ={FDATA}')"
   ]
  },
  {
   "cell_type": "markdown",
   "metadata": {},
   "source": [
    "### Setup\n",
    "\n",
    "***\n",
    "@dataclass\\\n",
    "class Setup:\n",
    "    \n",
    "    flexDATA          : str   = \"/Users/jj/Development/flexdata\"\n",
    "    sipmPDE           : float = 1.0\n",
    "    maskPDE           : float = 1.0\n",
    "    qTh               : float = 0.0\n",
    "    tpConfig          : str   = \"FLEX100_M6_O6\" # means thickness 6 mm hole 6mm\n",
    "    mapDIR            : str   = \"flexmaps\" # where to find the SiPM map\n",
    "    fibres            : bool  = False\n",
    "\n",
    "***\n"
   ]
  },
  {
   "cell_type": "code",
   "execution_count": 73,
   "metadata": {},
   "outputs": [
    {
     "name": "stdout",
     "output_type": "stream",
     "text": [
      "\n",
      "        Setup <FLEX100_M6_O6_PMTs_sipmPDE_1.0_maskPDE_1.0_qTh_0.0>:\n",
      "        tracking plane configuration = FLEX100_M6_O6\n",
      "        sipm PDE                     = 1.0\n",
      "        transmission of teflon masks = 1.0\n",
      "        charge threshold             = 0.0\n",
      "        energy sensors               = PMTs\n",
      "        pitch                        = 15.55\n",
      "        number of energy sensors     = 60\n",
      "        number of SiPMs              = 3093\n",
      "        root directory               = /Users/jj/Development/flexdata/FLEX100_M6_O6\n",
      "        number of h5 files in dir    = 100\n",
      "        sipm map at                  = /Users/jj/Development/flexdata/flexmaps/sipm_map_15.6_mm.csv\n",
      "        sipm map name                = sipm_map_15.6_mm.csv\n",
      "        output file                  = /Users/jj/Development/flexdata/kdsts/FLEX100_M6_O6_PMTs_sipmPDE_1.0_maskPDE_1.0_qTh_0.0.csv\n",
      "        \n"
     ]
    }
   ],
   "source": [
    "setup = Setup(flexDATA = FDATA,\n",
    "              sipmPDE  = 1.0,\n",
    "              maskPDE  = 1.0,\n",
    "              qTh      = 0.0,\n",
    "              tpConfig = \"FLEX100_M6_O6\")\n",
    "print(setup)"
   ]
  },
  {
   "cell_type": "markdown",
   "metadata": {},
   "source": [
    "### SiPM map"
   ]
  },
  {
   "cell_type": "code",
   "execution_count": 64,
   "metadata": {},
   "outputs": [
    {
     "data": {
      "text/plain": [
       "'/Users/jj/Development/flexdata/flexmaps/sipm_map_15.6_mm.csv'"
      ]
     },
     "execution_count": 64,
     "metadata": {},
     "output_type": "execute_result"
    }
   ],
   "source": [
    "setup.mPath"
   ]
  },
  {
   "cell_type": "code",
   "execution_count": 65,
   "metadata": {},
   "outputs": [],
   "source": [
    "sipm_map      = pd.read_csv(setup.mPath)"
   ]
  },
  {
   "cell_type": "code",
   "execution_count": 66,
   "metadata": {},
   "outputs": [
    {
     "data": {
      "text/html": [
       "<div>\n",
       "<style scoped>\n",
       "    .dataframe tbody tr th:only-of-type {\n",
       "        vertical-align: middle;\n",
       "    }\n",
       "\n",
       "    .dataframe tbody tr th {\n",
       "        vertical-align: top;\n",
       "    }\n",
       "\n",
       "    .dataframe thead th {\n",
       "        text-align: right;\n",
       "    }\n",
       "</style>\n",
       "<table border=\"1\" class=\"dataframe\">\n",
       "  <thead>\n",
       "    <tr style=\"text-align: right;\">\n",
       "      <th></th>\n",
       "      <th>Unnamed: 0</th>\n",
       "      <th>sensor_id</th>\n",
       "      <th>sensor_name</th>\n",
       "      <th>x</th>\n",
       "      <th>y</th>\n",
       "      <th>xl</th>\n",
       "      <th>xr</th>\n",
       "      <th>yu</th>\n",
       "      <th>yd</th>\n",
       "      <th>id_xl</th>\n",
       "      <th>id_xr</th>\n",
       "      <th>id_yu</th>\n",
       "      <th>id_yd</th>\n",
       "    </tr>\n",
       "  </thead>\n",
       "  <tbody>\n",
       "    <tr>\n",
       "      <th>0</th>\n",
       "      <td>0</td>\n",
       "      <td>1190</td>\n",
       "      <td>TP_SiPM</td>\n",
       "      <td>-202.15</td>\n",
       "      <td>-373.20</td>\n",
       "      <td>-217.699994</td>\n",
       "      <td>-186.599994</td>\n",
       "      <td>-357.650012</td>\n",
       "      <td>-388.750012</td>\n",
       "      <td>1189</td>\n",
       "      <td>1191</td>\n",
       "      <td>1232</td>\n",
       "      <td>1151</td>\n",
       "    </tr>\n",
       "    <tr>\n",
       "      <th>1</th>\n",
       "      <td>1</td>\n",
       "      <td>1195</td>\n",
       "      <td>TP_SiPM</td>\n",
       "      <td>-124.40</td>\n",
       "      <td>-373.20</td>\n",
       "      <td>-139.950002</td>\n",
       "      <td>-108.850002</td>\n",
       "      <td>-357.650012</td>\n",
       "      <td>-388.750012</td>\n",
       "      <td>1194</td>\n",
       "      <td>1196</td>\n",
       "      <td>1237</td>\n",
       "      <td>1156</td>\n",
       "    </tr>\n",
       "    <tr>\n",
       "      <th>2</th>\n",
       "      <td>2</td>\n",
       "      <td>1073</td>\n",
       "      <td>TP_SiPM</td>\n",
       "      <td>124.40</td>\n",
       "      <td>-435.40</td>\n",
       "      <td>108.850002</td>\n",
       "      <td>139.950002</td>\n",
       "      <td>-419.849994</td>\n",
       "      <td>-450.949994</td>\n",
       "      <td>1072</td>\n",
       "      <td>1074</td>\n",
       "      <td>1103</td>\n",
       "      <td>1047</td>\n",
       "    </tr>\n",
       "    <tr>\n",
       "      <th>3</th>\n",
       "      <td>3</td>\n",
       "      <td>1159</td>\n",
       "      <td>TP_SiPM</td>\n",
       "      <td>-77.75</td>\n",
       "      <td>-388.75</td>\n",
       "      <td>-93.300000</td>\n",
       "      <td>-62.200000</td>\n",
       "      <td>-373.200000</td>\n",
       "      <td>-404.300000</td>\n",
       "      <td>1158</td>\n",
       "      <td>1160</td>\n",
       "      <td>1198</td>\n",
       "      <td>1123</td>\n",
       "    </tr>\n",
       "    <tr>\n",
       "      <th>4</th>\n",
       "      <td>4</td>\n",
       "      <td>2068</td>\n",
       "      <td>TP_SiPM</td>\n",
       "      <td>295.45</td>\n",
       "      <td>-124.40</td>\n",
       "      <td>279.900012</td>\n",
       "      <td>311.000012</td>\n",
       "      <td>-108.850002</td>\n",
       "      <td>-139.950002</td>\n",
       "      <td>2067</td>\n",
       "      <td>2069</td>\n",
       "      <td>2129</td>\n",
       "      <td>2007</td>\n",
       "    </tr>\n",
       "  </tbody>\n",
       "</table>\n",
       "</div>"
      ],
      "text/plain": [
       "   Unnamed: 0  sensor_id sensor_name       x       y          xl          xr  \\\n",
       "0           0       1190     TP_SiPM -202.15 -373.20 -217.699994 -186.599994   \n",
       "1           1       1195     TP_SiPM -124.40 -373.20 -139.950002 -108.850002   \n",
       "2           2       1073     TP_SiPM  124.40 -435.40  108.850002  139.950002   \n",
       "3           3       1159     TP_SiPM  -77.75 -388.75  -93.300000  -62.200000   \n",
       "4           4       2068     TP_SiPM  295.45 -124.40  279.900012  311.000012   \n",
       "\n",
       "           yu          yd  id_xl  id_xr  id_yu  id_yd  \n",
       "0 -357.650012 -388.750012   1189   1191   1232   1151  \n",
       "1 -357.650012 -388.750012   1194   1196   1237   1156  \n",
       "2 -419.849994 -450.949994   1072   1074   1103   1047  \n",
       "3 -373.200000 -404.300000   1158   1160   1198   1123  \n",
       "4 -108.850002 -139.950002   2067   2069   2129   2007  "
      ]
     },
     "execution_count": 66,
     "metadata": {},
     "output_type": "execute_result"
    }
   ],
   "source": [
    "sipm_map.head()"
   ]
  },
  {
   "cell_type": "markdown",
   "metadata": {},
   "source": [
    "### Directory for files describing the SiPM plane configuration"
   ]
  },
  {
   "cell_type": "code",
   "execution_count": 14,
   "metadata": {},
   "outputs": [
    {
     "name": "stdout",
     "output_type": "stream",
     "text": [
      "found 100 files\n"
     ]
    }
   ],
   "source": [
    "ifnames = glob.glob(f\"{FDATA}/{setup.tpConfig}/*.h5\")\n",
    "print(f'found {len(ifnames)} files')"
   ]
  },
  {
   "cell_type": "markdown",
   "metadata": {},
   "source": [
    "### Extract kr_dsts from h5"
   ]
  },
  {
   "cell_type": "code",
   "execution_count": 67,
   "metadata": {},
   "outputs": [
    {
     "name": "stdout",
     "output_type": "stream",
     "text": [
      "reading file /Users/jj/Development/flexdata/FLEX100_M6_O6/FLEX100_M6_O6.Kr83.ACTIVE.1023.next.h5\n",
      "saving file /Users/jj/Development/flexdata/FLEX100_M6_O6/FLEX100_M6_O6_PMTs_sipmPDE_1.0_maskPDE_1.0_qTh_0.0/FLEX100_M6_O6.Kr83.ACTIVE.1023.next.csv, with 100 events\n",
      "reading file /Users/jj/Development/flexdata/FLEX100_M6_O6/FLEX100_M6_O6.Kr83.ACTIVE.1032.next.h5\n",
      "saving file /Users/jj/Development/flexdata/FLEX100_M6_O6/FLEX100_M6_O6_PMTs_sipmPDE_1.0_maskPDE_1.0_qTh_0.0/FLEX100_M6_O6.Kr83.ACTIVE.1032.next.csv, with 100 events\n",
      "reading file /Users/jj/Development/flexdata/FLEX100_M6_O6/FLEX100_M6_O6.Kr83.ACTIVE.1031.next.h5\n",
      "saving file /Users/jj/Development/flexdata/FLEX100_M6_O6/FLEX100_M6_O6_PMTs_sipmPDE_1.0_maskPDE_1.0_qTh_0.0/FLEX100_M6_O6.Kr83.ACTIVE.1031.next.csv, with 100 events\n",
      "reading file /Users/jj/Development/flexdata/FLEX100_M6_O6/FLEX100_M6_O6.Kr83.ACTIVE.1024.next.h5\n",
      "saving file /Users/jj/Development/flexdata/FLEX100_M6_O6/FLEX100_M6_O6_PMTs_sipmPDE_1.0_maskPDE_1.0_qTh_0.0/FLEX100_M6_O6.Kr83.ACTIVE.1024.next.csv, with 100 events\n",
      "reading file /Users/jj/Development/flexdata/FLEX100_M6_O6/FLEX100_M6_O6.Kr83.ACTIVE.1018.next.h5\n",
      "saving file /Users/jj/Development/flexdata/FLEX100_M6_O6/FLEX100_M6_O6_PMTs_sipmPDE_1.0_maskPDE_1.0_qTh_0.0/FLEX100_M6_O6.Kr83.ACTIVE.1018.next.csv, with 100 events\n",
      "good files =100\n",
      "bad files =0\n"
     ]
    }
   ],
   "source": [
    "gf, bf = kr_dst(sipm_map, setup, ic=20)\n",
    "print(f'good files ={len(gf)}')\n",
    "print(f'bad files ={len(bf)}')\n"
   ]
  },
  {
   "cell_type": "markdown",
   "metadata": {},
   "source": [
    "### Join kr_dsts "
   ]
  },
  {
   "cell_type": "code",
   "execution_count": 68,
   "metadata": {},
   "outputs": [],
   "source": [
    "ifnames2 = glob.glob(f\"{setup.tmpdir}/*.csv\")"
   ]
  },
  {
   "cell_type": "code",
   "execution_count": 69,
   "metadata": {},
   "outputs": [
    {
     "name": "stdout",
     "output_type": "stream",
     "text": [
      "found 100 files\n"
     ]
    }
   ],
   "source": [
    "print(f'found {len(ifnames2)} files')"
   ]
  },
  {
   "cell_type": "code",
   "execution_count": 70,
   "metadata": {},
   "outputs": [
    {
     "name": "stdout",
     "output_type": "stream",
     "text": [
      "output file name = FLEX100_M6_O6_PMTs_sipmPDE_1.0_maskPDE_1.0_qTh_0.0.csv\n"
     ]
    }
   ],
   "source": [
    "ofile_name = f\"{setup.name}.csv\"\n",
    "print(f\"output file name = {ofile_name}\")"
   ]
  },
  {
   "cell_type": "code",
   "execution_count": 74,
   "metadata": {},
   "outputs": [
    {
     "name": "stdout",
     "output_type": "stream",
     "text": [
      "Path to ofile = /Users/jj/Development/flexdata/kdsts/FLEX100_M6_O6_PMTs_sipmPDE_1.0_maskPDE_1.0_qTh_0.0.csv\n"
     ]
    }
   ],
   "source": [
    "ofile = f\"{FDATA}/kdsts/{ofile_name}\"\n",
    "print(f\"Path to ofile = {setup.ofile}\")"
   ]
  },
  {
   "cell_type": "code",
   "execution_count": 76,
   "metadata": {},
   "outputs": [
    {
     "name": "stdout",
     "output_type": "stream",
     "text": [
      "bad files =0\n",
      "    event_id      true_x      true_y      true_z         KE  S1e   S2e  \\\n",
      "0     104500 -290.299380  283.587830  1175.99710  53.914030   29  7991   \n",
      "1     104501  419.138370   -0.582073   829.08356  41.543297   21  8009   \n",
      "2     104502  157.880660  247.045960   425.46478  41.543297   17  8333   \n",
      "3     104503 -222.691010 -203.131680   920.13570  41.543297   19  8602   \n",
      "4     104504 -206.557970 -150.945130   111.76873  53.873820   15  8476   \n",
      "..       ...         ...         ...         ...        ...  ...   ...   \n",
      "95    102095 -444.513280  135.277280    36.82412  41.543297   12  7511   \n",
      "96    102096 -161.594090 -178.331570   726.26465  53.953620   21  8904   \n",
      "97    102097  301.075870 -208.838970   488.60150  50.821550   17  8093   \n",
      "98    102098  -16.136173  428.891540   433.23752  41.543297   16  7825   \n",
      "99    102099 -215.592990 -389.331180   351.16280  43.028070   12  7694   \n",
      "\n",
      "      xMax    yMax        xPos  ...   Qtot  qMax    qL    qR    qU    qD  \\\n",
      "0  -295.45  279.90 -293.827398  ...  754.0  49.0  27.0  39.0  39.0  27.0   \n",
      "1   419.85    0.00  421.117040  ...  798.0  70.0  27.0  38.0  31.0  48.0   \n",
      "2   155.50  248.80  157.055000  ...  786.0  74.0  26.0  40.0  25.0  45.0   \n",
      "3  -233.25 -202.15 -227.521053  ...  758.0  48.0   6.0  41.0  23.0  42.0   \n",
      "4  -202.15 -155.50 -204.482497  ...  781.0  80.0  52.0  28.0  49.0  15.0   \n",
      "..     ...     ...         ...  ...    ...   ...   ...   ...   ...   ...   \n",
      "95 -450.95  139.95 -447.602436  ...  721.0  81.0  16.0  47.0  16.0  50.0   \n",
      "96 -155.50 -171.05 -157.929688  ...  823.0  56.0  46.0  26.0  15.0  44.0   \n",
      "97  295.45 -202.15  297.586647  ...  765.0  69.0  22.0  40.0  18.0  53.0   \n",
      "98  -15.55  419.85  -15.176800  ...  777.0  68.0  27.0  30.0  63.0  18.0   \n",
      "99 -217.70 -388.75 -215.800762  ...  767.0  73.0  21.0  37.0  26.0  46.0   \n",
      "\n",
      "       dxPos     dyPos      dxMax     dyMax  \n",
      "0   3.528021  2.065224   5.150623  3.687830  \n",
      "1  -1.978673  1.192088  -0.711633 -0.582073  \n",
      "2   0.825661  0.405680   2.380661 -1.754041  \n",
      "3   4.830043  1.632915  10.558990 -0.981683  \n",
      "4  -2.075471  0.883343  -4.407968  4.554871  \n",
      "..       ...       ...        ...       ...  \n",
      "95  3.089161 -1.076117   6.436725 -4.672717  \n",
      "96 -3.664398 -3.360268  -6.094086 -7.281573  \n",
      "97  3.489220 -2.801477   5.625867 -6.688974  \n",
      "98 -0.959373  4.345228  -0.586173  9.041541  \n",
      "99  0.207775  1.563651   2.107013 -0.581177  \n",
      "\n",
      "[10000 rows x 22 columns]\n"
     ]
    }
   ],
   "source": [
    "krdf, BF = kr_join_dst(ifnames2, verbose=False)\n",
    "print(f'bad files ={len(BF)}')\n",
    "print(krdf)\n",
    "krdf.to_csv(ofile)"
   ]
  },
  {
   "cell_type": "code",
   "execution_count": 77,
   "metadata": {},
   "outputs": [
    {
     "data": {
      "text/plain": [
       "True"
      ]
     },
     "execution_count": 77,
     "metadata": {},
     "output_type": "execute_result"
    }
   ],
   "source": [
    "ofile == setup.ofile"
   ]
  },
  {
   "cell_type": "markdown",
   "metadata": {},
   "source": [
    "## FLEX100_M6_O6_P10.EL8bar"
   ]
  },
  {
   "cell_type": "code",
   "execution_count": 78,
   "metadata": {},
   "outputs": [
    {
     "name": "stdout",
     "output_type": "stream",
     "text": [
      "\n",
      "        Setup <FLEX100_M6_O6_P10.EL8bar_PMTs_sipmPDE_1.0_maskPDE_1.0_qTh_0.0>:\n",
      "        tracking plane configuration = FLEX100_M6_O6_P10.EL8bar\n",
      "        sipm PDE                     = 1.0\n",
      "        transmission of teflon masks = 1.0\n",
      "        charge threshold             = 0.0\n",
      "        energy sensors               = PMTs\n",
      "        pitch                        = 10.0\n",
      "        number of energy sensors     = 60\n",
      "        number of SiPMs              = 7484\n",
      "        root directory               = /Users/jj/Development/flexdata/FLEX100_M6_O6_P10.EL8bar\n",
      "        number of h5 files in dir    = 100\n",
      "        sipm map at                  = /Users/jj/Development/flexdata/flexmaps/sipm_map_10.0_mm.csv\n",
      "        sipm map name                = sipm_map_10.0_mm.csv\n",
      "        output file                  = /Users/jj/Development/flexdata/kdsts/FLEX100_M6_O6_P10.EL8bar_PMTs_sipmPDE_1.0_maskPDE_1.0_qTh_0.0.csv\n",
      "        \n"
     ]
    }
   ],
   "source": [
    "setup = Setup(flexDATA   = FDATA,\n",
    "                  sipmPDE    = 1.0,\n",
    "                  maskPDE    = 1.0,\n",
    "                  qTh        = 0.0,\n",
    "                  tpConfig   = \"FLEX100_M6_O6_P10.EL8bar\")\n",
    "print(setup)"
   ]
  },
  {
   "cell_type": "code",
   "execution_count": 82,
   "metadata": {},
   "outputs": [
    {
     "name": "stdout",
     "output_type": "stream",
     "text": [
      "creating dir /Users/jj/Development/flexdata/FLEX100_M6_O6_P10.EL8bar/FLEX100_M6_O6_P10.EL8bar_PMTs_sipmPDE_1.0_maskPDE_1.0_qTh_0.0\n"
     ]
    }
   ],
   "source": [
    "prepare_tmpdir(setup)"
   ]
  },
  {
   "cell_type": "code",
   "execution_count": 83,
   "metadata": {},
   "outputs": [],
   "source": [
    "sipm_map      = pd.read_csv(setup.mPath)"
   ]
  },
  {
   "cell_type": "code",
   "execution_count": 84,
   "metadata": {},
   "outputs": [
    {
     "data": {
      "text/html": [
       "<div>\n",
       "<style scoped>\n",
       "    .dataframe tbody tr th:only-of-type {\n",
       "        vertical-align: middle;\n",
       "    }\n",
       "\n",
       "    .dataframe tbody tr th {\n",
       "        vertical-align: top;\n",
       "    }\n",
       "\n",
       "    .dataframe thead th {\n",
       "        text-align: right;\n",
       "    }\n",
       "</style>\n",
       "<table border=\"1\" class=\"dataframe\">\n",
       "  <thead>\n",
       "    <tr style=\"text-align: right;\">\n",
       "      <th></th>\n",
       "      <th>Unnamed: 0</th>\n",
       "      <th>sensor_id</th>\n",
       "      <th>sensor_name</th>\n",
       "      <th>x</th>\n",
       "      <th>y</th>\n",
       "      <th>xl</th>\n",
       "      <th>xr</th>\n",
       "      <th>yu</th>\n",
       "      <th>yd</th>\n",
       "      <th>id_xl</th>\n",
       "      <th>id_xr</th>\n",
       "      <th>id_yu</th>\n",
       "      <th>id_yd</th>\n",
       "    </tr>\n",
       "  </thead>\n",
       "  <tbody>\n",
       "    <tr>\n",
       "      <th>0</th>\n",
       "      <td>0</td>\n",
       "      <td>4715</td>\n",
       "      <td>TP_SiPM</td>\n",
       "      <td>225.0</td>\n",
       "      <td>-5.0</td>\n",
       "      <td>215.0</td>\n",
       "      <td>235.0</td>\n",
       "      <td>5.0</td>\n",
       "      <td>-15.0</td>\n",
       "      <td>4714</td>\n",
       "      <td>4716</td>\n",
       "      <td>4813</td>\n",
       "      <td>4617</td>\n",
       "    </tr>\n",
       "    <tr>\n",
       "      <th>1</th>\n",
       "      <td>1</td>\n",
       "      <td>4430</td>\n",
       "      <td>TP_SiPM</td>\n",
       "      <td>315.0</td>\n",
       "      <td>-35.0</td>\n",
       "      <td>305.0</td>\n",
       "      <td>325.0</td>\n",
       "      <td>-25.0</td>\n",
       "      <td>-45.0</td>\n",
       "      <td>4429</td>\n",
       "      <td>4431</td>\n",
       "      <td>4528</td>\n",
       "      <td>4332</td>\n",
       "    </tr>\n",
       "    <tr>\n",
       "      <th>2</th>\n",
       "      <td>2</td>\n",
       "      <td>2828</td>\n",
       "      <td>TP_SiPM</td>\n",
       "      <td>285.0</td>\n",
       "      <td>-205.0</td>\n",
       "      <td>275.0</td>\n",
       "      <td>295.0</td>\n",
       "      <td>-195.0</td>\n",
       "      <td>-215.0</td>\n",
       "      <td>2827</td>\n",
       "      <td>2829</td>\n",
       "      <td>2917</td>\n",
       "      <td>2740</td>\n",
       "    </tr>\n",
       "    <tr>\n",
       "      <th>3</th>\n",
       "      <td>3</td>\n",
       "      <td>4332</td>\n",
       "      <td>TP_SiPM</td>\n",
       "      <td>315.0</td>\n",
       "      <td>-45.0</td>\n",
       "      <td>305.0</td>\n",
       "      <td>325.0</td>\n",
       "      <td>-35.0</td>\n",
       "      <td>-55.0</td>\n",
       "      <td>4331</td>\n",
       "      <td>4333</td>\n",
       "      <td>4430</td>\n",
       "      <td>4235</td>\n",
       "    </tr>\n",
       "    <tr>\n",
       "      <th>4</th>\n",
       "      <td>4</td>\n",
       "      <td>4235</td>\n",
       "      <td>TP_SiPM</td>\n",
       "      <td>315.0</td>\n",
       "      <td>-55.0</td>\n",
       "      <td>305.0</td>\n",
       "      <td>325.0</td>\n",
       "      <td>-45.0</td>\n",
       "      <td>-65.0</td>\n",
       "      <td>4234</td>\n",
       "      <td>4236</td>\n",
       "      <td>4332</td>\n",
       "      <td>4139</td>\n",
       "    </tr>\n",
       "  </tbody>\n",
       "</table>\n",
       "</div>"
      ],
      "text/plain": [
       "   Unnamed: 0  sensor_id sensor_name      x      y     xl     xr     yu  \\\n",
       "0           0       4715     TP_SiPM  225.0   -5.0  215.0  235.0    5.0   \n",
       "1           1       4430     TP_SiPM  315.0  -35.0  305.0  325.0  -25.0   \n",
       "2           2       2828     TP_SiPM  285.0 -205.0  275.0  295.0 -195.0   \n",
       "3           3       4332     TP_SiPM  315.0  -45.0  305.0  325.0  -35.0   \n",
       "4           4       4235     TP_SiPM  315.0  -55.0  305.0  325.0  -45.0   \n",
       "\n",
       "      yd  id_xl  id_xr  id_yu  id_yd  \n",
       "0  -15.0   4714   4716   4813   4617  \n",
       "1  -45.0   4429   4431   4528   4332  \n",
       "2 -215.0   2827   2829   2917   2740  \n",
       "3  -55.0   4331   4333   4430   4235  \n",
       "4  -65.0   4234   4236   4332   4139  "
      ]
     },
     "execution_count": 84,
     "metadata": {},
     "output_type": "execute_result"
    }
   ],
   "source": [
    "sipm_map.head()"
   ]
  },
  {
   "cell_type": "code",
   "execution_count": 85,
   "metadata": {},
   "outputs": [
    {
     "name": "stdout",
     "output_type": "stream",
     "text": [
      "reading file /Users/jj/Development/flexdata/FLEX100_M6_O6_P10.EL8bar/FLEX100_M6_O6_P10.Kr83.ACTIVE.3099.next.h5\n",
      "saving file /Users/jj/Development/flexdata/FLEX100_M6_O6_P10.EL8bar/FLEX100_M6_O6_P10.EL8bar_PMTs_sipmPDE_1.0_maskPDE_1.0_qTh_0.0/FLEX100_M6_O6_P10.Kr83.ACTIVE.3099.next.csv, with 100 events\n",
      "reading file /Users/jj/Development/flexdata/FLEX100_M6_O6_P10.EL8bar/FLEX100_M6_O6_P10.Kr83.ACTIVE.3091.next.h5\n",
      "saving file /Users/jj/Development/flexdata/FLEX100_M6_O6_P10.EL8bar/FLEX100_M6_O6_P10.EL8bar_PMTs_sipmPDE_1.0_maskPDE_1.0_qTh_0.0/FLEX100_M6_O6_P10.Kr83.ACTIVE.3091.next.csv, with 100 events\n",
      "reading file /Users/jj/Development/flexdata/FLEX100_M6_O6_P10.EL8bar/FLEX100_M6_O6_P10.Kr83.ACTIVE.3050.next.h5\n",
      "saving file /Users/jj/Development/flexdata/FLEX100_M6_O6_P10.EL8bar/FLEX100_M6_O6_P10.EL8bar_PMTs_sipmPDE_1.0_maskPDE_1.0_qTh_0.0/FLEX100_M6_O6_P10.Kr83.ACTIVE.3050.next.csv, with 100 events\n",
      "reading file /Users/jj/Development/flexdata/FLEX100_M6_O6_P10.EL8bar/FLEX100_M6_O6_P10.Kr83.ACTIVE.3027.next.h5\n",
      "saving file /Users/jj/Development/flexdata/FLEX100_M6_O6_P10.EL8bar/FLEX100_M6_O6_P10.EL8bar_PMTs_sipmPDE_1.0_maskPDE_1.0_qTh_0.0/FLEX100_M6_O6_P10.Kr83.ACTIVE.3027.next.csv, with 100 events\n",
      "reading file /Users/jj/Development/flexdata/FLEX100_M6_O6_P10.EL8bar/FLEX100_M6_O6_P10.Kr83.ACTIVE.3079.next.h5\n",
      "saving file /Users/jj/Development/flexdata/FLEX100_M6_O6_P10.EL8bar/FLEX100_M6_O6_P10.EL8bar_PMTs_sipmPDE_1.0_maskPDE_1.0_qTh_0.0/FLEX100_M6_O6_P10.Kr83.ACTIVE.3079.next.csv, with 100 events\n"
     ]
    }
   ],
   "source": [
    "gf, bf = kr_dst(sipm_map, setup, ic=20)"
   ]
  },
  {
   "cell_type": "code",
   "execution_count": 86,
   "metadata": {},
   "outputs": [
    {
     "name": "stdout",
     "output_type": "stream",
     "text": [
      "good files =100\n",
      "bad files =0\n"
     ]
    }
   ],
   "source": [
    "print(f'good files ={len(gf)}')\n",
    "print(f'bad files ={len(bf)}')"
   ]
  },
  {
   "cell_type": "code",
   "execution_count": 87,
   "metadata": {},
   "outputs": [
    {
     "name": "stdout",
     "output_type": "stream",
     "text": [
      "found 100 files\n"
     ]
    }
   ],
   "source": [
    "ifnames2 = glob.glob(f\"{setup.tmpdir}/*.csv\")\n",
    "print(f'found {len(ifnames2)} files')"
   ]
  },
  {
   "cell_type": "code",
   "execution_count": 88,
   "metadata": {},
   "outputs": [
    {
     "name": "stdout",
     "output_type": "stream",
     "text": [
      "bad files =0\n"
     ]
    }
   ],
   "source": [
    "krdf, BF = kr_join_dst(ifnames2, verbose=False)\n",
    "print(f'bad files ={len(BF)}')"
   ]
  },
  {
   "cell_type": "code",
   "execution_count": 89,
   "metadata": {},
   "outputs": [],
   "source": [
    "krdf.to_csv(setup.ofile)"
   ]
  },
  {
   "cell_type": "code",
   "execution_count": null,
   "metadata": {},
   "outputs": [],
   "source": []
  }
 ],
 "metadata": {
  "kernelspec": {
   "display_name": "Python 3",
   "language": "python",
   "name": "python3"
  },
  "language_info": {
   "codemirror_mode": {
    "name": "ipython",
    "version": 3
   },
   "file_extension": ".py",
   "mimetype": "text/x-python",
   "name": "python",
   "nbconvert_exporter": "python",
   "pygments_lexer": "ipython3",
   "version": "3.7.7"
  }
 },
 "nbformat": 4,
 "nbformat_minor": 4
}
