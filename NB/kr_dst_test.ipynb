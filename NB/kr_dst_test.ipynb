{
 "cells": [
  {
   "cell_type": "markdown",
   "metadata": {},
   "source": [
    "<p style=\"font-family: Arial; font-size:3.75em;color:purple; font-style:bold\"><br>\n",
    "krytpon DST notebook</p><br>"
   ]
  },
  {
   "cell_type": "markdown",
   "metadata": {},
   "source": [
    "# Describes the preparation of the krypton DST based on FLEX MC data"
   ]
  },
  {
   "cell_type": "code",
   "execution_count": 250,
   "metadata": {},
   "outputs": [],
   "source": [
    "import os\n",
    "import sys\n",
    "import glob\n",
    "import logging\n",
    "import math\n",
    "import numpy  as np\n",
    "import warnings\n",
    "from scipy.stats import norm\n",
    "import pandas as pd\n",
    "import matplotlib.pyplot as plt\n",
    "from matplotlib import colors\n",
    "from   dataclasses import dataclass"
   ]
  },
  {
   "cell_type": "code",
   "execution_count": 27,
   "metadata": {},
   "outputs": [],
   "source": [
    "from nextflex.core import Setup\n",
    "from nextflex.core import PosQ"
   ]
  },
  {
   "cell_type": "code",
   "execution_count": 28,
   "metadata": {},
   "outputs": [],
   "source": [
    "from nextflex.core import get_evt_true_positions_and_energy\n",
    "from nextflex.core import get_evt_true_positions_df\n",
    "from nextflex.core import get_sensor_response\n",
    "from nextflex.core import sensor_response_ti\n",
    "from nextflex.core import event_sensor_response_ti\n",
    "from nextflex.core import sensor_number_response_ti"
   ]
  },
  {
   "cell_type": "code",
   "execution_count": 192,
   "metadata": {},
   "outputs": [],
   "source": [
    "from nextflex.core import mcparts_and_sensors_response\n",
    "from nextflex.core import get_s1\n",
    "from nextflex.core import get_s2\n",
    "from nextflex.core import get_qtot\n",
    "from nextflex.core import get_Q"
   ]
  },
  {
   "cell_type": "code",
   "execution_count": 422,
   "metadata": {},
   "outputs": [],
   "source": [
    "from nextflex.core import get_q\n",
    "from nextflex.core import get_iq\n",
    "from nextflex.core import get_pos\n",
    "from nextflex.core import get_position\n",
    "from nextflex.core import diff_pos"
   ]
  },
  {
   "cell_type": "code",
   "execution_count": 31,
   "metadata": {},
   "outputs": [],
   "source": [
    "from nextflex.krypton_dst import kr_dst"
   ]
  },
  {
   "cell_type": "code",
   "execution_count": 32,
   "metadata": {},
   "outputs": [],
   "source": [
    "from nextflex.krypton_analysis import histo_df\n",
    "from nextflex.krypton_analysis import histos_df\n",
    "from nextflex.krypton_analysis import histo1d\n",
    "from nextflex.krypton_analysis import histos1d"
   ]
  },
  {
   "cell_type": "code",
   "execution_count": 33,
   "metadata": {},
   "outputs": [],
   "source": [
    "import invisible_cities.core.system_of_units  as units\n",
    "from invisible_cities.core.core_functions     import in_range\n",
    "\n",
    "from invisible_cities.io.mcinfo_io import get_sensor_binning\n",
    "from invisible_cities.io.mcinfo_io import load_mcparticles_df\n",
    "from invisible_cities.io.mcinfo_io import load_mcsensor_response_df"
   ]
  },
  {
   "cell_type": "code",
   "execution_count": 353,
   "metadata": {},
   "outputs": [],
   "source": [
    "from scipy.stats import norm"
   ]
  },
  {
   "cell_type": "code",
   "execution_count": 34,
   "metadata": {},
   "outputs": [
    {
     "name": "stdout",
     "output_type": "stream",
     "text": [
      "The autoreload extension is already loaded. To reload it, use:\n",
      "  %reload_ext autoreload\n"
     ]
    }
   ],
   "source": [
    "%matplotlib inline\n",
    "%load_ext autoreload\n",
    "%autoreload 2"
   ]
  },
  {
   "cell_type": "markdown",
   "metadata": {},
   "source": [
    "## DataFrames and SiPM map"
   ]
  },
  {
   "cell_type": "markdown",
   "metadata": {},
   "source": [
    "### Data\n",
    "- Data used in the tests are:\n",
    " - file **FLEX100_M6_O6.Kr83.ACTIVE.1000.next.h5** which contains 100 krypton events. The tracking plane is located at 15 mm from the anode and masks 6cm height and 6cm hole are used. SiPMs are Hamamatsu (1.3 x 1.3 mm2). The energy sensors are PMTs, whose response include QE. Instead, the response of the SiPM does not include PDE or the effect of membranes. \n",
    "\n",
    " - file **NEXT_FLEX_Fibres_M6_06.Kr83.ACTIVE.1.next.h5** which contains 100 krypton events. The tracking plane is located at 15 mm from the anode and masks 6cm height and 6cm hole are used. SiPMs are Hamamatsu (1.3 x 1.3 mm2). The energy sensors are Fibres, whose response do not include QE. The response of the SiPM does not include PDE or the effect of membranes.\n",
    " \n",
    " - file **sipm_map.csv** which, for each SiPM contains the position and id of the sensor, and the positions and ids of sensors left, right, up and down (l,r,u,d) of the sensor\n"
   ]
  },
  {
   "cell_type": "code",
   "execution_count": 35,
   "metadata": {},
   "outputs": [],
   "source": [
    "FDATA = os.environ['FLEXDATA']"
   ]
  },
  {
   "cell_type": "code",
   "execution_count": 36,
   "metadata": {},
   "outputs": [],
   "source": [
    "testFile      = os.path.join(FDATA,\"testData\",\n",
    "                            'FLEX100_M6_O6.Kr83.ACTIVE.1000.next.h5')\n",
    "testFile2 = os.path.join(FDATA,\"testData\",\n",
    "                                'NEXT_FLEX_Fibres_M6_06.Kr83.ACTIVE.1.next.h5')\n",
    "mapFile       = os.path.join(FDATA,\"testData\", 'sipm_map.csv')"
   ]
  },
  {
   "cell_type": "code",
   "execution_count": 37,
   "metadata": {},
   "outputs": [],
   "source": [
    "sipm_map      = pd.read_csv(mapFile)"
   ]
  },
  {
   "cell_type": "code",
   "execution_count": 38,
   "metadata": {},
   "outputs": [
    {
     "data": {
      "text/html": [
       "<div>\n",
       "<style scoped>\n",
       "    .dataframe tbody tr th:only-of-type {\n",
       "        vertical-align: middle;\n",
       "    }\n",
       "\n",
       "    .dataframe tbody tr th {\n",
       "        vertical-align: top;\n",
       "    }\n",
       "\n",
       "    .dataframe thead th {\n",
       "        text-align: right;\n",
       "    }\n",
       "</style>\n",
       "<table border=\"1\" class=\"dataframe\">\n",
       "  <thead>\n",
       "    <tr style=\"text-align: right;\">\n",
       "      <th></th>\n",
       "      <th>Unnamed: 0</th>\n",
       "      <th>sensor_id</th>\n",
       "      <th>sensor_name</th>\n",
       "      <th>x</th>\n",
       "      <th>y</th>\n",
       "      <th>xl</th>\n",
       "      <th>xr</th>\n",
       "      <th>yu</th>\n",
       "      <th>yd</th>\n",
       "      <th>id_xl</th>\n",
       "      <th>id_xr</th>\n",
       "      <th>id_yu</th>\n",
       "      <th>id_yd</th>\n",
       "    </tr>\n",
       "  </thead>\n",
       "  <tbody>\n",
       "    <tr>\n",
       "      <th>0</th>\n",
       "      <td>0</td>\n",
       "      <td>1040</td>\n",
       "      <td>TP_SiPM</td>\n",
       "      <td>15.55</td>\n",
       "      <td>-450.95</td>\n",
       "      <td>1.907349e-07</td>\n",
       "      <td>31.100000</td>\n",
       "      <td>-435.400012</td>\n",
       "      <td>-466.500012</td>\n",
       "      <td>1039</td>\n",
       "      <td>1041</td>\n",
       "      <td>1066</td>\n",
       "      <td>1019</td>\n",
       "    </tr>\n",
       "    <tr>\n",
       "      <th>1</th>\n",
       "      <td>1</td>\n",
       "      <td>4059</td>\n",
       "      <td>TP_SiPM</td>\n",
       "      <td>93.30</td>\n",
       "      <td>450.95</td>\n",
       "      <td>7.775000e+01</td>\n",
       "      <td>108.850003</td>\n",
       "      <td>466.500012</td>\n",
       "      <td>435.400012</td>\n",
       "      <td>4058</td>\n",
       "      <td>4060</td>\n",
       "      <td>4080</td>\n",
       "      <td>4033</td>\n",
       "    </tr>\n",
       "    <tr>\n",
       "      <th>2</th>\n",
       "      <td>2</td>\n",
       "      <td>3753</td>\n",
       "      <td>TP_SiPM</td>\n",
       "      <td>-62.20</td>\n",
       "      <td>326.55</td>\n",
       "      <td>-7.775000e+01</td>\n",
       "      <td>-46.650001</td>\n",
       "      <td>342.099988</td>\n",
       "      <td>310.999988</td>\n",
       "      <td>3752</td>\n",
       "      <td>3754</td>\n",
       "      <td>3799</td>\n",
       "      <td>3705</td>\n",
       "    </tr>\n",
       "    <tr>\n",
       "      <th>3</th>\n",
       "      <td>3</td>\n",
       "      <td>3842</td>\n",
       "      <td>TP_SiPM</td>\n",
       "      <td>-77.75</td>\n",
       "      <td>357.65</td>\n",
       "      <td>-9.330000e+01</td>\n",
       "      <td>-62.200000</td>\n",
       "      <td>373.199994</td>\n",
       "      <td>342.099994</td>\n",
       "      <td>3841</td>\n",
       "      <td>3843</td>\n",
       "      <td>3884</td>\n",
       "      <td>3798</td>\n",
       "    </tr>\n",
       "    <tr>\n",
       "      <th>4</th>\n",
       "      <td>4</td>\n",
       "      <td>3797</td>\n",
       "      <td>TP_SiPM</td>\n",
       "      <td>-93.30</td>\n",
       "      <td>342.10</td>\n",
       "      <td>-1.088500e+02</td>\n",
       "      <td>-77.750003</td>\n",
       "      <td>357.650006</td>\n",
       "      <td>326.550006</td>\n",
       "      <td>3796</td>\n",
       "      <td>3798</td>\n",
       "      <td>3841</td>\n",
       "      <td>3751</td>\n",
       "    </tr>\n",
       "  </tbody>\n",
       "</table>\n",
       "</div>"
      ],
      "text/plain": [
       "   Unnamed: 0  sensor_id sensor_name      x       y            xl          xr  \\\n",
       "0           0       1040     TP_SiPM  15.55 -450.95  1.907349e-07   31.100000   \n",
       "1           1       4059     TP_SiPM  93.30  450.95  7.775000e+01  108.850003   \n",
       "2           2       3753     TP_SiPM -62.20  326.55 -7.775000e+01  -46.650001   \n",
       "3           3       3842     TP_SiPM -77.75  357.65 -9.330000e+01  -62.200000   \n",
       "4           4       3797     TP_SiPM -93.30  342.10 -1.088500e+02  -77.750003   \n",
       "\n",
       "           yu          yd  id_xl  id_xr  id_yu  id_yd  \n",
       "0 -435.400012 -466.500012   1039   1041   1066   1019  \n",
       "1  466.500012  435.400012   4058   4060   4080   4033  \n",
       "2  342.099988  310.999988   3752   3754   3799   3705  \n",
       "3  373.199994  342.099994   3841   3843   3884   3798  \n",
       "4  357.650006  326.550006   3796   3798   3841   3751  "
      ]
     },
     "execution_count": 38,
     "metadata": {},
     "output_type": "execute_result"
    }
   ],
   "source": [
    "sipm_map.head()"
   ]
  },
  {
   "cell_type": "markdown",
   "metadata": {},
   "source": [
    "### Data Frames\n",
    "- **mcParts** which describes the position, momentum, etc. of all the MC particles in the event\n",
    "- **sns_response_pmt (fib)** which describe the charge and time for each sensor in the event"
   ]
  },
  {
   "cell_type": "code",
   "execution_count": 39,
   "metadata": {},
   "outputs": [],
   "source": [
    "mcParts           = load_mcparticles_df(testFile)\n",
    "sns_response_pmt  = load_mcsensor_response_df(testFile)\n",
    "sns_response_fib  = load_mcsensor_response_df(testFile2)"
   ]
  },
  {
   "cell_type": "code",
   "execution_count": 40,
   "metadata": {},
   "outputs": [
    {
     "data": {
      "text/html": [
       "<div>\n",
       "<style scoped>\n",
       "    .dataframe tbody tr th:only-of-type {\n",
       "        vertical-align: middle;\n",
       "    }\n",
       "\n",
       "    .dataframe tbody tr th {\n",
       "        vertical-align: top;\n",
       "    }\n",
       "\n",
       "    .dataframe thead th {\n",
       "        text-align: right;\n",
       "    }\n",
       "</style>\n",
       "<table border=\"1\" class=\"dataframe\">\n",
       "  <thead>\n",
       "    <tr style=\"text-align: right;\">\n",
       "      <th></th>\n",
       "      <th></th>\n",
       "      <th>particle_name</th>\n",
       "      <th>primary</th>\n",
       "      <th>mother_id</th>\n",
       "      <th>initial_x</th>\n",
       "      <th>initial_y</th>\n",
       "      <th>initial_z</th>\n",
       "      <th>initial_t</th>\n",
       "      <th>final_x</th>\n",
       "      <th>final_y</th>\n",
       "      <th>final_z</th>\n",
       "      <th>...</th>\n",
       "      <th>initial_momentum_x</th>\n",
       "      <th>initial_momentum_y</th>\n",
       "      <th>initial_momentum_z</th>\n",
       "      <th>final_momentum_x</th>\n",
       "      <th>final_momentum_y</th>\n",
       "      <th>final_momentum_z</th>\n",
       "      <th>kin_energy</th>\n",
       "      <th>length</th>\n",
       "      <th>creator_proc</th>\n",
       "      <th>final_proc</th>\n",
       "    </tr>\n",
       "    <tr>\n",
       "      <th>event_id</th>\n",
       "      <th>particle_id</th>\n",
       "      <th></th>\n",
       "      <th></th>\n",
       "      <th></th>\n",
       "      <th></th>\n",
       "      <th></th>\n",
       "      <th></th>\n",
       "      <th></th>\n",
       "      <th></th>\n",
       "      <th></th>\n",
       "      <th></th>\n",
       "      <th></th>\n",
       "      <th></th>\n",
       "      <th></th>\n",
       "      <th></th>\n",
       "      <th></th>\n",
       "      <th></th>\n",
       "      <th></th>\n",
       "      <th></th>\n",
       "      <th></th>\n",
       "      <th></th>\n",
       "      <th></th>\n",
       "    </tr>\n",
       "  </thead>\n",
       "  <tbody>\n",
       "    <tr>\n",
       "      <th rowspan=\"2\" valign=\"top\">100000</th>\n",
       "      <th>2</th>\n",
       "      <td>e-</td>\n",
       "      <td>True</td>\n",
       "      <td>0</td>\n",
       "      <td>411.851990</td>\n",
       "      <td>-83.967979</td>\n",
       "      <td>981.268127</td>\n",
       "      <td>0.0</td>\n",
       "      <td>411.860229</td>\n",
       "      <td>-83.969376</td>\n",
       "      <td>981.265015</td>\n",
       "      <td>...</td>\n",
       "      <td>0.024411</td>\n",
       "      <td>0.014236</td>\n",
       "      <td>0.094300</td>\n",
       "      <td>0.0</td>\n",
       "      <td>0.0</td>\n",
       "      <td>-0.0</td>\n",
       "      <td>0.009396</td>\n",
       "      <td>0.062259</td>\n",
       "      <td>none</td>\n",
       "      <td>Scintillation</td>\n",
       "    </tr>\n",
       "    <tr>\n",
       "      <th>1</th>\n",
       "      <td>e-</td>\n",
       "      <td>True</td>\n",
       "      <td>0</td>\n",
       "      <td>411.851990</td>\n",
       "      <td>-83.967979</td>\n",
       "      <td>981.268127</td>\n",
       "      <td>0.0</td>\n",
       "      <td>411.961487</td>\n",
       "      <td>-84.069504</td>\n",
       "      <td>981.291992</td>\n",
       "      <td>...</td>\n",
       "      <td>-0.111088</td>\n",
       "      <td>-0.118718</td>\n",
       "      <td>0.086334</td>\n",
       "      <td>-0.0</td>\n",
       "      <td>-0.0</td>\n",
       "      <td>0.0</td>\n",
       "      <td>0.032147</td>\n",
       "      <td>0.456158</td>\n",
       "      <td>none</td>\n",
       "      <td>Scintillation</td>\n",
       "    </tr>\n",
       "    <tr>\n",
       "      <th rowspan=\"2\" valign=\"top\">100001</th>\n",
       "      <th>2</th>\n",
       "      <td>e-</td>\n",
       "      <td>True</td>\n",
       "      <td>0</td>\n",
       "      <td>-450.390076</td>\n",
       "      <td>-20.009449</td>\n",
       "      <td>848.892822</td>\n",
       "      <td>0.0</td>\n",
       "      <td>-450.372742</td>\n",
       "      <td>-19.999857</td>\n",
       "      <td>848.884277</td>\n",
       "      <td>...</td>\n",
       "      <td>0.061492</td>\n",
       "      <td>0.060949</td>\n",
       "      <td>-0.046850</td>\n",
       "      <td>0.0</td>\n",
       "      <td>0.0</td>\n",
       "      <td>0.0</td>\n",
       "      <td>0.009396</td>\n",
       "      <td>0.066419</td>\n",
       "      <td>none</td>\n",
       "      <td>Scintillation</td>\n",
       "    </tr>\n",
       "    <tr>\n",
       "      <th>1</th>\n",
       "      <td>e-</td>\n",
       "      <td>True</td>\n",
       "      <td>0</td>\n",
       "      <td>-450.390076</td>\n",
       "      <td>-20.009449</td>\n",
       "      <td>848.892822</td>\n",
       "      <td>0.0</td>\n",
       "      <td>-450.387573</td>\n",
       "      <td>-19.987989</td>\n",
       "      <td>848.998352</td>\n",
       "      <td>...</td>\n",
       "      <td>0.032593</td>\n",
       "      <td>0.113901</td>\n",
       "      <td>0.140898</td>\n",
       "      <td>0.0</td>\n",
       "      <td>-0.0</td>\n",
       "      <td>-0.0</td>\n",
       "      <td>0.032147</td>\n",
       "      <td>0.569584</td>\n",
       "      <td>none</td>\n",
       "      <td>Scintillation</td>\n",
       "    </tr>\n",
       "    <tr>\n",
       "      <th>100002</th>\n",
       "      <th>2</th>\n",
       "      <td>e-</td>\n",
       "      <td>True</td>\n",
       "      <td>0</td>\n",
       "      <td>178.940918</td>\n",
       "      <td>-268.440735</td>\n",
       "      <td>295.103363</td>\n",
       "      <td>0.0</td>\n",
       "      <td>178.936234</td>\n",
       "      <td>-268.445679</td>\n",
       "      <td>295.094177</td>\n",
       "      <td>...</td>\n",
       "      <td>-0.088341</td>\n",
       "      <td>-0.030742</td>\n",
       "      <td>-0.030689</td>\n",
       "      <td>-0.0</td>\n",
       "      <td>0.0</td>\n",
       "      <td>0.0</td>\n",
       "      <td>0.009396</td>\n",
       "      <td>0.076495</td>\n",
       "      <td>none</td>\n",
       "      <td>Scintillation</td>\n",
       "    </tr>\n",
       "  </tbody>\n",
       "</table>\n",
       "<p>5 rows × 23 columns</p>\n",
       "</div>"
      ],
      "text/plain": [
       "                     particle_name  primary  mother_id   initial_x  \\\n",
       "event_id particle_id                                                 \n",
       "100000   2                      e-     True          0  411.851990   \n",
       "         1                      e-     True          0  411.851990   \n",
       "100001   2                      e-     True          0 -450.390076   \n",
       "         1                      e-     True          0 -450.390076   \n",
       "100002   2                      e-     True          0  178.940918   \n",
       "\n",
       "                       initial_y   initial_z  initial_t     final_x  \\\n",
       "event_id particle_id                                                  \n",
       "100000   2            -83.967979  981.268127        0.0  411.860229   \n",
       "         1            -83.967979  981.268127        0.0  411.961487   \n",
       "100001   2            -20.009449  848.892822        0.0 -450.372742   \n",
       "         1            -20.009449  848.892822        0.0 -450.387573   \n",
       "100002   2           -268.440735  295.103363        0.0  178.936234   \n",
       "\n",
       "                         final_y     final_z  ...  initial_momentum_x  \\\n",
       "event_id particle_id                          ...                       \n",
       "100000   2            -83.969376  981.265015  ...            0.024411   \n",
       "         1            -84.069504  981.291992  ...           -0.111088   \n",
       "100001   2            -19.999857  848.884277  ...            0.061492   \n",
       "         1            -19.987989  848.998352  ...            0.032593   \n",
       "100002   2           -268.445679  295.094177  ...           -0.088341   \n",
       "\n",
       "                     initial_momentum_y initial_momentum_z  final_momentum_x  \\\n",
       "event_id particle_id                                                           \n",
       "100000   2                     0.014236           0.094300               0.0   \n",
       "         1                    -0.118718           0.086334              -0.0   \n",
       "100001   2                     0.060949          -0.046850               0.0   \n",
       "         1                     0.113901           0.140898               0.0   \n",
       "100002   2                    -0.030742          -0.030689              -0.0   \n",
       "\n",
       "                      final_momentum_y  final_momentum_z  kin_energy  \\\n",
       "event_id particle_id                                                   \n",
       "100000   2                         0.0              -0.0    0.009396   \n",
       "         1                        -0.0               0.0    0.032147   \n",
       "100001   2                         0.0               0.0    0.009396   \n",
       "         1                        -0.0              -0.0    0.032147   \n",
       "100002   2                         0.0               0.0    0.009396   \n",
       "\n",
       "                        length  creator_proc     final_proc  \n",
       "event_id particle_id                                         \n",
       "100000   2            0.062259          none  Scintillation  \n",
       "         1            0.456158          none  Scintillation  \n",
       "100001   2            0.066419          none  Scintillation  \n",
       "         1            0.569584          none  Scintillation  \n",
       "100002   2            0.076495          none  Scintillation  \n",
       "\n",
       "[5 rows x 23 columns]"
      ]
     },
     "execution_count": 40,
     "metadata": {},
     "output_type": "execute_result"
    }
   ],
   "source": [
    "mcParts.head()"
   ]
  },
  {
   "cell_type": "code",
   "execution_count": 41,
   "metadata": {},
   "outputs": [
    {
     "name": "stdout",
     "output_type": "stream",
     "text": [
      "Index(['particle_name', 'primary', 'mother_id', 'initial_x', 'initial_y',\n",
      "       'initial_z', 'initial_t', 'final_x', 'final_y', 'final_z', 'final_t',\n",
      "       'initial_volume', 'final_volume', 'initial_momentum_x',\n",
      "       'initial_momentum_y', 'initial_momentum_z', 'final_momentum_x',\n",
      "       'final_momentum_y', 'final_momentum_z', 'kin_energy', 'length',\n",
      "       'creator_proc', 'final_proc'],\n",
      "      dtype='object')\n"
     ]
    }
   ],
   "source": [
    "print(mcParts.columns)"
   ]
  },
  {
   "cell_type": "code",
   "execution_count": 42,
   "metadata": {},
   "outputs": [
    {
     "data": {
      "text/html": [
       "<div>\n",
       "<style scoped>\n",
       "    .dataframe tbody tr th:only-of-type {\n",
       "        vertical-align: middle;\n",
       "    }\n",
       "\n",
       "    .dataframe tbody tr th {\n",
       "        vertical-align: top;\n",
       "    }\n",
       "\n",
       "    .dataframe thead th {\n",
       "        text-align: right;\n",
       "    }\n",
       "</style>\n",
       "<table border=\"1\" class=\"dataframe\">\n",
       "  <thead>\n",
       "    <tr style=\"text-align: right;\">\n",
       "      <th></th>\n",
       "      <th></th>\n",
       "      <th>charge</th>\n",
       "      <th>time</th>\n",
       "    </tr>\n",
       "    <tr>\n",
       "      <th>event_id</th>\n",
       "      <th>sensor_id</th>\n",
       "      <th></th>\n",
       "      <th></th>\n",
       "    </tr>\n",
       "  </thead>\n",
       "  <tbody>\n",
       "    <tr>\n",
       "      <th rowspan=\"5\" valign=\"top\">100000</th>\n",
       "      <th>35</th>\n",
       "      <td>2</td>\n",
       "      <td>979100.0</td>\n",
       "    </tr>\n",
       "    <tr>\n",
       "      <th>35</th>\n",
       "      <td>1</td>\n",
       "      <td>979175.0</td>\n",
       "    </tr>\n",
       "    <tr>\n",
       "      <th>35</th>\n",
       "      <td>1</td>\n",
       "      <td>979275.0</td>\n",
       "    </tr>\n",
       "    <tr>\n",
       "      <th>35</th>\n",
       "      <td>1</td>\n",
       "      <td>979400.0</td>\n",
       "    </tr>\n",
       "    <tr>\n",
       "      <th>35</th>\n",
       "      <td>1</td>\n",
       "      <td>979525.0</td>\n",
       "    </tr>\n",
       "  </tbody>\n",
       "</table>\n",
       "</div>"
      ],
      "text/plain": [
       "                    charge      time\n",
       "event_id sensor_id                  \n",
       "100000   35              2  979100.0\n",
       "         35              1  979175.0\n",
       "         35              1  979275.0\n",
       "         35              1  979400.0\n",
       "         35              1  979525.0"
      ]
     },
     "execution_count": 42,
     "metadata": {},
     "output_type": "execute_result"
    }
   ],
   "source": [
    "sns_response_pmt.head()"
   ]
  },
  {
   "cell_type": "code",
   "execution_count": 43,
   "metadata": {},
   "outputs": [
    {
     "data": {
      "text/html": [
       "<div>\n",
       "<style scoped>\n",
       "    .dataframe tbody tr th:only-of-type {\n",
       "        vertical-align: middle;\n",
       "    }\n",
       "\n",
       "    .dataframe tbody tr th {\n",
       "        vertical-align: top;\n",
       "    }\n",
       "\n",
       "    .dataframe thead th {\n",
       "        text-align: right;\n",
       "    }\n",
       "</style>\n",
       "<table border=\"1\" class=\"dataframe\">\n",
       "  <thead>\n",
       "    <tr style=\"text-align: right;\">\n",
       "      <th></th>\n",
       "      <th></th>\n",
       "      <th>charge</th>\n",
       "      <th>time</th>\n",
       "    </tr>\n",
       "    <tr>\n",
       "      <th>event_id</th>\n",
       "      <th>sensor_id</th>\n",
       "      <th></th>\n",
       "      <th></th>\n",
       "    </tr>\n",
       "  </thead>\n",
       "  <tbody>\n",
       "    <tr>\n",
       "      <th rowspan=\"5\" valign=\"top\">100</th>\n",
       "      <th>100662</th>\n",
       "      <td>2</td>\n",
       "      <td>1005000.0</td>\n",
       "    </tr>\n",
       "    <tr>\n",
       "      <th>100662</th>\n",
       "      <td>1</td>\n",
       "      <td>1007000.0</td>\n",
       "    </tr>\n",
       "    <tr>\n",
       "      <th>100662</th>\n",
       "      <td>3</td>\n",
       "      <td>1008000.0</td>\n",
       "    </tr>\n",
       "    <tr>\n",
       "      <th>100662</th>\n",
       "      <td>5</td>\n",
       "      <td>1009000.0</td>\n",
       "    </tr>\n",
       "    <tr>\n",
       "      <th>100662</th>\n",
       "      <td>1</td>\n",
       "      <td>1010000.0</td>\n",
       "    </tr>\n",
       "  </tbody>\n",
       "</table>\n",
       "</div>"
      ],
      "text/plain": [
       "                    charge       time\n",
       "event_id sensor_id                   \n",
       "100      100662          2  1005000.0\n",
       "         100662          1  1007000.0\n",
       "         100662          3  1008000.0\n",
       "         100662          5  1009000.0\n",
       "         100662          1  1010000.0"
      ]
     },
     "execution_count": 43,
     "metadata": {},
     "output_type": "execute_result"
    }
   ],
   "source": [
    "sns_response_fib.head()"
   ]
  },
  {
   "cell_type": "markdown",
   "metadata": {},
   "source": [
    "## kr_dst components (in core.py)"
   ]
  },
  {
   "cell_type": "markdown",
   "metadata": {},
   "source": [
    "### Setup\n",
    "\n",
    "***\n",
    "@dataclass\\\n",
    "class Setup:\n",
    "\n",
    "    sipmPDE           : float = 1.0\n",
    "    maskPDE           : float = 1.0\n",
    "    qTh               : float = 0.0\n",
    "    tpConfig          : str   = \"FLEX100_M6_O6\" # means thickness 6 mm hole 6mm\n",
    "    mapDIR            : str   = \"flexmaps\" # where to find the SiPM map\n",
    "    fibres            : bool  = False\n",
    "\n",
    "***\n"
   ]
  },
  {
   "cell_type": "code",
   "execution_count": 44,
   "metadata": {},
   "outputs": [],
   "source": [
    "setup = Setup()"
   ]
  },
  {
   "cell_type": "code",
   "execution_count": 45,
   "metadata": {},
   "outputs": [
    {
     "data": {
      "text/plain": [
       "\n",
       "        Setup <PMTs_sipmPDE_1.0_maskPDE_1.0_qTh_0.0_FLEX100_M6_O6>:\n",
       "        tracking plane configuration = FLEX100_M6_O6\n",
       "        sipm PDE                     = 1.0\n",
       "        transmission of teflon masks = 1.0\n",
       "        charge threshold             = 0.0\n",
       "        Fibres?                      = False\n",
       "        "
      ]
     },
     "execution_count": 45,
     "metadata": {},
     "output_type": "execute_result"
    }
   ],
   "source": [
    "setup"
   ]
  },
  {
   "cell_type": "code",
   "execution_count": 46,
   "metadata": {},
   "outputs": [
    {
     "data": {
      "text/plain": [
       "True"
      ]
     },
     "execution_count": 46,
     "metadata": {},
     "output_type": "execute_result"
    }
   ],
   "source": [
    "name ='PMTs_sipmPDE_1.0_maskPDE_1.0_qTh_0.0_FLEX100_M6_O6'\n",
    "setup.name == name"
   ]
  },
  {
   "cell_type": "markdown",
   "metadata": {},
   "source": [
    "### Functions that manipulate true information"
   ]
  },
  {
   "cell_type": "markdown",
   "metadata": {},
   "source": [
    "***\n",
    "def get_evt_true_positions_df(mcParts : DataFrame)->DataFrame:"
   ]
  },
  {
   "cell_type": "code",
   "execution_count": 47,
   "metadata": {},
   "outputs": [
    {
     "data": {
      "text/html": [
       "<div>\n",
       "<style scoped>\n",
       "    .dataframe tbody tr th:only-of-type {\n",
       "        vertical-align: middle;\n",
       "    }\n",
       "\n",
       "    .dataframe tbody tr th {\n",
       "        vertical-align: top;\n",
       "    }\n",
       "\n",
       "    .dataframe thead th {\n",
       "        text-align: right;\n",
       "    }\n",
       "</style>\n",
       "<table border=\"1\" class=\"dataframe\">\n",
       "  <thead>\n",
       "    <tr style=\"text-align: right;\">\n",
       "      <th></th>\n",
       "      <th>true_x</th>\n",
       "      <th>true_y</th>\n",
       "      <th>true_z</th>\n",
       "    </tr>\n",
       "    <tr>\n",
       "      <th>event_id</th>\n",
       "      <th></th>\n",
       "      <th></th>\n",
       "      <th></th>\n",
       "    </tr>\n",
       "  </thead>\n",
       "  <tbody>\n",
       "    <tr>\n",
       "      <th>100000</th>\n",
       "      <td>411.851990</td>\n",
       "      <td>-83.967979</td>\n",
       "      <td>981.268127</td>\n",
       "    </tr>\n",
       "    <tr>\n",
       "      <th>100001</th>\n",
       "      <td>-450.390076</td>\n",
       "      <td>-20.009449</td>\n",
       "      <td>848.892822</td>\n",
       "    </tr>\n",
       "    <tr>\n",
       "      <th>100002</th>\n",
       "      <td>178.940918</td>\n",
       "      <td>-268.440735</td>\n",
       "      <td>295.103363</td>\n",
       "    </tr>\n",
       "    <tr>\n",
       "      <th>100003</th>\n",
       "      <td>-36.024593</td>\n",
       "      <td>-41.193062</td>\n",
       "      <td>367.160645</td>\n",
       "    </tr>\n",
       "    <tr>\n",
       "      <th>100004</th>\n",
       "      <td>176.177246</td>\n",
       "      <td>-167.092148</td>\n",
       "      <td>245.398712</td>\n",
       "    </tr>\n",
       "  </tbody>\n",
       "</table>\n",
       "</div>"
      ],
      "text/plain": [
       "              true_x      true_y      true_z\n",
       "event_id                                    \n",
       "100000    411.851990  -83.967979  981.268127\n",
       "100001   -450.390076  -20.009449  848.892822\n",
       "100002    178.940918 -268.440735  295.103363\n",
       "100003    -36.024593  -41.193062  367.160645\n",
       "100004    176.177246 -167.092148  245.398712"
      ]
     },
     "execution_count": 47,
     "metadata": {},
     "output_type": "execute_result"
    }
   ],
   "source": [
    "evt_truePos = get_evt_true_positions_df(mcParts)\n",
    "evt_truePos.head()"
   ]
  },
  {
   "cell_type": "code",
   "execution_count": 48,
   "metadata": {},
   "outputs": [
    {
     "data": {
      "image/png": "[encoded data removed]",
      "text/plain": [
       "<Figure size 720x720 with 3 Axes>"
      ]
     },
     "metadata": {
      "needs_background": "light"
     },
     "output_type": "display_data"
    }
   ],
   "source": [
    "histos_df(evt_truePos, \n",
    "          vars    = ('true_x','true_y','true_z'), \n",
    "          varmins = [-500,-500,0], \n",
    "          varmaxs = [500,500,1000], \n",
    "          xlabels = ['true_x','true_y','true_z'], \n",
    "          ylabels = 3 * ['events'], \n",
    "          bins    = 3 * [10],\n",
    "          alphas  = 3 * [0.6],\n",
    "          colors  = 3 * ['b'],\n",
    "          splt    = (3,1), \n",
    "          figsize = (10,10))"
   ]
  },
  {
   "cell_type": "code",
   "execution_count": 49,
   "metadata": {},
   "outputs": [
    {
     "data": {
      "text/plain": [
       "True"
      ]
     },
     "execution_count": 49,
     "metadata": {},
     "output_type": "execute_result"
    }
   ],
   "source": [
    "np.all(in_range(evt_truePos.true_x, -500, 500))"
   ]
  },
  {
   "cell_type": "code",
   "execution_count": 50,
   "metadata": {},
   "outputs": [],
   "source": [
    "def test_get_evt_true_positions_df():\n",
    "\n",
    "    xr = np.all(in_range(evt_truePos.true_x, -500, 500))\n",
    "    yr = np.all(in_range(evt_truePos.true_y, -500, 500))\n",
    "    zr = np.all(in_range(evt_truePos.true_z, 0, 1200))\n",
    "    return xr and yr and zr\n"
   ]
  },
  {
   "cell_type": "code",
   "execution_count": 51,
   "metadata": {},
   "outputs": [
    {
     "data": {
      "text/plain": [
       "True"
      ]
     },
     "execution_count": 51,
     "metadata": {},
     "output_type": "execute_result"
    }
   ],
   "source": [
    "test_get_evt_true_positions_df()"
   ]
  },
  {
   "cell_type": "markdown",
   "metadata": {},
   "source": [
    "***\n",
    "def get_evt_true_positions_and_energy(mcParts: DataFrame)->DataFrame:\n",
    "***"
   ]
  },
  {
   "cell_type": "code",
   "execution_count": 52,
   "metadata": {},
   "outputs": [
    {
     "data": {
      "text/html": [
       "<div>\n",
       "<style scoped>\n",
       "    .dataframe tbody tr th:only-of-type {\n",
       "        vertical-align: middle;\n",
       "    }\n",
       "\n",
       "    .dataframe tbody tr th {\n",
       "        vertical-align: top;\n",
       "    }\n",
       "\n",
       "    .dataframe thead th {\n",
       "        text-align: right;\n",
       "    }\n",
       "</style>\n",
       "<table border=\"1\" class=\"dataframe\">\n",
       "  <thead>\n",
       "    <tr style=\"text-align: right;\">\n",
       "      <th></th>\n",
       "      <th>true_x</th>\n",
       "      <th>true_y</th>\n",
       "      <th>true_z</th>\n",
       "      <th>KE</th>\n",
       "    </tr>\n",
       "    <tr>\n",
       "      <th>event_id</th>\n",
       "      <th></th>\n",
       "      <th></th>\n",
       "      <th></th>\n",
       "      <th></th>\n",
       "    </tr>\n",
       "  </thead>\n",
       "  <tbody>\n",
       "    <tr>\n",
       "      <th>100000</th>\n",
       "      <td>411.851990</td>\n",
       "      <td>-83.967979</td>\n",
       "      <td>981.268127</td>\n",
       "      <td>41.543297</td>\n",
       "    </tr>\n",
       "    <tr>\n",
       "      <th>100001</th>\n",
       "      <td>-450.390076</td>\n",
       "      <td>-20.009449</td>\n",
       "      <td>848.892822</td>\n",
       "      <td>41.543297</td>\n",
       "    </tr>\n",
       "    <tr>\n",
       "      <th>100002</th>\n",
       "      <td>178.940918</td>\n",
       "      <td>-268.440735</td>\n",
       "      <td>295.103363</td>\n",
       "      <td>41.543297</td>\n",
       "    </tr>\n",
       "    <tr>\n",
       "      <th>100003</th>\n",
       "      <td>-36.024593</td>\n",
       "      <td>-41.193062</td>\n",
       "      <td>367.160645</td>\n",
       "      <td>41.543297</td>\n",
       "    </tr>\n",
       "    <tr>\n",
       "      <th>100004</th>\n",
       "      <td>176.177246</td>\n",
       "      <td>-167.092148</td>\n",
       "      <td>245.398712</td>\n",
       "      <td>41.543297</td>\n",
       "    </tr>\n",
       "  </tbody>\n",
       "</table>\n",
       "</div>"
      ],
      "text/plain": [
       "              true_x      true_y      true_z         KE\n",
       "event_id                                               \n",
       "100000    411.851990  -83.967979  981.268127  41.543297\n",
       "100001   -450.390076  -20.009449  848.892822  41.543297\n",
       "100002    178.940918 -268.440735  295.103363  41.543297\n",
       "100003    -36.024593  -41.193062  367.160645  41.543297\n",
       "100004    176.177246 -167.092148  245.398712  41.543297"
      ]
     },
     "execution_count": 52,
     "metadata": {},
     "output_type": "execute_result"
    }
   ],
   "source": [
    "evt_truePosE = get_evt_true_positions_and_energy(mcParts)\n",
    "evt_truePosE.head()"
   ]
  },
  {
   "cell_type": "code",
   "execution_count": 53,
   "metadata": {},
   "outputs": [
    {
     "data": {
      "image/png": "[encoded data removed]",
      "text/plain": [
       "<Figure size 720x720 with 4 Axes>"
      ]
     },
     "metadata": {
      "needs_background": "light"
     },
     "output_type": "display_data"
    }
   ],
   "source": [
    "histos_df(evt_truePosE, \n",
    "          vars    = ('true_x','true_y','true_z','KE'), \n",
    "          varmins = [-500,-500,0, 40], \n",
    "          varmaxs = [500,500,1000, 50], \n",
    "          xlabels = ['true_x','true_y','true_z','KE'], \n",
    "          ylabels = 4 * ['events'], \n",
    "          bins    = 4 * [10],\n",
    "          alphas  = 4 * [0.6],\n",
    "          colors  = 4 * ['b'],\n",
    "          splt    = (2,2), \n",
    "          figsize = (10,10))"
   ]
  },
  {
   "cell_type": "code",
   "execution_count": 54,
   "metadata": {},
   "outputs": [
    {
     "data": {
      "text/plain": [
       "True"
      ]
     },
     "execution_count": 54,
     "metadata": {},
     "output_type": "execute_result"
    }
   ],
   "source": [
    "np.all(in_range(evt_truePosE.KE, 40, 59))"
   ]
  },
  {
   "cell_type": "markdown",
   "metadata": {},
   "source": [
    "### Functions that manipulate Sensors"
   ]
  },
  {
   "cell_type": "code",
   "execution_count": 55,
   "metadata": {},
   "outputs": [
    {
     "data": {
      "text/html": [
       "<div>\n",
       "<style scoped>\n",
       "    .dataframe tbody tr th:only-of-type {\n",
       "        vertical-align: middle;\n",
       "    }\n",
       "\n",
       "    .dataframe tbody tr th {\n",
       "        vertical-align: top;\n",
       "    }\n",
       "\n",
       "    .dataframe thead th {\n",
       "        text-align: right;\n",
       "    }\n",
       "</style>\n",
       "<table border=\"1\" class=\"dataframe\">\n",
       "  <thead>\n",
       "    <tr style=\"text-align: right;\">\n",
       "      <th></th>\n",
       "      <th>bin_width</th>\n",
       "    </tr>\n",
       "    <tr>\n",
       "      <th>sns_name</th>\n",
       "      <th></th>\n",
       "    </tr>\n",
       "  </thead>\n",
       "  <tbody>\n",
       "    <tr>\n",
       "      <th>PmtR11410</th>\n",
       "      <td>25.0</td>\n",
       "    </tr>\n",
       "    <tr>\n",
       "      <th>TP_SiPM</th>\n",
       "      <td>1000.0</td>\n",
       "    </tr>\n",
       "  </tbody>\n",
       "</table>\n",
       "</div>"
      ],
      "text/plain": [
       "           bin_width\n",
       "sns_name            \n",
       "PmtR11410       25.0\n",
       "TP_SiPM       1000.0"
      ]
     },
     "execution_count": 55,
     "metadata": {},
     "output_type": "execute_result"
    }
   ],
   "source": [
    "get_sensor_binning(testFile)"
   ]
  },
  {
   "cell_type": "code",
   "execution_count": 56,
   "metadata": {},
   "outputs": [
    {
     "data": {
      "text/html": [
       "<div>\n",
       "<style scoped>\n",
       "    .dataframe tbody tr th:only-of-type {\n",
       "        vertical-align: middle;\n",
       "    }\n",
       "\n",
       "    .dataframe tbody tr th {\n",
       "        vertical-align: top;\n",
       "    }\n",
       "\n",
       "    .dataframe thead th {\n",
       "        text-align: right;\n",
       "    }\n",
       "</style>\n",
       "<table border=\"1\" class=\"dataframe\">\n",
       "  <thead>\n",
       "    <tr style=\"text-align: right;\">\n",
       "      <th></th>\n",
       "      <th>bin_width</th>\n",
       "    </tr>\n",
       "    <tr>\n",
       "      <th>sns_name</th>\n",
       "      <th></th>\n",
       "    </tr>\n",
       "  </thead>\n",
       "  <tbody>\n",
       "    <tr>\n",
       "      <th>F_SENSOR_L</th>\n",
       "      <td>1000.0</td>\n",
       "    </tr>\n",
       "    <tr>\n",
       "      <th>F_SENSOR_R</th>\n",
       "      <td>1000.0</td>\n",
       "    </tr>\n",
       "    <tr>\n",
       "      <th>TP_SiPM</th>\n",
       "      <td>1000.0</td>\n",
       "    </tr>\n",
       "  </tbody>\n",
       "</table>\n",
       "</div>"
      ],
      "text/plain": [
       "            bin_width\n",
       "sns_name             \n",
       "F_SENSOR_L     1000.0\n",
       "F_SENSOR_R     1000.0\n",
       "TP_SiPM        1000.0"
      ]
     },
     "execution_count": 56,
     "metadata": {},
     "output_type": "execute_result"
    }
   ],
   "source": [
    "get_sensor_binning(testFile2)"
   ]
  },
  {
   "cell_type": "code",
   "execution_count": 57,
   "metadata": {},
   "outputs": [],
   "source": [
    "sns_response = load_mcsensor_response_df(testFile)"
   ]
  },
  {
   "cell_type": "code",
   "execution_count": 58,
   "metadata": {},
   "outputs": [
    {
     "data": {
      "text/html": [
       "<div>\n",
       "<style scoped>\n",
       "    .dataframe tbody tr th:only-of-type {\n",
       "        vertical-align: middle;\n",
       "    }\n",
       "\n",
       "    .dataframe tbody tr th {\n",
       "        vertical-align: top;\n",
       "    }\n",
       "\n",
       "    .dataframe thead th {\n",
       "        text-align: right;\n",
       "    }\n",
       "</style>\n",
       "<table border=\"1\" class=\"dataframe\">\n",
       "  <thead>\n",
       "    <tr style=\"text-align: right;\">\n",
       "      <th></th>\n",
       "      <th></th>\n",
       "      <th>charge</th>\n",
       "      <th>time</th>\n",
       "    </tr>\n",
       "    <tr>\n",
       "      <th>event_id</th>\n",
       "      <th>sensor_id</th>\n",
       "      <th></th>\n",
       "      <th></th>\n",
       "    </tr>\n",
       "  </thead>\n",
       "  <tbody>\n",
       "    <tr>\n",
       "      <th rowspan=\"5\" valign=\"top\">100000</th>\n",
       "      <th>35</th>\n",
       "      <td>2</td>\n",
       "      <td>979100.0</td>\n",
       "    </tr>\n",
       "    <tr>\n",
       "      <th>35</th>\n",
       "      <td>1</td>\n",
       "      <td>979175.0</td>\n",
       "    </tr>\n",
       "    <tr>\n",
       "      <th>35</th>\n",
       "      <td>1</td>\n",
       "      <td>979275.0</td>\n",
       "    </tr>\n",
       "    <tr>\n",
       "      <th>35</th>\n",
       "      <td>1</td>\n",
       "      <td>979400.0</td>\n",
       "    </tr>\n",
       "    <tr>\n",
       "      <th>35</th>\n",
       "      <td>1</td>\n",
       "      <td>979525.0</td>\n",
       "    </tr>\n",
       "  </tbody>\n",
       "</table>\n",
       "</div>"
      ],
      "text/plain": [
       "                    charge      time\n",
       "event_id sensor_id                  \n",
       "100000   35              2  979100.0\n",
       "         35              1  979175.0\n",
       "         35              1  979275.0\n",
       "         35              1  979400.0\n",
       "         35              1  979525.0"
      ]
     },
     "execution_count": 58,
     "metadata": {},
     "output_type": "execute_result"
    }
   ],
   "source": [
    "sns_response.head()"
   ]
  },
  {
   "cell_type": "markdown",
   "metadata": {},
   "source": [
    "***\n",
    "def get_sensor_response(sns_response : DataFrame,\n",
    "                        sensor_type  : str = 'PMT')->DataFrame:\n",
    "\n",
    "***"
   ]
  },
  {
   "cell_type": "markdown",
   "metadata": {},
   "source": [
    "#### PMTs"
   ]
  },
  {
   "cell_type": "code",
   "execution_count": 59,
   "metadata": {},
   "outputs": [],
   "source": [
    "pmt_response = get_sensor_response(sns_response, sensor_type = 'PMT')"
   ]
  },
  {
   "cell_type": "code",
   "execution_count": 60,
   "metadata": {},
   "outputs": [
    {
     "data": {
      "text/html": [
       "<div>\n",
       "<style scoped>\n",
       "    .dataframe tbody tr th:only-of-type {\n",
       "        vertical-align: middle;\n",
       "    }\n",
       "\n",
       "    .dataframe tbody tr th {\n",
       "        vertical-align: top;\n",
       "    }\n",
       "\n",
       "    .dataframe thead th {\n",
       "        text-align: right;\n",
       "    }\n",
       "</style>\n",
       "<table border=\"1\" class=\"dataframe\">\n",
       "  <thead>\n",
       "    <tr style=\"text-align: right;\">\n",
       "      <th></th>\n",
       "      <th></th>\n",
       "      <th>charge</th>\n",
       "      <th>time</th>\n",
       "    </tr>\n",
       "    <tr>\n",
       "      <th>event_id</th>\n",
       "      <th>sensor_id</th>\n",
       "      <th></th>\n",
       "      <th></th>\n",
       "    </tr>\n",
       "  </thead>\n",
       "  <tbody>\n",
       "    <tr>\n",
       "      <th rowspan=\"5\" valign=\"top\">100000</th>\n",
       "      <th>35</th>\n",
       "      <td>2</td>\n",
       "      <td>979100.0</td>\n",
       "    </tr>\n",
       "    <tr>\n",
       "      <th>35</th>\n",
       "      <td>1</td>\n",
       "      <td>979175.0</td>\n",
       "    </tr>\n",
       "    <tr>\n",
       "      <th>35</th>\n",
       "      <td>1</td>\n",
       "      <td>979275.0</td>\n",
       "    </tr>\n",
       "    <tr>\n",
       "      <th>35</th>\n",
       "      <td>1</td>\n",
       "      <td>979400.0</td>\n",
       "    </tr>\n",
       "    <tr>\n",
       "      <th>35</th>\n",
       "      <td>1</td>\n",
       "      <td>979525.0</td>\n",
       "    </tr>\n",
       "  </tbody>\n",
       "</table>\n",
       "</div>"
      ],
      "text/plain": [
       "                    charge      time\n",
       "event_id sensor_id                  \n",
       "100000   35              2  979100.0\n",
       "         35              1  979175.0\n",
       "         35              1  979275.0\n",
       "         35              1  979400.0\n",
       "         35              1  979525.0"
      ]
     },
     "execution_count": 60,
     "metadata": {},
     "output_type": "execute_result"
    }
   ],
   "source": [
    "pmt_response.head()"
   ]
  },
  {
   "cell_type": "code",
   "execution_count": 61,
   "metadata": {},
   "outputs": [
    {
     "data": {
      "text/plain": [
       "True"
      ]
     },
     "execution_count": 61,
     "metadata": {},
     "output_type": "execute_result"
    }
   ],
   "source": [
    "np.all(in_range(pmt_response.index.get_level_values(1), 0, 60))"
   ]
  },
  {
   "cell_type": "code",
   "execution_count": 62,
   "metadata": {},
   "outputs": [
    {
     "data": {
      "image/png": "[encoded data removed]",
      "text/plain": [
       "<Figure size 432x288 with 1 Axes>"
      ]
     },
     "metadata": {
      "needs_background": "light"
     },
     "output_type": "display_data"
    }
   ],
   "source": [
    "histo_df(pmt_response, \n",
    "         var = 'charge', \n",
    "         varmin = 0, \n",
    "         varmax = 10, \n",
    "         xlabel = 'S2', \n",
    "         ylabel = 'events',\n",
    "         bins   = 10, \n",
    "         alpha  = 0.6, \n",
    "         color  = 'b')"
   ]
  },
  {
   "cell_type": "code",
   "execution_count": 63,
   "metadata": {},
   "outputs": [
    {
     "data": {
      "text/plain": [
       "True"
      ]
     },
     "execution_count": 63,
     "metadata": {},
     "output_type": "execute_result"
    }
   ],
   "source": [
    "np.all(in_range(pmt_response.charge, 0, 10))"
   ]
  },
  {
   "cell_type": "markdown",
   "metadata": {},
   "source": [
    "#### Fibres"
   ]
  },
  {
   "cell_type": "code",
   "execution_count": 64,
   "metadata": {},
   "outputs": [
    {
     "data": {
      "text/html": [
       "<div>\n",
       "<style scoped>\n",
       "    .dataframe tbody tr th:only-of-type {\n",
       "        vertical-align: middle;\n",
       "    }\n",
       "\n",
       "    .dataframe tbody tr th {\n",
       "        vertical-align: top;\n",
       "    }\n",
       "\n",
       "    .dataframe thead th {\n",
       "        text-align: right;\n",
       "    }\n",
       "</style>\n",
       "<table border=\"1\" class=\"dataframe\">\n",
       "  <thead>\n",
       "    <tr style=\"text-align: right;\">\n",
       "      <th></th>\n",
       "      <th></th>\n",
       "      <th>charge</th>\n",
       "      <th>time</th>\n",
       "    </tr>\n",
       "    <tr>\n",
       "      <th>event_id</th>\n",
       "      <th>sensor_id</th>\n",
       "      <th></th>\n",
       "      <th></th>\n",
       "    </tr>\n",
       "  </thead>\n",
       "  <tbody>\n",
       "    <tr>\n",
       "      <th rowspan=\"5\" valign=\"top\">100</th>\n",
       "      <th>100662</th>\n",
       "      <td>2</td>\n",
       "      <td>1005000.0</td>\n",
       "    </tr>\n",
       "    <tr>\n",
       "      <th>100662</th>\n",
       "      <td>1</td>\n",
       "      <td>1007000.0</td>\n",
       "    </tr>\n",
       "    <tr>\n",
       "      <th>100662</th>\n",
       "      <td>3</td>\n",
       "      <td>1008000.0</td>\n",
       "    </tr>\n",
       "    <tr>\n",
       "      <th>100662</th>\n",
       "      <td>5</td>\n",
       "      <td>1009000.0</td>\n",
       "    </tr>\n",
       "    <tr>\n",
       "      <th>100662</th>\n",
       "      <td>1</td>\n",
       "      <td>1010000.0</td>\n",
       "    </tr>\n",
       "  </tbody>\n",
       "</table>\n",
       "</div>"
      ],
      "text/plain": [
       "                    charge       time\n",
       "event_id sensor_id                   \n",
       "100      100662          2  1005000.0\n",
       "         100662          1  1007000.0\n",
       "         100662          3  1008000.0\n",
       "         100662          5  1009000.0\n",
       "         100662          1  1010000.0"
      ]
     },
     "execution_count": 64,
     "metadata": {},
     "output_type": "execute_result"
    }
   ],
   "source": [
    "fibres_response = get_sensor_response(load_mcsensor_response_df(testFile2), sensor_type = 'FIBRES')\n",
    "fibres_response.head()"
   ]
  },
  {
   "cell_type": "code",
   "execution_count": 65,
   "metadata": {},
   "outputs": [
    {
     "data": {
      "text/plain": [
       "UInt64Index([100662, 100662, 100662, 100662, 100662, 100662, 100662, 100662,\n",
       "             100662, 100662,\n",
       "             ...\n",
       "             200347, 200347, 200347, 200347, 200347, 200347, 200347, 200347,\n",
       "             200347, 200347],\n",
       "            dtype='uint64', name='sensor_id', length=2052953)"
      ]
     },
     "execution_count": 65,
     "metadata": {},
     "output_type": "execute_result"
    }
   ],
   "source": [
    "fibres_response.index.get_level_values(1)"
   ]
  },
  {
   "cell_type": "code",
   "execution_count": 66,
   "metadata": {},
   "outputs": [
    {
     "data": {
      "text/plain": [
       "True"
      ]
     },
     "execution_count": 66,
     "metadata": {},
     "output_type": "execute_result"
    }
   ],
   "source": [
    "np.all(in_range(fibres_response.index.get_level_values(1),100000,201545))"
   ]
  },
  {
   "cell_type": "code",
   "execution_count": 67,
   "metadata": {},
   "outputs": [
    {
     "data": {
      "image/png": "[encoded data removed]",
      "text/plain": [
       "<Figure size 432x288 with 1 Axes>"
      ]
     },
     "metadata": {
      "needs_background": "light"
     },
     "output_type": "display_data"
    }
   ],
   "source": [
    "histo_df(fibres_response, \n",
    "         var = 'charge', \n",
    "         varmin = 0, \n",
    "         varmax = 20, \n",
    "         xlabel = 'S2F', \n",
    "         ylabel = 'events',\n",
    "         bins   = 10, \n",
    "         alpha  = 0.6, \n",
    "         color  = 'b')"
   ]
  },
  {
   "cell_type": "code",
   "execution_count": 68,
   "metadata": {},
   "outputs": [
    {
     "data": {
      "text/plain": [
       "True"
      ]
     },
     "execution_count": 68,
     "metadata": {},
     "output_type": "execute_result"
    }
   ],
   "source": [
    "np.all(in_range(fibres_response.charge, 0, 200))"
   ]
  },
  {
   "cell_type": "markdown",
   "metadata": {},
   "source": [
    "##### But notice that Fibres do not include tranmission or QE"
   ]
  },
  {
   "cell_type": "markdown",
   "metadata": {},
   "source": [
    "#### SiPMs"
   ]
  },
  {
   "cell_type": "code",
   "execution_count": 69,
   "metadata": {},
   "outputs": [],
   "source": [
    "sipm_response = get_sensor_response(sns_response, sensor_type = 'SIPM')"
   ]
  },
  {
   "cell_type": "code",
   "execution_count": 70,
   "metadata": {},
   "outputs": [
    {
     "data": {
      "text/html": [
       "<div>\n",
       "<style scoped>\n",
       "    .dataframe tbody tr th:only-of-type {\n",
       "        vertical-align: middle;\n",
       "    }\n",
       "\n",
       "    .dataframe tbody tr th {\n",
       "        vertical-align: top;\n",
       "    }\n",
       "\n",
       "    .dataframe thead th {\n",
       "        text-align: right;\n",
       "    }\n",
       "</style>\n",
       "<table border=\"1\" class=\"dataframe\">\n",
       "  <thead>\n",
       "    <tr style=\"text-align: right;\">\n",
       "      <th></th>\n",
       "      <th></th>\n",
       "      <th>charge</th>\n",
       "      <th>time</th>\n",
       "    </tr>\n",
       "    <tr>\n",
       "      <th>event_id</th>\n",
       "      <th>sensor_id</th>\n",
       "      <th></th>\n",
       "      <th></th>\n",
       "    </tr>\n",
       "  </thead>\n",
       "  <tbody>\n",
       "    <tr>\n",
       "      <th rowspan=\"5\" valign=\"top\">100000</th>\n",
       "      <th>2137</th>\n",
       "      <td>2</td>\n",
       "      <td>980000.0</td>\n",
       "    </tr>\n",
       "    <tr>\n",
       "      <th>2137</th>\n",
       "      <td>3</td>\n",
       "      <td>981000.0</td>\n",
       "    </tr>\n",
       "    <tr>\n",
       "      <th>2137</th>\n",
       "      <td>2</td>\n",
       "      <td>982000.0</td>\n",
       "    </tr>\n",
       "    <tr>\n",
       "      <th>2137</th>\n",
       "      <td>2</td>\n",
       "      <td>983000.0</td>\n",
       "    </tr>\n",
       "    <tr>\n",
       "      <th>2137</th>\n",
       "      <td>3</td>\n",
       "      <td>984000.0</td>\n",
       "    </tr>\n",
       "  </tbody>\n",
       "</table>\n",
       "</div>"
      ],
      "text/plain": [
       "                    charge      time\n",
       "event_id sensor_id                  \n",
       "100000   2137            2  980000.0\n",
       "         2137            3  981000.0\n",
       "         2137            2  982000.0\n",
       "         2137            2  983000.0\n",
       "         2137            3  984000.0"
      ]
     },
     "execution_count": 70,
     "metadata": {},
     "output_type": "execute_result"
    }
   ],
   "source": [
    "sipm_response.head()"
   ]
  },
  {
   "cell_type": "code",
   "execution_count": 71,
   "metadata": {},
   "outputs": [
    {
     "data": {
      "text/plain": [
       "UInt64Index([2137, 2137, 2137, 2137, 2137, 2137, 2137, 2137, 2137, 2137,\n",
       "             ...\n",
       "             1639, 1639, 1639, 1639, 1639, 1639, 1639, 1639, 1639, 2537],\n",
       "            dtype='uint64', name='sensor_id', length=49727)"
      ]
     },
     "execution_count": 71,
     "metadata": {},
     "output_type": "execute_result"
    }
   ],
   "source": [
    "sipm_response.index.get_level_values(1)"
   ]
  },
  {
   "cell_type": "code",
   "execution_count": 72,
   "metadata": {},
   "outputs": [
    {
     "data": {
      "text/plain": [
       "True"
      ]
     },
     "execution_count": 72,
     "metadata": {},
     "output_type": "execute_result"
    }
   ],
   "source": [
    "np.all(in_range(sipm_response.index.get_level_values(1),1000,4500))"
   ]
  },
  {
   "cell_type": "code",
   "execution_count": 73,
   "metadata": {},
   "outputs": [
    {
     "data": {
      "image/png": "[encoded data removed]",
      "text/plain": [
       "<Figure size 432x288 with 1 Axes>"
      ]
     },
     "metadata": {
      "needs_background": "light"
     },
     "output_type": "display_data"
    }
   ],
   "source": [
    "histo_df(sipm_response, \n",
    "         var = 'charge', \n",
    "         varmin = 0, \n",
    "         varmax = 20, \n",
    "         xlabel = 'Q', \n",
    "         ylabel = 'events',\n",
    "         bins   = 10, \n",
    "         alpha  = 0.6, \n",
    "         color  = 'b')"
   ]
  },
  {
   "cell_type": "code",
   "execution_count": 74,
   "metadata": {},
   "outputs": [
    {
     "data": {
      "text/plain": [
       "True"
      ]
     },
     "execution_count": 74,
     "metadata": {},
     "output_type": "execute_result"
    }
   ],
   "source": [
    "np.all(in_range(sipm_response.charge, 0, 200))"
   ]
  },
  {
   "cell_type": "markdown",
   "metadata": {},
   "source": [
    "***\n",
    "def sensor_response_ti(sensor_response : DataFrame)->DataFrame:\n",
    "***"
   ]
  },
  {
   "cell_type": "markdown",
   "metadata": {},
   "source": [
    "#### PMTs "
   ]
  },
  {
   "cell_type": "code",
   "execution_count": 75,
   "metadata": {},
   "outputs": [
    {
     "data": {
      "text/html": [
       "<div>\n",
       "<style scoped>\n",
       "    .dataframe tbody tr th:only-of-type {\n",
       "        vertical-align: middle;\n",
       "    }\n",
       "\n",
       "    .dataframe tbody tr th {\n",
       "        vertical-align: top;\n",
       "    }\n",
       "\n",
       "    .dataframe thead th {\n",
       "        text-align: right;\n",
       "    }\n",
       "</style>\n",
       "<table border=\"1\" class=\"dataframe\">\n",
       "  <thead>\n",
       "    <tr style=\"text-align: right;\">\n",
       "      <th></th>\n",
       "      <th>event_id</th>\n",
       "      <th>sensor_id</th>\n",
       "      <th>tot_charge</th>\n",
       "    </tr>\n",
       "  </thead>\n",
       "  <tbody>\n",
       "    <tr>\n",
       "      <th>0</th>\n",
       "      <td>100000</td>\n",
       "      <td>0</td>\n",
       "      <td>141</td>\n",
       "    </tr>\n",
       "    <tr>\n",
       "      <th>1</th>\n",
       "      <td>100000</td>\n",
       "      <td>1</td>\n",
       "      <td>128</td>\n",
       "    </tr>\n",
       "    <tr>\n",
       "      <th>2</th>\n",
       "      <td>100000</td>\n",
       "      <td>2</td>\n",
       "      <td>149</td>\n",
       "    </tr>\n",
       "    <tr>\n",
       "      <th>3</th>\n",
       "      <td>100000</td>\n",
       "      <td>3</td>\n",
       "      <td>148</td>\n",
       "    </tr>\n",
       "    <tr>\n",
       "      <th>4</th>\n",
       "      <td>100000</td>\n",
       "      <td>4</td>\n",
       "      <td>136</td>\n",
       "    </tr>\n",
       "  </tbody>\n",
       "</table>\n",
       "</div>"
      ],
      "text/plain": [
       "   event_id  sensor_id  tot_charge\n",
       "0    100000          0         141\n",
       "1    100000          1         128\n",
       "2    100000          2         149\n",
       "3    100000          3         148\n",
       "4    100000          4         136"
      ]
     },
     "execution_count": 75,
     "metadata": {},
     "output_type": "execute_result"
    }
   ],
   "source": [
    "pmtdf = sensor_response_ti(pmt_response)\n",
    "pmtdf.head()"
   ]
  },
  {
   "cell_type": "code",
   "execution_count": 76,
   "metadata": {},
   "outputs": [
    {
     "data": {
      "text/plain": [
       "array([ 0,  1,  2, ..., 57, 58, 59], dtype=uint64)"
      ]
     },
     "execution_count": 76,
     "metadata": {},
     "output_type": "execute_result"
    }
   ],
   "source": [
    "pmtdf[\"sensor_id\"].values"
   ]
  },
  {
   "cell_type": "code",
   "execution_count": 77,
   "metadata": {},
   "outputs": [
    {
     "data": {
      "text/plain": [
       "True"
      ]
     },
     "execution_count": 77,
     "metadata": {},
     "output_type": "execute_result"
    }
   ],
   "source": [
    "np.all(in_range(pmtdf.sensor_id, 0, 60))"
   ]
  },
  {
   "cell_type": "code",
   "execution_count": 78,
   "metadata": {},
   "outputs": [
    {
     "data": {
      "image/png": "[encoded data removed]",
      "text/plain": [
       "<Figure size 432x288 with 1 Axes>"
      ]
     },
     "metadata": {
      "needs_background": "light"
     },
     "output_type": "display_data"
    }
   ],
   "source": [
    "histo_df(pmtdf, \n",
    "         var = 'tot_charge', \n",
    "         varmin = 0, \n",
    "         varmax = 500, \n",
    "         xlabel = 'S2', \n",
    "         ylabel = 'events',\n",
    "         bins   = 10, \n",
    "         alpha  = 0.6, \n",
    "         color  = 'b')"
   ]
  },
  {
   "cell_type": "code",
   "execution_count": 79,
   "metadata": {},
   "outputs": [
    {
     "data": {
      "text/plain": [
       "True"
      ]
     },
     "execution_count": 79,
     "metadata": {},
     "output_type": "execute_result"
    }
   ],
   "source": [
    "np.all(in_range(pmtdf.tot_charge, 0, 300))"
   ]
  },
  {
   "cell_type": "code",
   "execution_count": 80,
   "metadata": {},
   "outputs": [
    {
     "data": {
      "text/plain": [
       "<matplotlib.axes._subplots.AxesSubplot at 0x7ff6781eefd0>"
      ]
     },
     "execution_count": 80,
     "metadata": {},
     "output_type": "execute_result"
    },
    {
     "data": {
      "image/png": "[encoded data removed]",
      "text/plain": [
       "<Figure size 432x288 with 1 Axes>"
      ]
     },
     "metadata": {
      "needs_background": "light"
     },
     "output_type": "display_data"
    }
   ],
   "source": [
    "pmtdf.plot(kind='scatter', x='sensor_id', y='tot_charge')"
   ]
  },
  {
   "cell_type": "code",
   "execution_count": 81,
   "metadata": {},
   "outputs": [],
   "source": [
    "pmt_10 = sensor_number_response_ti(pmt_response, sensor_id=10)"
   ]
  },
  {
   "cell_type": "code",
   "execution_count": 82,
   "metadata": {},
   "outputs": [],
   "source": [
    "pmt_40 = sensor_number_response_ti(pmt_response, sensor_id=40)"
   ]
  },
  {
   "cell_type": "code",
   "execution_count": 83,
   "metadata": {},
   "outputs": [
    {
     "data": {
      "text/html": [
       "<div>\n",
       "<style scoped>\n",
       "    .dataframe tbody tr th:only-of-type {\n",
       "        vertical-align: middle;\n",
       "    }\n",
       "\n",
       "    .dataframe tbody tr th {\n",
       "        vertical-align: top;\n",
       "    }\n",
       "\n",
       "    .dataframe thead th {\n",
       "        text-align: right;\n",
       "    }\n",
       "</style>\n",
       "<table border=\"1\" class=\"dataframe\">\n",
       "  <thead>\n",
       "    <tr style=\"text-align: right;\">\n",
       "      <th></th>\n",
       "      <th>event_id</th>\n",
       "      <th>sensor_id</th>\n",
       "      <th>tot_charge</th>\n",
       "    </tr>\n",
       "  </thead>\n",
       "  <tbody>\n",
       "    <tr>\n",
       "      <th>10</th>\n",
       "      <td>100000</td>\n",
       "      <td>10</td>\n",
       "      <td>139</td>\n",
       "    </tr>\n",
       "    <tr>\n",
       "      <th>70</th>\n",
       "      <td>100001</td>\n",
       "      <td>10</td>\n",
       "      <td>125</td>\n",
       "    </tr>\n",
       "    <tr>\n",
       "      <th>130</th>\n",
       "      <td>100002</td>\n",
       "      <td>10</td>\n",
       "      <td>155</td>\n",
       "    </tr>\n",
       "    <tr>\n",
       "      <th>190</th>\n",
       "      <td>100003</td>\n",
       "      <td>10</td>\n",
       "      <td>135</td>\n",
       "    </tr>\n",
       "    <tr>\n",
       "      <th>250</th>\n",
       "      <td>100004</td>\n",
       "      <td>10</td>\n",
       "      <td>149</td>\n",
       "    </tr>\n",
       "  </tbody>\n",
       "</table>\n",
       "</div>"
      ],
      "text/plain": [
       "     event_id  sensor_id  tot_charge\n",
       "10     100000         10         139\n",
       "70     100001         10         125\n",
       "130    100002         10         155\n",
       "190    100003         10         135\n",
       "250    100004         10         149"
      ]
     },
     "execution_count": 83,
     "metadata": {},
     "output_type": "execute_result"
    }
   ],
   "source": [
    "pmt_10.head()"
   ]
  },
  {
   "cell_type": "code",
   "execution_count": 84,
   "metadata": {},
   "outputs": [
    {
     "data": {
      "image/png": "[encoded data removed]",
      "text/plain": [
       "<Figure size 432x288 with 1 Axes>"
      ]
     },
     "metadata": {
      "needs_background": "light"
     },
     "output_type": "display_data"
    }
   ],
   "source": [
    "histo_df(pmt_10, 'tot_charge', 0, 200, 'tot_charge', 'events', 10, 0.6, 'b')"
   ]
  },
  {
   "cell_type": "code",
   "execution_count": 85,
   "metadata": {},
   "outputs": [
    {
     "data": {
      "image/png": "[encoded data removed]",
      "text/plain": [
       "<Figure size 432x288 with 1 Axes>"
      ]
     },
     "metadata": {
      "needs_background": "light"
     },
     "output_type": "display_data"
    }
   ],
   "source": [
    "histo_df(pmt_40, 'tot_charge', 0, 200, 'tot_charge', 'events', 10, 0.6, 'b')"
   ]
  },
  {
   "cell_type": "markdown",
   "metadata": {},
   "source": [
    "##### Why PMTs 35-45 see so much less charge than others?\n",
    "- Because they are partially out of the fiducial volume. This is correct"
   ]
  },
  {
   "cell_type": "markdown",
   "metadata": {},
   "source": [
    "#### SiPMs"
   ]
  },
  {
   "cell_type": "markdown",
   "metadata": {},
   "source": [
    "##### Integrate time"
   ]
  },
  {
   "cell_type": "code",
   "execution_count": 132,
   "metadata": {},
   "outputs": [
    {
     "data": {
      "text/html": [
       "<div>\n",
       "<style scoped>\n",
       "    .dataframe tbody tr th:only-of-type {\n",
       "        vertical-align: middle;\n",
       "    }\n",
       "\n",
       "    .dataframe tbody tr th {\n",
       "        vertical-align: top;\n",
       "    }\n",
       "\n",
       "    .dataframe thead th {\n",
       "        text-align: right;\n",
       "    }\n",
       "</style>\n",
       "<table border=\"1\" class=\"dataframe\">\n",
       "  <thead>\n",
       "    <tr style=\"text-align: right;\">\n",
       "      <th></th>\n",
       "      <th>event_id</th>\n",
       "      <th>sensor_id</th>\n",
       "      <th>tot_charge</th>\n",
       "    </tr>\n",
       "  </thead>\n",
       "  <tbody>\n",
       "    <tr>\n",
       "      <th>0</th>\n",
       "      <td>100000</td>\n",
       "      <td>1008</td>\n",
       "      <td>1</td>\n",
       "    </tr>\n",
       "    <tr>\n",
       "      <th>1</th>\n",
       "      <td>100000</td>\n",
       "      <td>1013</td>\n",
       "      <td>1</td>\n",
       "    </tr>\n",
       "    <tr>\n",
       "      <th>2</th>\n",
       "      <td>100000</td>\n",
       "      <td>1032</td>\n",
       "      <td>1</td>\n",
       "    </tr>\n",
       "    <tr>\n",
       "      <th>3</th>\n",
       "      <td>100000</td>\n",
       "      <td>1034</td>\n",
       "      <td>1</td>\n",
       "    </tr>\n",
       "    <tr>\n",
       "      <th>4</th>\n",
       "      <td>100000</td>\n",
       "      <td>1035</td>\n",
       "      <td>1</td>\n",
       "    </tr>\n",
       "  </tbody>\n",
       "</table>\n",
       "</div>"
      ],
      "text/plain": [
       "   event_id  sensor_id  tot_charge\n",
       "0    100000       1008           1\n",
       "1    100000       1013           1\n",
       "2    100000       1032           1\n",
       "3    100000       1034           1\n",
       "4    100000       1035           1"
      ]
     },
     "execution_count": 132,
     "metadata": {},
     "output_type": "execute_result"
    }
   ],
   "source": [
    "sipmdf = sensor_response_ti(sipm_response)\n",
    "sipmdf.head()"
   ]
  },
  {
   "cell_type": "code",
   "execution_count": 133,
   "metadata": {},
   "outputs": [
    {
     "data": {
      "image/png": "[encoded data removed]",
      "text/plain": [
       "<Figure size 432x288 with 1 Axes>"
      ]
     },
     "metadata": {
      "needs_background": "light"
     },
     "output_type": "display_data"
    }
   ],
   "source": [
    "histo_df(sipmdf, \n",
    "         var = 'tot_charge', \n",
    "         varmin = 0, \n",
    "         varmax = 60, \n",
    "         xlabel = 'Q', \n",
    "         ylabel = 'events',\n",
    "         bins   = 10, \n",
    "         alpha  = 0.6, \n",
    "         color  = 'b')"
   ]
  },
  {
   "cell_type": "code",
   "execution_count": 134,
   "metadata": {},
   "outputs": [
    {
     "data": {
      "text/plain": [
       "<matplotlib.axes._subplots.AxesSubplot at 0x7ff6d2317550>"
      ]
     },
     "execution_count": 134,
     "metadata": {},
     "output_type": "execute_result"
    },
    {
     "data": {
      "image/png": "[encoded data removed]",
      "text/plain": [
       "<Figure size 432x288 with 1 Axes>"
      ]
     },
     "metadata": {
      "needs_background": "light"
     },
     "output_type": "display_data"
    }
   ],
   "source": [
    "sipmdf.plot(kind='scatter', x='sensor_id', y='tot_charge')"
   ]
  },
  {
   "cell_type": "code",
   "execution_count": 135,
   "metadata": {},
   "outputs": [
    {
     "data": {
      "text/plain": [
       "True"
      ]
     },
     "execution_count": 135,
     "metadata": {},
     "output_type": "execute_result"
    }
   ],
   "source": [
    "np.all(in_range(sipmdf.tot_charge, 0, 130))"
   ]
  },
  {
   "cell_type": "markdown",
   "metadata": {},
   "source": [
    "#### Fibres"
   ]
  },
  {
   "cell_type": "code",
   "execution_count": 90,
   "metadata": {},
   "outputs": [
    {
     "data": {
      "text/html": [
       "<div>\n",
       "<style scoped>\n",
       "    .dataframe tbody tr th:only-of-type {\n",
       "        vertical-align: middle;\n",
       "    }\n",
       "\n",
       "    .dataframe tbody tr th {\n",
       "        vertical-align: top;\n",
       "    }\n",
       "\n",
       "    .dataframe thead th {\n",
       "        text-align: right;\n",
       "    }\n",
       "</style>\n",
       "<table border=\"1\" class=\"dataframe\">\n",
       "  <thead>\n",
       "    <tr style=\"text-align: right;\">\n",
       "      <th></th>\n",
       "      <th>event_id</th>\n",
       "      <th>sensor_id</th>\n",
       "      <th>tot_charge</th>\n",
       "    </tr>\n",
       "  </thead>\n",
       "  <tbody>\n",
       "    <tr>\n",
       "      <th>0</th>\n",
       "      <td>100</td>\n",
       "      <td>100001</td>\n",
       "      <td>21</td>\n",
       "    </tr>\n",
       "    <tr>\n",
       "      <th>1</th>\n",
       "      <td>100</td>\n",
       "      <td>100002</td>\n",
       "      <td>22</td>\n",
       "    </tr>\n",
       "    <tr>\n",
       "      <th>2</th>\n",
       "      <td>100</td>\n",
       "      <td>100003</td>\n",
       "      <td>14</td>\n",
       "    </tr>\n",
       "    <tr>\n",
       "      <th>3</th>\n",
       "      <td>100</td>\n",
       "      <td>100004</td>\n",
       "      <td>12</td>\n",
       "    </tr>\n",
       "    <tr>\n",
       "      <th>4</th>\n",
       "      <td>100</td>\n",
       "      <td>100005</td>\n",
       "      <td>17</td>\n",
       "    </tr>\n",
       "  </tbody>\n",
       "</table>\n",
       "</div>"
      ],
      "text/plain": [
       "   event_id  sensor_id  tot_charge\n",
       "0       100     100001          21\n",
       "1       100     100002          22\n",
       "2       100     100003          14\n",
       "3       100     100004          12\n",
       "4       100     100005          17"
      ]
     },
     "execution_count": 90,
     "metadata": {},
     "output_type": "execute_result"
    }
   ],
   "source": [
    "fibdf = sensor_response_ti(fibres_response)\n",
    "fibdf.head()"
   ]
  },
  {
   "cell_type": "code",
   "execution_count": 93,
   "metadata": {},
   "outputs": [],
   "source": [
    "fibdf1 = fibdf[in_range(fibdf.sensor_id, 100000, 200000)]"
   ]
  },
  {
   "cell_type": "code",
   "execution_count": 95,
   "metadata": {},
   "outputs": [
    {
     "data": {
      "text/plain": [
       "<matplotlib.axes._subplots.AxesSubplot at 0x7ff6d2b0cd50>"
      ]
     },
     "execution_count": 95,
     "metadata": {},
     "output_type": "execute_result"
    },
    {
     "data": {
      "image/png": "[encoded data removed]",
      "text/plain": [
       "<Figure size 432x288 with 1 Axes>"
      ]
     },
     "metadata": {
      "needs_background": "light"
     },
     "output_type": "display_data"
    }
   ],
   "source": [
    "fibdf1.plot(kind='scatter', x='sensor_id', y='tot_charge')"
   ]
  },
  {
   "cell_type": "code",
   "execution_count": 96,
   "metadata": {},
   "outputs": [],
   "source": [
    "fibdf2 = fibdf[fibdf.sensor_id>200000]"
   ]
  },
  {
   "cell_type": "code",
   "execution_count": 97,
   "metadata": {},
   "outputs": [
    {
     "data": {
      "text/plain": [
       "<matplotlib.axes._subplots.AxesSubplot at 0x7ff6b0415d10>"
      ]
     },
     "execution_count": 97,
     "metadata": {},
     "output_type": "execute_result"
    },
    {
     "data": {
      "image/png": "[encoded data removed]",
      "text/plain": [
       "<Figure size 432x288 with 1 Axes>"
      ]
     },
     "metadata": {
      "needs_background": "light"
     },
     "output_type": "display_data"
    }
   ],
   "source": [
    "fibdf2.plot(kind='scatter', x='sensor_id', y='tot_charge')"
   ]
  },
  {
   "cell_type": "markdown",
   "metadata": {},
   "source": [
    "##### Behaviour of fibres not consistent. Bug?"
   ]
  },
  {
   "cell_type": "code",
   "execution_count": 98,
   "metadata": {},
   "outputs": [
    {
     "data": {
      "image/png": "[encoded data removed]",
      "text/plain": [
       "<Figure size 432x288 with 1 Axes>"
      ]
     },
     "metadata": {
      "needs_background": "light"
     },
     "output_type": "display_data"
    }
   ],
   "source": [
    "histo_df(fibdf1, \n",
    "         var = 'tot_charge', \n",
    "         varmin = 0, \n",
    "         varmax = 100, \n",
    "         xlabel = 'S2F', \n",
    "         ylabel = 'events',\n",
    "         bins   = 10, \n",
    "         alpha  = 0.6, \n",
    "         color  = 'b')"
   ]
  },
  {
   "cell_type": "code",
   "execution_count": 99,
   "metadata": {},
   "outputs": [
    {
     "data": {
      "image/png": "[encoded data removed]",
      "text/plain": [
       "<Figure size 432x288 with 1 Axes>"
      ]
     },
     "metadata": {
      "needs_background": "light"
     },
     "output_type": "display_data"
    }
   ],
   "source": [
    "histo_df(fibdf2, \n",
    "         var = 'tot_charge', \n",
    "         varmin = 0, \n",
    "         varmax = 100, \n",
    "         xlabel = 'S2F', \n",
    "         ylabel = 'events',\n",
    "         bins   = 10, \n",
    "         alpha  = 0.6, \n",
    "         color  = 'b')"
   ]
  },
  {
   "cell_type": "code",
   "execution_count": 100,
   "metadata": {},
   "outputs": [
    {
     "data": {
      "image/png": "[encoded data removed]",
      "text/plain": [
       "<Figure size 432x288 with 1 Axes>"
      ]
     },
     "metadata": {
      "needs_background": "light"
     },
     "output_type": "display_data"
    }
   ],
   "source": [
    "histo_df(fibdf, \n",
    "         var = 'tot_charge', \n",
    "         varmin = 0, \n",
    "         varmax = 100, \n",
    "         xlabel = 'S2F', \n",
    "         ylabel = 'events',\n",
    "         bins   = 10, \n",
    "         alpha  = 0.6, \n",
    "         color  = 'b')"
   ]
  },
  {
   "cell_type": "code",
   "execution_count": 101,
   "metadata": {},
   "outputs": [
    {
     "data": {
      "text/plain": [
       "True"
      ]
     },
     "execution_count": 101,
     "metadata": {},
     "output_type": "execute_result"
    }
   ],
   "source": [
    "np.all(in_range(fibdf2.tot_charge, 0, 40))"
   ]
  },
  {
   "cell_type": "markdown",
   "metadata": {},
   "source": [
    "***\n",
    "def event_sensor_response_ti(sensor_response : DataFrame, event_id : int)->DataFrame:\n",
    "***"
   ]
  },
  {
   "cell_type": "markdown",
   "metadata": {},
   "source": [
    "#### PMTs"
   ]
  },
  {
   "cell_type": "code",
   "execution_count": 102,
   "metadata": {},
   "outputs": [],
   "source": [
    "pmt_evt = event_sensor_response_ti(pmt_response, event_id=100000)"
   ]
  },
  {
   "cell_type": "code",
   "execution_count": 103,
   "metadata": {},
   "outputs": [
    {
     "data": {
      "text/html": [
       "<div>\n",
       "<style scoped>\n",
       "    .dataframe tbody tr th:only-of-type {\n",
       "        vertical-align: middle;\n",
       "    }\n",
       "\n",
       "    .dataframe tbody tr th {\n",
       "        vertical-align: top;\n",
       "    }\n",
       "\n",
       "    .dataframe thead th {\n",
       "        text-align: right;\n",
       "    }\n",
       "</style>\n",
       "<table border=\"1\" class=\"dataframe\">\n",
       "  <thead>\n",
       "    <tr style=\"text-align: right;\">\n",
       "      <th></th>\n",
       "      <th>event_id</th>\n",
       "      <th>sensor_id</th>\n",
       "      <th>tot_charge</th>\n",
       "    </tr>\n",
       "  </thead>\n",
       "  <tbody>\n",
       "    <tr>\n",
       "      <th>0</th>\n",
       "      <td>100000</td>\n",
       "      <td>0</td>\n",
       "      <td>141</td>\n",
       "    </tr>\n",
       "    <tr>\n",
       "      <th>1</th>\n",
       "      <td>100000</td>\n",
       "      <td>1</td>\n",
       "      <td>128</td>\n",
       "    </tr>\n",
       "    <tr>\n",
       "      <th>2</th>\n",
       "      <td>100000</td>\n",
       "      <td>2</td>\n",
       "      <td>149</td>\n",
       "    </tr>\n",
       "    <tr>\n",
       "      <th>3</th>\n",
       "      <td>100000</td>\n",
       "      <td>3</td>\n",
       "      <td>148</td>\n",
       "    </tr>\n",
       "    <tr>\n",
       "      <th>4</th>\n",
       "      <td>100000</td>\n",
       "      <td>4</td>\n",
       "      <td>136</td>\n",
       "    </tr>\n",
       "  </tbody>\n",
       "</table>\n",
       "</div>"
      ],
      "text/plain": [
       "   event_id  sensor_id  tot_charge\n",
       "0    100000          0         141\n",
       "1    100000          1         128\n",
       "2    100000          2         149\n",
       "3    100000          3         148\n",
       "4    100000          4         136"
      ]
     },
     "execution_count": 103,
     "metadata": {},
     "output_type": "execute_result"
    }
   ],
   "source": [
    "pmt_evt.head()"
   ]
  },
  {
   "cell_type": "code",
   "execution_count": 104,
   "metadata": {},
   "outputs": [
    {
     "data": {
      "text/plain": [
       "60"
      ]
     },
     "execution_count": 104,
     "metadata": {},
     "output_type": "execute_result"
    }
   ],
   "source": [
    "len(pmt_evt)"
   ]
  },
  {
   "cell_type": "code",
   "execution_count": 105,
   "metadata": {},
   "outputs": [
    {
     "data": {
      "text/plain": [
       "7752"
      ]
     },
     "execution_count": 105,
     "metadata": {},
     "output_type": "execute_result"
    }
   ],
   "source": [
    "pmt_evt.tot_charge.sum()"
   ]
  },
  {
   "cell_type": "code",
   "execution_count": 106,
   "metadata": {},
   "outputs": [
    {
     "data": {
      "text/plain": [
       "<matplotlib.axes._subplots.AxesSubplot at 0x7ff6703062d0>"
      ]
     },
     "execution_count": 106,
     "metadata": {},
     "output_type": "execute_result"
    },
    {
     "data": {
      "image/png": "[encoded data removed]",
      "text/plain": [
       "<Figure size 432x288 with 1 Axes>"
      ]
     },
     "metadata": {
      "needs_background": "light"
     },
     "output_type": "display_data"
    }
   ],
   "source": [
    "pmt_evt.plot(kind='scatter', x='sensor_id', y='tot_charge')"
   ]
  },
  {
   "cell_type": "code",
   "execution_count": 107,
   "metadata": {},
   "outputs": [],
   "source": [
    "pmt_evt = event_sensor_response_ti(pmt_response, event_id=100099)"
   ]
  },
  {
   "cell_type": "code",
   "execution_count": 108,
   "metadata": {},
   "outputs": [
    {
     "data": {
      "text/plain": [
       "<matplotlib.axes._subplots.AxesSubplot at 0x7ff670258810>"
      ]
     },
     "execution_count": 108,
     "metadata": {},
     "output_type": "execute_result"
    },
    {
     "data": {
      "image/png": "[encoded data removed]",
      "text/plain": [
       "<Figure size 432x288 with 1 Axes>"
      ]
     },
     "metadata": {
      "needs_background": "light"
     },
     "output_type": "display_data"
    }
   ],
   "source": [
    "pmt_evt.plot(kind='scatter', x='sensor_id', y='tot_charge')"
   ]
  },
  {
   "cell_type": "markdown",
   "metadata": {},
   "source": [
    "### SiPMs \n",
    "\n",
    "- In the case of the SiPMs we need to simulate the response of the PDE and eventually the membrane. \n",
    "- For this, note that each sensor receives a number of photons. As illustrated below this is an integer number, often 1 for the SiPMs with very low charge and up to 50 for the SiPM with max charge.\n",
    "- To introduce the PDE we need to realise that photons are poisson distributed. Thus, if the PDE of the SiPM is, say, 0.4, the outcome for sipms which have 1 photon is not 0.4 but 1 or 0. For SiPMs with large number of photons, the number of pes will converge to photons * 0.4, since the mean of poisson converges to the number recorded. \n",
    "- The process is, therefore, fluctuate first the full array by poisson, and then multiply by the PDE. \n",
    "- The process can be repeated to take into account the effect of the masks."
   ]
  },
  {
   "cell_type": "code",
   "execution_count": 181,
   "metadata": {},
   "outputs": [],
   "source": [
    "sipm_evt = event_sensor_response_ti(sipm_response, event_id=100000)"
   ]
  },
  {
   "cell_type": "code",
   "execution_count": 182,
   "metadata": {},
   "outputs": [
    {
     "data": {
      "text/html": [
       "<div>\n",
       "<style scoped>\n",
       "    .dataframe tbody tr th:only-of-type {\n",
       "        vertical-align: middle;\n",
       "    }\n",
       "\n",
       "    .dataframe tbody tr th {\n",
       "        vertical-align: top;\n",
       "    }\n",
       "\n",
       "    .dataframe thead th {\n",
       "        text-align: right;\n",
       "    }\n",
       "</style>\n",
       "<table border=\"1\" class=\"dataframe\">\n",
       "  <thead>\n",
       "    <tr style=\"text-align: right;\">\n",
       "      <th></th>\n",
       "      <th>event_id</th>\n",
       "      <th>sensor_id</th>\n",
       "      <th>tot_charge</th>\n",
       "    </tr>\n",
       "  </thead>\n",
       "  <tbody>\n",
       "    <tr>\n",
       "      <th>0</th>\n",
       "      <td>100000</td>\n",
       "      <td>1008</td>\n",
       "      <td>1</td>\n",
       "    </tr>\n",
       "    <tr>\n",
       "      <th>1</th>\n",
       "      <td>100000</td>\n",
       "      <td>1013</td>\n",
       "      <td>1</td>\n",
       "    </tr>\n",
       "    <tr>\n",
       "      <th>2</th>\n",
       "      <td>100000</td>\n",
       "      <td>1032</td>\n",
       "      <td>1</td>\n",
       "    </tr>\n",
       "    <tr>\n",
       "      <th>3</th>\n",
       "      <td>100000</td>\n",
       "      <td>1034</td>\n",
       "      <td>1</td>\n",
       "    </tr>\n",
       "    <tr>\n",
       "      <th>4</th>\n",
       "      <td>100000</td>\n",
       "      <td>1035</td>\n",
       "      <td>1</td>\n",
       "    </tr>\n",
       "  </tbody>\n",
       "</table>\n",
       "</div>"
      ],
      "text/plain": [
       "   event_id  sensor_id  tot_charge\n",
       "0    100000       1008           1\n",
       "1    100000       1013           1\n",
       "2    100000       1032           1\n",
       "3    100000       1034           1\n",
       "4    100000       1035           1"
      ]
     },
     "execution_count": 182,
     "metadata": {},
     "output_type": "execute_result"
    }
   ],
   "source": [
    "sipm_evt.head()"
   ]
  },
  {
   "cell_type": "code",
   "execution_count": 154,
   "metadata": {},
   "outputs": [
    {
     "data": {
      "text/plain": [
       "<matplotlib.axes._subplots.AxesSubplot at 0x7ff691c20110>"
      ]
     },
     "execution_count": 154,
     "metadata": {},
     "output_type": "execute_result"
    },
    {
     "data": {
      "image/png": "[encoded data removed]",
      "text/plain": [
       "<Figure size 432x288 with 1 Axes>"
      ]
     },
     "metadata": {
      "needs_background": "light"
     },
     "output_type": "display_data"
    }
   ],
   "source": [
    "sipm_evt.plot(kind='scatter', x='sensor_id', y='tot_charge')"
   ]
  },
  {
   "cell_type": "code",
   "execution_count": 303,
   "metadata": {},
   "outputs": [],
   "source": [
    "Q = sipm_evt.tot_charge.values"
   ]
  },
  {
   "cell_type": "code",
   "execution_count": 304,
   "metadata": {},
   "outputs": [
    {
     "data": {
      "text/plain": [
       "array([ 1,  1,  1,  1,  1,  1,  1,  1,  1,  1,  1,  1,  1,  1,  1,  1,  1,\n",
       "        1,  1,  1,  2,  2,  1,  2,  1,  1,  1,  1,  1,  1,  1,  1,  1,  1,\n",
       "        1,  1,  1,  1,  1,  1,  1,  1,  1,  1,  1,  1,  2,  1,  1,  1,  1,\n",
       "        1,  1,  1,  1,  1,  1,  1,  1,  1,  1,  1,  1,  1,  1,  1,  1,  1,\n",
       "        1,  1,  1,  1,  3,  2,  1,  1,  1,  1,  1,  1,  1,  1,  1,  1,  1,\n",
       "        1,  1,  1,  1,  1,  1,  1,  1,  1,  3,  1,  1,  1,  1,  1,  1,  1,\n",
       "        1,  1,  1,  1,  2,  1,  1,  2,  1,  2,  1,  1,  1,  1,  1,  1,  2,\n",
       "        1,  2,  5,  4,  5,  3,  1,  1,  1,  1,  1,  1,  1,  1,  3,  3,  5,\n",
       "       14, 14,  5,  4,  1,  1,  1,  1,  1,  2,  1,  1,  2,  3, 21, 40, 37,\n",
       "       20,  5,  3,  1,  1,  1,  1,  1,  1,  1,  7, 18, 44, 51, 19,  5,  4,\n",
       "        1,  1,  2,  1,  1,  1,  1,  2, 12, 20, 15,  5,  5,  2,  1,  1,  1,\n",
       "        1,  1,  1,  1,  2,  3,  4,  9,  1,  2,  1,  1,  1,  1,  1,  1,  1,\n",
       "        3,  3,  4,  1,  1,  1,  1,  1,  1,  1,  1,  1,  1,  1,  1,  1,  1,\n",
       "        1,  1,  1,  2,  1,  1,  1,  3,  1,  1,  1,  1,  1,  1,  1,  1,  1,\n",
       "        1,  2,  1,  1,  1,  1,  1,  1,  1,  1,  1,  1,  1,  2,  1,  1,  1,\n",
       "        1,  1,  1,  2,  1,  1,  1,  1,  1,  1,  1,  1,  1,  1,  1,  1,  1,\n",
       "        1,  1,  1,  1,  1,  1,  1,  1,  1,  1,  1,  1,  1,  1,  2,  1,  1,\n",
       "        1,  1,  1,  1,  1,  1,  1,  1,  1,  1,  1,  1,  1,  1,  1,  1,  1,\n",
       "        1,  1,  1,  1,  1,  1,  1,  1,  1,  1,  2,  1,  1,  1,  1,  1,  1,\n",
       "        1,  1,  1,  1,  1,  1,  1,  1,  1,  1,  1,  1,  1,  1,  1,  1,  1,\n",
       "        1,  1,  1,  1,  1,  1,  1,  1,  1,  1,  1,  1,  1,  1,  1,  1,  1,\n",
       "        1,  1,  1,  1,  1,  1,  1,  1,  1,  1,  1,  1,  1,  1,  1,  2,  1,\n",
       "        1,  1], dtype=uint32)"
      ]
     },
     "execution_count": 304,
     "metadata": {},
     "output_type": "execute_result"
    }
   ],
   "source": [
    "Q"
   ]
  },
  {
   "cell_type": "markdown",
   "metadata": {},
   "source": [
    "***\n",
    "def get_Q(Q: np.array, setup : Setup)->np.array:\n",
    "    \"\"\"\n",
    "    Compute the charge of SiPMs after fluctuations and\n",
    "    threshold, for SiPMs in a given event\n",
    "\n",
    "    \"\"\"\n",
    "***"
   ]
  },
  {
   "cell_type": "code",
   "execution_count": 320,
   "metadata": {},
   "outputs": [],
   "source": [
    "setup2 = Setup(sipmPDE=0.999999)"
   ]
  },
  {
   "cell_type": "code",
   "execution_count": 334,
   "metadata": {},
   "outputs": [],
   "source": [
    "Qp = get_Q(Q, setup2)"
   ]
  },
  {
   "cell_type": "code",
   "execution_count": 335,
   "metadata": {},
   "outputs": [
    {
     "data": {
      "text/plain": [
       "<matplotlib.collections.PathCollection at 0x7ff67127b8d0>"
      ]
     },
     "execution_count": 335,
     "metadata": {},
     "output_type": "execute_result"
    },
    {
     "data": {
      "image/png": "[encoded data removed]",
      "text/plain": [
       "<Figure size 432x288 with 1 Axes>"
      ]
     },
     "metadata": {
      "needs_background": "light"
     },
     "output_type": "display_data"
    }
   ],
   "source": [
    "plt.scatter(sipm_evt.sensor_id.values, Qp)"
   ]
  },
  {
   "cell_type": "code",
   "execution_count": 345,
   "metadata": {},
   "outputs": [
    {
     "data": {
      "image/png": "[encoded data removed]",
      "text/plain": [
       "<Figure size 432x288 with 1 Axes>"
      ]
     },
     "metadata": {
      "needs_background": "light"
     },
     "output_type": "display_data"
    }
   ],
   "source": [
    "cq, bq, _ = plt.hist(Q-Qp)"
   ]
  },
  {
   "cell_type": "code",
   "execution_count": 411,
   "metadata": {},
   "outputs": [],
   "source": [
    "QM =np.array([(get_Q(Q, setup2)).max() for i in np.arange(1000) ])"
   ]
  },
  {
   "cell_type": "code",
   "execution_count": 412,
   "metadata": {},
   "outputs": [],
   "source": [
    "DQM =np.array([(Q.max() - qmx) /Q.max()  for qmx in QM])"
   ]
  },
  {
   "cell_type": "code",
   "execution_count": 413,
   "metadata": {},
   "outputs": [],
   "source": [
    "mu, std = norm.fit(DQM)"
   ]
  },
  {
   "cell_type": "code",
   "execution_count": 418,
   "metadata": {},
   "outputs": [
    {
     "data": {
      "image/png": "[encoded data removed]",
      "text/plain": [
       "<Figure size 432x432 with 1 Axes>"
      ]
     },
     "metadata": {
      "needs_background": "light"
     },
     "output_type": "display_data"
    }
   ],
   "source": [
    "fig = plt.figure(figsize=(6,6))\n",
    "plt.hist(DQM, bins=20, density=True, range=(-0.5,0.5),\n",
    "         alpha=0.6, label=f'sigma = {std:5.2f} pes, mu = {mu:5.2f} pes')\n",
    "x = np.linspace(-0.4, 0.4, 100)\n",
    "dp = norm.pdf(x, mu, std)\n",
    "plt.plot(x, p, 'k', linewidth=2)\n",
    "plt.legend(loc='upper right')\n",
    "plt.show()"
   ]
  },
  {
   "cell_type": "code",
   "execution_count": 410,
   "metadata": {},
   "outputs": [
    {
     "name": "stdout",
     "output_type": "stream",
     "text": [
      "r'$\\mu$' =-0.03444994594117644\n"
     ]
    }
   ],
   "source": [
    "print(f\"r'$\\mu$' ={mu}\")"
   ]
  },
  {
   "cell_type": "markdown",
   "metadata": {},
   "source": [
    "#### Fibres"
   ]
  },
  {
   "cell_type": "code",
   "execution_count": 120,
   "metadata": {},
   "outputs": [],
   "source": [
    "fib_evt = event_sensor_response_ti(fibres_response, event_id=199)"
   ]
  },
  {
   "cell_type": "code",
   "execution_count": 121,
   "metadata": {},
   "outputs": [
    {
     "data": {
      "text/html": [
       "<div>\n",
       "<style scoped>\n",
       "    .dataframe tbody tr th:only-of-type {\n",
       "        vertical-align: middle;\n",
       "    }\n",
       "\n",
       "    .dataframe tbody tr th {\n",
       "        vertical-align: top;\n",
       "    }\n",
       "\n",
       "    .dataframe thead th {\n",
       "        text-align: right;\n",
       "    }\n",
       "</style>\n",
       "<table border=\"1\" class=\"dataframe\">\n",
       "  <thead>\n",
       "    <tr style=\"text-align: right;\">\n",
       "      <th></th>\n",
       "      <th>event_id</th>\n",
       "      <th>sensor_id</th>\n",
       "      <th>tot_charge</th>\n",
       "    </tr>\n",
       "  </thead>\n",
       "  <tbody>\n",
       "    <tr>\n",
       "      <th>305807</th>\n",
       "      <td>199</td>\n",
       "      <td>100001</td>\n",
       "      <td>18</td>\n",
       "    </tr>\n",
       "    <tr>\n",
       "      <th>305808</th>\n",
       "      <td>199</td>\n",
       "      <td>100002</td>\n",
       "      <td>11</td>\n",
       "    </tr>\n",
       "    <tr>\n",
       "      <th>305809</th>\n",
       "      <td>199</td>\n",
       "      <td>100003</td>\n",
       "      <td>9</td>\n",
       "    </tr>\n",
       "    <tr>\n",
       "      <th>305810</th>\n",
       "      <td>199</td>\n",
       "      <td>100004</td>\n",
       "      <td>13</td>\n",
       "    </tr>\n",
       "    <tr>\n",
       "      <th>305811</th>\n",
       "      <td>199</td>\n",
       "      <td>100005</td>\n",
       "      <td>10</td>\n",
       "    </tr>\n",
       "  </tbody>\n",
       "</table>\n",
       "</div>"
      ],
      "text/plain": [
       "        event_id  sensor_id  tot_charge\n",
       "305807       199     100001          18\n",
       "305808       199     100002          11\n",
       "305809       199     100003           9\n",
       "305810       199     100004          13\n",
       "305811       199     100005          10"
      ]
     },
     "execution_count": 121,
     "metadata": {},
     "output_type": "execute_result"
    }
   ],
   "source": [
    "fib_evt.head()"
   ]
  },
  {
   "cell_type": "code",
   "execution_count": 122,
   "metadata": {},
   "outputs": [],
   "source": [
    "fibevt1 = fib_evt[fib_evt.sensor_id<200000]\n",
    "fibevt2 = fib_evt[fib_evt.sensor_id>200000]"
   ]
  },
  {
   "cell_type": "code",
   "execution_count": 123,
   "metadata": {},
   "outputs": [
    {
     "data": {
      "text/plain": [
       "<matplotlib.axes._subplots.AxesSubplot at 0x7ff6d2dc6b50>"
      ]
     },
     "execution_count": 123,
     "metadata": {},
     "output_type": "execute_result"
    },
    {
     "data": {
      "image/png": "[encoded data removed]",
      "text/plain": [
       "<Figure size 432x288 with 1 Axes>"
      ]
     },
     "metadata": {
      "needs_background": "light"
     },
     "output_type": "display_data"
    }
   ],
   "source": [
    "fibevt1.plot(kind='scatter', x='sensor_id', y='tot_charge')"
   ]
  },
  {
   "cell_type": "code",
   "execution_count": 124,
   "metadata": {},
   "outputs": [
    {
     "data": {
      "text/plain": [
       "<matplotlib.axes._subplots.AxesSubplot at 0x7ff6a083cd10>"
      ]
     },
     "execution_count": 124,
     "metadata": {},
     "output_type": "execute_result"
    },
    {
     "data": {
      "image/png": "[encoded data removed]",
      "text/plain": [
       "<Figure size 432x288 with 1 Axes>"
      ]
     },
     "metadata": {
      "needs_background": "light"
     },
     "output_type": "display_data"
    }
   ],
   "source": [
    "fibevt2.plot(kind='scatter', x='sensor_id', y='tot_charge')"
   ]
  },
  {
   "cell_type": "code",
   "execution_count": 125,
   "metadata": {},
   "outputs": [
    {
     "data": {
      "text/plain": [
       "44278"
      ]
     },
     "execution_count": 125,
     "metadata": {},
     "output_type": "execute_result"
    }
   ],
   "source": [
    "fibevt1.tot_charge.sum()"
   ]
  },
  {
   "cell_type": "code",
   "execution_count": 126,
   "metadata": {},
   "outputs": [
    {
     "data": {
      "text/plain": [
       "21300"
      ]
     },
     "execution_count": 126,
     "metadata": {},
     "output_type": "execute_result"
    }
   ],
   "source": [
    "fibevt2.tot_charge.sum()"
   ]
  },
  {
   "cell_type": "code",
   "execution_count": 127,
   "metadata": {},
   "outputs": [
    {
     "data": {
      "text/plain": [
       "65591"
      ]
     },
     "execution_count": 127,
     "metadata": {},
     "output_type": "execute_result"
    }
   ],
   "source": [
    "fib_evt.tot_charge.sum()"
   ]
  },
  {
   "cell_type": "markdown",
   "metadata": {},
   "source": [
    "***\n",
    "def mcparts_and_sensors_response(ifname : str,\n",
    "                                 setup : Setup)->Union[Tuple[DataFrame],bool]:\n",
    "***"
   ]
  },
  {
   "cell_type": "code",
   "execution_count": 131,
   "metadata": {},
   "outputs": [],
   "source": [
    "result = mcparts_and_sensors_response(testFile, setup)"
   ]
  },
  {
   "cell_type": "code",
   "execution_count": 132,
   "metadata": {},
   "outputs": [],
   "source": [
    "if result == False:\n",
    "    pass\n",
    "else:\n",
    "    mcParts, energy_sensors_response, sipm_response = result"
   ]
  },
  {
   "cell_type": "code",
   "execution_count": 133,
   "metadata": {},
   "outputs": [
    {
     "data": {
      "text/html": [
       "<div>\n",
       "<style scoped>\n",
       "    .dataframe tbody tr th:only-of-type {\n",
       "        vertical-align: middle;\n",
       "    }\n",
       "\n",
       "    .dataframe tbody tr th {\n",
       "        vertical-align: top;\n",
       "    }\n",
       "\n",
       "    .dataframe thead th {\n",
       "        text-align: right;\n",
       "    }\n",
       "</style>\n",
       "<table border=\"1\" class=\"dataframe\">\n",
       "  <thead>\n",
       "    <tr style=\"text-align: right;\">\n",
       "      <th></th>\n",
       "      <th></th>\n",
       "      <th>particle_name</th>\n",
       "      <th>primary</th>\n",
       "      <th>mother_id</th>\n",
       "      <th>initial_x</th>\n",
       "      <th>initial_y</th>\n",
       "      <th>initial_z</th>\n",
       "      <th>initial_t</th>\n",
       "      <th>final_x</th>\n",
       "      <th>final_y</th>\n",
       "      <th>final_z</th>\n",
       "      <th>...</th>\n",
       "      <th>initial_momentum_x</th>\n",
       "      <th>initial_momentum_y</th>\n",
       "      <th>initial_momentum_z</th>\n",
       "      <th>final_momentum_x</th>\n",
       "      <th>final_momentum_y</th>\n",
       "      <th>final_momentum_z</th>\n",
       "      <th>kin_energy</th>\n",
       "      <th>length</th>\n",
       "      <th>creator_proc</th>\n",
       "      <th>final_proc</th>\n",
       "    </tr>\n",
       "    <tr>\n",
       "      <th>event_id</th>\n",
       "      <th>particle_id</th>\n",
       "      <th></th>\n",
       "      <th></th>\n",
       "      <th></th>\n",
       "      <th></th>\n",
       "      <th></th>\n",
       "      <th></th>\n",
       "      <th></th>\n",
       "      <th></th>\n",
       "      <th></th>\n",
       "      <th></th>\n",
       "      <th></th>\n",
       "      <th></th>\n",
       "      <th></th>\n",
       "      <th></th>\n",
       "      <th></th>\n",
       "      <th></th>\n",
       "      <th></th>\n",
       "      <th></th>\n",
       "      <th></th>\n",
       "      <th></th>\n",
       "      <th></th>\n",
       "    </tr>\n",
       "  </thead>\n",
       "  <tbody>\n",
       "    <tr>\n",
       "      <th rowspan=\"2\" valign=\"top\">100000</th>\n",
       "      <th>2</th>\n",
       "      <td>e-</td>\n",
       "      <td>True</td>\n",
       "      <td>0</td>\n",
       "      <td>411.851990</td>\n",
       "      <td>-83.967979</td>\n",
       "      <td>981.268127</td>\n",
       "      <td>0.0</td>\n",
       "      <td>411.860229</td>\n",
       "      <td>-83.969376</td>\n",
       "      <td>981.265015</td>\n",
       "      <td>...</td>\n",
       "      <td>0.024411</td>\n",
       "      <td>0.014236</td>\n",
       "      <td>0.094300</td>\n",
       "      <td>0.0</td>\n",
       "      <td>0.0</td>\n",
       "      <td>-0.0</td>\n",
       "      <td>0.009396</td>\n",
       "      <td>0.062259</td>\n",
       "      <td>none</td>\n",
       "      <td>Scintillation</td>\n",
       "    </tr>\n",
       "    <tr>\n",
       "      <th>1</th>\n",
       "      <td>e-</td>\n",
       "      <td>True</td>\n",
       "      <td>0</td>\n",
       "      <td>411.851990</td>\n",
       "      <td>-83.967979</td>\n",
       "      <td>981.268127</td>\n",
       "      <td>0.0</td>\n",
       "      <td>411.961487</td>\n",
       "      <td>-84.069504</td>\n",
       "      <td>981.291992</td>\n",
       "      <td>...</td>\n",
       "      <td>-0.111088</td>\n",
       "      <td>-0.118718</td>\n",
       "      <td>0.086334</td>\n",
       "      <td>-0.0</td>\n",
       "      <td>-0.0</td>\n",
       "      <td>0.0</td>\n",
       "      <td>0.032147</td>\n",
       "      <td>0.456158</td>\n",
       "      <td>none</td>\n",
       "      <td>Scintillation</td>\n",
       "    </tr>\n",
       "    <tr>\n",
       "      <th rowspan=\"2\" valign=\"top\">100001</th>\n",
       "      <th>2</th>\n",
       "      <td>e-</td>\n",
       "      <td>True</td>\n",
       "      <td>0</td>\n",
       "      <td>-450.390076</td>\n",
       "      <td>-20.009449</td>\n",
       "      <td>848.892822</td>\n",
       "      <td>0.0</td>\n",
       "      <td>-450.372742</td>\n",
       "      <td>-19.999857</td>\n",
       "      <td>848.884277</td>\n",
       "      <td>...</td>\n",
       "      <td>0.061492</td>\n",
       "      <td>0.060949</td>\n",
       "      <td>-0.046850</td>\n",
       "      <td>0.0</td>\n",
       "      <td>0.0</td>\n",
       "      <td>0.0</td>\n",
       "      <td>0.009396</td>\n",
       "      <td>0.066419</td>\n",
       "      <td>none</td>\n",
       "      <td>Scintillation</td>\n",
       "    </tr>\n",
       "    <tr>\n",
       "      <th>1</th>\n",
       "      <td>e-</td>\n",
       "      <td>True</td>\n",
       "      <td>0</td>\n",
       "      <td>-450.390076</td>\n",
       "      <td>-20.009449</td>\n",
       "      <td>848.892822</td>\n",
       "      <td>0.0</td>\n",
       "      <td>-450.387573</td>\n",
       "      <td>-19.987989</td>\n",
       "      <td>848.998352</td>\n",
       "      <td>...</td>\n",
       "      <td>0.032593</td>\n",
       "      <td>0.113901</td>\n",
       "      <td>0.140898</td>\n",
       "      <td>0.0</td>\n",
       "      <td>-0.0</td>\n",
       "      <td>-0.0</td>\n",
       "      <td>0.032147</td>\n",
       "      <td>0.569584</td>\n",
       "      <td>none</td>\n",
       "      <td>Scintillation</td>\n",
       "    </tr>\n",
       "    <tr>\n",
       "      <th>100002</th>\n",
       "      <th>2</th>\n",
       "      <td>e-</td>\n",
       "      <td>True</td>\n",
       "      <td>0</td>\n",
       "      <td>178.940918</td>\n",
       "      <td>-268.440735</td>\n",
       "      <td>295.103363</td>\n",
       "      <td>0.0</td>\n",
       "      <td>178.936234</td>\n",
       "      <td>-268.445679</td>\n",
       "      <td>295.094177</td>\n",
       "      <td>...</td>\n",
       "      <td>-0.088341</td>\n",
       "      <td>-0.030742</td>\n",
       "      <td>-0.030689</td>\n",
       "      <td>-0.0</td>\n",
       "      <td>0.0</td>\n",
       "      <td>0.0</td>\n",
       "      <td>0.009396</td>\n",
       "      <td>0.076495</td>\n",
       "      <td>none</td>\n",
       "      <td>Scintillation</td>\n",
       "    </tr>\n",
       "  </tbody>\n",
       "</table>\n",
       "<p>5 rows × 23 columns</p>\n",
       "</div>"
      ],
      "text/plain": [
       "                     particle_name  primary  mother_id   initial_x  \\\n",
       "event_id particle_id                                                 \n",
       "100000   2                      e-     True          0  411.851990   \n",
       "         1                      e-     True          0  411.851990   \n",
       "100001   2                      e-     True          0 -450.390076   \n",
       "         1                      e-     True          0 -450.390076   \n",
       "100002   2                      e-     True          0  178.940918   \n",
       "\n",
       "                       initial_y   initial_z  initial_t     final_x  \\\n",
       "event_id particle_id                                                  \n",
       "100000   2            -83.967979  981.268127        0.0  411.860229   \n",
       "         1            -83.967979  981.268127        0.0  411.961487   \n",
       "100001   2            -20.009449  848.892822        0.0 -450.372742   \n",
       "         1            -20.009449  848.892822        0.0 -450.387573   \n",
       "100002   2           -268.440735  295.103363        0.0  178.936234   \n",
       "\n",
       "                         final_y     final_z  ...  initial_momentum_x  \\\n",
       "event_id particle_id                          ...                       \n",
       "100000   2            -83.969376  981.265015  ...            0.024411   \n",
       "         1            -84.069504  981.291992  ...           -0.111088   \n",
       "100001   2            -19.999857  848.884277  ...            0.061492   \n",
       "         1            -19.987989  848.998352  ...            0.032593   \n",
       "100002   2           -268.445679  295.094177  ...           -0.088341   \n",
       "\n",
       "                     initial_momentum_y initial_momentum_z  final_momentum_x  \\\n",
       "event_id particle_id                                                           \n",
       "100000   2                     0.014236           0.094300               0.0   \n",
       "         1                    -0.118718           0.086334              -0.0   \n",
       "100001   2                     0.060949          -0.046850               0.0   \n",
       "         1                     0.113901           0.140898               0.0   \n",
       "100002   2                    -0.030742          -0.030689              -0.0   \n",
       "\n",
       "                      final_momentum_y  final_momentum_z  kin_energy  \\\n",
       "event_id particle_id                                                   \n",
       "100000   2                         0.0              -0.0    0.009396   \n",
       "         1                        -0.0               0.0    0.032147   \n",
       "100001   2                         0.0               0.0    0.009396   \n",
       "         1                        -0.0              -0.0    0.032147   \n",
       "100002   2                         0.0               0.0    0.009396   \n",
       "\n",
       "                        length  creator_proc     final_proc  \n",
       "event_id particle_id                                         \n",
       "100000   2            0.062259          none  Scintillation  \n",
       "         1            0.456158          none  Scintillation  \n",
       "100001   2            0.066419          none  Scintillation  \n",
       "         1            0.569584          none  Scintillation  \n",
       "100002   2            0.076495          none  Scintillation  \n",
       "\n",
       "[5 rows x 23 columns]"
      ]
     },
     "execution_count": 133,
     "metadata": {},
     "output_type": "execute_result"
    }
   ],
   "source": [
    "mcParts.head()"
   ]
  },
  {
   "cell_type": "code",
   "execution_count": 134,
   "metadata": {},
   "outputs": [
    {
     "data": {
      "text/html": [
       "<div>\n",
       "<style scoped>\n",
       "    .dataframe tbody tr th:only-of-type {\n",
       "        vertical-align: middle;\n",
       "    }\n",
       "\n",
       "    .dataframe tbody tr th {\n",
       "        vertical-align: top;\n",
       "    }\n",
       "\n",
       "    .dataframe thead th {\n",
       "        text-align: right;\n",
       "    }\n",
       "</style>\n",
       "<table border=\"1\" class=\"dataframe\">\n",
       "  <thead>\n",
       "    <tr style=\"text-align: right;\">\n",
       "      <th></th>\n",
       "      <th></th>\n",
       "      <th>charge</th>\n",
       "      <th>time</th>\n",
       "    </tr>\n",
       "    <tr>\n",
       "      <th>event_id</th>\n",
       "      <th>sensor_id</th>\n",
       "      <th></th>\n",
       "      <th></th>\n",
       "    </tr>\n",
       "  </thead>\n",
       "  <tbody>\n",
       "    <tr>\n",
       "      <th rowspan=\"5\" valign=\"top\">100000</th>\n",
       "      <th>35</th>\n",
       "      <td>2</td>\n",
       "      <td>979100.0</td>\n",
       "    </tr>\n",
       "    <tr>\n",
       "      <th>35</th>\n",
       "      <td>1</td>\n",
       "      <td>979175.0</td>\n",
       "    </tr>\n",
       "    <tr>\n",
       "      <th>35</th>\n",
       "      <td>1</td>\n",
       "      <td>979275.0</td>\n",
       "    </tr>\n",
       "    <tr>\n",
       "      <th>35</th>\n",
       "      <td>1</td>\n",
       "      <td>979400.0</td>\n",
       "    </tr>\n",
       "    <tr>\n",
       "      <th>35</th>\n",
       "      <td>1</td>\n",
       "      <td>979525.0</td>\n",
       "    </tr>\n",
       "  </tbody>\n",
       "</table>\n",
       "</div>"
      ],
      "text/plain": [
       "                    charge      time\n",
       "event_id sensor_id                  \n",
       "100000   35              2  979100.0\n",
       "         35              1  979175.0\n",
       "         35              1  979275.0\n",
       "         35              1  979400.0\n",
       "         35              1  979525.0"
      ]
     },
     "execution_count": 134,
     "metadata": {},
     "output_type": "execute_result"
    }
   ],
   "source": [
    "energy_sensors_response.head()"
   ]
  },
  {
   "cell_type": "code",
   "execution_count": 135,
   "metadata": {},
   "outputs": [
    {
     "data": {
      "text/html": [
       "<div>\n",
       "<style scoped>\n",
       "    .dataframe tbody tr th:only-of-type {\n",
       "        vertical-align: middle;\n",
       "    }\n",
       "\n",
       "    .dataframe tbody tr th {\n",
       "        vertical-align: top;\n",
       "    }\n",
       "\n",
       "    .dataframe thead th {\n",
       "        text-align: right;\n",
       "    }\n",
       "</style>\n",
       "<table border=\"1\" class=\"dataframe\">\n",
       "  <thead>\n",
       "    <tr style=\"text-align: right;\">\n",
       "      <th></th>\n",
       "      <th></th>\n",
       "      <th>charge</th>\n",
       "      <th>time</th>\n",
       "    </tr>\n",
       "    <tr>\n",
       "      <th>event_id</th>\n",
       "      <th>sensor_id</th>\n",
       "      <th></th>\n",
       "      <th></th>\n",
       "    </tr>\n",
       "  </thead>\n",
       "  <tbody>\n",
       "    <tr>\n",
       "      <th rowspan=\"5\" valign=\"top\">100000</th>\n",
       "      <th>2137</th>\n",
       "      <td>2</td>\n",
       "      <td>980000.0</td>\n",
       "    </tr>\n",
       "    <tr>\n",
       "      <th>2137</th>\n",
       "      <td>3</td>\n",
       "      <td>981000.0</td>\n",
       "    </tr>\n",
       "    <tr>\n",
       "      <th>2137</th>\n",
       "      <td>2</td>\n",
       "      <td>982000.0</td>\n",
       "    </tr>\n",
       "    <tr>\n",
       "      <th>2137</th>\n",
       "      <td>2</td>\n",
       "      <td>983000.0</td>\n",
       "    </tr>\n",
       "    <tr>\n",
       "      <th>2137</th>\n",
       "      <td>3</td>\n",
       "      <td>984000.0</td>\n",
       "    </tr>\n",
       "  </tbody>\n",
       "</table>\n",
       "</div>"
      ],
      "text/plain": [
       "                    charge      time\n",
       "event_id sensor_id                  \n",
       "100000   2137            2  980000.0\n",
       "         2137            3  981000.0\n",
       "         2137            2  982000.0\n",
       "         2137            2  983000.0\n",
       "         2137            3  984000.0"
      ]
     },
     "execution_count": 135,
     "metadata": {},
     "output_type": "execute_result"
    }
   ],
   "source": [
    "sipm_response.head()"
   ]
  },
  {
   "cell_type": "markdown",
   "metadata": {},
   "source": [
    "***\n",
    "def get_s1(energy_sensors_response : DataFrame)->Series:\n",
    "***"
   ]
  },
  {
   "cell_type": "code",
   "execution_count": 162,
   "metadata": {},
   "outputs": [],
   "source": [
    "s1 = get_s1(pmt_response)"
   ]
  },
  {
   "cell_type": "code",
   "execution_count": 163,
   "metadata": {},
   "outputs": [
    {
     "data": {
      "image/png": "[encoded data removed]",
      "text/plain": [
       "<Figure size 432x288 with 1 Axes>"
      ]
     },
     "metadata": {
      "needs_background": "light"
     },
     "output_type": "display_data"
    }
   ],
   "source": [
    "histo1d(s1.values, 0, 100, \"s1\", \"events\",\n",
    "        bins=10, alpha=0.6, color='b')"
   ]
  },
  {
   "cell_type": "code",
   "execution_count": 164,
   "metadata": {},
   "outputs": [
    {
     "data": {
      "text/plain": [
       "True"
      ]
     },
     "execution_count": 164,
     "metadata": {},
     "output_type": "execute_result"
    }
   ],
   "source": [
    "np.all(in_range(s1, 5, 45))"
   ]
  },
  {
   "cell_type": "markdown",
   "metadata": {},
   "source": [
    "***\n",
    "def get_s2(energy_sensors_response : DataFrame)->Series:\n",
    "***"
   ]
  },
  {
   "cell_type": "code",
   "execution_count": 165,
   "metadata": {},
   "outputs": [
    {
     "data": {
      "image/png": "[encoded data removed]",
      "text/plain": [
       "<Figure size 432x288 with 1 Axes>"
      ]
     },
     "metadata": {
      "needs_background": "light"
     },
     "output_type": "display_data"
    }
   ],
   "source": [
    "s2 = get_s2(pmt_response)\n",
    "histo1d(s2.values, 0, 10000, \"S2\", \"events\",\n",
    "        bins=10, alpha=0.6, color='b')"
   ]
  },
  {
   "cell_type": "code",
   "execution_count": 166,
   "metadata": {},
   "outputs": [
    {
     "data": {
      "text/plain": [
       "True"
      ]
     },
     "execution_count": 166,
     "metadata": {},
     "output_type": "execute_result"
    }
   ],
   "source": [
    "np.all(in_range(s2, 3000, 9000))"
   ]
  },
  {
   "cell_type": "markdown",
   "metadata": {},
   "source": [
    "***\n",
    "def get_qtot(sipmdf: DataFrame, setup : Setup)->Series:\n",
    "***"
   ]
  },
  {
   "cell_type": "code",
   "execution_count": 168,
   "metadata": {},
   "outputs": [],
   "source": [
    "qtot = get_qtot(sipmdf, setup)"
   ]
  },
  {
   "cell_type": "code",
   "execution_count": 169,
   "metadata": {},
   "outputs": [
    {
     "data": {
      "image/png": "[encoded data removed]",
      "text/plain": [
       "<Figure size 432x288 with 1 Axes>"
      ]
     },
     "metadata": {
      "needs_background": "light"
     },
     "output_type": "display_data"
    }
   ],
   "source": [
    "histo1d(qtot.values, 0, 1000, \"qtot (th=0)\", \"events\",\n",
    "        bins=10, alpha=0.6, color='b')"
   ]
  },
  {
   "cell_type": "code",
   "execution_count": 170,
   "metadata": {},
   "outputs": [
    {
     "data": {
      "text/plain": [
       "True"
      ]
     },
     "execution_count": 170,
     "metadata": {},
     "output_type": "execute_result"
    }
   ],
   "source": [
    "np.all(in_range(qtot, 200, 900))"
   ]
  },
  {
   "cell_type": "markdown",
   "metadata": {},
   "source": [
    "##### Effect of a threshold"
   ]
  },
  {
   "cell_type": "code",
   "execution_count": 171,
   "metadata": {},
   "outputs": [],
   "source": [
    "setup5 = Setup(qTh=5)"
   ]
  },
  {
   "cell_type": "code",
   "execution_count": 172,
   "metadata": {},
   "outputs": [],
   "source": [
    "qtot5 = get_qtot(sipmdf, setup5)"
   ]
  },
  {
   "cell_type": "code",
   "execution_count": 173,
   "metadata": {},
   "outputs": [
    {
     "data": {
      "image/png": "[encoded data removed]",
      "text/plain": [
       "<Figure size 432x288 with 1 Axes>"
      ]
     },
     "metadata": {
      "needs_background": "light"
     },
     "output_type": "display_data"
    }
   ],
   "source": [
    "histo1d(qtot5.values, 0, 1000, \"qtot (th=0)\", \"events\",\n",
    "        bins=10, alpha=0.6, color='b')"
   ]
  },
  {
   "cell_type": "markdown",
   "metadata": {},
   "source": [
    "##### NB: total charge changes dramatically with cutoff. Should not be used for baricenter"
   ]
  },
  {
   "cell_type": "markdown",
   "metadata": {},
   "source": [
    "***\n",
    "def get_q(sipmevt : DataFrame, ix : int, setup : Setup)->float:\n",
    "***"
   ]
  },
  {
   "cell_type": "code",
   "execution_count": 419,
   "metadata": {},
   "outputs": [],
   "source": [
    "Q = [get_q(sipm_evt, ix, setup) for ix in sipm_evt['sensor_id'].values]"
   ]
  },
  {
   "cell_type": "code",
   "execution_count": 420,
   "metadata": {},
   "outputs": [
    {
     "data": {
      "image/png": "[encoded data removed]",
      "text/plain": [
       "<Figure size 432x288 with 1 Axes>"
      ]
     },
     "metadata": {
      "needs_background": "light"
     },
     "output_type": "display_data"
    }
   ],
   "source": [
    "histo1d(Q, 0, 10, \"q\", \"events\",\n",
    "        bins=10, alpha=0.6, color='b')"
   ]
  },
  {
   "cell_type": "markdown",
   "metadata": {},
   "source": [
    "***\n",
    "def get_iq(sipmevt : DataFrame, ix : int)->int:\n",
    "***"
   ]
  },
  {
   "cell_type": "code",
   "execution_count": 424,
   "metadata": {},
   "outputs": [],
   "source": [
    "IQ = [get_iq(sipm_evt, ix) for ix in sipm_evt['sensor_id'].values]"
   ]
  },
  {
   "cell_type": "code",
   "execution_count": 426,
   "metadata": {},
   "outputs": [
    {
     "data": {
      "text/plain": [
       "<matplotlib.collections.PathCollection at 0x7ff6a13b9710>"
      ]
     },
     "execution_count": 426,
     "metadata": {},
     "output_type": "execute_result"
    },
    {
     "data": {
      "image/png": "[encoded data removed]",
      "text/plain": [
       "<Figure size 432x288 with 1 Axes>"
      ]
     },
     "metadata": {
      "needs_background": "light"
     },
     "output_type": "display_data"
    }
   ],
   "source": [
    "plt.scatter(sipm_evt.sensor_id.values, IQ)"
   ]
  },
  {
   "cell_type": "code",
   "execution_count": 431,
   "metadata": {},
   "outputs": [
    {
     "data": {
      "text/plain": [
       "True"
      ]
     },
     "execution_count": 431,
     "metadata": {},
     "output_type": "execute_result"
    }
   ],
   "source": [
    "IQ[0] == sipm_evt[sipm_evt.sensor_id==1008].index[0]"
   ]
  },
  {
   "cell_type": "code",
   "execution_count": 430,
   "metadata": {},
   "outputs": [
    {
     "data": {
      "text/html": [
       "<div>\n",
       "<style scoped>\n",
       "    .dataframe tbody tr th:only-of-type {\n",
       "        vertical-align: middle;\n",
       "    }\n",
       "\n",
       "    .dataframe tbody tr th {\n",
       "        vertical-align: top;\n",
       "    }\n",
       "\n",
       "    .dataframe thead th {\n",
       "        text-align: right;\n",
       "    }\n",
       "</style>\n",
       "<table border=\"1\" class=\"dataframe\">\n",
       "  <thead>\n",
       "    <tr style=\"text-align: right;\">\n",
       "      <th></th>\n",
       "      <th>event_id</th>\n",
       "      <th>sensor_id</th>\n",
       "      <th>tot_charge</th>\n",
       "    </tr>\n",
       "  </thead>\n",
       "  <tbody>\n",
       "    <tr>\n",
       "      <th>0</th>\n",
       "      <td>100000</td>\n",
       "      <td>1008</td>\n",
       "      <td>1</td>\n",
       "    </tr>\n",
       "    <tr>\n",
       "      <th>1</th>\n",
       "      <td>100000</td>\n",
       "      <td>1013</td>\n",
       "      <td>1</td>\n",
       "    </tr>\n",
       "    <tr>\n",
       "      <th>2</th>\n",
       "      <td>100000</td>\n",
       "      <td>1032</td>\n",
       "      <td>1</td>\n",
       "    </tr>\n",
       "    <tr>\n",
       "      <th>3</th>\n",
       "      <td>100000</td>\n",
       "      <td>1034</td>\n",
       "      <td>1</td>\n",
       "    </tr>\n",
       "    <tr>\n",
       "      <th>4</th>\n",
       "      <td>100000</td>\n",
       "      <td>1035</td>\n",
       "      <td>1</td>\n",
       "    </tr>\n",
       "    <tr>\n",
       "      <th>...</th>\n",
       "      <td>...</td>\n",
       "      <td>...</td>\n",
       "      <td>...</td>\n",
       "    </tr>\n",
       "    <tr>\n",
       "      <th>371</th>\n",
       "      <td>100000</td>\n",
       "      <td>4053</td>\n",
       "      <td>1</td>\n",
       "    </tr>\n",
       "    <tr>\n",
       "      <th>372</th>\n",
       "      <td>100000</td>\n",
       "      <td>4057</td>\n",
       "      <td>2</td>\n",
       "    </tr>\n",
       "    <tr>\n",
       "      <th>373</th>\n",
       "      <td>100000</td>\n",
       "      <td>4063</td>\n",
       "      <td>1</td>\n",
       "    </tr>\n",
       "    <tr>\n",
       "      <th>374</th>\n",
       "      <td>100000</td>\n",
       "      <td>4067</td>\n",
       "      <td>1</td>\n",
       "    </tr>\n",
       "    <tr>\n",
       "      <th>375</th>\n",
       "      <td>100000</td>\n",
       "      <td>4076</td>\n",
       "      <td>1</td>\n",
       "    </tr>\n",
       "  </tbody>\n",
       "</table>\n",
       "<p>376 rows × 3 columns</p>\n",
       "</div>"
      ],
      "text/plain": [
       "     event_id  sensor_id  tot_charge\n",
       "0      100000       1008           1\n",
       "1      100000       1013           1\n",
       "2      100000       1032           1\n",
       "3      100000       1034           1\n",
       "4      100000       1035           1\n",
       "..        ...        ...         ...\n",
       "371    100000       4053           1\n",
       "372    100000       4057           2\n",
       "373    100000       4063           1\n",
       "374    100000       4067           1\n",
       "375    100000       4076           1\n",
       "\n",
       "[376 rows x 3 columns]"
      ]
     },
     "execution_count": 430,
     "metadata": {},
     "output_type": "execute_result"
    }
   ],
   "source": [
    "sipm_evt"
   ]
  },
  {
   "cell_type": "markdown",
   "metadata": {},
   "source": [
    "***\n",
    "def get_position(event_list :List,\n",
    "                 sipmdf     : DataFrame,\n",
    "                 sipm_map   : DataFrame,\n",
    "                 ic: int = 1000)->PosQ:\n",
    "                 \n",
    "    \"\"\"Computes the (x,y) position of the event:\n",
    "    digital algorithm: - position of the SiPM with max charge\n",
    "    analog  algorithm: baricenter using (l,r) and (u,p) of qmax\n",
    "\n",
    "    \"\"\"\n",
    "***"
   ]
  },
  {
   "cell_type": "code",
   "execution_count": 448,
   "metadata": {},
   "outputs": [],
   "source": [
    "evt  = sipmdf[sipmdf.event_id==100001]"
   ]
  },
  {
   "cell_type": "code",
   "execution_count": 449,
   "metadata": {},
   "outputs": [
    {
     "data": {
      "text/html": [
       "<div>\n",
       "<style scoped>\n",
       "    .dataframe tbody tr th:only-of-type {\n",
       "        vertical-align: middle;\n",
       "    }\n",
       "\n",
       "    .dataframe tbody tr th {\n",
       "        vertical-align: top;\n",
       "    }\n",
       "\n",
       "    .dataframe thead th {\n",
       "        text-align: right;\n",
       "    }\n",
       "</style>\n",
       "<table border=\"1\" class=\"dataframe\">\n",
       "  <thead>\n",
       "    <tr style=\"text-align: right;\">\n",
       "      <th></th>\n",
       "      <th>event_id</th>\n",
       "      <th>sensor_id</th>\n",
       "      <th>tot_charge</th>\n",
       "    </tr>\n",
       "  </thead>\n",
       "  <tbody>\n",
       "    <tr>\n",
       "      <th>376</th>\n",
       "      <td>100001</td>\n",
       "      <td>1005</td>\n",
       "      <td>1</td>\n",
       "    </tr>\n",
       "    <tr>\n",
       "      <th>377</th>\n",
       "      <td>100001</td>\n",
       "      <td>1006</td>\n",
       "      <td>1</td>\n",
       "    </tr>\n",
       "    <tr>\n",
       "      <th>378</th>\n",
       "      <td>100001</td>\n",
       "      <td>1033</td>\n",
       "      <td>1</td>\n",
       "    </tr>\n",
       "    <tr>\n",
       "      <th>379</th>\n",
       "      <td>100001</td>\n",
       "      <td>1043</td>\n",
       "      <td>2</td>\n",
       "    </tr>\n",
       "    <tr>\n",
       "      <th>380</th>\n",
       "      <td>100001</td>\n",
       "      <td>1058</td>\n",
       "      <td>1</td>\n",
       "    </tr>\n",
       "    <tr>\n",
       "      <th>...</th>\n",
       "      <td>...</td>\n",
       "      <td>...</td>\n",
       "      <td>...</td>\n",
       "    </tr>\n",
       "    <tr>\n",
       "      <th>696</th>\n",
       "      <td>100001</td>\n",
       "      <td>4023</td>\n",
       "      <td>1</td>\n",
       "    </tr>\n",
       "    <tr>\n",
       "      <th>697</th>\n",
       "      <td>100001</td>\n",
       "      <td>4025</td>\n",
       "      <td>1</td>\n",
       "    </tr>\n",
       "    <tr>\n",
       "      <th>698</th>\n",
       "      <td>100001</td>\n",
       "      <td>4066</td>\n",
       "      <td>1</td>\n",
       "    </tr>\n",
       "    <tr>\n",
       "      <th>699</th>\n",
       "      <td>100001</td>\n",
       "      <td>4079</td>\n",
       "      <td>1</td>\n",
       "    </tr>\n",
       "    <tr>\n",
       "      <th>700</th>\n",
       "      <td>100001</td>\n",
       "      <td>4092</td>\n",
       "      <td>1</td>\n",
       "    </tr>\n",
       "  </tbody>\n",
       "</table>\n",
       "<p>325 rows × 3 columns</p>\n",
       "</div>"
      ],
      "text/plain": [
       "     event_id  sensor_id  tot_charge\n",
       "376    100001       1005           1\n",
       "377    100001       1006           1\n",
       "378    100001       1033           1\n",
       "379    100001       1043           2\n",
       "380    100001       1058           1\n",
       "..        ...        ...         ...\n",
       "696    100001       4023           1\n",
       "697    100001       4025           1\n",
       "698    100001       4066           1\n",
       "699    100001       4079           1\n",
       "700    100001       4092           1\n",
       "\n",
       "[325 rows x 3 columns]"
      ]
     },
     "execution_count": 449,
     "metadata": {},
     "output_type": "execute_result"
    }
   ],
   "source": [
    "evt"
   ]
  },
  {
   "cell_type": "code",
   "execution_count": 450,
   "metadata": {},
   "outputs": [
    {
     "data": {
      "text/plain": [
       "376"
      ]
     },
     "execution_count": 450,
     "metadata": {},
     "output_type": "execute_result"
    }
   ],
   "source": [
    "evt.index[0]"
   ]
  },
  {
   "cell_type": "code",
   "execution_count": 451,
   "metadata": {},
   "outputs": [],
   "source": [
    "krdf = evt_truePosE"
   ]
  },
  {
   "cell_type": "code",
   "execution_count": 454,
   "metadata": {},
   "outputs": [],
   "source": [
    "pq = get_position(krdf.index, sipmdf, sipm_map, setup)"
   ]
  },
  {
   "cell_type": "code",
   "execution_count": 455,
   "metadata": {},
   "outputs": [
    {
     "data": {
      "text/html": [
       "<div>\n",
       "<style scoped>\n",
       "    .dataframe tbody tr th:only-of-type {\n",
       "        vertical-align: middle;\n",
       "    }\n",
       "\n",
       "    .dataframe tbody tr th {\n",
       "        vertical-align: top;\n",
       "    }\n",
       "\n",
       "    .dataframe thead th {\n",
       "        text-align: right;\n",
       "    }\n",
       "</style>\n",
       "<table border=\"1\" class=\"dataframe\">\n",
       "  <thead>\n",
       "    <tr style=\"text-align: right;\">\n",
       "      <th></th>\n",
       "      <th>xMax</th>\n",
       "      <th>yMax</th>\n",
       "      <th>xPos</th>\n",
       "      <th>yPos</th>\n",
       "      <th>rPos</th>\n",
       "      <th>Qtot</th>\n",
       "      <th>qMax</th>\n",
       "      <th>qL</th>\n",
       "      <th>qR</th>\n",
       "      <th>qU</th>\n",
       "      <th>qD</th>\n",
       "    </tr>\n",
       "    <tr>\n",
       "      <th>event_id</th>\n",
       "      <th></th>\n",
       "      <th></th>\n",
       "      <th></th>\n",
       "      <th></th>\n",
       "      <th></th>\n",
       "      <th></th>\n",
       "      <th></th>\n",
       "      <th></th>\n",
       "      <th></th>\n",
       "      <th></th>\n",
       "      <th></th>\n",
       "    </tr>\n",
       "  </thead>\n",
       "  <tbody>\n",
       "    <tr>\n",
       "      <th>100000</th>\n",
       "      <td>419.85</td>\n",
       "      <td>-77.75</td>\n",
       "      <td>416.439916</td>\n",
       "      <td>-81.071359</td>\n",
       "      <td>497.511275</td>\n",
       "      <td>795.0</td>\n",
       "      <td>51.0</td>\n",
       "      <td>44.0</td>\n",
       "      <td>19.0</td>\n",
       "      <td>15.0</td>\n",
       "      <td>37.0</td>\n",
       "    </tr>\n",
       "    <tr>\n",
       "      <th>100001</th>\n",
       "      <td>-450.95</td>\n",
       "      <td>-15.55</td>\n",
       "      <td>-450.279748</td>\n",
       "      <td>-18.414474</td>\n",
       "      <td>468.694222</td>\n",
       "      <td>701.0</td>\n",
       "      <td>51.0</td>\n",
       "      <td>30.0</td>\n",
       "      <td>35.0</td>\n",
       "      <td>21.0</td>\n",
       "      <td>42.0</td>\n",
       "    </tr>\n",
       "    <tr>\n",
       "      <th>100002</th>\n",
       "      <td>171.05</td>\n",
       "      <td>-264.35</td>\n",
       "      <td>175.551317</td>\n",
       "      <td>-266.793574</td>\n",
       "      <td>442.344891</td>\n",
       "      <td>797.0</td>\n",
       "      <td>78.0</td>\n",
       "      <td>15.0</td>\n",
       "      <td>59.0</td>\n",
       "      <td>20.0</td>\n",
       "      <td>42.0</td>\n",
       "    </tr>\n",
       "    <tr>\n",
       "      <th>100003</th>\n",
       "      <td>-31.10</td>\n",
       "      <td>-46.65</td>\n",
       "      <td>-34.862097</td>\n",
       "      <td>-44.058334</td>\n",
       "      <td>78.920431</td>\n",
       "      <td>738.0</td>\n",
       "      <td>54.0</td>\n",
       "      <td>50.0</td>\n",
       "      <td>20.0</td>\n",
       "      <td>50.0</td>\n",
       "      <td>28.0</td>\n",
       "    </tr>\n",
       "    <tr>\n",
       "      <th>100004</th>\n",
       "      <td>171.05</td>\n",
       "      <td>-171.05</td>\n",
       "      <td>173.886826</td>\n",
       "      <td>-166.951552</td>\n",
       "      <td>340.838378</td>\n",
       "      <td>807.0</td>\n",
       "      <td>69.0</td>\n",
       "      <td>26.0</td>\n",
       "      <td>53.0</td>\n",
       "      <td>47.0</td>\n",
       "      <td>13.0</td>\n",
       "    </tr>\n",
       "    <tr>\n",
       "      <th>...</th>\n",
       "      <td>...</td>\n",
       "      <td>...</td>\n",
       "      <td>...</td>\n",
       "      <td>...</td>\n",
       "      <td>...</td>\n",
       "      <td>...</td>\n",
       "      <td>...</td>\n",
       "      <td>...</td>\n",
       "      <td>...</td>\n",
       "      <td>...</td>\n",
       "      <td>...</td>\n",
       "    </tr>\n",
       "    <tr>\n",
       "      <th>100095</th>\n",
       "      <td>-77.75</td>\n",
       "      <td>-295.45</td>\n",
       "      <td>-80.365888</td>\n",
       "      <td>-291.962156</td>\n",
       "      <td>372.328044</td>\n",
       "      <td>789.0</td>\n",
       "      <td>51.0</td>\n",
       "      <td>37.0</td>\n",
       "      <td>19.0</td>\n",
       "      <td>40.0</td>\n",
       "      <td>16.0</td>\n",
       "    </tr>\n",
       "    <tr>\n",
       "      <th>100096</th>\n",
       "      <td>-124.40</td>\n",
       "      <td>466.50</td>\n",
       "      <td>-125.854972</td>\n",
       "      <td>461.964583</td>\n",
       "      <td>587.819555</td>\n",
       "      <td>512.0</td>\n",
       "      <td>85.0</td>\n",
       "      <td>51.0</td>\n",
       "      <td>35.0</td>\n",
       "      <td>0.0</td>\n",
       "      <td>35.0</td>\n",
       "    </tr>\n",
       "    <tr>\n",
       "      <th>100097</th>\n",
       "      <td>93.30</td>\n",
       "      <td>-419.85</td>\n",
       "      <td>94.177824</td>\n",
       "      <td>-422.644144</td>\n",
       "      <td>516.821969</td>\n",
       "      <td>782.0</td>\n",
       "      <td>53.0</td>\n",
       "      <td>32.0</td>\n",
       "      <td>39.0</td>\n",
       "      <td>26.0</td>\n",
       "      <td>49.0</td>\n",
       "    </tr>\n",
       "    <tr>\n",
       "      <th>100098</th>\n",
       "      <td>264.35</td>\n",
       "      <td>-295.45</td>\n",
       "      <td>261.493881</td>\n",
       "      <td>-292.688792</td>\n",
       "      <td>554.182672</td>\n",
       "      <td>772.0</td>\n",
       "      <td>48.0</td>\n",
       "      <td>34.0</td>\n",
       "      <td>16.0</td>\n",
       "      <td>39.0</td>\n",
       "      <td>20.0</td>\n",
       "    </tr>\n",
       "    <tr>\n",
       "      <th>100099</th>\n",
       "      <td>-326.55</td>\n",
       "      <td>-357.65</td>\n",
       "      <td>-322.086571</td>\n",
       "      <td>-352.603068</td>\n",
       "      <td>674.689639</td>\n",
       "      <td>450.0</td>\n",
       "      <td>77.0</td>\n",
       "      <td>0.0</td>\n",
       "      <td>31.0</td>\n",
       "      <td>37.0</td>\n",
       "      <td>0.0</td>\n",
       "    </tr>\n",
       "  </tbody>\n",
       "</table>\n",
       "<p>100 rows × 11 columns</p>\n",
       "</div>"
      ],
      "text/plain": [
       "            xMax    yMax        xPos        yPos        rPos   Qtot  qMax  \\\n",
       "event_id                                                                    \n",
       "100000    419.85  -77.75  416.439916  -81.071359  497.511275  795.0  51.0   \n",
       "100001   -450.95  -15.55 -450.279748  -18.414474  468.694222  701.0  51.0   \n",
       "100002    171.05 -264.35  175.551317 -266.793574  442.344891  797.0  78.0   \n",
       "100003    -31.10  -46.65  -34.862097  -44.058334   78.920431  738.0  54.0   \n",
       "100004    171.05 -171.05  173.886826 -166.951552  340.838378  807.0  69.0   \n",
       "...          ...     ...         ...         ...         ...    ...   ...   \n",
       "100095    -77.75 -295.45  -80.365888 -291.962156  372.328044  789.0  51.0   \n",
       "100096   -124.40  466.50 -125.854972  461.964583  587.819555  512.0  85.0   \n",
       "100097     93.30 -419.85   94.177824 -422.644144  516.821969  782.0  53.0   \n",
       "100098    264.35 -295.45  261.493881 -292.688792  554.182672  772.0  48.0   \n",
       "100099   -326.55 -357.65 -322.086571 -352.603068  674.689639  450.0  77.0   \n",
       "\n",
       "            qL    qR    qU    qD  \n",
       "event_id                          \n",
       "100000    44.0  19.0  15.0  37.0  \n",
       "100001    30.0  35.0  21.0  42.0  \n",
       "100002    15.0  59.0  20.0  42.0  \n",
       "100003    50.0  20.0  50.0  28.0  \n",
       "100004    26.0  53.0  47.0  13.0  \n",
       "...        ...   ...   ...   ...  \n",
       "100095    37.0  19.0  40.0  16.0  \n",
       "100096    51.0  35.0   0.0  35.0  \n",
       "100097    32.0  39.0  26.0  49.0  \n",
       "100098    34.0  16.0  39.0  20.0  \n",
       "100099     0.0  31.0  37.0   0.0  \n",
       "\n",
       "[100 rows x 11 columns]"
      ]
     },
     "execution_count": 455,
     "metadata": {},
     "output_type": "execute_result"
    }
   ],
   "source": [
    "pq"
   ]
  },
  {
   "cell_type": "code",
   "execution_count": 456,
   "metadata": {},
   "outputs": [
    {
     "data": {
      "image/png": "[encoded data removed]",
      "text/plain": [
       "<Figure size 720x720 with 4 Axes>"
      ]
     },
     "metadata": {
      "needs_background": "light"
     },
     "output_type": "display_data"
    }
   ],
   "source": [
    "histos_df(pq, \n",
    "          vars    = ('xMax','yMax','xPos','yPos'), \n",
    "          varmins = 4 * [-450], \n",
    "          varmaxs = 4 * [450], \n",
    "          xlabels = ['xMax','yMax','xPos','yPos'], \n",
    "          ylabels = 4 * ['events'], \n",
    "          bins    = 4 * [10],\n",
    "          alphas  = 4 * [0.6],\n",
    "          colors  = 4 * ['b'],\n",
    "          splt    = (2,2), \n",
    "          figsize = (10,10))"
   ]
  },
  {
   "cell_type": "code",
   "execution_count": 457,
   "metadata": {},
   "outputs": [
    {
     "name": "stdout",
     "output_type": "stream",
     "text": [
      "True\n",
      "True\n",
      "True\n",
      "True\n"
     ]
    }
   ],
   "source": [
    "print(np.all(in_range(pq.xMax, -500, 500)))\n",
    "print(np.all(in_range(pq.yMax, -500, 500)))\n",
    "print(np.all(in_range(pq.xPos, -500, 500)))\n",
    "print(np.all(in_range(pq.yPos, -500, 500)))"
   ]
  },
  {
   "cell_type": "code",
   "execution_count": 458,
   "metadata": {},
   "outputs": [
    {
     "data": {
      "image/png": "[encoded data removed]",
      "text/plain": [
       "<Figure size 720x720 with 4 Axes>"
      ]
     },
     "metadata": {
      "needs_background": "light"
     },
     "output_type": "display_data"
    }
   ],
   "source": [
    "histos_df(pq, \n",
    "          vars    = ('qL','qR','qU','qD'), \n",
    "          varmins = 4 * [0], \n",
    "          varmaxs = 4 * [100], \n",
    "          xlabels = ['qL','qR','qU','qD'], \n",
    "          ylabels = 4 * ['events'], \n",
    "          bins    = 4 * [10],\n",
    "          alphas  = 4 * [0.6],\n",
    "          colors  = 4 * ['b'],\n",
    "          splt    = (2,2), \n",
    "          figsize = (10,10))"
   ]
  },
  {
   "cell_type": "code",
   "execution_count": 459,
   "metadata": {},
   "outputs": [
    {
     "name": "stdout",
     "output_type": "stream",
     "text": [
      "True\n",
      "True\n",
      "True\n",
      "True\n"
     ]
    }
   ],
   "source": [
    "qmax = 100\n",
    "print(np.all(in_range(pq.qL, 0, qmax)))\n",
    "print(np.all(in_range(pq.qR, 0, qmax)))\n",
    "print(np.all(in_range(pq.qU, 0, qmax)))\n",
    "print(np.all(in_range(pq.qD, 0, qmax)))"
   ]
  },
  {
   "cell_type": "code",
   "execution_count": 460,
   "metadata": {},
   "outputs": [
    {
     "data": {
      "image/png": "[encoded data removed]",
      "text/plain": [
       "<Figure size 720x720 with 2 Axes>"
      ]
     },
     "metadata": {
      "needs_background": "light"
     },
     "output_type": "display_data"
    }
   ],
   "source": [
    "histos_df(pq, \n",
    "          vars    = ('rPos','qMax'), \n",
    "          varmins = [0,0], \n",
    "          varmaxs = [1000,200], \n",
    "          xlabels = ['rPos','qMax'], \n",
    "          ylabels = 2 * ['events'], \n",
    "          bins    = 2 * [10],\n",
    "          alphas  = 2 * [0.6],\n",
    "          colors  = 2 * ['b'],\n",
    "          splt    = (2,1), \n",
    "          figsize = (10,10))"
   ]
  },
  {
   "cell_type": "code",
   "execution_count": 461,
   "metadata": {},
   "outputs": [
    {
     "name": "stdout",
     "output_type": "stream",
     "text": [
      "True\n",
      "True\n"
     ]
    }
   ],
   "source": [
    "print(np.all(in_range(pq.rPos, 0, 700)))\n",
    "print(np.all(in_range(pq.qMax, 0, 200)))"
   ]
  },
  {
   "cell_type": "markdown",
   "metadata": {},
   "source": [
    "***\n",
    "def diff_pos(truedf : DataFrame, pqdf : DataFrame)->DataFrame:\n",
    "\n",
    "    \"\"\"\n",
    "    Compute the difference between true and estimated positions\n",
    "    truedf is the data frame with true positions\n",
    "    posdf  is the data frame with estimated positions\n",
    "\n",
    "    \"\"\"\n",
    "***"
   ]
  },
  {
   "cell_type": "code",
   "execution_count": 462,
   "metadata": {},
   "outputs": [],
   "source": [
    "dxdf = diff_pos(krdf, pq)"
   ]
  },
  {
   "cell_type": "code",
   "execution_count": 463,
   "metadata": {},
   "outputs": [
    {
     "data": {
      "text/html": [
       "<div>\n",
       "<style scoped>\n",
       "    .dataframe tbody tr th:only-of-type {\n",
       "        vertical-align: middle;\n",
       "    }\n",
       "\n",
       "    .dataframe tbody tr th {\n",
       "        vertical-align: top;\n",
       "    }\n",
       "\n",
       "    .dataframe thead th {\n",
       "        text-align: right;\n",
       "    }\n",
       "</style>\n",
       "<table border=\"1\" class=\"dataframe\">\n",
       "  <thead>\n",
       "    <tr style=\"text-align: right;\">\n",
       "      <th></th>\n",
       "      <th>dxPos</th>\n",
       "      <th>dyPos</th>\n",
       "      <th>dxMax</th>\n",
       "      <th>dyMax</th>\n",
       "    </tr>\n",
       "    <tr>\n",
       "      <th>event_id</th>\n",
       "      <th></th>\n",
       "      <th></th>\n",
       "      <th></th>\n",
       "      <th></th>\n",
       "    </tr>\n",
       "  </thead>\n",
       "  <tbody>\n",
       "    <tr>\n",
       "      <th>100000</th>\n",
       "      <td>-4.587926</td>\n",
       "      <td>-2.896620</td>\n",
       "      <td>-7.998010</td>\n",
       "      <td>-6.217979</td>\n",
       "    </tr>\n",
       "    <tr>\n",
       "      <th>100001</th>\n",
       "      <td>-0.110327</td>\n",
       "      <td>-1.594975</td>\n",
       "      <td>0.559924</td>\n",
       "      <td>-4.459449</td>\n",
       "    </tr>\n",
       "    <tr>\n",
       "      <th>100002</th>\n",
       "      <td>3.389601</td>\n",
       "      <td>-1.647161</td>\n",
       "      <td>7.890918</td>\n",
       "      <td>-4.090735</td>\n",
       "    </tr>\n",
       "    <tr>\n",
       "      <th>100003</th>\n",
       "      <td>-1.162496</td>\n",
       "      <td>2.865272</td>\n",
       "      <td>-4.924593</td>\n",
       "      <td>5.456938</td>\n",
       "    </tr>\n",
       "    <tr>\n",
       "      <th>100004</th>\n",
       "      <td>2.290420</td>\n",
       "      <td>-0.140596</td>\n",
       "      <td>5.127246</td>\n",
       "      <td>3.957852</td>\n",
       "    </tr>\n",
       "    <tr>\n",
       "      <th>...</th>\n",
       "      <td>...</td>\n",
       "      <td>...</td>\n",
       "      <td>...</td>\n",
       "      <td>...</td>\n",
       "    </tr>\n",
       "    <tr>\n",
       "      <th>100095</th>\n",
       "      <td>-0.658763</td>\n",
       "      <td>2.951017</td>\n",
       "      <td>-3.274651</td>\n",
       "      <td>6.438861</td>\n",
       "    </tr>\n",
       "    <tr>\n",
       "      <th>100096</th>\n",
       "      <td>-1.144288</td>\n",
       "      <td>5.992234</td>\n",
       "      <td>-2.599260</td>\n",
       "      <td>1.456818</td>\n",
       "    </tr>\n",
       "    <tr>\n",
       "      <th>100097</th>\n",
       "      <td>1.567087</td>\n",
       "      <td>-1.662344</td>\n",
       "      <td>2.444911</td>\n",
       "      <td>-4.456488</td>\n",
       "    </tr>\n",
       "    <tr>\n",
       "      <th>100098</th>\n",
       "      <td>-5.348556</td>\n",
       "      <td>2.235972</td>\n",
       "      <td>-8.204675</td>\n",
       "      <td>4.997180</td>\n",
       "    </tr>\n",
       "    <tr>\n",
       "      <th>100099</th>\n",
       "      <td>-4.137886</td>\n",
       "      <td>-5.182576</td>\n",
       "      <td>0.325543</td>\n",
       "      <td>-0.135645</td>\n",
       "    </tr>\n",
       "  </tbody>\n",
       "</table>\n",
       "<p>100 rows × 4 columns</p>\n",
       "</div>"
      ],
      "text/plain": [
       "             dxPos     dyPos     dxMax     dyMax\n",
       "event_id                                        \n",
       "100000   -4.587926 -2.896620 -7.998010 -6.217979\n",
       "100001   -0.110327 -1.594975  0.559924 -4.459449\n",
       "100002    3.389601 -1.647161  7.890918 -4.090735\n",
       "100003   -1.162496  2.865272 -4.924593  5.456938\n",
       "100004    2.290420 -0.140596  5.127246  3.957852\n",
       "...            ...       ...       ...       ...\n",
       "100095   -0.658763  2.951017 -3.274651  6.438861\n",
       "100096   -1.144288  5.992234 -2.599260  1.456818\n",
       "100097    1.567087 -1.662344  2.444911 -4.456488\n",
       "100098   -5.348556  2.235972 -8.204675  4.997180\n",
       "100099   -4.137886 -5.182576  0.325543 -0.135645\n",
       "\n",
       "[100 rows x 4 columns]"
      ]
     },
     "execution_count": 463,
     "metadata": {},
     "output_type": "execute_result"
    }
   ],
   "source": [
    "dxdf"
   ]
  },
  {
   "cell_type": "code",
   "execution_count": 464,
   "metadata": {},
   "outputs": [
    {
     "data": {
      "image/png": "[encoded data removed]",
      "text/plain": [
       "<Figure size 720x720 with 4 Axes>"
      ]
     },
     "metadata": {
      "needs_background": "light"
     },
     "output_type": "display_data"
    }
   ],
   "source": [
    "histos_df(dxdf, \n",
    "          vars    = ('dxPos','dyPos','dxMax','dyMax'), \n",
    "          varmins = 4 * [-10], \n",
    "          varmaxs = 4 * [10], \n",
    "          xlabels = ['dxPos','dyPos','dxMax','dyMax'], \n",
    "          ylabels = 4 * ['events'], \n",
    "          bins    = 4 * [10],\n",
    "          alphas  = 4 * [0.6],\n",
    "          colors  = 4 * ['b'],\n",
    "          splt    = (2,2), \n",
    "          figsize = (10,10))"
   ]
  },
  {
   "cell_type": "code",
   "execution_count": 465,
   "metadata": {},
   "outputs": [
    {
     "name": "stdout",
     "output_type": "stream",
     "text": [
      "True\n",
      "True\n",
      "True\n",
      "True\n"
     ]
    }
   ],
   "source": [
    "qmax = 20\n",
    "print(np.all(in_range(dxdf.dxPos, -qmax, qmax)))\n",
    "print(np.all(in_range(dxdf.dyPos, -qmax, qmax)))\n",
    "print(np.all(in_range(dxdf.dxMax, -qmax, qmax)))\n",
    "print(np.all(in_range(dxdf.dyMax, -qmax, qmax)))"
   ]
  },
  {
   "cell_type": "markdown",
   "metadata": {},
   "source": [
    "### Merge dsts"
   ]
  },
  {
   "cell_type": "code",
   "execution_count": 211,
   "metadata": {},
   "outputs": [
    {
     "data": {
      "text/html": [
       "<div>\n",
       "<style scoped>\n",
       "    .dataframe tbody tr th:only-of-type {\n",
       "        vertical-align: middle;\n",
       "    }\n",
       "\n",
       "    .dataframe tbody tr th {\n",
       "        vertical-align: top;\n",
       "    }\n",
       "\n",
       "    .dataframe thead th {\n",
       "        text-align: right;\n",
       "    }\n",
       "</style>\n",
       "<table border=\"1\" class=\"dataframe\">\n",
       "  <thead>\n",
       "    <tr style=\"text-align: right;\">\n",
       "      <th></th>\n",
       "      <th>true_x</th>\n",
       "      <th>true_y</th>\n",
       "      <th>true_z</th>\n",
       "      <th>KE</th>\n",
       "    </tr>\n",
       "    <tr>\n",
       "      <th>event_id</th>\n",
       "      <th></th>\n",
       "      <th></th>\n",
       "      <th></th>\n",
       "      <th></th>\n",
       "    </tr>\n",
       "  </thead>\n",
       "  <tbody>\n",
       "    <tr>\n",
       "      <th>100000</th>\n",
       "      <td>411.851990</td>\n",
       "      <td>-83.967979</td>\n",
       "      <td>981.268127</td>\n",
       "      <td>41.543297</td>\n",
       "    </tr>\n",
       "    <tr>\n",
       "      <th>100001</th>\n",
       "      <td>-450.390076</td>\n",
       "      <td>-20.009449</td>\n",
       "      <td>848.892822</td>\n",
       "      <td>41.543297</td>\n",
       "    </tr>\n",
       "    <tr>\n",
       "      <th>100002</th>\n",
       "      <td>178.940918</td>\n",
       "      <td>-268.440735</td>\n",
       "      <td>295.103363</td>\n",
       "      <td>41.543297</td>\n",
       "    </tr>\n",
       "    <tr>\n",
       "      <th>100003</th>\n",
       "      <td>-36.024593</td>\n",
       "      <td>-41.193062</td>\n",
       "      <td>367.160645</td>\n",
       "      <td>41.543297</td>\n",
       "    </tr>\n",
       "    <tr>\n",
       "      <th>100004</th>\n",
       "      <td>176.177246</td>\n",
       "      <td>-167.092148</td>\n",
       "      <td>245.398712</td>\n",
       "      <td>41.543297</td>\n",
       "    </tr>\n",
       "  </tbody>\n",
       "</table>\n",
       "</div>"
      ],
      "text/plain": [
       "              true_x      true_y      true_z         KE\n",
       "event_id                                               \n",
       "100000    411.851990  -83.967979  981.268127  41.543297\n",
       "100001   -450.390076  -20.009449  848.892822  41.543297\n",
       "100002    178.940918 -268.440735  295.103363  41.543297\n",
       "100003    -36.024593  -41.193062  367.160645  41.543297\n",
       "100004    176.177246 -167.092148  245.398712  41.543297"
      ]
     },
     "execution_count": 211,
     "metadata": {},
     "output_type": "execute_result"
    }
   ],
   "source": [
    "krdf.head()"
   ]
  },
  {
   "cell_type": "code",
   "execution_count": 247,
   "metadata": {},
   "outputs": [
    {
     "data": {
      "text/html": [
       "<div>\n",
       "<style scoped>\n",
       "    .dataframe tbody tr th:only-of-type {\n",
       "        vertical-align: middle;\n",
       "    }\n",
       "\n",
       "    .dataframe tbody tr th {\n",
       "        vertical-align: top;\n",
       "    }\n",
       "\n",
       "    .dataframe thead th {\n",
       "        text-align: right;\n",
       "    }\n",
       "</style>\n",
       "<table border=\"1\" class=\"dataframe\">\n",
       "  <thead>\n",
       "    <tr style=\"text-align: right;\">\n",
       "      <th></th>\n",
       "      <th>dxPos</th>\n",
       "      <th>dyPos</th>\n",
       "      <th>dxMax</th>\n",
       "      <th>dyMax</th>\n",
       "    </tr>\n",
       "    <tr>\n",
       "      <th>event_id</th>\n",
       "      <th></th>\n",
       "      <th></th>\n",
       "      <th></th>\n",
       "      <th></th>\n",
       "    </tr>\n",
       "  </thead>\n",
       "  <tbody>\n",
       "    <tr>\n",
       "      <th>100000</th>\n",
       "      <td>-4.587926</td>\n",
       "      <td>-2.896620</td>\n",
       "      <td>-7.998010</td>\n",
       "      <td>-6.217979</td>\n",
       "    </tr>\n",
       "    <tr>\n",
       "      <th>100001</th>\n",
       "      <td>-0.110327</td>\n",
       "      <td>-1.594975</td>\n",
       "      <td>0.559924</td>\n",
       "      <td>-4.459449</td>\n",
       "    </tr>\n",
       "    <tr>\n",
       "      <th>100002</th>\n",
       "      <td>3.389601</td>\n",
       "      <td>-1.647161</td>\n",
       "      <td>7.890918</td>\n",
       "      <td>-4.090735</td>\n",
       "    </tr>\n",
       "    <tr>\n",
       "      <th>100003</th>\n",
       "      <td>-1.162496</td>\n",
       "      <td>2.865272</td>\n",
       "      <td>-4.924593</td>\n",
       "      <td>5.456938</td>\n",
       "    </tr>\n",
       "    <tr>\n",
       "      <th>100004</th>\n",
       "      <td>2.290420</td>\n",
       "      <td>-0.140596</td>\n",
       "      <td>5.127246</td>\n",
       "      <td>3.957852</td>\n",
       "    </tr>\n",
       "  </tbody>\n",
       "</table>\n",
       "</div>"
      ],
      "text/plain": [
       "             dxPos     dyPos     dxMax     dyMax\n",
       "event_id                                        \n",
       "100000   -4.587926 -2.896620 -7.998010 -6.217979\n",
       "100001   -0.110327 -1.594975  0.559924 -4.459449\n",
       "100002    3.389601 -1.647161  7.890918 -4.090735\n",
       "100003   -1.162496  2.865272 -4.924593  5.456938\n",
       "100004    2.290420 -0.140596  5.127246  3.957852"
      ]
     },
     "execution_count": 247,
     "metadata": {},
     "output_type": "execute_result"
    }
   ],
   "source": [
    "dxdf.head()"
   ]
  },
  {
   "cell_type": "code",
   "execution_count": 266,
   "metadata": {},
   "outputs": [
    {
     "data": {
      "text/html": [
       "<div>\n",
       "<style scoped>\n",
       "    .dataframe tbody tr th:only-of-type {\n",
       "        vertical-align: middle;\n",
       "    }\n",
       "\n",
       "    .dataframe tbody tr th {\n",
       "        vertical-align: top;\n",
       "    }\n",
       "\n",
       "    .dataframe thead th {\n",
       "        text-align: right;\n",
       "    }\n",
       "</style>\n",
       "<table border=\"1\" class=\"dataframe\">\n",
       "  <thead>\n",
       "    <tr style=\"text-align: right;\">\n",
       "      <th></th>\n",
       "      <th>xMax</th>\n",
       "      <th>yMax</th>\n",
       "      <th>xPos</th>\n",
       "      <th>yPos</th>\n",
       "      <th>rPos</th>\n",
       "      <th>qMax</th>\n",
       "      <th>qL</th>\n",
       "      <th>qR</th>\n",
       "      <th>qU</th>\n",
       "      <th>qD</th>\n",
       "    </tr>\n",
       "    <tr>\n",
       "      <th>event_id</th>\n",
       "      <th></th>\n",
       "      <th></th>\n",
       "      <th></th>\n",
       "      <th></th>\n",
       "      <th></th>\n",
       "      <th></th>\n",
       "      <th></th>\n",
       "      <th></th>\n",
       "      <th></th>\n",
       "      <th></th>\n",
       "    </tr>\n",
       "  </thead>\n",
       "  <tbody>\n",
       "    <tr>\n",
       "      <th>100000</th>\n",
       "      <td>419.85</td>\n",
       "      <td>-77.75</td>\n",
       "      <td>416.439916</td>\n",
       "      <td>-81.071359</td>\n",
       "      <td>497.511275</td>\n",
       "      <td>51.0</td>\n",
       "      <td>44.0</td>\n",
       "      <td>19.0</td>\n",
       "      <td>15.0</td>\n",
       "      <td>37.0</td>\n",
       "    </tr>\n",
       "    <tr>\n",
       "      <th>100001</th>\n",
       "      <td>-450.95</td>\n",
       "      <td>-15.55</td>\n",
       "      <td>-450.279748</td>\n",
       "      <td>-18.414474</td>\n",
       "      <td>468.694222</td>\n",
       "      <td>51.0</td>\n",
       "      <td>30.0</td>\n",
       "      <td>35.0</td>\n",
       "      <td>21.0</td>\n",
       "      <td>42.0</td>\n",
       "    </tr>\n",
       "    <tr>\n",
       "      <th>100002</th>\n",
       "      <td>171.05</td>\n",
       "      <td>-264.35</td>\n",
       "      <td>175.551317</td>\n",
       "      <td>-266.793574</td>\n",
       "      <td>442.344891</td>\n",
       "      <td>78.0</td>\n",
       "      <td>15.0</td>\n",
       "      <td>59.0</td>\n",
       "      <td>20.0</td>\n",
       "      <td>42.0</td>\n",
       "    </tr>\n",
       "    <tr>\n",
       "      <th>100003</th>\n",
       "      <td>-31.10</td>\n",
       "      <td>-46.65</td>\n",
       "      <td>-34.862097</td>\n",
       "      <td>-44.058334</td>\n",
       "      <td>78.920431</td>\n",
       "      <td>54.0</td>\n",
       "      <td>50.0</td>\n",
       "      <td>20.0</td>\n",
       "      <td>50.0</td>\n",
       "      <td>28.0</td>\n",
       "    </tr>\n",
       "    <tr>\n",
       "      <th>100004</th>\n",
       "      <td>171.05</td>\n",
       "      <td>-171.05</td>\n",
       "      <td>173.886826</td>\n",
       "      <td>-166.951552</td>\n",
       "      <td>340.838378</td>\n",
       "      <td>69.0</td>\n",
       "      <td>26.0</td>\n",
       "      <td>53.0</td>\n",
       "      <td>47.0</td>\n",
       "      <td>13.0</td>\n",
       "    </tr>\n",
       "  </tbody>\n",
       "</table>\n",
       "</div>"
      ],
      "text/plain": [
       "            xMax    yMax        xPos        yPos        rPos  qMax    qL  \\\n",
       "event_id                                                                   \n",
       "100000    419.85  -77.75  416.439916  -81.071359  497.511275  51.0  44.0   \n",
       "100001   -450.95  -15.55 -450.279748  -18.414474  468.694222  51.0  30.0   \n",
       "100002    171.05 -264.35  175.551317 -266.793574  442.344891  78.0  15.0   \n",
       "100003    -31.10  -46.65  -34.862097  -44.058334   78.920431  54.0  50.0   \n",
       "100004    171.05 -171.05  173.886826 -166.951552  340.838378  69.0  26.0   \n",
       "\n",
       "            qR    qU    qD  \n",
       "event_id                    \n",
       "100000    19.0  15.0  37.0  \n",
       "100001    35.0  21.0  42.0  \n",
       "100002    59.0  20.0  42.0  \n",
       "100003    20.0  50.0  28.0  \n",
       "100004    53.0  47.0  13.0  "
      ]
     },
     "execution_count": 266,
     "metadata": {},
     "output_type": "execute_result"
    }
   ],
   "source": [
    "pq.head()"
   ]
  },
  {
   "cell_type": "code",
   "execution_count": 269,
   "metadata": {},
   "outputs": [],
   "source": [
    "krdst = pd.concat([krdf, pq, dxdf], axis=1)"
   ]
  },
  {
   "cell_type": "code",
   "execution_count": 270,
   "metadata": {},
   "outputs": [
    {
     "data": {
      "text/html": [
       "<div>\n",
       "<style scoped>\n",
       "    .dataframe tbody tr th:only-of-type {\n",
       "        vertical-align: middle;\n",
       "    }\n",
       "\n",
       "    .dataframe tbody tr th {\n",
       "        vertical-align: top;\n",
       "    }\n",
       "\n",
       "    .dataframe thead th {\n",
       "        text-align: right;\n",
       "    }\n",
       "</style>\n",
       "<table border=\"1\" class=\"dataframe\">\n",
       "  <thead>\n",
       "    <tr style=\"text-align: right;\">\n",
       "      <th></th>\n",
       "      <th>true_x</th>\n",
       "      <th>true_y</th>\n",
       "      <th>true_z</th>\n",
       "      <th>KE</th>\n",
       "      <th>xMax</th>\n",
       "      <th>yMax</th>\n",
       "      <th>xPos</th>\n",
       "      <th>yPos</th>\n",
       "      <th>rPos</th>\n",
       "      <th>qMax</th>\n",
       "      <th>qL</th>\n",
       "      <th>qR</th>\n",
       "      <th>qU</th>\n",
       "      <th>qD</th>\n",
       "      <th>dxPos</th>\n",
       "      <th>dyPos</th>\n",
       "      <th>dxMax</th>\n",
       "      <th>dyMax</th>\n",
       "    </tr>\n",
       "    <tr>\n",
       "      <th>event_id</th>\n",
       "      <th></th>\n",
       "      <th></th>\n",
       "      <th></th>\n",
       "      <th></th>\n",
       "      <th></th>\n",
       "      <th></th>\n",
       "      <th></th>\n",
       "      <th></th>\n",
       "      <th></th>\n",
       "      <th></th>\n",
       "      <th></th>\n",
       "      <th></th>\n",
       "      <th></th>\n",
       "      <th></th>\n",
       "      <th></th>\n",
       "      <th></th>\n",
       "      <th></th>\n",
       "      <th></th>\n",
       "    </tr>\n",
       "  </thead>\n",
       "  <tbody>\n",
       "    <tr>\n",
       "      <th>100000</th>\n",
       "      <td>411.851990</td>\n",
       "      <td>-83.967979</td>\n",
       "      <td>981.268127</td>\n",
       "      <td>41.543297</td>\n",
       "      <td>419.85</td>\n",
       "      <td>-77.75</td>\n",
       "      <td>416.439916</td>\n",
       "      <td>-81.071359</td>\n",
       "      <td>497.511275</td>\n",
       "      <td>51.0</td>\n",
       "      <td>44.0</td>\n",
       "      <td>19.0</td>\n",
       "      <td>15.0</td>\n",
       "      <td>37.0</td>\n",
       "      <td>-4.587926</td>\n",
       "      <td>-2.896620</td>\n",
       "      <td>-7.998010</td>\n",
       "      <td>-6.217979</td>\n",
       "    </tr>\n",
       "    <tr>\n",
       "      <th>100001</th>\n",
       "      <td>-450.390076</td>\n",
       "      <td>-20.009449</td>\n",
       "      <td>848.892822</td>\n",
       "      <td>41.543297</td>\n",
       "      <td>-450.95</td>\n",
       "      <td>-15.55</td>\n",
       "      <td>-450.279748</td>\n",
       "      <td>-18.414474</td>\n",
       "      <td>468.694222</td>\n",
       "      <td>51.0</td>\n",
       "      <td>30.0</td>\n",
       "      <td>35.0</td>\n",
       "      <td>21.0</td>\n",
       "      <td>42.0</td>\n",
       "      <td>-0.110327</td>\n",
       "      <td>-1.594975</td>\n",
       "      <td>0.559924</td>\n",
       "      <td>-4.459449</td>\n",
       "    </tr>\n",
       "    <tr>\n",
       "      <th>100002</th>\n",
       "      <td>178.940918</td>\n",
       "      <td>-268.440735</td>\n",
       "      <td>295.103363</td>\n",
       "      <td>41.543297</td>\n",
       "      <td>171.05</td>\n",
       "      <td>-264.35</td>\n",
       "      <td>175.551317</td>\n",
       "      <td>-266.793574</td>\n",
       "      <td>442.344891</td>\n",
       "      <td>78.0</td>\n",
       "      <td>15.0</td>\n",
       "      <td>59.0</td>\n",
       "      <td>20.0</td>\n",
       "      <td>42.0</td>\n",
       "      <td>3.389601</td>\n",
       "      <td>-1.647161</td>\n",
       "      <td>7.890918</td>\n",
       "      <td>-4.090735</td>\n",
       "    </tr>\n",
       "    <tr>\n",
       "      <th>100003</th>\n",
       "      <td>-36.024593</td>\n",
       "      <td>-41.193062</td>\n",
       "      <td>367.160645</td>\n",
       "      <td>41.543297</td>\n",
       "      <td>-31.10</td>\n",
       "      <td>-46.65</td>\n",
       "      <td>-34.862097</td>\n",
       "      <td>-44.058334</td>\n",
       "      <td>78.920431</td>\n",
       "      <td>54.0</td>\n",
       "      <td>50.0</td>\n",
       "      <td>20.0</td>\n",
       "      <td>50.0</td>\n",
       "      <td>28.0</td>\n",
       "      <td>-1.162496</td>\n",
       "      <td>2.865272</td>\n",
       "      <td>-4.924593</td>\n",
       "      <td>5.456938</td>\n",
       "    </tr>\n",
       "    <tr>\n",
       "      <th>100004</th>\n",
       "      <td>176.177246</td>\n",
       "      <td>-167.092148</td>\n",
       "      <td>245.398712</td>\n",
       "      <td>41.543297</td>\n",
       "      <td>171.05</td>\n",
       "      <td>-171.05</td>\n",
       "      <td>173.886826</td>\n",
       "      <td>-166.951552</td>\n",
       "      <td>340.838378</td>\n",
       "      <td>69.0</td>\n",
       "      <td>26.0</td>\n",
       "      <td>53.0</td>\n",
       "      <td>47.0</td>\n",
       "      <td>13.0</td>\n",
       "      <td>2.290420</td>\n",
       "      <td>-0.140596</td>\n",
       "      <td>5.127246</td>\n",
       "      <td>3.957852</td>\n",
       "    </tr>\n",
       "    <tr>\n",
       "      <th>...</th>\n",
       "      <td>...</td>\n",
       "      <td>...</td>\n",
       "      <td>...</td>\n",
       "      <td>...</td>\n",
       "      <td>...</td>\n",
       "      <td>...</td>\n",
       "      <td>...</td>\n",
       "      <td>...</td>\n",
       "      <td>...</td>\n",
       "      <td>...</td>\n",
       "      <td>...</td>\n",
       "      <td>...</td>\n",
       "      <td>...</td>\n",
       "      <td>...</td>\n",
       "      <td>...</td>\n",
       "      <td>...</td>\n",
       "      <td>...</td>\n",
       "      <td>...</td>\n",
       "    </tr>\n",
       "    <tr>\n",
       "      <th>100095</th>\n",
       "      <td>-81.024651</td>\n",
       "      <td>-289.011139</td>\n",
       "      <td>1110.113770</td>\n",
       "      <td>41.543297</td>\n",
       "      <td>-77.75</td>\n",
       "      <td>-295.45</td>\n",
       "      <td>-80.365888</td>\n",
       "      <td>-291.962156</td>\n",
       "      <td>372.328044</td>\n",
       "      <td>51.0</td>\n",
       "      <td>37.0</td>\n",
       "      <td>19.0</td>\n",
       "      <td>40.0</td>\n",
       "      <td>16.0</td>\n",
       "      <td>-0.658763</td>\n",
       "      <td>2.951017</td>\n",
       "      <td>-3.274651</td>\n",
       "      <td>6.438861</td>\n",
       "    </tr>\n",
       "    <tr>\n",
       "      <th>100096</th>\n",
       "      <td>-126.999260</td>\n",
       "      <td>467.956818</td>\n",
       "      <td>471.085388</td>\n",
       "      <td>41.543297</td>\n",
       "      <td>-124.40</td>\n",
       "      <td>466.50</td>\n",
       "      <td>-125.854972</td>\n",
       "      <td>461.964583</td>\n",
       "      <td>587.819555</td>\n",
       "      <td>85.0</td>\n",
       "      <td>51.0</td>\n",
       "      <td>35.0</td>\n",
       "      <td>0.0</td>\n",
       "      <td>35.0</td>\n",
       "      <td>-1.144288</td>\n",
       "      <td>5.992234</td>\n",
       "      <td>-2.599260</td>\n",
       "      <td>1.456818</td>\n",
       "    </tr>\n",
       "    <tr>\n",
       "      <th>100097</th>\n",
       "      <td>95.744911</td>\n",
       "      <td>-424.306488</td>\n",
       "      <td>883.392212</td>\n",
       "      <td>41.543297</td>\n",
       "      <td>93.30</td>\n",
       "      <td>-419.85</td>\n",
       "      <td>94.177824</td>\n",
       "      <td>-422.644144</td>\n",
       "      <td>516.821969</td>\n",
       "      <td>53.0</td>\n",
       "      <td>32.0</td>\n",
       "      <td>39.0</td>\n",
       "      <td>26.0</td>\n",
       "      <td>49.0</td>\n",
       "      <td>1.567087</td>\n",
       "      <td>-1.662344</td>\n",
       "      <td>2.444911</td>\n",
       "      <td>-4.456488</td>\n",
       "    </tr>\n",
       "    <tr>\n",
       "      <th>100098</th>\n",
       "      <td>256.145325</td>\n",
       "      <td>-290.452820</td>\n",
       "      <td>1053.763062</td>\n",
       "      <td>58.224949</td>\n",
       "      <td>264.35</td>\n",
       "      <td>-295.45</td>\n",
       "      <td>261.493881</td>\n",
       "      <td>-292.688792</td>\n",
       "      <td>554.182672</td>\n",
       "      <td>48.0</td>\n",
       "      <td>34.0</td>\n",
       "      <td>16.0</td>\n",
       "      <td>39.0</td>\n",
       "      <td>20.0</td>\n",
       "      <td>-5.348556</td>\n",
       "      <td>2.235972</td>\n",
       "      <td>-8.204675</td>\n",
       "      <td>4.997180</td>\n",
       "    </tr>\n",
       "    <tr>\n",
       "      <th>100099</th>\n",
       "      <td>-326.224457</td>\n",
       "      <td>-357.785645</td>\n",
       "      <td>263.260773</td>\n",
       "      <td>41.543297</td>\n",
       "      <td>-326.55</td>\n",
       "      <td>-357.65</td>\n",
       "      <td>-322.086571</td>\n",
       "      <td>-352.603068</td>\n",
       "      <td>674.689639</td>\n",
       "      <td>77.0</td>\n",
       "      <td>0.0</td>\n",
       "      <td>31.0</td>\n",
       "      <td>37.0</td>\n",
       "      <td>0.0</td>\n",
       "      <td>-4.137886</td>\n",
       "      <td>-5.182576</td>\n",
       "      <td>0.325543</td>\n",
       "      <td>-0.135645</td>\n",
       "    </tr>\n",
       "  </tbody>\n",
       "</table>\n",
       "<p>100 rows × 18 columns</p>\n",
       "</div>"
      ],
      "text/plain": [
       "              true_x      true_y       true_z         KE    xMax    yMax  \\\n",
       "event_id                                                                   \n",
       "100000    411.851990  -83.967979   981.268127  41.543297  419.85  -77.75   \n",
       "100001   -450.390076  -20.009449   848.892822  41.543297 -450.95  -15.55   \n",
       "100002    178.940918 -268.440735   295.103363  41.543297  171.05 -264.35   \n",
       "100003    -36.024593  -41.193062   367.160645  41.543297  -31.10  -46.65   \n",
       "100004    176.177246 -167.092148   245.398712  41.543297  171.05 -171.05   \n",
       "...              ...         ...          ...        ...     ...     ...   \n",
       "100095    -81.024651 -289.011139  1110.113770  41.543297  -77.75 -295.45   \n",
       "100096   -126.999260  467.956818   471.085388  41.543297 -124.40  466.50   \n",
       "100097     95.744911 -424.306488   883.392212  41.543297   93.30 -419.85   \n",
       "100098    256.145325 -290.452820  1053.763062  58.224949  264.35 -295.45   \n",
       "100099   -326.224457 -357.785645   263.260773  41.543297 -326.55 -357.65   \n",
       "\n",
       "                xPos        yPos        rPos  qMax    qL    qR    qU    qD  \\\n",
       "event_id                                                                     \n",
       "100000    416.439916  -81.071359  497.511275  51.0  44.0  19.0  15.0  37.0   \n",
       "100001   -450.279748  -18.414474  468.694222  51.0  30.0  35.0  21.0  42.0   \n",
       "100002    175.551317 -266.793574  442.344891  78.0  15.0  59.0  20.0  42.0   \n",
       "100003    -34.862097  -44.058334   78.920431  54.0  50.0  20.0  50.0  28.0   \n",
       "100004    173.886826 -166.951552  340.838378  69.0  26.0  53.0  47.0  13.0   \n",
       "...              ...         ...         ...   ...   ...   ...   ...   ...   \n",
       "100095    -80.365888 -291.962156  372.328044  51.0  37.0  19.0  40.0  16.0   \n",
       "100096   -125.854972  461.964583  587.819555  85.0  51.0  35.0   0.0  35.0   \n",
       "100097     94.177824 -422.644144  516.821969  53.0  32.0  39.0  26.0  49.0   \n",
       "100098    261.493881 -292.688792  554.182672  48.0  34.0  16.0  39.0  20.0   \n",
       "100099   -322.086571 -352.603068  674.689639  77.0   0.0  31.0  37.0   0.0   \n",
       "\n",
       "             dxPos     dyPos     dxMax     dyMax  \n",
       "event_id                                          \n",
       "100000   -4.587926 -2.896620 -7.998010 -6.217979  \n",
       "100001   -0.110327 -1.594975  0.559924 -4.459449  \n",
       "100002    3.389601 -1.647161  7.890918 -4.090735  \n",
       "100003   -1.162496  2.865272 -4.924593  5.456938  \n",
       "100004    2.290420 -0.140596  5.127246  3.957852  \n",
       "...            ...       ...       ...       ...  \n",
       "100095   -0.658763  2.951017 -3.274651  6.438861  \n",
       "100096   -1.144288  5.992234 -2.599260  1.456818  \n",
       "100097    1.567087 -1.662344  2.444911 -4.456488  \n",
       "100098   -5.348556  2.235972 -8.204675  4.997180  \n",
       "100099   -4.137886 -5.182576  0.325543 -0.135645  \n",
       "\n",
       "[100 rows x 18 columns]"
      ]
     },
     "execution_count": 270,
     "metadata": {},
     "output_type": "execute_result"
    }
   ],
   "source": [
    "krdst"
   ]
  },
  {
   "cell_type": "code",
   "execution_count": 273,
   "metadata": {},
   "outputs": [
    {
     "data": {
      "image/png": "[encoded data removed]",
      "text/plain": [
       "<Figure size 720x720 with 4 Axes>"
      ]
     },
     "metadata": {
      "needs_background": "light"
     },
     "output_type": "display_data"
    }
   ],
   "source": [
    "histos_df(krdst, \n",
    "          vars    = ('true_x','true_y','true_z','KE'), \n",
    "          varmins = [-500,-500,0, 40], \n",
    "          varmaxs = [500,500,1000, 50], \n",
    "          xlabels = ['true_x','true_y','true_z','KE'], \n",
    "          ylabels = 4 * ['events'], \n",
    "          bins    = 4 * [10],\n",
    "          alphas  = 4 * [0.6],\n",
    "          colors  = 4 * ['b'],\n",
    "          splt    = (2,2), \n",
    "          figsize = (10,10))"
   ]
  },
  {
   "cell_type": "code",
   "execution_count": 271,
   "metadata": {},
   "outputs": [
    {
     "data": {
      "image/png": "[encoded data removed]",
      "text/plain": [
       "<Figure size 720x720 with 4 Axes>"
      ]
     },
     "metadata": {
      "needs_background": "light"
     },
     "output_type": "display_data"
    }
   ],
   "source": [
    "histos_df(krdst, \n",
    "          vars    = ('qL','qR','qU','qD'), \n",
    "          varmins = 4 * [0], \n",
    "          varmaxs = 4 * [100], \n",
    "          xlabels = ['qL','qR','qU','qD'], \n",
    "          ylabels = 4 * ['events'], \n",
    "          bins    = 4 * [10],\n",
    "          alphas  = 4 * [0.6],\n",
    "          colors  = 4 * ['b'],\n",
    "          splt    = (2,2), \n",
    "          figsize = (10,10))"
   ]
  },
  {
   "cell_type": "code",
   "execution_count": 272,
   "metadata": {},
   "outputs": [
    {
     "data": {
      "image/png": "[encoded data removed]",
      "text/plain": [
       "<Figure size 720x720 with 4 Axes>"
      ]
     },
     "metadata": {
      "needs_background": "light"
     },
     "output_type": "display_data"
    }
   ],
   "source": [
    "histos_df(krdst, \n",
    "          vars    = ('dxPos','dyPos','dxMax','dyMax'), \n",
    "          varmins = 4 * [-10], \n",
    "          varmaxs = 4 * [10], \n",
    "          xlabels = ['dxPos','dyPos','dxMax','dyMax'], \n",
    "          ylabels = 4 * ['events'], \n",
    "          bins    = 4 * [10],\n",
    "          alphas  = 4 * [0.6],\n",
    "          colors  = 4 * ['b'],\n",
    "          splt    = (2,2), \n",
    "          figsize = (10,10))"
   ]
  }
 ],
 "metadata": {
  "kernelspec": {
   "display_name": "Python 3",
   "language": "python",
   "name": "python3"
  },
  "language_info": {
   "codemirror_mode": {
    "name": "ipython",
    "version": 3
   },
   "file_extension": ".py",
   "mimetype": "text/x-python",
   "name": "python",
   "nbconvert_exporter": "python",
   "pygments_lexer": "ipython3",
   "version": "3.7.7"
  }
 },
 "nbformat": 4,
 "nbformat_minor": 4
}
