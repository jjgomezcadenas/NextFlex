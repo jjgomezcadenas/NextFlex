{
 "cells": [
  {
   "cell_type": "markdown",
   "metadata": {},
   "source": [
    "# Reconstruction Analysis True Hits (RATH)\n",
    "- Run the reconstruction analysis for True hits (RATH).\n",
    "    - The RATH voxelises MC True Hits, then computes TrackGraphs and find voxels extremes.\n",
    "    - The driver returns an object containing relevant statistics and a EventTrack object, that is, a list, indexed by event number of GTRacks.\n",
    "- Saves and loads from disk\n",
    "    - This documents the use of functions that can be used to save the output of a RATH run. "
   ]
  },
  {
   "cell_type": "markdown",
   "metadata": {},
   "source": [
    "##### General"
   ]
  },
  {
   "cell_type": "code",
   "execution_count": 16,
   "metadata": {},
   "outputs": [
    {
     "data": {
      "text/html": [
       "<style>body {\n",
       "    margin: 0;\n",
       "    font-family: Helvetica;\n",
       "}\n",
       "table.dataframe {\n",
       "    border-collapse: collapse;\n",
       "    border: none;\n",
       "}\n",
       "table.dataframe tr {\n",
       "    border: none;\n",
       "}\n",
       "table.dataframe td, table.dataframe th {\n",
       "    margin: 0;\n",
       "    border: 1px solid white;\n",
       "    padding-left: 0.25em;\n",
       "    padding-right: 0.25em;\n",
       "}\n",
       "table.dataframe th:not(:empty) {\n",
       "    background-color: #fec;\n",
       "    text-align: left;\n",
       "    font-weight: normal;\n",
       "}\n",
       "table.dataframe tr:nth-child(2) th:empty {\n",
       "    border-left: none;\n",
       "    border-right: 1px dashed #888;\n",
       "}\n",
       "table.dataframe td {\n",
       "    border: 2px solid #ccf;\n",
       "    background-color: #f4f4ff;\n",
       "}\n",
       "h3 {\n",
       "    color: white;\n",
       "    background-color: green;\n",
       "    padding: 0.5em;\n",
       "}\n",
       "\n",
       "h2 {\n",
       "    color: white;\n",
       "    background-color: orange;\n",
       "    padding: 0.5em;\n",
       "}\n",
       "\n",
       "h1 {\n",
       "    color: white;\n",
       "    background-color: red;\n",
       "    padding: 0.5em;\n",
       "}\n",
       "\n",
       "h4 {\n",
       "    color: white;\n",
       "    background-color: blue;\n",
       "    padding: 0.5em;\n",
       "}\n",
       "\n",
       "h5 {\n",
       "    color: white;\n",
       "    background-color: gray;\n",
       "    padding: 0.5em;\n",
       "}\n",
       "</style>"
      ],
      "text/plain": [
       "<IPython.core.display.HTML object>"
      ]
     },
     "execution_count": 16,
     "metadata": {},
     "output_type": "execute_result"
    }
   ],
   "source": [
    "from IPython.core.display import HTML\n",
    "css = open('style-table.css').read() + open('style-notebook.css').read()\n",
    "HTML('<style>{}</style>'.format(css))"
   ]
  },
  {
   "cell_type": "code",
   "execution_count": 3,
   "metadata": {},
   "outputs": [],
   "source": [
    "# General importings\n",
    "import os\n",
    "import sys\n",
    "import glob\n",
    "import logging\n",
    "import math\n",
    "import numpy  as np\n",
    "import warnings\n",
    "import functools\n",
    "import time\n",
    "\n",
    "from scipy.stats import norm\n",
    "import pandas as pd\n",
    "import matplotlib.pyplot as plt\n",
    "from matplotlib import colors\n",
    "from mpl_toolkits.mplot3d import Axes3D \n",
    "import networkx as nx\n",
    "from itertools   import combinations"
   ]
  },
  {
   "cell_type": "code",
   "execution_count": 4,
   "metadata": {},
   "outputs": [],
   "source": [
    "from pandas import DataFrame, Series\n",
    "from typing import List, Tuple\n",
    "from typing import Union\n",
    "from   dataclasses import dataclass"
   ]
  },
  {
   "cell_type": "code",
   "execution_count": 5,
   "metadata": {},
   "outputs": [],
   "source": [
    "%matplotlib inline\n",
    "%load_ext autoreload\n",
    "%autoreload 2"
   ]
  },
  {
   "cell_type": "code",
   "execution_count": 6,
   "metadata": {},
   "outputs": [],
   "source": [
    "plt.rcParams[\"figure.figsize\"] = 8, 6\n",
    "plt.rcParams[\"font.size\"     ] = 14"
   ]
  },
  {
   "cell_type": "markdown",
   "metadata": {},
   "source": [
    "##### IC"
   ]
  },
  {
   "cell_type": "code",
   "execution_count": 7,
   "metadata": {},
   "outputs": [],
   "source": [
    "\n",
    "import invisible_cities.core.system_of_units  as units\n",
    "\n",
    "from invisible_cities.io.mcinfo_io import load_mcconfiguration\n",
    "from invisible_cities.io.mcinfo_io import load_mcparticles_df\n",
    "from invisible_cities.io.mcinfo_io import load_mchits_df\n",
    "from invisible_cities.io.mcinfo_io import load_mcsensor_positions\n",
    "from invisible_cities.io.mcinfo_io import load_mcsensor_response_df\n",
    "from invisible_cities.io.mcinfo_io import get_sensor_types\n",
    "from invisible_cities.io.mcinfo_io import get_sensor_binning\n",
    "from invisible_cities.io.mcinfo_io import get_event_numbers_in_file\n",
    "from invisible_cities.core.core_functions import in_range\n"
   ]
  },
  {
   "cell_type": "markdown",
   "metadata": {},
   "source": [
    "##### TICs"
   ]
  },
  {
   "cell_type": "code",
   "execution_count": 8,
   "metadata": {},
   "outputs": [],
   "source": [
    "from tics.histograms    import h1\n",
    "from tics.pd_tics       import get_index_slice_from_multi_index\n",
    "from tics.pd_tics   import slice_and_select_df\n",
    "from tics.graphics_reco import plot_hits3d\n",
    "from tics.stats_tics    import bin_data_with_equal_bin_size\n",
    "from tics.util_tics import get_class_name\n",
    "from tics.util_tics import Range\n",
    "from tics.graphics_reco import plot_gtrack\n",
    "from tics.system_of_units import *"
   ]
  },
  {
   "cell_type": "markdown",
   "metadata": {},
   "source": [
    "##### NetFlex"
   ]
  },
  {
   "cell_type": "code",
   "execution_count": 9,
   "metadata": {},
   "outputs": [],
   "source": [
    "from nextflex.core import Setup"
   ]
  },
  {
   "cell_type": "code",
   "execution_count": 10,
   "metadata": {},
   "outputs": [],
   "source": [
    "from nextflex.core import Setup\n",
    "from nextflex.mctrue_functions import get_mc_particles\n",
    "from nextflex.mctrue_functions import get_mc_primary_particles\n",
    "from nextflex.mctrue_functions import get_mc_vertex\n",
    "from nextflex.mctrue_functions import select_mc_particles\n",
    "from nextflex.mctrue_functions import get_mc_hits\n",
    "from nextflex.mctrue_functions import select_mc_hits\n",
    "from nextflex.mctrue_functions import total_hit_energy\n",
    "from nextflex.mctrue_functions import get_event_hits_from_mchits"
   ]
  },
  {
   "cell_type": "code",
   "execution_count": 11,
   "metadata": {},
   "outputs": [],
   "source": [
    "from nextflex.reco_functions import voxelize_hits\n",
    "from nextflex.reco_functions import get_voxels_as_list\n",
    "from nextflex.reco_functions import voxel_position\n",
    "from nextflex.reco_functions import voxel_energy\n",
    "from nextflex.reco_functions import voxel_nhits\n",
    "from nextflex.reco_functions import distance_between_two_voxels\n",
    "from nextflex.reco_functions import voxel_distances\n",
    "from nextflex.reco_functions import voxel_distance_pairs\n",
    "from nextflex.reco_functions import make_track_graphs\n",
    "from nextflex.reco_functions import gtrack_voxels\n",
    "from nextflex.reco_functions import shortest_paths\n",
    "from nextflex.reco_functions import find_extrema_and_length\n",
    "from nextflex.reco_functions import GTrack\n",
    "from nextflex.reco_functions import GTracks\n",
    "from nextflex.reco_functions import voxels_in_blob\n",
    "from nextflex.reco_functions import blob_energy\n"
   ]
  },
  {
   "cell_type": "code",
   "execution_count": 12,
   "metadata": {},
   "outputs": [],
   "source": [
    "from nextflex.io import write_gtracks_json\n",
    "from nextflex.io import load_gtracks_json\n",
    "from nextflex.io import write_event_gtracks_json\n",
    "from nextflex.io import load_event_gtracks_json\n",
    "from nextflex.io import save_to_JSON\n",
    "from nextflex.io import load_from_JSON"
   ]
  },
  {
   "cell_type": "code",
   "execution_count": 169,
   "metadata": {},
   "outputs": [],
   "source": [
    "from nextflex.reco_analysis import reco_gtrack_from_mc_hits\n",
    "from nextflex.reco_analysis import reco_gtrack_blobs\n",
    "from nextflex.reco_analysis import TrackRecoStats\n",
    "from nextflex.reco_analysis import TrackRecoTiming\n",
    "from nextflex.reco_analysis import TrackRecoEventStats\n",
    "from nextflex.reco_analysis import GtrkStats\n",
    "from nextflex.reco_analysis import gtrack_summary\n",
    "from nextflex.reco_analysis import select_gtrack_topology\n",
    "from nextflex.reco_analysis import distance_between_extrema\n",
    "from nextflex.reco_analysis import gtrack_df\n",
    "from nextflex.reco_analysis import event_list_by_multiplicity\n",
    "from nextflex.reco_analysis import tExtrema_df\n",
    "from nextflex.reco_analysis import RecoGtrackFromMcHits"
   ]
  },
  {
   "cell_type": "code",
   "execution_count": 14,
   "metadata": {},
   "outputs": [],
   "source": [
    "from nextflex.analysis_histos import reco_gtrack_stats_histos\n",
    "from nextflex.analysis_histos import reco_gtrack_timing_histos\n",
    "from nextflex.analysis_histos import reco_gtrack_blobs_histos\n",
    "from nextflex.analysis_graphics import plot_single_tracks_list\n",
    "from nextflex.analysis_graphics import plot_multiple_tracks_list"
   ]
  },
  {
   "cell_type": "code",
   "execution_count": 15,
   "metadata": {},
   "outputs": [],
   "source": [
    "from nextflex.types import EventHits\n",
    "from nextflex.types import VoxelHits\n"
   ]
  },
  {
   "cell_type": "markdown",
   "metadata": {},
   "source": [
    "### Input data"
   ]
  },
  {
   "cell_type": "code",
   "execution_count": 17,
   "metadata": {},
   "outputs": [],
   "source": [
    "FDATA = os.environ['FLEXDATA']"
   ]
  },
  {
   "cell_type": "code",
   "execution_count": 18,
   "metadata": {},
   "outputs": [
    {
     "name": "stdout",
     "output_type": "stream",
     "text": [
      "\n",
      "        Setup <FLEX100_M6_O6_EL8bar_bb0nu_PMTs_sipmPDE_1.0_maskPDE_1.0_qTh_0.0>:\n",
      "        tracking plane configuration = FLEX100_M6_O6_EL8bar_bb0nu\n",
      "        sipm PDE                     = 1.0\n",
      "        transmission of teflon masks = 1.0\n",
      "        charge threshold             = 0.0\n",
      "        energy sensors               = PMTs\n",
      "        pitch                        = 15.55\n",
      "        number of energy sensors     = 60\n",
      "        number of SiPMs              = 3093\n",
      "        root directory               = /Users/jj/Development/flexdata/FLEX100_M6_O6_EL8bar_bb0nu\n",
      "        analysis directory           = /Users/jj/Development/flexdata/analysis/FLEX100_M6_O6_EL8bar_bb0nu\n",
      "        number of h5 files in dir    = 206\n",
      "        sipm map at                  = /Users/jj/Development/flexdata/flexmaps/sipm_map_15.6_mm.csv\n",
      "        sipm map name                = sipm_map_15.6_mm.csv\n",
      "        output file                  = /Users/jj/Development/flexdata/kdsts/FLEX100_M6_O6_EL8bar_bb0nu_PMTs_sipmPDE_1.0_maskPDE_1.0_qTh_0.0.csv\n",
      "        \n"
     ]
    }
   ],
   "source": [
    "setup = Setup(flexDATA = FDATA,\n",
    "              sipmPDE  = 1.0,\n",
    "              maskPDE  = 1.0,\n",
    "              qTh      = 0.0,\n",
    "              tpConfig = \"FLEX100_M6_O6_EL8bar_bb0nu\")\n",
    "print(setup)"
   ]
  },
  {
   "cell_type": "code",
   "execution_count": 19,
   "metadata": {},
   "outputs": [
    {
     "name": "stdout",
     "output_type": "stream",
     "text": [
      "found 206 files\n"
     ]
    }
   ],
   "source": [
    "ifnames = glob.glob(f\"{FDATA}/{setup.tpConfig}/*.h5\")\n",
    "print(f'found {len(ifnames)} files')"
   ]
  },
  {
   "cell_type": "markdown",
   "metadata": {},
   "source": [
    "### Run "
   ]
  },
  {
   "cell_type": "markdown",
   "metadata": {},
   "source": [
    "#### The driver\n",
    "\n",
    "***\n",
    "@dataclass\\\n",
    "class RecoGtrackFromMcHits:\n",
    "\n",
    "    \"\"\"\n",
    "    This class collects all information relevant for the topological\n",
    "    analysis of reconstructed tracks (from monte carlo hits), plus\n",
    "    statistics information.\n",
    "    \"\"\"\n",
    "    recoSetup           : Setup\n",
    "    voxel_bin           : float\n",
    "    contiguity          : float \n",
    "    gtracks             : List[GTracks]        = None\n",
    "    tExtrema            : pd.DataFrame         = None\n",
    "    trackRecoStats      : pd.DataFrame         = None\n",
    "    trackRecoTiming     : pd.DataFrame         = None\n",
    "    tVoxelizationXYZ    : pd.DataFrame         = None\n",
    "    trackRecoEventStats : TrackRecoEventStats  = None\n",
    "\n",
    "*** \n",
    "- The driver for the reconstruction of gtracks (graph tracks) from Monte Carlo hits takes as parameters:\n",
    "    - The setup which is used internally for bookeeping (where to read/write files)\n",
    "    - The voxel_bin and contiguity which define the voxelisation \n",
    "    - The topology specifying which hits are used from the MC Hits (all or only from primary particles)\n",
    "    - The event type (which can be bb0nu or 1e)\n",
    "    - The baryc parameter which specifies if the position of the voxel is computed from the barycenter of the hits or from the average\n",
    "    - debug, file_range to use and frequency of printing\n",
    "\n",
    "- The driver returns an object **RecoGtrackFromMcHits** which has the following fields:\n",
    "    - Setup, voxel_bin and contiguity.\n",
    "    - a list of GTracks (each GTracks object is a list of GTrack or graph-track object)\n",
    "    - a DF describing the true extrema for each track\n",
    "    - Track reconstruction statistics (a DF)\n",
    "    - Track reconstruction timing (a DF)\n",
    "    - a DF which allows measurement of voxelisation timing versus number of voxels \n",
    "    - Information on track reconstruction event statistics"
   ]
  },
  {
   "cell_type": "code",
   "execution_count": 184,
   "metadata": {},
   "outputs": [],
   "source": [
    "voxel_bin  = 5.\n",
    "rb         = 10\n",
    "contiguity = 10"
   ]
  },
  {
   "cell_type": "code",
   "execution_count": 183,
   "metadata": {},
   "outputs": [
    {
     "name": "stdout",
     "output_type": "stream",
     "text": [
      "file number = 20, name=/Users/jj/Development/flexdata/FLEX100_M6_O6_EL8bar_bb0nu/FLEX100_M6_O6.Xe136_bb0nu.ACTIVE.17.next.h5\n",
      "file number = 40, name=/Users/jj/Development/flexdata/FLEX100_M6_O6_EL8bar_bb0nu/FLEX100_M6_O6.Xe136_bb0nu.ACTIVE.210.next.h5\n",
      "file number = 60, name=/Users/jj/Development/flexdata/FLEX100_M6_O6_EL8bar_bb0nu/FLEX100_M6_O6.Xe136_bb0nu.ACTIVE.180.next.h5\n",
      "file number = 80, name=/Users/jj/Development/flexdata/FLEX100_M6_O6_EL8bar_bb0nu/FLEX100_M6_O6.Xe136_bb0nu.ACTIVE.40.next.h5\n",
      "file number = 100, name=/Users/jj/Development/flexdata/FLEX100_M6_O6_EL8bar_bb0nu/FLEX100_M6_O6.Xe136_bb0nu.ACTIVE.83.next.h5\n",
      "file number = 120, name=/Users/jj/Development/flexdata/FLEX100_M6_O6_EL8bar_bb0nu/FLEX100_M6_O6.Xe136_bb0nu.ACTIVE.86.next.h5\n",
      "file number = 140, name=/Users/jj/Development/flexdata/FLEX100_M6_O6_EL8bar_bb0nu/FLEX100_M6_O6.Xe136_bb0nu.ACTIVE.147.next.h5\n",
      "file number = 160, name=/Users/jj/Development/flexdata/FLEX100_M6_O6_EL8bar_bb0nu/FLEX100_M6_O6.Xe136_bb0nu.ACTIVE.241.next.h5\n",
      "file number = 180, name=/Users/jj/Development/flexdata/FLEX100_M6_O6_EL8bar_bb0nu/FLEX100_M6_O6.Xe136_bb0nu.ACTIVE.197.next.h5\n",
      "file number = 200, name=/Users/jj/Development/flexdata/FLEX100_M6_O6_EL8bar_bb0nu/FLEX100_M6_O6.Xe136_bb0nu.ACTIVE.240.next.h5\n",
      "xyz_bins = 1.283716 is too large, try larger bin_size\n",
      " new bin_size = 6.0 xyz_bins = 0.753024 \n",
      " Total events analyzed = 815,\n",
      "               Events with a single track = 537\n"
     ]
    }
   ],
   "source": [
    "rgt  = reco_gtrack_from_mc_hits(setup, voxel_bin, contiguity,\n",
    "                                topology   = \"all\",\n",
    "                                event_type = \"bb0nu\",\n",
    "                                baryc      = True,\n",
    "                                debug      = False,\n",
    "                                file_range = (0, -1),\n",
    "                                ic         = 20)"
   ]
  },
  {
   "cell_type": "markdown",
   "metadata": {},
   "source": [
    "##### Event statistics"
   ]
  },
  {
   "cell_type": "code",
   "execution_count": 185,
   "metadata": {},
   "outputs": [
    {
     "data": {
      "text/plain": [
       "\n",
       "        <Track Reconstruction Statistics>\n",
       "        size of voxel bins          = 5.0\n",
       "        contiguity parameter        = 10\n",
       "        topology                    = all\n",
       "        event type                  = bb0nu\n",
       "        voxels from hits barycenter = True\n",
       "        number of files analyzed    = 205\n",
       "        number of events analyized  = 815\n",
       "        number of events 1 GT       = 537\n",
       "        "
      ]
     },
     "execution_count": 185,
     "metadata": {},
     "output_type": "execute_result"
    }
   ],
   "source": [
    "rgt.trackRecoEventStats"
   ]
  },
  {
   "cell_type": "markdown",
   "metadata": {},
   "source": [
    "##### Time vs binning"
   ]
  },
  {
   "cell_type": "code",
   "execution_count": 186,
   "metadata": {},
   "outputs": [
    {
     "data": {
      "image/png": "[encoded data removed]",
      "text/plain": [
       "<Figure size 576x432 with 1 Axes>"
      ]
     },
     "metadata": {
      "needs_background": "light"
     },
     "output_type": "display_data"
    }
   ],
   "source": [
    "ax1 = rgt.tVoxelizationXYZ.plot.scatter(x='xyz_bins', y='time')"
   ]
  },
  {
   "cell_type": "markdown",
   "metadata": {},
   "source": [
    "##### Reco stats"
   ]
  },
  {
   "cell_type": "code",
   "execution_count": 187,
   "metadata": {},
   "outputs": [
    {
     "data": {
      "image/png": "[encoded data removed]",
      "text/plain": [
       "<Figure size 1008x720 with 8 Axes>"
      ]
     },
     "metadata": {
      "needs_background": "light"
     },
     "output_type": "display_data"
    }
   ],
   "source": [
    "reco_gtrack_stats_histos(rgt.trackRecoStats, energy_evt_hits = (0,10),  min_dist_voxels = (0,30),figsize=(14,10))"
   ]
  },
  {
   "cell_type": "markdown",
   "metadata": {},
   "source": [
    "##### Timing stats"
   ]
  },
  {
   "cell_type": "code",
   "execution_count": 188,
   "metadata": {},
   "outputs": [
    {
     "data": {
      "image/png": "[encoded data removed]",
      "text/plain": [
       "<Figure size 1008x720 with 4 Axes>"
      ]
     },
     "metadata": {
      "needs_background": "light"
     },
     "output_type": "display_data"
    }
   ],
   "source": [
    "reco_gtrack_timing_histos(rgt.trackRecoTiming, figsize=(14,10))"
   ]
  },
  {
   "cell_type": "markdown",
   "metadata": {},
   "source": [
    "##### Graph tracks"
   ]
  },
  {
   "cell_type": "code",
   "execution_count": 189,
   "metadata": {},
   "outputs": [],
   "source": [
    "graphTracks = gtrack_df(rgt.gtracks, rb)"
   ]
  },
  {
   "cell_type": "code",
   "execution_count": 190,
   "metadata": {},
   "outputs": [
    {
     "data": {
      "text/html": [
       "<div>\n",
       "<style scoped>\n",
       "    .dataframe tbody tr th:only-of-type {\n",
       "        vertical-align: middle;\n",
       "    }\n",
       "\n",
       "    .dataframe tbody tr th {\n",
       "        vertical-align: top;\n",
       "    }\n",
       "\n",
       "    .dataframe thead th {\n",
       "        text-align: right;\n",
       "    }\n",
       "</style>\n",
       "<table border=\"1\" class=\"dataframe\">\n",
       "  <thead>\n",
       "    <tr style=\"text-align: right;\">\n",
       "      <th></th>\n",
       "      <th></th>\n",
       "      <th>event_id</th>\n",
       "      <th>track_id</th>\n",
       "      <th>n_voxels</th>\n",
       "      <th>trak_length</th>\n",
       "      <th>energy</th>\n",
       "      <th>x_e1</th>\n",
       "      <th>y_e1</th>\n",
       "      <th>z_e1</th>\n",
       "      <th>energy_e1</th>\n",
       "      <th>nvox_b1</th>\n",
       "      <th>energy_b1</th>\n",
       "      <th>x_e2</th>\n",
       "      <th>y_e2</th>\n",
       "      <th>z_e2</th>\n",
       "      <th>energy_e2</th>\n",
       "      <th>nvox_b2</th>\n",
       "      <th>energy_b2</th>\n",
       "    </tr>\n",
       "    <tr>\n",
       "      <th>evt_number</th>\n",
       "      <th>trk_number</th>\n",
       "      <th></th>\n",
       "      <th></th>\n",
       "      <th></th>\n",
       "      <th></th>\n",
       "      <th></th>\n",
       "      <th></th>\n",
       "      <th></th>\n",
       "      <th></th>\n",
       "      <th></th>\n",
       "      <th></th>\n",
       "      <th></th>\n",
       "      <th></th>\n",
       "      <th></th>\n",
       "      <th></th>\n",
       "      <th></th>\n",
       "      <th></th>\n",
       "      <th></th>\n",
       "    </tr>\n",
       "  </thead>\n",
       "  <tbody>\n",
       "    <tr>\n",
       "      <th rowspan=\"4\" valign=\"top\">0</th>\n",
       "      <th>0</th>\n",
       "      <td>212</td>\n",
       "      <td>0</td>\n",
       "      <td>47</td>\n",
       "      <td>128.388471</td>\n",
       "      <td>2267.494424</td>\n",
       "      <td>-161.863903</td>\n",
       "      <td>-410.403261</td>\n",
       "      <td>799.438663</td>\n",
       "      <td>0.209614</td>\n",
       "      <td>4</td>\n",
       "      <td>425.707355</td>\n",
       "      <td>-114.430321</td>\n",
       "      <td>-433.747009</td>\n",
       "      <td>787.070068</td>\n",
       "      <td>0.048411</td>\n",
       "      <td>6</td>\n",
       "      <td>449.074414</td>\n",
       "    </tr>\n",
       "    <tr>\n",
       "      <th>1</th>\n",
       "      <td>212</td>\n",
       "      <td>1</td>\n",
       "      <td>1</td>\n",
       "      <td>0.000000</td>\n",
       "      <td>12.581009</td>\n",
       "      <td>-154.306005</td>\n",
       "      <td>-210.879696</td>\n",
       "      <td>907.142098</td>\n",
       "      <td>0.012581</td>\n",
       "      <td>1</td>\n",
       "      <td>12.581009</td>\n",
       "      <td>-154.306005</td>\n",
       "      <td>-210.879696</td>\n",
       "      <td>907.142098</td>\n",
       "      <td>0.012581</td>\n",
       "      <td>1</td>\n",
       "      <td>12.581009</td>\n",
       "    </tr>\n",
       "    <tr>\n",
       "      <th>2</th>\n",
       "      <td>212</td>\n",
       "      <td>2</td>\n",
       "      <td>1</td>\n",
       "      <td>0.000000</td>\n",
       "      <td>29.781301</td>\n",
       "      <td>-110.534864</td>\n",
       "      <td>-155.678515</td>\n",
       "      <td>899.274488</td>\n",
       "      <td>0.029781</td>\n",
       "      <td>1</td>\n",
       "      <td>29.781301</td>\n",
       "      <td>-110.534864</td>\n",
       "      <td>-155.678515</td>\n",
       "      <td>899.274488</td>\n",
       "      <td>0.029781</td>\n",
       "      <td>1</td>\n",
       "      <td>29.781301</td>\n",
       "    </tr>\n",
       "    <tr>\n",
       "      <th>3</th>\n",
       "      <td>212</td>\n",
       "      <td>3</td>\n",
       "      <td>1</td>\n",
       "      <td>0.000000</td>\n",
       "      <td>132.281467</td>\n",
       "      <td>-107.638045</td>\n",
       "      <td>-171.495649</td>\n",
       "      <td>902.835057</td>\n",
       "      <td>0.132281</td>\n",
       "      <td>1</td>\n",
       "      <td>132.281467</td>\n",
       "      <td>-107.638045</td>\n",
       "      <td>-171.495649</td>\n",
       "      <td>902.835057</td>\n",
       "      <td>0.132281</td>\n",
       "      <td>1</td>\n",
       "      <td>132.281467</td>\n",
       "    </tr>\n",
       "    <tr>\n",
       "      <th>1</th>\n",
       "      <th>0</th>\n",
       "      <td>213</td>\n",
       "      <td>0</td>\n",
       "      <td>61</td>\n",
       "      <td>137.483020</td>\n",
       "      <td>2439.155334</td>\n",
       "      <td>-242.520752</td>\n",
       "      <td>283.138306</td>\n",
       "      <td>717.443176</td>\n",
       "      <td>0.007230</td>\n",
       "      <td>6</td>\n",
       "      <td>169.272269</td>\n",
       "      <td>-227.169733</td>\n",
       "      <td>278.949920</td>\n",
       "      <td>649.013203</td>\n",
       "      <td>0.104347</td>\n",
       "      <td>5</td>\n",
       "      <td>349.851433</td>\n",
       "    </tr>\n",
       "  </tbody>\n",
       "</table>\n",
       "</div>"
      ],
      "text/plain": [
       "                       event_id  track_id  n_voxels  trak_length       energy  \\\n",
       "evt_number trk_number                                                           \n",
       "0          0                212         0        47   128.388471  2267.494424   \n",
       "           1                212         1         1     0.000000    12.581009   \n",
       "           2                212         2         1     0.000000    29.781301   \n",
       "           3                212         3         1     0.000000   132.281467   \n",
       "1          0                213         0        61   137.483020  2439.155334   \n",
       "\n",
       "                             x_e1        y_e1        z_e1  energy_e1  nvox_b1  \\\n",
       "evt_number trk_number                                                           \n",
       "0          0          -161.863903 -410.403261  799.438663   0.209614        4   \n",
       "           1          -154.306005 -210.879696  907.142098   0.012581        1   \n",
       "           2          -110.534864 -155.678515  899.274488   0.029781        1   \n",
       "           3          -107.638045 -171.495649  902.835057   0.132281        1   \n",
       "1          0          -242.520752  283.138306  717.443176   0.007230        6   \n",
       "\n",
       "                        energy_b1        x_e2        y_e2        z_e2  \\\n",
       "evt_number trk_number                                                   \n",
       "0          0           425.707355 -114.430321 -433.747009  787.070068   \n",
       "           1            12.581009 -154.306005 -210.879696  907.142098   \n",
       "           2            29.781301 -110.534864 -155.678515  899.274488   \n",
       "           3           132.281467 -107.638045 -171.495649  902.835057   \n",
       "1          0           169.272269 -227.169733  278.949920  649.013203   \n",
       "\n",
       "                       energy_e2  nvox_b2   energy_b2  \n",
       "evt_number trk_number                                  \n",
       "0          0            0.048411        6  449.074414  \n",
       "           1            0.012581        1   12.581009  \n",
       "           2            0.029781        1   29.781301  \n",
       "           3            0.132281        1  132.281467  \n",
       "1          0            0.104347        5  349.851433  "
      ]
     },
     "execution_count": 190,
     "metadata": {},
     "output_type": "execute_result"
    }
   ],
   "source": [
    "graphTracks.head()"
   ]
  },
  {
   "cell_type": "markdown",
   "metadata": {},
   "source": [
    "##### True extrema"
   ]
  },
  {
   "cell_type": "code",
   "execution_count": 191,
   "metadata": {},
   "outputs": [
    {
     "data": {
      "text/html": [
       "<div>\n",
       "<style scoped>\n",
       "    .dataframe tbody tr th:only-of-type {\n",
       "        vertical-align: middle;\n",
       "    }\n",
       "\n",
       "    .dataframe tbody tr th {\n",
       "        vertical-align: top;\n",
       "    }\n",
       "\n",
       "    .dataframe thead th {\n",
       "        text-align: right;\n",
       "    }\n",
       "</style>\n",
       "<table border=\"1\" class=\"dataframe\">\n",
       "  <thead>\n",
       "    <tr style=\"text-align: right;\">\n",
       "      <th></th>\n",
       "      <th></th>\n",
       "      <th>x</th>\n",
       "      <th>y</th>\n",
       "      <th>z</th>\n",
       "      <th>time</th>\n",
       "      <th>energy</th>\n",
       "    </tr>\n",
       "    <tr>\n",
       "      <th>evt_number</th>\n",
       "      <th>extreme_number</th>\n",
       "      <th></th>\n",
       "      <th></th>\n",
       "      <th></th>\n",
       "      <th></th>\n",
       "      <th></th>\n",
       "    </tr>\n",
       "  </thead>\n",
       "  <tbody>\n",
       "    <tr>\n",
       "      <th rowspan=\"2\" valign=\"top\">0</th>\n",
       "      <th>0</th>\n",
       "      <td>-161.862625</td>\n",
       "      <td>-410.048401</td>\n",
       "      <td>798.626526</td>\n",
       "      <td>0.307825</td>\n",
       "      <td>3.007836</td>\n",
       "    </tr>\n",
       "    <tr>\n",
       "      <th>1</th>\n",
       "      <td>-112.179108</td>\n",
       "      <td>-434.243652</td>\n",
       "      <td>786.763184</td>\n",
       "      <td>0.503191</td>\n",
       "      <td>0.601369</td>\n",
       "    </tr>\n",
       "    <tr>\n",
       "      <th rowspan=\"2\" valign=\"top\">1</th>\n",
       "      <th>0</th>\n",
       "      <td>-227.316559</td>\n",
       "      <td>279.183472</td>\n",
       "      <td>648.786682</td>\n",
       "      <td>0.072518</td>\n",
       "      <td>4.137615</td>\n",
       "    </tr>\n",
       "    <tr>\n",
       "      <th>1</th>\n",
       "      <td>-233.384613</td>\n",
       "      <td>269.778229</td>\n",
       "      <td>709.347168</td>\n",
       "      <td>0.835184</td>\n",
       "      <td>3.842203</td>\n",
       "    </tr>\n",
       "    <tr>\n",
       "      <th>2</th>\n",
       "      <th>0</th>\n",
       "      <td>-140.505875</td>\n",
       "      <td>-67.944786</td>\n",
       "      <td>101.531654</td>\n",
       "      <td>0.898091</td>\n",
       "      <td>1.649465</td>\n",
       "    </tr>\n",
       "  </tbody>\n",
       "</table>\n",
       "</div>"
      ],
      "text/plain": [
       "                                    x           y           z      time  \\\n",
       "evt_number extreme_number                                                 \n",
       "0          0              -161.862625 -410.048401  798.626526  0.307825   \n",
       "           1              -112.179108 -434.243652  786.763184  0.503191   \n",
       "1          0              -227.316559  279.183472  648.786682  0.072518   \n",
       "           1              -233.384613  269.778229  709.347168  0.835184   \n",
       "2          0              -140.505875  -67.944786  101.531654  0.898091   \n",
       "\n",
       "                             energy  \n",
       "evt_number extreme_number            \n",
       "0          0               3.007836  \n",
       "           1               0.601369  \n",
       "1          0               4.137615  \n",
       "           1               3.842203  \n",
       "2          0               1.649465  "
      ]
     },
     "execution_count": 191,
     "metadata": {},
     "output_type": "execute_result"
    }
   ],
   "source": [
    "rgt.tExtrema.head()"
   ]
  },
  {
   "cell_type": "markdown",
   "metadata": {},
   "source": [
    "##### 1 track efficiency"
   ]
  },
  {
   "cell_type": "code",
   "execution_count": 192,
   "metadata": {},
   "outputs": [
    {
     "name": "stdout",
     "output_type": "stream",
     "text": [
      "bb0nu efficiency = 0.6588957055214724\n"
     ]
    }
   ],
   "source": [
    "print(f\"bb0nu efficiency = {rgt.trackRecoEventStats.e_gt/rgt.trackRecoEventStats.e_total}\")"
   ]
  },
  {
   "cell_type": "markdown",
   "metadata": {},
   "source": [
    "### Save and load to/from disk"
   ]
  },
  {
   "cell_type": "markdown",
   "metadata": {},
   "source": [
    "#### write"
   ]
  },
  {
   "cell_type": "code",
   "execution_count": 193,
   "metadata": {},
   "outputs": [],
   "source": [
    "rgt.write_setup()"
   ]
  }
 ],
 "metadata": {
  "kernelspec": {
   "display_name": "Python 3",
   "language": "python",
   "name": "python3"
  },
  "language_info": {
   "codemirror_mode": {
    "name": "ipython",
    "version": 3
   },
   "file_extension": ".py",
   "mimetype": "text/x-python",
   "name": "python",
   "nbconvert_exporter": "python",
   "pygments_lexer": "ipython3",
   "version": "3.7.7"
  }
 },
 "nbformat": 4,
 "nbformat_minor": 4
}
