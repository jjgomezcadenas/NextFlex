{
 "cells": [
  {
   "cell_type": "markdown",
   "metadata": {},
   "source": [
    "## Documents the module mctrue_functions.py"
   ]
  },
  {
   "cell_type": "code",
   "execution_count": 3,
   "metadata": {},
   "outputs": [
    {
     "data": {
      "text/html": [
       "<style>body {\n",
       "    margin: 0;\n",
       "    font-family: Helvetica;\n",
       "}\n",
       "table.dataframe {\n",
       "    border-collapse: collapse;\n",
       "    border: none;\n",
       "}\n",
       "table.dataframe tr {\n",
       "    border: none;\n",
       "}\n",
       "table.dataframe td, table.dataframe th {\n",
       "    margin: 0;\n",
       "    border: 1px solid white;\n",
       "    padding-left: 0.25em;\n",
       "    padding-right: 0.25em;\n",
       "}\n",
       "table.dataframe th:not(:empty) {\n",
       "    background-color: #fec;\n",
       "    text-align: left;\n",
       "    font-weight: normal;\n",
       "}\n",
       "table.dataframe tr:nth-child(2) th:empty {\n",
       "    border-left: none;\n",
       "    border-right: 1px dashed #888;\n",
       "}\n",
       "table.dataframe td {\n",
       "    border: 2px solid #ccf;\n",
       "    background-color: #f4f4ff;\n",
       "}\n",
       "h3 {\n",
       "    color: white;\n",
       "    background-color: black;\n",
       "    padding: 0.5em;\n",
       "}\n",
       "\n",
       "h2 {\n",
       "    color: white;\n",
       "    background-color: red;\n",
       "    padding: 0.5em;\n",
       "}\n",
       "\n",
       "h4 {\n",
       "    color: white;\n",
       "    background-color: blue;\n",
       "    padding: 0.5em;\n",
       "}\n",
       "\n",
       "h5 {\n",
       "    color: white;\n",
       "    background-color: gray;\n",
       "    padding: 0.5em;\n",
       "}\n",
       "</style>"
      ],
      "text/plain": [
       "<IPython.core.display.HTML object>"
      ]
     },
     "execution_count": 3,
     "metadata": {},
     "output_type": "execute_result"
    }
   ],
   "source": [
    "from IPython.core.display import HTML\n",
    "css = open('style-table.css').read() + open('style-notebook.css').read()\n",
    "HTML('<style>{}</style>'.format(css))"
   ]
  },
  {
   "cell_type": "markdown",
   "metadata": {},
   "source": [
    "#### General"
   ]
  },
  {
   "cell_type": "code",
   "execution_count": 4,
   "metadata": {},
   "outputs": [],
   "source": [
    "# General importings\n",
    "import os\n",
    "import sys\n",
    "import glob\n",
    "import logging\n",
    "import math\n",
    "import numpy  as np\n",
    "import warnings\n",
    "from scipy.stats import norm\n",
    "import pandas as pd\n",
    "import matplotlib.pyplot as plt\n",
    "from matplotlib import colors\n",
    "from mpl_toolkits.mplot3d import Axes3D \n",
    "import networkx as nx\n",
    "from itertools   import combinations"
   ]
  },
  {
   "cell_type": "code",
   "execution_count": 5,
   "metadata": {},
   "outputs": [],
   "source": [
    "from pandas import DataFrame, Series\n",
    "from typing import List, Tuple\n",
    "from typing import Union\n",
    "from   dataclasses import dataclass"
   ]
  },
  {
   "cell_type": "code",
   "execution_count": 6,
   "metadata": {},
   "outputs": [],
   "source": [
    "%matplotlib inline\n",
    "%load_ext autoreload\n",
    "%autoreload 2"
   ]
  },
  {
   "cell_type": "code",
   "execution_count": 7,
   "metadata": {},
   "outputs": [],
   "source": [
    "plt.rcParams[\"figure.figsize\"] = 8, 6\n",
    "plt.rcParams[\"font.size\"     ] = 14"
   ]
  },
  {
   "cell_type": "code",
   "execution_count": 8,
   "metadata": {},
   "outputs": [],
   "source": [
    "idx = pd.IndexSlice"
   ]
  },
  {
   "cell_type": "markdown",
   "metadata": {},
   "source": [
    "#### IC"
   ]
  },
  {
   "cell_type": "code",
   "execution_count": 9,
   "metadata": {},
   "outputs": [],
   "source": [
    "\n",
    "import invisible_cities.core.system_of_units  as units\n",
    "\n",
    "from invisible_cities.io.mcinfo_io import load_mcconfiguration\n",
    "from invisible_cities.io.mcinfo_io import load_mcparticles_df\n",
    "from invisible_cities.io.mcinfo_io import load_mchits_df\n",
    "from invisible_cities.io.mcinfo_io import load_mcsensor_positions\n",
    "from invisible_cities.io.mcinfo_io import load_mcsensor_response_df\n",
    "from invisible_cities.io.mcinfo_io import get_sensor_types\n",
    "from invisible_cities.io.mcinfo_io import get_sensor_binning\n",
    "from invisible_cities.io.mcinfo_io import get_event_numbers_in_file\n",
    "from invisible_cities.core.core_functions import in_range\n"
   ]
  },
  {
   "cell_type": "markdown",
   "metadata": {},
   "source": [
    "#### TICs"
   ]
  },
  {
   "cell_type": "code",
   "execution_count": 10,
   "metadata": {},
   "outputs": [],
   "source": [
    "from tics.histograms    import h1\n",
    "from tics.pd_tics       import get_index_slice_from_multi_index\n",
    "from tics.graphics_reco import plot_hits3d\n",
    "from tics.graphics_reco import plot_hits3d_and_true_extrema\n",
    "from tics.stats_tics    import bin_data_with_equal_bin_size\n",
    "from tics.util_tics import get_class_name\n",
    "from tics.util_tics import Range\n",
    "from tics.graphics_reco import plot_gtrack\n",
    "from tics.system_of_units import *"
   ]
  },
  {
   "cell_type": "markdown",
   "metadata": {},
   "source": [
    "#### NetFlex"
   ]
  },
  {
   "cell_type": "code",
   "execution_count": 11,
   "metadata": {},
   "outputs": [],
   "source": [
    "from nextflex.core import Setup"
   ]
  },
  {
   "cell_type": "code",
   "execution_count": 12,
   "metadata": {},
   "outputs": [],
   "source": [
    "from nextflex.core import Setup\n",
    "from nextflex.mctrue_functions import get_mc_particles\n",
    "from nextflex.mctrue_functions import get_mc_primary_particles\n",
    "from nextflex.mctrue_functions import get_mc_vertex\n",
    "from nextflex.mctrue_functions import select_mc_particles\n",
    "from nextflex.mctrue_functions import get_mc_hits\n",
    "from nextflex.mctrue_functions import select_mc_hits\n",
    "from nextflex.mctrue_functions import total_hit_energy\n",
    "from nextflex.mctrue_functions import get_event_hits_from_mchits\n",
    "from nextflex.mctrue_functions import get_true_extrema\n",
    "from nextflex.mctrue_functions import get_particle_ids_from_mchits\n",
    "from nextflex.mctrue_functions import get_hit_ids_from_mchits"
   ]
  },
  {
   "cell_type": "markdown",
   "metadata": {},
   "source": [
    "### Input data"
   ]
  },
  {
   "cell_type": "code",
   "execution_count": 13,
   "metadata": {},
   "outputs": [],
   "source": [
    "FDATA = os.environ['FLEXDATA']"
   ]
  },
  {
   "cell_type": "markdown",
   "metadata": {},
   "source": [
    "### test file"
   ]
  },
  {
   "cell_type": "code",
   "execution_count": 14,
   "metadata": {},
   "outputs": [],
   "source": [
    "testFilebb      = os.path.join(FDATA,\"testData\",\n",
    "                            'FLEX100_M6_O6.Xe136_bb0nu.ACTIVE.0.next.h5')\n",
    "testFile1e      = os.path.join(FDATA,\"testData\",\n",
    "                            'FLEX100_M6_O6.e-.ACTIVE.1000.next.h5')\n"
   ]
  },
  {
   "cell_type": "markdown",
   "metadata": {},
   "source": [
    "### Functions"
   ]
  },
  {
   "cell_type": "markdown",
   "metadata": {},
   "source": [
    "#### Monte Carlo Particles\n",
    "- Nexus returns a DataFrame describing Monte Carlo Particles, with:\n",
    "\n",
    "columns = ('particle_name', 'primary', 'mother_id',\n",
    "           'initial_x', 'initial_y', 'initial_z', 'initial_t',\n",
    "           'final_x', 'final_y', 'final_z', 'final_t',\n",
    "           'initial_volume', 'final_volume', 'initial_momentum_x',\n",
    "           'initial_momentum_y', 'initial_momentum_z', 'final_momentum_x',\n",
    "           'final_momentum_y', 'final_momentum_z', 'kin_energy', 'length',\n",
    "           'creator_proc', 'final_proc')\n",
    "           \n",
    "and:\n",
    "\n",
    "index = ('event_id', 'particle_id')\n",
    "\n",
    "- In NextFlex, the DataFrame is wrapped in an object of type McParticles (the purpose is to give a type to the object)\n",
    "\n",
    "@dataclass\n",
    "class McParticles():\n",
    "\n",
    "    \"\"\"\n",
    "    Wrapper data class to give a type to the DataFrame\n",
    "    representing a collection of particles and events\n",
    "    with indexes running over particle_id and event_id\n",
    "\n",
    "    \"\"\"\n",
    "    df      : DataFrame\n",
    "    \n",
    "***\n",
    "\n",
    "- Function **get_mc_particles** return an object of type McParticles:\n",
    "\n",
    "***\n",
    "def get_mc_particles(file_name : str)->McParticles:\n",
    "\n",
    "    \"\"\"\n",
    "    Return a McParticles object\n",
    "\n",
    "    \"\"\"\n",
    "***\n",
    "\n",
    "- Primary particles can be obtained with function **get_mc_primary_particles**\n",
    "\n",
    "***\n",
    "def get_mc_primary_particles(mc : McParticles)->McParticles:\n",
    "\n",
    "    \"\"\"\n",
    "    Return primary particles\n",
    "\n",
    "    \"\"\"\n",
    "***\n",
    "\n",
    "- Particles can be selected with function **select_mc_particles**:\n",
    "\n",
    "***\n",
    "select_mc_particles(mc : McParticles,\n",
    "                        event_slice : slice, particle_slice : slice,\n",
    "                        columns : Columns = None)->Union[McParticles,\n",
    "                                                         pd.Series,\n",
    "                                                         pd.DataFrame]:\n",
    "                                                         \n",
    "    \"\"\"\n",
    "    The slice type is of the form slice(start, stop, step).\n",
    "    Notice that slice(stop) is valid and slice(start, stop) is also valid\n",
    "    Very importantly, notice that in pandas, the slicing\n",
    "    follows a different convention than in python\n",
    "    (which is very convenient), e.g, the slice includes start and stop\n",
    "\n",
    "    If columns are not selected, the result of the operation is\n",
    "    a McParticles object, otherwise a\n",
    "    Series or DataFrame obtained by the column selection.\n",
    "\n",
    "    \"\"\"\n",
    "***"
   ]
  },
  {
   "cell_type": "markdown",
   "metadata": {},
   "source": [
    "##### Example: for bb0nu"
   ]
  },
  {
   "cell_type": "code",
   "execution_count": 15,
   "metadata": {},
   "outputs": [],
   "source": [
    "mcParticlesbb = get_mc_particles(testFilebb)"
   ]
  },
  {
   "cell_type": "code",
   "execution_count": 16,
   "metadata": {},
   "outputs": [
    {
     "data": {
      "text/html": [
       "<div>\n",
       "<style scoped>\n",
       "    .dataframe tbody tr th:only-of-type {\n",
       "        vertical-align: middle;\n",
       "    }\n",
       "\n",
       "    .dataframe tbody tr th {\n",
       "        vertical-align: top;\n",
       "    }\n",
       "\n",
       "    .dataframe thead th {\n",
       "        text-align: right;\n",
       "    }\n",
       "</style>\n",
       "<table border=\"1\" class=\"dataframe\">\n",
       "  <thead>\n",
       "    <tr style=\"text-align: right;\">\n",
       "      <th></th>\n",
       "      <th></th>\n",
       "      <th>particle_name</th>\n",
       "      <th>primary</th>\n",
       "      <th>mother_id</th>\n",
       "      <th>initial_x</th>\n",
       "      <th>initial_y</th>\n",
       "      <th>initial_z</th>\n",
       "      <th>initial_t</th>\n",
       "      <th>final_x</th>\n",
       "      <th>final_y</th>\n",
       "      <th>final_z</th>\n",
       "      <th>...</th>\n",
       "      <th>initial_momentum_x</th>\n",
       "      <th>initial_momentum_y</th>\n",
       "      <th>initial_momentum_z</th>\n",
       "      <th>final_momentum_x</th>\n",
       "      <th>final_momentum_y</th>\n",
       "      <th>final_momentum_z</th>\n",
       "      <th>kin_energy</th>\n",
       "      <th>length</th>\n",
       "      <th>creator_proc</th>\n",
       "      <th>final_proc</th>\n",
       "    </tr>\n",
       "    <tr>\n",
       "      <th>event_id</th>\n",
       "      <th>particle_id</th>\n",
       "      <th></th>\n",
       "      <th></th>\n",
       "      <th></th>\n",
       "      <th></th>\n",
       "      <th></th>\n",
       "      <th></th>\n",
       "      <th></th>\n",
       "      <th></th>\n",
       "      <th></th>\n",
       "      <th></th>\n",
       "      <th></th>\n",
       "      <th></th>\n",
       "      <th></th>\n",
       "      <th></th>\n",
       "      <th></th>\n",
       "      <th></th>\n",
       "      <th></th>\n",
       "      <th></th>\n",
       "      <th></th>\n",
       "      <th></th>\n",
       "      <th></th>\n",
       "    </tr>\n",
       "  </thead>\n",
       "  <tbody>\n",
       "    <tr>\n",
       "      <th rowspan=\"5\" valign=\"top\">0</th>\n",
       "      <th>1</th>\n",
       "      <td>e-</td>\n",
       "      <td>True</td>\n",
       "      <td>0</td>\n",
       "      <td>-269.933502</td>\n",
       "      <td>-240.895767</td>\n",
       "      <td>725.168030</td>\n",
       "      <td>0.000000</td>\n",
       "      <td>-273.207062</td>\n",
       "      <td>-255.572342</td>\n",
       "      <td>724.871460</td>\n",
       "      <td>...</td>\n",
       "      <td>-1.230723</td>\n",
       "      <td>0.196183</td>\n",
       "      <td>-0.760573</td>\n",
       "      <td>0.0</td>\n",
       "      <td>-0.0</td>\n",
       "      <td>-0.0</td>\n",
       "      <td>1.035855</td>\n",
       "      <td>89.427818</td>\n",
       "      <td>none</td>\n",
       "      <td>Scintillation</td>\n",
       "    </tr>\n",
       "    <tr>\n",
       "      <th>2</th>\n",
       "      <td>e-</td>\n",
       "      <td>True</td>\n",
       "      <td>0</td>\n",
       "      <td>-269.933502</td>\n",
       "      <td>-240.895767</td>\n",
       "      <td>725.168030</td>\n",
       "      <td>0.000000</td>\n",
       "      <td>-261.039703</td>\n",
       "      <td>-230.863617</td>\n",
       "      <td>792.874023</td>\n",
       "      <td>...</td>\n",
       "      <td>0.323464</td>\n",
       "      <td>-0.309306</td>\n",
       "      <td>1.809687</td>\n",
       "      <td>0.0</td>\n",
       "      <td>-0.0</td>\n",
       "      <td>0.0</td>\n",
       "      <td>1.421975</td>\n",
       "      <td>139.282562</td>\n",
       "      <td>none</td>\n",
       "      <td>Scintillation</td>\n",
       "    </tr>\n",
       "    <tr>\n",
       "      <th>58268873</th>\n",
       "      <td>e-</td>\n",
       "      <td>False</td>\n",
       "      <td>2</td>\n",
       "      <td>-255.551224</td>\n",
       "      <td>-223.139282</td>\n",
       "      <td>798.507751</td>\n",
       "      <td>0.389063</td>\n",
       "      <td>-255.514328</td>\n",
       "      <td>-223.028610</td>\n",
       "      <td>798.619751</td>\n",
       "      <td>...</td>\n",
       "      <td>0.029650</td>\n",
       "      <td>0.110097</td>\n",
       "      <td>0.185897</td>\n",
       "      <td>0.0</td>\n",
       "      <td>-0.0</td>\n",
       "      <td>0.0</td>\n",
       "      <td>0.044589</td>\n",
       "      <td>1.045491</td>\n",
       "      <td>eIoni</td>\n",
       "      <td>Scintillation</td>\n",
       "    </tr>\n",
       "    <tr>\n",
       "      <th>89243466</th>\n",
       "      <td>e-</td>\n",
       "      <td>False</td>\n",
       "      <td>1</td>\n",
       "      <td>-273.232025</td>\n",
       "      <td>-240.705490</td>\n",
       "      <td>722.708618</td>\n",
       "      <td>0.014599</td>\n",
       "      <td>-273.400360</td>\n",
       "      <td>-240.725677</td>\n",
       "      <td>722.638245</td>\n",
       "      <td>...</td>\n",
       "      <td>0.099138</td>\n",
       "      <td>0.156985</td>\n",
       "      <td>-0.159078</td>\n",
       "      <td>-0.0</td>\n",
       "      <td>-0.0</td>\n",
       "      <td>0.0</td>\n",
       "      <td>0.055480</td>\n",
       "      <td>1.270810</td>\n",
       "      <td>eIoni</td>\n",
       "      <td>Scintillation</td>\n",
       "    </tr>\n",
       "    <tr>\n",
       "      <th>105688967</th>\n",
       "      <td>gamma</td>\n",
       "      <td>False</td>\n",
       "      <td>1</td>\n",
       "      <td>-285.643219</td>\n",
       "      <td>-247.731064</td>\n",
       "      <td>719.493469</td>\n",
       "      <td>0.097019</td>\n",
       "      <td>-285.658417</td>\n",
       "      <td>-247.798508</td>\n",
       "      <td>719.528198</td>\n",
       "      <td>...</td>\n",
       "      <td>-0.000637</td>\n",
       "      <td>-0.002823</td>\n",
       "      <td>0.001454</td>\n",
       "      <td>-0.0</td>\n",
       "      <td>-0.0</td>\n",
       "      <td>0.0</td>\n",
       "      <td>0.003239</td>\n",
       "      <td>0.077368</td>\n",
       "      <td>eBrem</td>\n",
       "      <td>phot</td>\n",
       "    </tr>\n",
       "  </tbody>\n",
       "</table>\n",
       "<p>5 rows × 23 columns</p>\n",
       "</div>"
      ],
      "text/plain": [
       "                     particle_name  primary  mother_id   initial_x  \\\n",
       "event_id particle_id                                                 \n",
       "0        1                      e-     True          0 -269.933502   \n",
       "         2                      e-     True          0 -269.933502   \n",
       "         58268873               e-    False          2 -255.551224   \n",
       "         89243466               e-    False          1 -273.232025   \n",
       "         105688967           gamma    False          1 -285.643219   \n",
       "\n",
       "                       initial_y   initial_z  initial_t     final_x  \\\n",
       "event_id particle_id                                                  \n",
       "0        1           -240.895767  725.168030   0.000000 -273.207062   \n",
       "         2           -240.895767  725.168030   0.000000 -261.039703   \n",
       "         58268873    -223.139282  798.507751   0.389063 -255.514328   \n",
       "         89243466    -240.705490  722.708618   0.014599 -273.400360   \n",
       "         105688967   -247.731064  719.493469   0.097019 -285.658417   \n",
       "\n",
       "                         final_y     final_z  ...  initial_momentum_x  \\\n",
       "event_id particle_id                          ...                       \n",
       "0        1           -255.572342  724.871460  ...           -1.230723   \n",
       "         2           -230.863617  792.874023  ...            0.323464   \n",
       "         58268873    -223.028610  798.619751  ...            0.029650   \n",
       "         89243466    -240.725677  722.638245  ...            0.099138   \n",
       "         105688967   -247.798508  719.528198  ...           -0.000637   \n",
       "\n",
       "                     initial_momentum_y initial_momentum_z  final_momentum_x  \\\n",
       "event_id particle_id                                                           \n",
       "0        1                     0.196183          -0.760573               0.0   \n",
       "         2                    -0.309306           1.809687               0.0   \n",
       "         58268873              0.110097           0.185897               0.0   \n",
       "         89243466              0.156985          -0.159078              -0.0   \n",
       "         105688967            -0.002823           0.001454              -0.0   \n",
       "\n",
       "                      final_momentum_y  final_momentum_z  kin_energy  \\\n",
       "event_id particle_id                                                   \n",
       "0        1                        -0.0              -0.0    1.035855   \n",
       "         2                        -0.0               0.0    1.421975   \n",
       "         58268873                 -0.0               0.0    0.044589   \n",
       "         89243466                 -0.0               0.0    0.055480   \n",
       "         105688967                -0.0               0.0    0.003239   \n",
       "\n",
       "                          length  creator_proc     final_proc  \n",
       "event_id particle_id                                           \n",
       "0        1             89.427818          none  Scintillation  \n",
       "         2            139.282562          none  Scintillation  \n",
       "         58268873       1.045491         eIoni  Scintillation  \n",
       "         89243466       1.270810         eIoni  Scintillation  \n",
       "         105688967      0.077368         eBrem           phot  \n",
       "\n",
       "[5 rows x 23 columns]"
      ]
     },
     "execution_count": 16,
     "metadata": {},
     "output_type": "execute_result"
    }
   ],
   "source": [
    "mcParticlesbb.df.head()"
   ]
  },
  {
   "cell_type": "code",
   "execution_count": 17,
   "metadata": {},
   "outputs": [
    {
     "data": {
      "text/html": [
       "<div>\n",
       "<style scoped>\n",
       "    .dataframe tbody tr th:only-of-type {\n",
       "        vertical-align: middle;\n",
       "    }\n",
       "\n",
       "    .dataframe tbody tr th {\n",
       "        vertical-align: top;\n",
       "    }\n",
       "\n",
       "    .dataframe thead th {\n",
       "        text-align: right;\n",
       "    }\n",
       "</style>\n",
       "<table border=\"1\" class=\"dataframe\">\n",
       "  <thead>\n",
       "    <tr style=\"text-align: right;\">\n",
       "      <th></th>\n",
       "      <th></th>\n",
       "      <th>particle_name</th>\n",
       "      <th>primary</th>\n",
       "      <th>mother_id</th>\n",
       "      <th>initial_x</th>\n",
       "      <th>initial_y</th>\n",
       "      <th>initial_z</th>\n",
       "      <th>initial_t</th>\n",
       "      <th>final_x</th>\n",
       "      <th>final_y</th>\n",
       "      <th>final_z</th>\n",
       "      <th>...</th>\n",
       "      <th>initial_momentum_x</th>\n",
       "      <th>initial_momentum_y</th>\n",
       "      <th>initial_momentum_z</th>\n",
       "      <th>final_momentum_x</th>\n",
       "      <th>final_momentum_y</th>\n",
       "      <th>final_momentum_z</th>\n",
       "      <th>kin_energy</th>\n",
       "      <th>length</th>\n",
       "      <th>creator_proc</th>\n",
       "      <th>final_proc</th>\n",
       "    </tr>\n",
       "    <tr>\n",
       "      <th>event_id</th>\n",
       "      <th>particle_id</th>\n",
       "      <th></th>\n",
       "      <th></th>\n",
       "      <th></th>\n",
       "      <th></th>\n",
       "      <th></th>\n",
       "      <th></th>\n",
       "      <th></th>\n",
       "      <th></th>\n",
       "      <th></th>\n",
       "      <th></th>\n",
       "      <th></th>\n",
       "      <th></th>\n",
       "      <th></th>\n",
       "      <th></th>\n",
       "      <th></th>\n",
       "      <th></th>\n",
       "      <th></th>\n",
       "      <th></th>\n",
       "      <th></th>\n",
       "      <th></th>\n",
       "      <th></th>\n",
       "    </tr>\n",
       "  </thead>\n",
       "  <tbody>\n",
       "    <tr>\n",
       "      <th rowspan=\"2\" valign=\"top\">0</th>\n",
       "      <th>1</th>\n",
       "      <td>e-</td>\n",
       "      <td>True</td>\n",
       "      <td>0</td>\n",
       "      <td>-269.933502</td>\n",
       "      <td>-240.895767</td>\n",
       "      <td>725.168030</td>\n",
       "      <td>0.0</td>\n",
       "      <td>-273.207062</td>\n",
       "      <td>-255.572342</td>\n",
       "      <td>724.871460</td>\n",
       "      <td>...</td>\n",
       "      <td>-1.230723</td>\n",
       "      <td>0.196183</td>\n",
       "      <td>-0.760573</td>\n",
       "      <td>0.0</td>\n",
       "      <td>-0.0</td>\n",
       "      <td>-0.0</td>\n",
       "      <td>1.035855</td>\n",
       "      <td>89.427818</td>\n",
       "      <td>none</td>\n",
       "      <td>Scintillation</td>\n",
       "    </tr>\n",
       "    <tr>\n",
       "      <th>2</th>\n",
       "      <td>e-</td>\n",
       "      <td>True</td>\n",
       "      <td>0</td>\n",
       "      <td>-269.933502</td>\n",
       "      <td>-240.895767</td>\n",
       "      <td>725.168030</td>\n",
       "      <td>0.0</td>\n",
       "      <td>-261.039703</td>\n",
       "      <td>-230.863617</td>\n",
       "      <td>792.874023</td>\n",
       "      <td>...</td>\n",
       "      <td>0.323464</td>\n",
       "      <td>-0.309306</td>\n",
       "      <td>1.809687</td>\n",
       "      <td>0.0</td>\n",
       "      <td>-0.0</td>\n",
       "      <td>0.0</td>\n",
       "      <td>1.421975</td>\n",
       "      <td>139.282562</td>\n",
       "      <td>none</td>\n",
       "      <td>Scintillation</td>\n",
       "    </tr>\n",
       "    <tr>\n",
       "      <th rowspan=\"2\" valign=\"top\">1</th>\n",
       "      <th>1</th>\n",
       "      <td>e-</td>\n",
       "      <td>True</td>\n",
       "      <td>0</td>\n",
       "      <td>165.188828</td>\n",
       "      <td>-269.694000</td>\n",
       "      <td>276.376678</td>\n",
       "      <td>0.0</td>\n",
       "      <td>142.678940</td>\n",
       "      <td>-234.377289</td>\n",
       "      <td>313.767792</td>\n",
       "      <td>...</td>\n",
       "      <td>-0.620946</td>\n",
       "      <td>1.605168</td>\n",
       "      <td>-1.176261</td>\n",
       "      <td>0.0</td>\n",
       "      <td>0.0</td>\n",
       "      <td>-0.0</td>\n",
       "      <td>1.635358</td>\n",
       "      <td>146.873718</td>\n",
       "      <td>none</td>\n",
       "      <td>Scintillation</td>\n",
       "    </tr>\n",
       "    <tr>\n",
       "      <th>2</th>\n",
       "      <td>e-</td>\n",
       "      <td>True</td>\n",
       "      <td>0</td>\n",
       "      <td>165.188828</td>\n",
       "      <td>-269.694000</td>\n",
       "      <td>276.376678</td>\n",
       "      <td>0.0</td>\n",
       "      <td>193.813828</td>\n",
       "      <td>-268.276672</td>\n",
       "      <td>269.610596</td>\n",
       "      <td>...</td>\n",
       "      <td>0.868705</td>\n",
       "      <td>0.862397</td>\n",
       "      <td>-0.136560</td>\n",
       "      <td>0.0</td>\n",
       "      <td>0.0</td>\n",
       "      <td>-0.0</td>\n",
       "      <td>0.822472</td>\n",
       "      <td>75.891449</td>\n",
       "      <td>none</td>\n",
       "      <td>Scintillation</td>\n",
       "    </tr>\n",
       "    <tr>\n",
       "      <th rowspan=\"2\" valign=\"top\">2</th>\n",
       "      <th>1</th>\n",
       "      <td>e-</td>\n",
       "      <td>True</td>\n",
       "      <td>0</td>\n",
       "      <td>158.634872</td>\n",
       "      <td>-419.372192</td>\n",
       "      <td>842.490967</td>\n",
       "      <td>0.0</td>\n",
       "      <td>184.076187</td>\n",
       "      <td>-425.637848</td>\n",
       "      <td>830.014221</td>\n",
       "      <td>...</td>\n",
       "      <td>0.955685</td>\n",
       "      <td>0.333815</td>\n",
       "      <td>0.421589</td>\n",
       "      <td>-0.0</td>\n",
       "      <td>-0.0</td>\n",
       "      <td>-0.0</td>\n",
       "      <td>0.698804</td>\n",
       "      <td>63.888588</td>\n",
       "      <td>none</td>\n",
       "      <td>Scintillation</td>\n",
       "    </tr>\n",
       "    <tr>\n",
       "      <th>2</th>\n",
       "      <td>e-</td>\n",
       "      <td>True</td>\n",
       "      <td>0</td>\n",
       "      <td>158.634872</td>\n",
       "      <td>-419.372192</td>\n",
       "      <td>842.490967</td>\n",
       "      <td>0.0</td>\n",
       "      <td>119.082611</td>\n",
       "      <td>-456.185028</td>\n",
       "      <td>827.313965</td>\n",
       "      <td>...</td>\n",
       "      <td>0.479969</td>\n",
       "      <td>2.063274</td>\n",
       "      <td>0.635943</td>\n",
       "      <td>-0.0</td>\n",
       "      <td>0.0</td>\n",
       "      <td>0.0</td>\n",
       "      <td>1.759026</td>\n",
       "      <td>167.192703</td>\n",
       "      <td>none</td>\n",
       "      <td>Scintillation</td>\n",
       "    </tr>\n",
       "    <tr>\n",
       "      <th rowspan=\"2\" valign=\"top\">3</th>\n",
       "      <th>1</th>\n",
       "      <td>e-</td>\n",
       "      <td>True</td>\n",
       "      <td>0</td>\n",
       "      <td>361.181091</td>\n",
       "      <td>97.745796</td>\n",
       "      <td>977.284607</td>\n",
       "      <td>0.0</td>\n",
       "      <td>378.840088</td>\n",
       "      <td>95.132118</td>\n",
       "      <td>982.473083</td>\n",
       "      <td>...</td>\n",
       "      <td>-1.254571</td>\n",
       "      <td>1.780896</td>\n",
       "      <td>0.615342</td>\n",
       "      <td>0.0</td>\n",
       "      <td>-0.0</td>\n",
       "      <td>-0.0</td>\n",
       "      <td>1.809627</td>\n",
       "      <td>151.753540</td>\n",
       "      <td>none</td>\n",
       "      <td>Scintillation</td>\n",
       "    </tr>\n",
       "    <tr>\n",
       "      <th>2</th>\n",
       "      <td>e-</td>\n",
       "      <td>True</td>\n",
       "      <td>0</td>\n",
       "      <td>361.181091</td>\n",
       "      <td>97.745796</td>\n",
       "      <td>977.284607</td>\n",
       "      <td>0.0</td>\n",
       "      <td>358.945526</td>\n",
       "      <td>83.303543</td>\n",
       "      <td>984.803406</td>\n",
       "      <td>...</td>\n",
       "      <td>0.323321</td>\n",
       "      <td>0.901276</td>\n",
       "      <td>0.407179</td>\n",
       "      <td>-0.0</td>\n",
       "      <td>0.0</td>\n",
       "      <td>0.0</td>\n",
       "      <td>0.648203</td>\n",
       "      <td>56.463425</td>\n",
       "      <td>none</td>\n",
       "      <td>Scintillation</td>\n",
       "    </tr>\n",
       "  </tbody>\n",
       "</table>\n",
       "<p>8 rows × 23 columns</p>\n",
       "</div>"
      ],
      "text/plain": [
       "                     particle_name  primary  mother_id   initial_x  \\\n",
       "event_id particle_id                                                 \n",
       "0        1                      e-     True          0 -269.933502   \n",
       "         2                      e-     True          0 -269.933502   \n",
       "1        1                      e-     True          0  165.188828   \n",
       "         2                      e-     True          0  165.188828   \n",
       "2        1                      e-     True          0  158.634872   \n",
       "         2                      e-     True          0  158.634872   \n",
       "3        1                      e-     True          0  361.181091   \n",
       "         2                      e-     True          0  361.181091   \n",
       "\n",
       "                       initial_y   initial_z  initial_t     final_x  \\\n",
       "event_id particle_id                                                  \n",
       "0        1           -240.895767  725.168030        0.0 -273.207062   \n",
       "         2           -240.895767  725.168030        0.0 -261.039703   \n",
       "1        1           -269.694000  276.376678        0.0  142.678940   \n",
       "         2           -269.694000  276.376678        0.0  193.813828   \n",
       "2        1           -419.372192  842.490967        0.0  184.076187   \n",
       "         2           -419.372192  842.490967        0.0  119.082611   \n",
       "3        1             97.745796  977.284607        0.0  378.840088   \n",
       "         2             97.745796  977.284607        0.0  358.945526   \n",
       "\n",
       "                         final_y     final_z  ...  initial_momentum_x  \\\n",
       "event_id particle_id                          ...                       \n",
       "0        1           -255.572342  724.871460  ...           -1.230723   \n",
       "         2           -230.863617  792.874023  ...            0.323464   \n",
       "1        1           -234.377289  313.767792  ...           -0.620946   \n",
       "         2           -268.276672  269.610596  ...            0.868705   \n",
       "2        1           -425.637848  830.014221  ...            0.955685   \n",
       "         2           -456.185028  827.313965  ...            0.479969   \n",
       "3        1             95.132118  982.473083  ...           -1.254571   \n",
       "         2             83.303543  984.803406  ...            0.323321   \n",
       "\n",
       "                     initial_momentum_y initial_momentum_z  final_momentum_x  \\\n",
       "event_id particle_id                                                           \n",
       "0        1                     0.196183          -0.760573               0.0   \n",
       "         2                    -0.309306           1.809687               0.0   \n",
       "1        1                     1.605168          -1.176261               0.0   \n",
       "         2                     0.862397          -0.136560               0.0   \n",
       "2        1                     0.333815           0.421589              -0.0   \n",
       "         2                     2.063274           0.635943              -0.0   \n",
       "3        1                     1.780896           0.615342               0.0   \n",
       "         2                     0.901276           0.407179              -0.0   \n",
       "\n",
       "                      final_momentum_y  final_momentum_z  kin_energy  \\\n",
       "event_id particle_id                                                   \n",
       "0        1                        -0.0              -0.0    1.035855   \n",
       "         2                        -0.0               0.0    1.421975   \n",
       "1        1                         0.0              -0.0    1.635358   \n",
       "         2                         0.0              -0.0    0.822472   \n",
       "2        1                        -0.0              -0.0    0.698804   \n",
       "         2                         0.0               0.0    1.759026   \n",
       "3        1                        -0.0              -0.0    1.809627   \n",
       "         2                         0.0               0.0    0.648203   \n",
       "\n",
       "                          length  creator_proc     final_proc  \n",
       "event_id particle_id                                           \n",
       "0        1             89.427818          none  Scintillation  \n",
       "         2            139.282562          none  Scintillation  \n",
       "1        1            146.873718          none  Scintillation  \n",
       "         2             75.891449          none  Scintillation  \n",
       "2        1             63.888588          none  Scintillation  \n",
       "         2            167.192703          none  Scintillation  \n",
       "3        1            151.753540          none  Scintillation  \n",
       "         2             56.463425          none  Scintillation  \n",
       "\n",
       "[8 rows x 23 columns]"
      ]
     },
     "execution_count": 17,
     "metadata": {},
     "output_type": "execute_result"
    }
   ],
   "source": [
    "mcPrimaryParticlesbb = get_mc_primary_particles(mcParticlesbb)\n",
    "mcPrimaryParticlesbb.df"
   ]
  },
  {
   "cell_type": "markdown",
   "metadata": {},
   "source": [
    "##### Alternatively we can also do (for event_id = 0, for example):"
   ]
  },
  {
   "cell_type": "code",
   "execution_count": 18,
   "metadata": {},
   "outputs": [],
   "source": [
    "mcPrim = select_mc_particles(mcPrimaryParticlesbb,\n",
    "                      event_slice=slice(0,0), particle_slice=slice(1,2))\n"
   ]
  },
  {
   "cell_type": "code",
   "execution_count": 19,
   "metadata": {},
   "outputs": [
    {
     "data": {
      "text/html": [
       "<div>\n",
       "<style scoped>\n",
       "    .dataframe tbody tr th:only-of-type {\n",
       "        vertical-align: middle;\n",
       "    }\n",
       "\n",
       "    .dataframe tbody tr th {\n",
       "        vertical-align: top;\n",
       "    }\n",
       "\n",
       "    .dataframe thead th {\n",
       "        text-align: right;\n",
       "    }\n",
       "</style>\n",
       "<table border=\"1\" class=\"dataframe\">\n",
       "  <thead>\n",
       "    <tr style=\"text-align: right;\">\n",
       "      <th></th>\n",
       "      <th></th>\n",
       "      <th>particle_name</th>\n",
       "      <th>primary</th>\n",
       "      <th>mother_id</th>\n",
       "      <th>initial_x</th>\n",
       "      <th>initial_y</th>\n",
       "      <th>initial_z</th>\n",
       "      <th>initial_t</th>\n",
       "      <th>final_x</th>\n",
       "      <th>final_y</th>\n",
       "      <th>final_z</th>\n",
       "      <th>...</th>\n",
       "      <th>initial_momentum_x</th>\n",
       "      <th>initial_momentum_y</th>\n",
       "      <th>initial_momentum_z</th>\n",
       "      <th>final_momentum_x</th>\n",
       "      <th>final_momentum_y</th>\n",
       "      <th>final_momentum_z</th>\n",
       "      <th>kin_energy</th>\n",
       "      <th>length</th>\n",
       "      <th>creator_proc</th>\n",
       "      <th>final_proc</th>\n",
       "    </tr>\n",
       "    <tr>\n",
       "      <th>event_id</th>\n",
       "      <th>particle_id</th>\n",
       "      <th></th>\n",
       "      <th></th>\n",
       "      <th></th>\n",
       "      <th></th>\n",
       "      <th></th>\n",
       "      <th></th>\n",
       "      <th></th>\n",
       "      <th></th>\n",
       "      <th></th>\n",
       "      <th></th>\n",
       "      <th></th>\n",
       "      <th></th>\n",
       "      <th></th>\n",
       "      <th></th>\n",
       "      <th></th>\n",
       "      <th></th>\n",
       "      <th></th>\n",
       "      <th></th>\n",
       "      <th></th>\n",
       "      <th></th>\n",
       "      <th></th>\n",
       "    </tr>\n",
       "  </thead>\n",
       "  <tbody>\n",
       "    <tr>\n",
       "      <th rowspan=\"2\" valign=\"top\">0</th>\n",
       "      <th>1</th>\n",
       "      <td>e-</td>\n",
       "      <td>True</td>\n",
       "      <td>0</td>\n",
       "      <td>-269.933502</td>\n",
       "      <td>-240.895767</td>\n",
       "      <td>725.16803</td>\n",
       "      <td>0.0</td>\n",
       "      <td>-273.207062</td>\n",
       "      <td>-255.572342</td>\n",
       "      <td>724.871460</td>\n",
       "      <td>...</td>\n",
       "      <td>-1.230723</td>\n",
       "      <td>0.196183</td>\n",
       "      <td>-0.760573</td>\n",
       "      <td>0.0</td>\n",
       "      <td>-0.0</td>\n",
       "      <td>-0.0</td>\n",
       "      <td>1.035855</td>\n",
       "      <td>89.427818</td>\n",
       "      <td>none</td>\n",
       "      <td>Scintillation</td>\n",
       "    </tr>\n",
       "    <tr>\n",
       "      <th>2</th>\n",
       "      <td>e-</td>\n",
       "      <td>True</td>\n",
       "      <td>0</td>\n",
       "      <td>-269.933502</td>\n",
       "      <td>-240.895767</td>\n",
       "      <td>725.16803</td>\n",
       "      <td>0.0</td>\n",
       "      <td>-261.039703</td>\n",
       "      <td>-230.863617</td>\n",
       "      <td>792.874023</td>\n",
       "      <td>...</td>\n",
       "      <td>0.323464</td>\n",
       "      <td>-0.309306</td>\n",
       "      <td>1.809687</td>\n",
       "      <td>0.0</td>\n",
       "      <td>-0.0</td>\n",
       "      <td>0.0</td>\n",
       "      <td>1.421975</td>\n",
       "      <td>139.282562</td>\n",
       "      <td>none</td>\n",
       "      <td>Scintillation</td>\n",
       "    </tr>\n",
       "  </tbody>\n",
       "</table>\n",
       "<p>2 rows × 23 columns</p>\n",
       "</div>"
      ],
      "text/plain": [
       "                     particle_name  primary  mother_id   initial_x  \\\n",
       "event_id particle_id                                                 \n",
       "0        1                      e-     True          0 -269.933502   \n",
       "         2                      e-     True          0 -269.933502   \n",
       "\n",
       "                       initial_y  initial_z  initial_t     final_x  \\\n",
       "event_id particle_id                                                 \n",
       "0        1           -240.895767  725.16803        0.0 -273.207062   \n",
       "         2           -240.895767  725.16803        0.0 -261.039703   \n",
       "\n",
       "                         final_y     final_z  ...  initial_momentum_x  \\\n",
       "event_id particle_id                          ...                       \n",
       "0        1           -255.572342  724.871460  ...           -1.230723   \n",
       "         2           -230.863617  792.874023  ...            0.323464   \n",
       "\n",
       "                     initial_momentum_y initial_momentum_z  final_momentum_x  \\\n",
       "event_id particle_id                                                           \n",
       "0        1                     0.196183          -0.760573               0.0   \n",
       "         2                    -0.309306           1.809687               0.0   \n",
       "\n",
       "                      final_momentum_y  final_momentum_z  kin_energy  \\\n",
       "event_id particle_id                                                   \n",
       "0        1                        -0.0              -0.0    1.035855   \n",
       "         2                        -0.0               0.0    1.421975   \n",
       "\n",
       "                          length  creator_proc     final_proc  \n",
       "event_id particle_id                                           \n",
       "0        1             89.427818          none  Scintillation  \n",
       "         2            139.282562          none  Scintillation  \n",
       "\n",
       "[2 rows x 23 columns]"
      ]
     },
     "execution_count": 19,
     "metadata": {},
     "output_type": "execute_result"
    }
   ],
   "source": [
    "mcPrim.df"
   ]
  },
  {
   "cell_type": "markdown",
   "metadata": {},
   "source": [
    "#### McHits\n",
    "- The McHits object is a table of \"McTrue\" hits (x,y,z,time, energy, label) indexed by event_id, particle_id and hit_id.\n",
    "\n",
    "***\n",
    "def get_mc_hits(file_name : str)->McHits:\n",
    "\n",
    "    \"\"\"\n",
    "    Return a McHits object\n",
    "\n",
    "    \"\"\"\n",
    "\n",
    "@dataclass\\\n",
    "class McHits:\n",
    "\n",
    "    \"\"\"\n",
    "    Wrapper data class to give a type to the DataFrame\n",
    "    representing a collection of monte carlo hits\n",
    "\n",
    "    \"\"\"\n",
    "    df      : DataFrame\n"
   ]
  },
  {
   "cell_type": "markdown",
   "metadata": {},
   "source": [
    "##### For a bbonu file"
   ]
  },
  {
   "cell_type": "code",
   "execution_count": 20,
   "metadata": {},
   "outputs": [
    {
     "data": {
      "text/plain": [
       "<McHits>\n",
       "        Columns = ('x', 'y', 'z', 'time', 'energy', 'label')\n",
       "        Indexes = ('event_id', 'particle_id', 'hit_id')\n",
       "        "
      ]
     },
     "execution_count": 20,
     "metadata": {},
     "output_type": "execute_result"
    }
   ],
   "source": [
    "mcHits_bb = get_mc_hits(testFilebb)\n",
    "mcHits_bb"
   ]
  },
  {
   "cell_type": "code",
   "execution_count": 21,
   "metadata": {},
   "outputs": [
    {
     "data": {
      "text/html": [
       "<div>\n",
       "<style scoped>\n",
       "    .dataframe tbody tr th:only-of-type {\n",
       "        vertical-align: middle;\n",
       "    }\n",
       "\n",
       "    .dataframe tbody tr th {\n",
       "        vertical-align: top;\n",
       "    }\n",
       "\n",
       "    .dataframe thead th {\n",
       "        text-align: right;\n",
       "    }\n",
       "</style>\n",
       "<table border=\"1\" class=\"dataframe\">\n",
       "  <thead>\n",
       "    <tr style=\"text-align: right;\">\n",
       "      <th></th>\n",
       "      <th></th>\n",
       "      <th></th>\n",
       "      <th>x</th>\n",
       "      <th>y</th>\n",
       "      <th>z</th>\n",
       "      <th>time</th>\n",
       "      <th>energy</th>\n",
       "      <th>label</th>\n",
       "    </tr>\n",
       "    <tr>\n",
       "      <th>event_id</th>\n",
       "      <th>particle_id</th>\n",
       "      <th>hit_id</th>\n",
       "      <th></th>\n",
       "      <th></th>\n",
       "      <th></th>\n",
       "      <th></th>\n",
       "      <th></th>\n",
       "      <th></th>\n",
       "    </tr>\n",
       "  </thead>\n",
       "  <tbody>\n",
       "    <tr>\n",
       "      <th rowspan=\"5\" valign=\"top\">0</th>\n",
       "      <th rowspan=\"5\" valign=\"top\">1</th>\n",
       "      <th>0</th>\n",
       "      <td>-270.746246</td>\n",
       "      <td>-240.824417</td>\n",
       "      <td>724.598206</td>\n",
       "      <td>0.003517</td>\n",
       "      <td>0.005752</td>\n",
       "      <td>ACTIVE</td>\n",
       "    </tr>\n",
       "    <tr>\n",
       "      <th>1</th>\n",
       "      <td>-271.566711</td>\n",
       "      <td>-240.745667</td>\n",
       "      <td>724.041504</td>\n",
       "      <td>0.007034</td>\n",
       "      <td>0.006912</td>\n",
       "      <td>ACTIVE</td>\n",
       "    </tr>\n",
       "    <tr>\n",
       "      <th>2</th>\n",
       "      <td>-272.361237</td>\n",
       "      <td>-240.716476</td>\n",
       "      <td>723.438293</td>\n",
       "      <td>0.010564</td>\n",
       "      <td>0.025096</td>\n",
       "      <td>ACTIVE</td>\n",
       "    </tr>\n",
       "    <tr>\n",
       "      <th>3</th>\n",
       "      <td>-273.137329</td>\n",
       "      <td>-240.716278</td>\n",
       "      <td>722.811584</td>\n",
       "      <td>0.014101</td>\n",
       "      <td>0.007589</td>\n",
       "      <td>ACTIVE</td>\n",
       "    </tr>\n",
       "    <tr>\n",
       "      <th>4</th>\n",
       "      <td>-273.232025</td>\n",
       "      <td>-240.705490</td>\n",
       "      <td>722.708618</td>\n",
       "      <td>0.014599</td>\n",
       "      <td>0.000587</td>\n",
       "      <td>ACTIVE</td>\n",
       "    </tr>\n",
       "    <tr>\n",
       "      <th>...</th>\n",
       "      <th>...</th>\n",
       "      <th>...</th>\n",
       "      <td>...</td>\n",
       "      <td>...</td>\n",
       "      <td>...</td>\n",
       "      <td>...</td>\n",
       "      <td>...</td>\n",
       "      <td>...</td>\n",
       "    </tr>\n",
       "    <tr>\n",
       "      <th rowspan=\"5\" valign=\"top\">3</th>\n",
       "      <th rowspan=\"5\" valign=\"top\">83631883</th>\n",
       "      <th>77</th>\n",
       "      <td>361.853577</td>\n",
       "      <td>76.278801</td>\n",
       "      <td>991.085022</td>\n",
       "      <td>0.180530</td>\n",
       "      <td>0.000109</td>\n",
       "      <td>ACTIVE</td>\n",
       "    </tr>\n",
       "    <tr>\n",
       "      <th>78</th>\n",
       "      <td>361.854279</td>\n",
       "      <td>76.278984</td>\n",
       "      <td>991.085205</td>\n",
       "      <td>0.180554</td>\n",
       "      <td>0.000363</td>\n",
       "      <td>ACTIVE</td>\n",
       "    </tr>\n",
       "    <tr>\n",
       "      <th>79</th>\n",
       "      <td>361.854858</td>\n",
       "      <td>76.279205</td>\n",
       "      <td>991.085327</td>\n",
       "      <td>0.180574</td>\n",
       "      <td>0.000117</td>\n",
       "      <td>ACTIVE</td>\n",
       "    </tr>\n",
       "    <tr>\n",
       "      <th>80</th>\n",
       "      <td>361.854950</td>\n",
       "      <td>76.279205</td>\n",
       "      <td>991.085815</td>\n",
       "      <td>0.180591</td>\n",
       "      <td>0.000899</td>\n",
       "      <td>ACTIVE</td>\n",
       "    </tr>\n",
       "    <tr>\n",
       "      <th>81</th>\n",
       "      <td>361.854919</td>\n",
       "      <td>76.279099</td>\n",
       "      <td>991.086670</td>\n",
       "      <td>0.180629</td>\n",
       "      <td>0.001552</td>\n",
       "      <td>ACTIVE</td>\n",
       "    </tr>\n",
       "  </tbody>\n",
       "</table>\n",
       "<p>2319 rows × 6 columns</p>\n",
       "</div>"
      ],
      "text/plain": [
       "                                      x           y           z      time  \\\n",
       "event_id particle_id hit_id                                                 \n",
       "0        1           0      -270.746246 -240.824417  724.598206  0.003517   \n",
       "                     1      -271.566711 -240.745667  724.041504  0.007034   \n",
       "                     2      -272.361237 -240.716476  723.438293  0.010564   \n",
       "                     3      -273.137329 -240.716278  722.811584  0.014101   \n",
       "                     4      -273.232025 -240.705490  722.708618  0.014599   \n",
       "...                                 ...         ...         ...       ...   \n",
       "3        83631883    77      361.853577   76.278801  991.085022  0.180530   \n",
       "                     78      361.854279   76.278984  991.085205  0.180554   \n",
       "                     79      361.854858   76.279205  991.085327  0.180574   \n",
       "                     80      361.854950   76.279205  991.085815  0.180591   \n",
       "                     81      361.854919   76.279099  991.086670  0.180629   \n",
       "\n",
       "                               energy   label  \n",
       "event_id particle_id hit_id                    \n",
       "0        1           0       0.005752  ACTIVE  \n",
       "                     1       0.006912  ACTIVE  \n",
       "                     2       0.025096  ACTIVE  \n",
       "                     3       0.007589  ACTIVE  \n",
       "                     4       0.000587  ACTIVE  \n",
       "...                               ...     ...  \n",
       "3        83631883    77      0.000109  ACTIVE  \n",
       "                     78      0.000363  ACTIVE  \n",
       "                     79      0.000117  ACTIVE  \n",
       "                     80      0.000899  ACTIVE  \n",
       "                     81      0.001552  ACTIVE  \n",
       "\n",
       "[2319 rows x 6 columns]"
      ]
     },
     "execution_count": 21,
     "metadata": {},
     "output_type": "execute_result"
    }
   ],
   "source": [
    "mcHits_bb.df"
   ]
  },
  {
   "cell_type": "markdown",
   "metadata": {},
   "source": [
    "##### The event list is accesible via method event_list() "
   ]
  },
  {
   "cell_type": "code",
   "execution_count": 22,
   "metadata": {},
   "outputs": [
    {
     "data": {
      "text/plain": [
       "array([0, 1, 2, 3])"
      ]
     },
     "execution_count": 22,
     "metadata": {},
     "output_type": "execute_result"
    }
   ],
   "source": [
    "mcHits_bb.event_list()"
   ]
  },
  {
   "cell_type": "markdown",
   "metadata": {},
   "source": [
    "##### And the subyacent DataFrame via the attribute df"
   ]
  },
  {
   "cell_type": "code",
   "execution_count": 23,
   "metadata": {},
   "outputs": [],
   "source": [
    "mcbb = mcHits_bb.df"
   ]
  },
  {
   "cell_type": "markdown",
   "metadata": {},
   "source": [
    "##### or a 1e file"
   ]
  },
  {
   "cell_type": "code",
   "execution_count": 24,
   "metadata": {},
   "outputs": [
    {
     "data": {
      "text/plain": [
       "<McHits>\n",
       "        Columns = ('x', 'y', 'z', 'time', 'energy', 'label')\n",
       "        Indexes = ('event_id', 'particle_id', 'hit_id')\n",
       "        "
      ]
     },
     "execution_count": 24,
     "metadata": {},
     "output_type": "execute_result"
    }
   ],
   "source": [
    "mcHits_1e = get_mc_hits(testFile1e)\n",
    "mcHits_1e"
   ]
  },
  {
   "cell_type": "code",
   "execution_count": 25,
   "metadata": {},
   "outputs": [
    {
     "data": {
      "text/html": [
       "<div>\n",
       "<style scoped>\n",
       "    .dataframe tbody tr th:only-of-type {\n",
       "        vertical-align: middle;\n",
       "    }\n",
       "\n",
       "    .dataframe tbody tr th {\n",
       "        vertical-align: top;\n",
       "    }\n",
       "\n",
       "    .dataframe thead th {\n",
       "        text-align: right;\n",
       "    }\n",
       "</style>\n",
       "<table border=\"1\" class=\"dataframe\">\n",
       "  <thead>\n",
       "    <tr style=\"text-align: right;\">\n",
       "      <th></th>\n",
       "      <th></th>\n",
       "      <th></th>\n",
       "      <th>x</th>\n",
       "      <th>y</th>\n",
       "      <th>z</th>\n",
       "      <th>time</th>\n",
       "      <th>energy</th>\n",
       "      <th>label</th>\n",
       "    </tr>\n",
       "    <tr>\n",
       "      <th>event_id</th>\n",
       "      <th>particle_id</th>\n",
       "      <th>hit_id</th>\n",
       "      <th></th>\n",
       "      <th></th>\n",
       "      <th></th>\n",
       "      <th></th>\n",
       "      <th></th>\n",
       "      <th></th>\n",
       "    </tr>\n",
       "  </thead>\n",
       "  <tbody>\n",
       "    <tr>\n",
       "      <th rowspan=\"5\" valign=\"top\">5000</th>\n",
       "      <th rowspan=\"5\" valign=\"top\">1</th>\n",
       "      <th>0</th>\n",
       "      <td>-459.471741</td>\n",
       "      <td>35.686749</td>\n",
       "      <td>680.406738</td>\n",
       "      <td>0.003376</td>\n",
       "      <td>0.009271</td>\n",
       "      <td>ACTIVE</td>\n",
       "    </tr>\n",
       "    <tr>\n",
       "      <th>1</th>\n",
       "      <td>-460.011810</td>\n",
       "      <td>36.272388</td>\n",
       "      <td>679.806702</td>\n",
       "      <td>0.006753</td>\n",
       "      <td>0.006503</td>\n",
       "      <td>ACTIVE</td>\n",
       "    </tr>\n",
       "    <tr>\n",
       "      <th>2</th>\n",
       "      <td>-460.630341</td>\n",
       "      <td>36.872669</td>\n",
       "      <td>679.305908</td>\n",
       "      <td>0.010129</td>\n",
       "      <td>0.003626</td>\n",
       "      <td>ACTIVE</td>\n",
       "    </tr>\n",
       "    <tr>\n",
       "      <th>3</th>\n",
       "      <td>-461.301666</td>\n",
       "      <td>37.448700</td>\n",
       "      <td>678.840576</td>\n",
       "      <td>0.013514</td>\n",
       "      <td>0.007412</td>\n",
       "      <td>ACTIVE</td>\n",
       "    </tr>\n",
       "    <tr>\n",
       "      <th>4</th>\n",
       "      <td>-461.951935</td>\n",
       "      <td>38.031681</td>\n",
       "      <td>678.373108</td>\n",
       "      <td>0.016870</td>\n",
       "      <td>0.009619</td>\n",
       "      <td>ACTIVE</td>\n",
       "    </tr>\n",
       "    <tr>\n",
       "      <th>...</th>\n",
       "      <th>...</th>\n",
       "      <th>...</th>\n",
       "      <td>...</td>\n",
       "      <td>...</td>\n",
       "      <td>...</td>\n",
       "      <td>...</td>\n",
       "      <td>...</td>\n",
       "      <td>...</td>\n",
       "    </tr>\n",
       "    <tr>\n",
       "      <th rowspan=\"5\" valign=\"top\">5004</th>\n",
       "      <th rowspan=\"5\" valign=\"top\">107284662</th>\n",
       "      <th>105</th>\n",
       "      <td>-108.350067</td>\n",
       "      <td>197.361862</td>\n",
       "      <td>823.132751</td>\n",
       "      <td>0.361198</td>\n",
       "      <td>0.000453</td>\n",
       "      <td>ACTIVE</td>\n",
       "    </tr>\n",
       "    <tr>\n",
       "      <th>106</th>\n",
       "      <td>-108.351059</td>\n",
       "      <td>197.362000</td>\n",
       "      <td>823.133057</td>\n",
       "      <td>0.361227</td>\n",
       "      <td>0.000188</td>\n",
       "      <td>ACTIVE</td>\n",
       "    </tr>\n",
       "    <tr>\n",
       "      <th>107</th>\n",
       "      <td>-108.352043</td>\n",
       "      <td>197.362106</td>\n",
       "      <td>823.133240</td>\n",
       "      <td>0.361256</td>\n",
       "      <td>0.000017</td>\n",
       "      <td>ACTIVE</td>\n",
       "    </tr>\n",
       "    <tr>\n",
       "      <th>108</th>\n",
       "      <td>-108.353806</td>\n",
       "      <td>197.362274</td>\n",
       "      <td>823.133545</td>\n",
       "      <td>0.361308</td>\n",
       "      <td>0.001673</td>\n",
       "      <td>ACTIVE</td>\n",
       "    </tr>\n",
       "    <tr>\n",
       "      <th>109</th>\n",
       "      <td>-108.353615</td>\n",
       "      <td>197.362976</td>\n",
       "      <td>823.132996</td>\n",
       "      <td>0.361349</td>\n",
       "      <td>0.001821</td>\n",
       "      <td>ACTIVE</td>\n",
       "    </tr>\n",
       "  </tbody>\n",
       "</table>\n",
       "<p>2226 rows × 6 columns</p>\n",
       "</div>"
      ],
      "text/plain": [
       "                                      x           y           z      time  \\\n",
       "event_id particle_id hit_id                                                 \n",
       "5000     1           0      -459.471741   35.686749  680.406738  0.003376   \n",
       "                     1      -460.011810   36.272388  679.806702  0.006753   \n",
       "                     2      -460.630341   36.872669  679.305908  0.010129   \n",
       "                     3      -461.301666   37.448700  678.840576  0.013514   \n",
       "                     4      -461.951935   38.031681  678.373108  0.016870   \n",
       "...                                 ...         ...         ...       ...   \n",
       "5004     107284662   105    -108.350067  197.361862  823.132751  0.361198   \n",
       "                     106    -108.351059  197.362000  823.133057  0.361227   \n",
       "                     107    -108.352043  197.362106  823.133240  0.361256   \n",
       "                     108    -108.353806  197.362274  823.133545  0.361308   \n",
       "                     109    -108.353615  197.362976  823.132996  0.361349   \n",
       "\n",
       "                               energy   label  \n",
       "event_id particle_id hit_id                    \n",
       "5000     1           0       0.009271  ACTIVE  \n",
       "                     1       0.006503  ACTIVE  \n",
       "                     2       0.003626  ACTIVE  \n",
       "                     3       0.007412  ACTIVE  \n",
       "                     4       0.009619  ACTIVE  \n",
       "...                               ...     ...  \n",
       "5004     107284662   105     0.000453  ACTIVE  \n",
       "                     106     0.000188  ACTIVE  \n",
       "                     107     0.000017  ACTIVE  \n",
       "                     108     0.001673  ACTIVE  \n",
       "                     109     0.001821  ACTIVE  \n",
       "\n",
       "[2226 rows x 6 columns]"
      ]
     },
     "execution_count": 25,
     "metadata": {},
     "output_type": "execute_result"
    }
   ],
   "source": [
    "mcHits_1e.df"
   ]
  },
  {
   "cell_type": "code",
   "execution_count": 26,
   "metadata": {},
   "outputs": [
    {
     "data": {
      "text/plain": [
       "array([5000, 5001, 5002, 5003, 5004])"
      ]
     },
     "execution_count": 26,
     "metadata": {},
     "output_type": "execute_result"
    }
   ],
   "source": [
    "mcHits_1e.event_list()"
   ]
  },
  {
   "cell_type": "code",
   "execution_count": 27,
   "metadata": {},
   "outputs": [],
   "source": [
    "mc1e = mcHits_1e.df"
   ]
  },
  {
   "cell_type": "markdown",
   "metadata": {},
   "source": [
    "#### Selection function\n",
    "\n",
    "***\n",
    "def select_mc_hits(mc : McHits,\n",
    "                        event_slice    : slice,\n",
    "                        particle_slice : slice,\n",
    "                        hit_slice      : slice,\n",
    "                        columns        : Columns = None)->Union[McHits,\n",
    "                                                                pd.Series,\n",
    "                                                                pd.DataFrame]:\n",
    "                                                                \n",
    "    \"\"\"\n",
    "    The slice type is of the form slice(start, stop, step).\n",
    "    Notice that slice(stop) is valid and slice(start, stop) is also valid\n",
    "    Very importantly, notice that in pandas, the slicing\n",
    "    follows a different convention than in python\n",
    "    (which is very convenient), e.g, the slice includes start and stop\n",
    "\n",
    "    If columns are not selected, the result of the operation is\n",
    "    a McParticles object, otherwise a\n",
    "    Series or DataFrame obtained by the column selection.\n",
    "***\n"
   ]
  },
  {
   "cell_type": "markdown",
   "metadata": {},
   "source": [
    "#### True extremA\n",
    "- The definition of true extreme depends on whether the event is bb0nu or 1e.\n",
    "    - For bbonu, the extrema are the last hit of each electron (particle 1 and particle 2)\n",
    "    - For 1e the extremes are first and last hit of particle 1.\n",
    "- Since hits are time-ordered one can use time to define what is first and last hits.\n",
    "\n",
    "***\n",
    "def get_true_extrema(mc         : McHits,\n",
    "                      event_id   : int,\n",
    "                      event_type : str = \"bb0nu\")->EventTrueExtrema:\n",
    "                      \n",
    "    \"\"\"\n",
    "    Returns the extrema of an event.\n",
    "    If event_type is bb0nu the extrema are computed\n",
    "    as the last hits of main primaries (1 and 2)\n",
    "    If event_type is 1e, the extrema are computed as\n",
    "    the first and last hit of track 1 (main electron)\n",
    "\n",
    "    \"\"\"\n",
    "\n",
    "@dataclass\\\n",
    "class EventTrueExtrema:\n",
    "\n",
    "    \"\"\"\n",
    "    Wrapper data class to give a type to the DataFrame\n",
    "    representing a collection of hits (add time and label)\n",
    "\n",
    "    \"\"\"\n",
    "    df       : DataFrame\n",
    "    event_id : int\n",
    "\n",
    "    def __post_init__(self):\n",
    "        \"\"\"\n",
    "        The field columns speciy and thus documents the\n",
    "        columns expected in the data frame\n",
    "\n",
    "        \"\"\"\n",
    "        self.columns : Tuple[str] = ('x', 'y', 'z',\n",
    "                                     'time', 'energy', 'label')\n",
    "\n",
    "***"
   ]
  },
  {
   "cell_type": "markdown",
   "metadata": {},
   "source": [
    "##### Select event 0 in the bb0nu file"
   ]
  },
  {
   "cell_type": "code",
   "execution_count": 28,
   "metadata": {},
   "outputs": [],
   "source": [
    "mCbb_evt = select_mc_hits(mcHits_bb,\n",
    "                        event_slice    = slice(0,0),\n",
    "                        particle_slice = slice(None,None),\n",
    "                        hit_slice      = slice(None,None))"
   ]
  },
  {
   "cell_type": "code",
   "execution_count": 29,
   "metadata": {},
   "outputs": [
    {
     "data": {
      "text/plain": [
       "<McHits>\n",
       "        Columns = ('x', 'y', 'z', 'time', 'energy', 'label')\n",
       "        Indexes = ('event_id', 'particle_id', 'hit_id')\n",
       "        "
      ]
     },
     "execution_count": 29,
     "metadata": {},
     "output_type": "execute_result"
    }
   ],
   "source": [
    "mCbb_evt"
   ]
  },
  {
   "cell_type": "code",
   "execution_count": 30,
   "metadata": {},
   "outputs": [
    {
     "data": {
      "text/html": [
       "<div>\n",
       "<style scoped>\n",
       "    .dataframe tbody tr th:only-of-type {\n",
       "        vertical-align: middle;\n",
       "    }\n",
       "\n",
       "    .dataframe tbody tr th {\n",
       "        vertical-align: top;\n",
       "    }\n",
       "\n",
       "    .dataframe thead th {\n",
       "        text-align: right;\n",
       "    }\n",
       "</style>\n",
       "<table border=\"1\" class=\"dataframe\">\n",
       "  <thead>\n",
       "    <tr style=\"text-align: right;\">\n",
       "      <th></th>\n",
       "      <th></th>\n",
       "      <th></th>\n",
       "      <th>x</th>\n",
       "      <th>y</th>\n",
       "      <th>z</th>\n",
       "      <th>time</th>\n",
       "      <th>energy</th>\n",
       "      <th>label</th>\n",
       "    </tr>\n",
       "    <tr>\n",
       "      <th>event_id</th>\n",
       "      <th>particle_id</th>\n",
       "      <th>hit_id</th>\n",
       "      <th></th>\n",
       "      <th></th>\n",
       "      <th></th>\n",
       "      <th></th>\n",
       "      <th></th>\n",
       "      <th></th>\n",
       "    </tr>\n",
       "  </thead>\n",
       "  <tbody>\n",
       "    <tr>\n",
       "      <th rowspan=\"11\" valign=\"top\">0</th>\n",
       "      <th rowspan=\"5\" valign=\"top\">1</th>\n",
       "      <th>0</th>\n",
       "      <td>-270.746246</td>\n",
       "      <td>-240.824417</td>\n",
       "      <td>724.598206</td>\n",
       "      <td>0.003517</td>\n",
       "      <td>0.005752</td>\n",
       "      <td>ACTIVE</td>\n",
       "    </tr>\n",
       "    <tr>\n",
       "      <th>1</th>\n",
       "      <td>-271.566711</td>\n",
       "      <td>-240.745667</td>\n",
       "      <td>724.041504</td>\n",
       "      <td>0.007034</td>\n",
       "      <td>0.006912</td>\n",
       "      <td>ACTIVE</td>\n",
       "    </tr>\n",
       "    <tr>\n",
       "      <th>2</th>\n",
       "      <td>-272.361237</td>\n",
       "      <td>-240.716476</td>\n",
       "      <td>723.438293</td>\n",
       "      <td>0.010564</td>\n",
       "      <td>0.025096</td>\n",
       "      <td>ACTIVE</td>\n",
       "    </tr>\n",
       "    <tr>\n",
       "      <th>3</th>\n",
       "      <td>-273.137329</td>\n",
       "      <td>-240.716278</td>\n",
       "      <td>722.811584</td>\n",
       "      <td>0.014101</td>\n",
       "      <td>0.007589</td>\n",
       "      <td>ACTIVE</td>\n",
       "    </tr>\n",
       "    <tr>\n",
       "      <th>4</th>\n",
       "      <td>-273.232025</td>\n",
       "      <td>-240.705490</td>\n",
       "      <td>722.708618</td>\n",
       "      <td>0.014599</td>\n",
       "      <td>0.000587</td>\n",
       "      <td>ACTIVE</td>\n",
       "    </tr>\n",
       "    <tr>\n",
       "      <th>...</th>\n",
       "      <th>...</th>\n",
       "      <td>...</td>\n",
       "      <td>...</td>\n",
       "      <td>...</td>\n",
       "      <td>...</td>\n",
       "      <td>...</td>\n",
       "      <td>...</td>\n",
       "    </tr>\n",
       "    <tr>\n",
       "      <th>105872151</th>\n",
       "      <th>1</th>\n",
       "      <td>-285.659393</td>\n",
       "      <td>-247.800232</td>\n",
       "      <td>719.528992</td>\n",
       "      <td>0.097352</td>\n",
       "      <td>0.002498</td>\n",
       "      <td>ACTIVE</td>\n",
       "    </tr>\n",
       "    <tr>\n",
       "      <th>105872152</th>\n",
       "      <th>0</th>\n",
       "      <td>-285.658569</td>\n",
       "      <td>-247.798447</td>\n",
       "      <td>719.528198</td>\n",
       "      <td>0.097295</td>\n",
       "      <td>0.000473</td>\n",
       "      <td>ACTIVE</td>\n",
       "    </tr>\n",
       "    <tr>\n",
       "      <th>105872153</th>\n",
       "      <th>0</th>\n",
       "      <td>-285.658447</td>\n",
       "      <td>-247.798492</td>\n",
       "      <td>719.528198</td>\n",
       "      <td>0.097279</td>\n",
       "      <td>0.000068</td>\n",
       "      <td>ACTIVE</td>\n",
       "    </tr>\n",
       "    <tr>\n",
       "      <th>105872154</th>\n",
       "      <th>0</th>\n",
       "      <td>-285.658417</td>\n",
       "      <td>-247.798584</td>\n",
       "      <td>719.528198</td>\n",
       "      <td>0.097295</td>\n",
       "      <td>0.000047</td>\n",
       "      <td>ACTIVE</td>\n",
       "    </tr>\n",
       "    <tr>\n",
       "      <th>105872155</th>\n",
       "      <th>0</th>\n",
       "      <td>-285.658478</td>\n",
       "      <td>-247.798523</td>\n",
       "      <td>719.528259</td>\n",
       "      <td>0.097302</td>\n",
       "      <td>0.000021</td>\n",
       "      <td>ACTIVE</td>\n",
       "    </tr>\n",
       "  </tbody>\n",
       "</table>\n",
       "<p>549 rows × 6 columns</p>\n",
       "</div>"
      ],
      "text/plain": [
       "                                      x           y           z      time  \\\n",
       "event_id particle_id hit_id                                                 \n",
       "0        1           0      -270.746246 -240.824417  724.598206  0.003517   \n",
       "                     1      -271.566711 -240.745667  724.041504  0.007034   \n",
       "                     2      -272.361237 -240.716476  723.438293  0.010564   \n",
       "                     3      -273.137329 -240.716278  722.811584  0.014101   \n",
       "                     4      -273.232025 -240.705490  722.708618  0.014599   \n",
       "...                                 ...         ...         ...       ...   \n",
       "         105872151   1      -285.659393 -247.800232  719.528992  0.097352   \n",
       "         105872152   0      -285.658569 -247.798447  719.528198  0.097295   \n",
       "         105872153   0      -285.658447 -247.798492  719.528198  0.097279   \n",
       "         105872154   0      -285.658417 -247.798584  719.528198  0.097295   \n",
       "         105872155   0      -285.658478 -247.798523  719.528259  0.097302   \n",
       "\n",
       "                               energy   label  \n",
       "event_id particle_id hit_id                    \n",
       "0        1           0       0.005752  ACTIVE  \n",
       "                     1       0.006912  ACTIVE  \n",
       "                     2       0.025096  ACTIVE  \n",
       "                     3       0.007589  ACTIVE  \n",
       "                     4       0.000587  ACTIVE  \n",
       "...                               ...     ...  \n",
       "         105872151   1       0.002498  ACTIVE  \n",
       "         105872152   0       0.000473  ACTIVE  \n",
       "         105872153   0       0.000068  ACTIVE  \n",
       "         105872154   0       0.000047  ACTIVE  \n",
       "         105872155   0       0.000021  ACTIVE  \n",
       "\n",
       "[549 rows x 6 columns]"
      ]
     },
     "execution_count": 30,
     "metadata": {},
     "output_type": "execute_result"
    }
   ],
   "source": [
    "mcbb_evt = mCbb_evt.df\n",
    "mcbb_evt"
   ]
  },
  {
   "cell_type": "markdown",
   "metadata": {},
   "source": [
    "##### The function implement the selection of a DF using slices"
   ]
  },
  {
   "cell_type": "code",
   "execution_count": 31,
   "metadata": {},
   "outputs": [],
   "source": [
    "mcbb_evt2 = mcbb.loc[(slice(0,0), slice(None,None), slice(None,None)), :]"
   ]
  },
  {
   "cell_type": "code",
   "execution_count": 32,
   "metadata": {},
   "outputs": [
    {
     "data": {
      "text/html": [
       "<div>\n",
       "<style scoped>\n",
       "    .dataframe tbody tr th:only-of-type {\n",
       "        vertical-align: middle;\n",
       "    }\n",
       "\n",
       "    .dataframe tbody tr th {\n",
       "        vertical-align: top;\n",
       "    }\n",
       "\n",
       "    .dataframe thead th {\n",
       "        text-align: right;\n",
       "    }\n",
       "</style>\n",
       "<table border=\"1\" class=\"dataframe\">\n",
       "  <thead>\n",
       "    <tr style=\"text-align: right;\">\n",
       "      <th></th>\n",
       "      <th></th>\n",
       "      <th></th>\n",
       "      <th>x</th>\n",
       "      <th>y</th>\n",
       "      <th>z</th>\n",
       "      <th>time</th>\n",
       "      <th>energy</th>\n",
       "      <th>label</th>\n",
       "    </tr>\n",
       "    <tr>\n",
       "      <th>event_id</th>\n",
       "      <th>particle_id</th>\n",
       "      <th>hit_id</th>\n",
       "      <th></th>\n",
       "      <th></th>\n",
       "      <th></th>\n",
       "      <th></th>\n",
       "      <th></th>\n",
       "      <th></th>\n",
       "    </tr>\n",
       "  </thead>\n",
       "  <tbody>\n",
       "    <tr>\n",
       "      <th rowspan=\"11\" valign=\"top\">0</th>\n",
       "      <th rowspan=\"5\" valign=\"top\">1</th>\n",
       "      <th>0</th>\n",
       "      <td>-270.746246</td>\n",
       "      <td>-240.824417</td>\n",
       "      <td>724.598206</td>\n",
       "      <td>0.003517</td>\n",
       "      <td>0.005752</td>\n",
       "      <td>ACTIVE</td>\n",
       "    </tr>\n",
       "    <tr>\n",
       "      <th>1</th>\n",
       "      <td>-271.566711</td>\n",
       "      <td>-240.745667</td>\n",
       "      <td>724.041504</td>\n",
       "      <td>0.007034</td>\n",
       "      <td>0.006912</td>\n",
       "      <td>ACTIVE</td>\n",
       "    </tr>\n",
       "    <tr>\n",
       "      <th>2</th>\n",
       "      <td>-272.361237</td>\n",
       "      <td>-240.716476</td>\n",
       "      <td>723.438293</td>\n",
       "      <td>0.010564</td>\n",
       "      <td>0.025096</td>\n",
       "      <td>ACTIVE</td>\n",
       "    </tr>\n",
       "    <tr>\n",
       "      <th>3</th>\n",
       "      <td>-273.137329</td>\n",
       "      <td>-240.716278</td>\n",
       "      <td>722.811584</td>\n",
       "      <td>0.014101</td>\n",
       "      <td>0.007589</td>\n",
       "      <td>ACTIVE</td>\n",
       "    </tr>\n",
       "    <tr>\n",
       "      <th>4</th>\n",
       "      <td>-273.232025</td>\n",
       "      <td>-240.705490</td>\n",
       "      <td>722.708618</td>\n",
       "      <td>0.014599</td>\n",
       "      <td>0.000587</td>\n",
       "      <td>ACTIVE</td>\n",
       "    </tr>\n",
       "    <tr>\n",
       "      <th>...</th>\n",
       "      <th>...</th>\n",
       "      <td>...</td>\n",
       "      <td>...</td>\n",
       "      <td>...</td>\n",
       "      <td>...</td>\n",
       "      <td>...</td>\n",
       "      <td>...</td>\n",
       "    </tr>\n",
       "    <tr>\n",
       "      <th>105872151</th>\n",
       "      <th>1</th>\n",
       "      <td>-285.659393</td>\n",
       "      <td>-247.800232</td>\n",
       "      <td>719.528992</td>\n",
       "      <td>0.097352</td>\n",
       "      <td>0.002498</td>\n",
       "      <td>ACTIVE</td>\n",
       "    </tr>\n",
       "    <tr>\n",
       "      <th>105872152</th>\n",
       "      <th>0</th>\n",
       "      <td>-285.658569</td>\n",
       "      <td>-247.798447</td>\n",
       "      <td>719.528198</td>\n",
       "      <td>0.097295</td>\n",
       "      <td>0.000473</td>\n",
       "      <td>ACTIVE</td>\n",
       "    </tr>\n",
       "    <tr>\n",
       "      <th>105872153</th>\n",
       "      <th>0</th>\n",
       "      <td>-285.658447</td>\n",
       "      <td>-247.798492</td>\n",
       "      <td>719.528198</td>\n",
       "      <td>0.097279</td>\n",
       "      <td>0.000068</td>\n",
       "      <td>ACTIVE</td>\n",
       "    </tr>\n",
       "    <tr>\n",
       "      <th>105872154</th>\n",
       "      <th>0</th>\n",
       "      <td>-285.658417</td>\n",
       "      <td>-247.798584</td>\n",
       "      <td>719.528198</td>\n",
       "      <td>0.097295</td>\n",
       "      <td>0.000047</td>\n",
       "      <td>ACTIVE</td>\n",
       "    </tr>\n",
       "    <tr>\n",
       "      <th>105872155</th>\n",
       "      <th>0</th>\n",
       "      <td>-285.658478</td>\n",
       "      <td>-247.798523</td>\n",
       "      <td>719.528259</td>\n",
       "      <td>0.097302</td>\n",
       "      <td>0.000021</td>\n",
       "      <td>ACTIVE</td>\n",
       "    </tr>\n",
       "  </tbody>\n",
       "</table>\n",
       "<p>549 rows × 6 columns</p>\n",
       "</div>"
      ],
      "text/plain": [
       "                                      x           y           z      time  \\\n",
       "event_id particle_id hit_id                                                 \n",
       "0        1           0      -270.746246 -240.824417  724.598206  0.003517   \n",
       "                     1      -271.566711 -240.745667  724.041504  0.007034   \n",
       "                     2      -272.361237 -240.716476  723.438293  0.010564   \n",
       "                     3      -273.137329 -240.716278  722.811584  0.014101   \n",
       "                     4      -273.232025 -240.705490  722.708618  0.014599   \n",
       "...                                 ...         ...         ...       ...   \n",
       "         105872151   1      -285.659393 -247.800232  719.528992  0.097352   \n",
       "         105872152   0      -285.658569 -247.798447  719.528198  0.097295   \n",
       "         105872153   0      -285.658447 -247.798492  719.528198  0.097279   \n",
       "         105872154   0      -285.658417 -247.798584  719.528198  0.097295   \n",
       "         105872155   0      -285.658478 -247.798523  719.528259  0.097302   \n",
       "\n",
       "                               energy   label  \n",
       "event_id particle_id hit_id                    \n",
       "0        1           0       0.005752  ACTIVE  \n",
       "                     1       0.006912  ACTIVE  \n",
       "                     2       0.025096  ACTIVE  \n",
       "                     3       0.007589  ACTIVE  \n",
       "                     4       0.000587  ACTIVE  \n",
       "...                               ...     ...  \n",
       "         105872151   1       0.002498  ACTIVE  \n",
       "         105872152   0       0.000473  ACTIVE  \n",
       "         105872153   0       0.000068  ACTIVE  \n",
       "         105872154   0       0.000047  ACTIVE  \n",
       "         105872155   0       0.000021  ACTIVE  \n",
       "\n",
       "[549 rows x 6 columns]"
      ]
     },
     "execution_count": 32,
     "metadata": {},
     "output_type": "execute_result"
    }
   ],
   "source": [
    "mcbb_evt2 "
   ]
  },
  {
   "cell_type": "markdown",
   "metadata": {},
   "source": [
    "##### Select p1"
   ]
  },
  {
   "cell_type": "code",
   "execution_count": 33,
   "metadata": {},
   "outputs": [
    {
     "data": {
      "text/html": [
       "<div>\n",
       "<style scoped>\n",
       "    .dataframe tbody tr th:only-of-type {\n",
       "        vertical-align: middle;\n",
       "    }\n",
       "\n",
       "    .dataframe tbody tr th {\n",
       "        vertical-align: top;\n",
       "    }\n",
       "\n",
       "    .dataframe thead th {\n",
       "        text-align: right;\n",
       "    }\n",
       "</style>\n",
       "<table border=\"1\" class=\"dataframe\">\n",
       "  <thead>\n",
       "    <tr style=\"text-align: right;\">\n",
       "      <th></th>\n",
       "      <th></th>\n",
       "      <th></th>\n",
       "      <th>x</th>\n",
       "      <th>y</th>\n",
       "      <th>z</th>\n",
       "      <th>time</th>\n",
       "      <th>energy</th>\n",
       "      <th>label</th>\n",
       "    </tr>\n",
       "    <tr>\n",
       "      <th>event_id</th>\n",
       "      <th>particle_id</th>\n",
       "      <th>hit_id</th>\n",
       "      <th></th>\n",
       "      <th></th>\n",
       "      <th></th>\n",
       "      <th></th>\n",
       "      <th></th>\n",
       "      <th></th>\n",
       "    </tr>\n",
       "  </thead>\n",
       "  <tbody>\n",
       "    <tr>\n",
       "      <th rowspan=\"11\" valign=\"top\">0</th>\n",
       "      <th rowspan=\"11\" valign=\"top\">1</th>\n",
       "      <th>0</th>\n",
       "      <td>-270.746246</td>\n",
       "      <td>-240.824417</td>\n",
       "      <td>724.598206</td>\n",
       "      <td>0.003517</td>\n",
       "      <td>0.005752</td>\n",
       "      <td>ACTIVE</td>\n",
       "    </tr>\n",
       "    <tr>\n",
       "      <th>1</th>\n",
       "      <td>-271.566711</td>\n",
       "      <td>-240.745667</td>\n",
       "      <td>724.041504</td>\n",
       "      <td>0.007034</td>\n",
       "      <td>0.006912</td>\n",
       "      <td>ACTIVE</td>\n",
       "    </tr>\n",
       "    <tr>\n",
       "      <th>2</th>\n",
       "      <td>-272.361237</td>\n",
       "      <td>-240.716476</td>\n",
       "      <td>723.438293</td>\n",
       "      <td>0.010564</td>\n",
       "      <td>0.025096</td>\n",
       "      <td>ACTIVE</td>\n",
       "    </tr>\n",
       "    <tr>\n",
       "      <th>3</th>\n",
       "      <td>-273.137329</td>\n",
       "      <td>-240.716278</td>\n",
       "      <td>722.811584</td>\n",
       "      <td>0.014101</td>\n",
       "      <td>0.007589</td>\n",
       "      <td>ACTIVE</td>\n",
       "    </tr>\n",
       "    <tr>\n",
       "      <th>4</th>\n",
       "      <td>-273.232025</td>\n",
       "      <td>-240.705490</td>\n",
       "      <td>722.708618</td>\n",
       "      <td>0.014599</td>\n",
       "      <td>0.000587</td>\n",
       "      <td>ACTIVE</td>\n",
       "    </tr>\n",
       "    <tr>\n",
       "      <th>...</th>\n",
       "      <td>...</td>\n",
       "      <td>...</td>\n",
       "      <td>...</td>\n",
       "      <td>...</td>\n",
       "      <td>...</td>\n",
       "      <td>...</td>\n",
       "    </tr>\n",
       "    <tr>\n",
       "      <th>167</th>\n",
       "      <td>-273.206543</td>\n",
       "      <td>-255.572403</td>\n",
       "      <td>724.871521</td>\n",
       "      <td>0.348812</td>\n",
       "      <td>0.000054</td>\n",
       "      <td>ACTIVE</td>\n",
       "    </tr>\n",
       "    <tr>\n",
       "      <th>168</th>\n",
       "      <td>-273.206848</td>\n",
       "      <td>-255.572388</td>\n",
       "      <td>724.871704</td>\n",
       "      <td>0.348827</td>\n",
       "      <td>0.000060</td>\n",
       "      <td>ACTIVE</td>\n",
       "    </tr>\n",
       "    <tr>\n",
       "      <th>169</th>\n",
       "      <td>-273.207123</td>\n",
       "      <td>-255.572449</td>\n",
       "      <td>724.871887</td>\n",
       "      <td>0.348840</td>\n",
       "      <td>0.000604</td>\n",
       "      <td>ACTIVE</td>\n",
       "    </tr>\n",
       "    <tr>\n",
       "      <th>170</th>\n",
       "      <td>-273.207031</td>\n",
       "      <td>-255.572357</td>\n",
       "      <td>724.871948</td>\n",
       "      <td>0.348848</td>\n",
       "      <td>0.000030</td>\n",
       "      <td>ACTIVE</td>\n",
       "    </tr>\n",
       "    <tr>\n",
       "      <th>171</th>\n",
       "      <td>-273.207062</td>\n",
       "      <td>-255.572342</td>\n",
       "      <td>724.871460</td>\n",
       "      <td>0.348872</td>\n",
       "      <td>0.001073</td>\n",
       "      <td>ACTIVE</td>\n",
       "    </tr>\n",
       "  </tbody>\n",
       "</table>\n",
       "<p>172 rows × 6 columns</p>\n",
       "</div>"
      ],
      "text/plain": [
       "                                      x           y           z      time  \\\n",
       "event_id particle_id hit_id                                                 \n",
       "0        1           0      -270.746246 -240.824417  724.598206  0.003517   \n",
       "                     1      -271.566711 -240.745667  724.041504  0.007034   \n",
       "                     2      -272.361237 -240.716476  723.438293  0.010564   \n",
       "                     3      -273.137329 -240.716278  722.811584  0.014101   \n",
       "                     4      -273.232025 -240.705490  722.708618  0.014599   \n",
       "...                                 ...         ...         ...       ...   \n",
       "                     167    -273.206543 -255.572403  724.871521  0.348812   \n",
       "                     168    -273.206848 -255.572388  724.871704  0.348827   \n",
       "                     169    -273.207123 -255.572449  724.871887  0.348840   \n",
       "                     170    -273.207031 -255.572357  724.871948  0.348848   \n",
       "                     171    -273.207062 -255.572342  724.871460  0.348872   \n",
       "\n",
       "                               energy   label  \n",
       "event_id particle_id hit_id                    \n",
       "0        1           0       0.005752  ACTIVE  \n",
       "                     1       0.006912  ACTIVE  \n",
       "                     2       0.025096  ACTIVE  \n",
       "                     3       0.007589  ACTIVE  \n",
       "                     4       0.000587  ACTIVE  \n",
       "...                               ...     ...  \n",
       "                     167     0.000054  ACTIVE  \n",
       "                     168     0.000060  ACTIVE  \n",
       "                     169     0.000604  ACTIVE  \n",
       "                     170     0.000030  ACTIVE  \n",
       "                     171     0.001073  ACTIVE  \n",
       "\n",
       "[172 rows x 6 columns]"
      ]
     },
     "execution_count": 33,
     "metadata": {},
     "output_type": "execute_result"
    }
   ],
   "source": [
    "mcbb_evt_p1 = mcbb.loc[(slice(0,0), slice(1,1), slice(None,None)), :]\n",
    "mcbb_evt_p1"
   ]
  },
  {
   "cell_type": "code",
   "execution_count": 34,
   "metadata": {},
   "outputs": [],
   "source": [
    "times_bb_p1 = mcbb_evt_p1.time"
   ]
  },
  {
   "cell_type": "code",
   "execution_count": 35,
   "metadata": {},
   "outputs": [
    {
     "data": {
      "image/png": "[encoded data removed]",
      "text/plain": [
       "<Figure size 576x432 with 1 Axes>"
      ]
     },
     "metadata": {
      "needs_background": "light"
     },
     "output_type": "display_data"
    }
   ],
   "source": [
    "_ = times_bb_p1.plot()"
   ]
  },
  {
   "cell_type": "markdown",
   "metadata": {},
   "source": [
    "##### Last hit of p1 is the hit with larger time"
   ]
  },
  {
   "cell_type": "code",
   "execution_count": 36,
   "metadata": {},
   "outputs": [
    {
     "data": {
      "text/plain": [
       "0.34887227"
      ]
     },
     "execution_count": 36,
     "metadata": {},
     "output_type": "execute_result"
    }
   ],
   "source": [
    "np.max(times_bb_p1)"
   ]
  },
  {
   "cell_type": "markdown",
   "metadata": {},
   "source": [
    "##### Particle 2"
   ]
  },
  {
   "cell_type": "code",
   "execution_count": 37,
   "metadata": {},
   "outputs": [
    {
     "data": {
      "text/html": [
       "<div>\n",
       "<style scoped>\n",
       "    .dataframe tbody tr th:only-of-type {\n",
       "        vertical-align: middle;\n",
       "    }\n",
       "\n",
       "    .dataframe tbody tr th {\n",
       "        vertical-align: top;\n",
       "    }\n",
       "\n",
       "    .dataframe thead th {\n",
       "        text-align: right;\n",
       "    }\n",
       "</style>\n",
       "<table border=\"1\" class=\"dataframe\">\n",
       "  <thead>\n",
       "    <tr style=\"text-align: right;\">\n",
       "      <th></th>\n",
       "      <th></th>\n",
       "      <th></th>\n",
       "      <th>x</th>\n",
       "      <th>y</th>\n",
       "      <th>z</th>\n",
       "      <th>time</th>\n",
       "      <th>energy</th>\n",
       "      <th>label</th>\n",
       "    </tr>\n",
       "    <tr>\n",
       "      <th>event_id</th>\n",
       "      <th>particle_id</th>\n",
       "      <th>hit_id</th>\n",
       "      <th></th>\n",
       "      <th></th>\n",
       "      <th></th>\n",
       "      <th></th>\n",
       "      <th></th>\n",
       "      <th></th>\n",
       "    </tr>\n",
       "  </thead>\n",
       "  <tbody>\n",
       "    <tr>\n",
       "      <th rowspan=\"11\" valign=\"top\">0</th>\n",
       "      <th rowspan=\"11\" valign=\"top\">2</th>\n",
       "      <th>0</th>\n",
       "      <td>-269.774200</td>\n",
       "      <td>-241.066391</td>\n",
       "      <td>726.139587</td>\n",
       "      <td>0.003456</td>\n",
       "      <td>0.004999</td>\n",
       "      <td>ACTIVE</td>\n",
       "    </tr>\n",
       "    <tr>\n",
       "      <th>1</th>\n",
       "      <td>-269.620819</td>\n",
       "      <td>-241.162506</td>\n",
       "      <td>727.120544</td>\n",
       "      <td>0.006907</td>\n",
       "      <td>0.005551</td>\n",
       "      <td>ACTIVE</td>\n",
       "    </tr>\n",
       "    <tr>\n",
       "      <th>2</th>\n",
       "      <td>-269.476990</td>\n",
       "      <td>-241.136002</td>\n",
       "      <td>728.105835</td>\n",
       "      <td>0.010353</td>\n",
       "      <td>0.007877</td>\n",
       "      <td>ACTIVE</td>\n",
       "    </tr>\n",
       "    <tr>\n",
       "      <th>3</th>\n",
       "      <td>-269.321198</td>\n",
       "      <td>-241.076401</td>\n",
       "      <td>729.089966</td>\n",
       "      <td>0.013808</td>\n",
       "      <td>0.005921</td>\n",
       "      <td>ACTIVE</td>\n",
       "    </tr>\n",
       "    <tr>\n",
       "      <th>4</th>\n",
       "      <td>-268.974609</td>\n",
       "      <td>-240.957947</td>\n",
       "      <td>730.017883</td>\n",
       "      <td>0.017262</td>\n",
       "      <td>0.021864</td>\n",
       "      <td>ACTIVE</td>\n",
       "    </tr>\n",
       "    <tr>\n",
       "      <th>...</th>\n",
       "      <td>...</td>\n",
       "      <td>...</td>\n",
       "      <td>...</td>\n",
       "      <td>...</td>\n",
       "      <td>...</td>\n",
       "      <td>...</td>\n",
       "    </tr>\n",
       "    <tr>\n",
       "      <th>232</th>\n",
       "      <td>-261.045044</td>\n",
       "      <td>-230.865311</td>\n",
       "      <td>792.874207</td>\n",
       "      <td>0.523255</td>\n",
       "      <td>0.000029</td>\n",
       "      <td>ACTIVE</td>\n",
       "    </tr>\n",
       "    <tr>\n",
       "      <th>233</th>\n",
       "      <td>-261.040497</td>\n",
       "      <td>-230.861237</td>\n",
       "      <td>792.875977</td>\n",
       "      <td>0.523395</td>\n",
       "      <td>0.002607</td>\n",
       "      <td>ACTIVE</td>\n",
       "    </tr>\n",
       "    <tr>\n",
       "      <th>234</th>\n",
       "      <td>-261.040619</td>\n",
       "      <td>-230.861526</td>\n",
       "      <td>792.875183</td>\n",
       "      <td>0.523420</td>\n",
       "      <td>0.000031</td>\n",
       "      <td>ACTIVE</td>\n",
       "    </tr>\n",
       "    <tr>\n",
       "      <th>235</th>\n",
       "      <td>-261.040161</td>\n",
       "      <td>-230.861877</td>\n",
       "      <td>792.874268</td>\n",
       "      <td>0.523449</td>\n",
       "      <td>0.000735</td>\n",
       "      <td>ACTIVE</td>\n",
       "    </tr>\n",
       "    <tr>\n",
       "      <th>236</th>\n",
       "      <td>-261.039703</td>\n",
       "      <td>-230.863617</td>\n",
       "      <td>792.874023</td>\n",
       "      <td>0.523512</td>\n",
       "      <td>0.002869</td>\n",
       "      <td>ACTIVE</td>\n",
       "    </tr>\n",
       "  </tbody>\n",
       "</table>\n",
       "<p>237 rows × 6 columns</p>\n",
       "</div>"
      ],
      "text/plain": [
       "                                      x           y           z      time  \\\n",
       "event_id particle_id hit_id                                                 \n",
       "0        2           0      -269.774200 -241.066391  726.139587  0.003456   \n",
       "                     1      -269.620819 -241.162506  727.120544  0.006907   \n",
       "                     2      -269.476990 -241.136002  728.105835  0.010353   \n",
       "                     3      -269.321198 -241.076401  729.089966  0.013808   \n",
       "                     4      -268.974609 -240.957947  730.017883  0.017262   \n",
       "...                                 ...         ...         ...       ...   \n",
       "                     232    -261.045044 -230.865311  792.874207  0.523255   \n",
       "                     233    -261.040497 -230.861237  792.875977  0.523395   \n",
       "                     234    -261.040619 -230.861526  792.875183  0.523420   \n",
       "                     235    -261.040161 -230.861877  792.874268  0.523449   \n",
       "                     236    -261.039703 -230.863617  792.874023  0.523512   \n",
       "\n",
       "                               energy   label  \n",
       "event_id particle_id hit_id                    \n",
       "0        2           0       0.004999  ACTIVE  \n",
       "                     1       0.005551  ACTIVE  \n",
       "                     2       0.007877  ACTIVE  \n",
       "                     3       0.005921  ACTIVE  \n",
       "                     4       0.021864  ACTIVE  \n",
       "...                               ...     ...  \n",
       "                     232     0.000029  ACTIVE  \n",
       "                     233     0.002607  ACTIVE  \n",
       "                     234     0.000031  ACTIVE  \n",
       "                     235     0.000735  ACTIVE  \n",
       "                     236     0.002869  ACTIVE  \n",
       "\n",
       "[237 rows x 6 columns]"
      ]
     },
     "execution_count": 37,
     "metadata": {},
     "output_type": "execute_result"
    }
   ],
   "source": [
    "mcbb_evt_p2 = mcbb.loc[(slice(0,0), slice(2,2), slice(None,None)), :]\n",
    "mcbb_evt_p2"
   ]
  },
  {
   "cell_type": "code",
   "execution_count": 38,
   "metadata": {},
   "outputs": [],
   "source": [
    "times_bb_p2 = mcbb_evt_p2.time"
   ]
  },
  {
   "cell_type": "code",
   "execution_count": 39,
   "metadata": {},
   "outputs": [
    {
     "data": {
      "text/plain": [
       "<matplotlib.axes._subplots.AxesSubplot at 0x7ff9a043a650>"
      ]
     },
     "execution_count": 39,
     "metadata": {},
     "output_type": "execute_result"
    },
    {
     "data": {
      "image/png": "[encoded data removed]",
      "text/plain": [
       "<Figure size 576x432 with 1 Axes>"
      ]
     },
     "metadata": {
      "needs_background": "light"
     },
     "output_type": "display_data"
    }
   ],
   "source": [
    "times_bb_p2.plot()"
   ]
  },
  {
   "cell_type": "markdown",
   "metadata": {},
   "source": [
    "##### Last hit of particle 2"
   ]
  },
  {
   "cell_type": "code",
   "execution_count": 40,
   "metadata": {},
   "outputs": [
    {
     "data": {
      "text/plain": [
       "0.52351236"
      ]
     },
     "execution_count": 40,
     "metadata": {},
     "output_type": "execute_result"
    }
   ],
   "source": [
    "np.max(times_bb_p2)"
   ]
  },
  {
   "cell_type": "markdown",
   "metadata": {},
   "source": [
    "##### Single electron"
   ]
  },
  {
   "cell_type": "code",
   "execution_count": 41,
   "metadata": {},
   "outputs": [],
   "source": [
    "mc1e_evt = mc1e.loc[(slice(5000,5000), slice(None,None), slice(None,None)), :]"
   ]
  },
  {
   "cell_type": "code",
   "execution_count": 42,
   "metadata": {},
   "outputs": [
    {
     "data": {
      "text/html": [
       "<div>\n",
       "<style scoped>\n",
       "    .dataframe tbody tr th:only-of-type {\n",
       "        vertical-align: middle;\n",
       "    }\n",
       "\n",
       "    .dataframe tbody tr th {\n",
       "        vertical-align: top;\n",
       "    }\n",
       "\n",
       "    .dataframe thead th {\n",
       "        text-align: right;\n",
       "    }\n",
       "</style>\n",
       "<table border=\"1\" class=\"dataframe\">\n",
       "  <thead>\n",
       "    <tr style=\"text-align: right;\">\n",
       "      <th></th>\n",
       "      <th></th>\n",
       "      <th></th>\n",
       "      <th>x</th>\n",
       "      <th>y</th>\n",
       "      <th>z</th>\n",
       "      <th>time</th>\n",
       "      <th>energy</th>\n",
       "      <th>label</th>\n",
       "    </tr>\n",
       "    <tr>\n",
       "      <th>event_id</th>\n",
       "      <th>particle_id</th>\n",
       "      <th>hit_id</th>\n",
       "      <th></th>\n",
       "      <th></th>\n",
       "      <th></th>\n",
       "      <th></th>\n",
       "      <th></th>\n",
       "      <th></th>\n",
       "    </tr>\n",
       "  </thead>\n",
       "  <tbody>\n",
       "    <tr>\n",
       "      <th rowspan=\"11\" valign=\"top\">5000</th>\n",
       "      <th rowspan=\"11\" valign=\"top\">1</th>\n",
       "      <th>0</th>\n",
       "      <td>-459.471741</td>\n",
       "      <td>35.686749</td>\n",
       "      <td>680.406738</td>\n",
       "      <td>0.003376</td>\n",
       "      <td>0.009271</td>\n",
       "      <td>ACTIVE</td>\n",
       "    </tr>\n",
       "    <tr>\n",
       "      <th>1</th>\n",
       "      <td>-460.011810</td>\n",
       "      <td>36.272388</td>\n",
       "      <td>679.806702</td>\n",
       "      <td>0.006753</td>\n",
       "      <td>0.006503</td>\n",
       "      <td>ACTIVE</td>\n",
       "    </tr>\n",
       "    <tr>\n",
       "      <th>2</th>\n",
       "      <td>-460.630341</td>\n",
       "      <td>36.872669</td>\n",
       "      <td>679.305908</td>\n",
       "      <td>0.010129</td>\n",
       "      <td>0.003626</td>\n",
       "      <td>ACTIVE</td>\n",
       "    </tr>\n",
       "    <tr>\n",
       "      <th>3</th>\n",
       "      <td>-461.301666</td>\n",
       "      <td>37.448700</td>\n",
       "      <td>678.840576</td>\n",
       "      <td>0.013514</td>\n",
       "      <td>0.007412</td>\n",
       "      <td>ACTIVE</td>\n",
       "    </tr>\n",
       "    <tr>\n",
       "      <th>4</th>\n",
       "      <td>-461.951935</td>\n",
       "      <td>38.031681</td>\n",
       "      <td>678.373108</td>\n",
       "      <td>0.016870</td>\n",
       "      <td>0.009619</td>\n",
       "      <td>ACTIVE</td>\n",
       "    </tr>\n",
       "    <tr>\n",
       "      <th>...</th>\n",
       "      <td>...</td>\n",
       "      <td>...</td>\n",
       "      <td>...</td>\n",
       "      <td>...</td>\n",
       "      <td>...</td>\n",
       "      <td>...</td>\n",
       "    </tr>\n",
       "    <tr>\n",
       "      <th>75</th>\n",
       "      <td>-483.115021</td>\n",
       "      <td>92.394600</td>\n",
       "      <td>661.419922</td>\n",
       "      <td>0.255769</td>\n",
       "      <td>0.002484</td>\n",
       "      <td>ACTIVE</td>\n",
       "    </tr>\n",
       "    <tr>\n",
       "      <th>76</th>\n",
       "      <td>-483.195190</td>\n",
       "      <td>92.482056</td>\n",
       "      <td>661.471008</td>\n",
       "      <td>0.256210</td>\n",
       "      <td>0.000117</td>\n",
       "      <td>ACTIVE</td>\n",
       "    </tr>\n",
       "    <tr>\n",
       "      <th>77</th>\n",
       "      <td>-483.206512</td>\n",
       "      <td>92.495033</td>\n",
       "      <td>661.478333</td>\n",
       "      <td>0.256274</td>\n",
       "      <td>0.000056</td>\n",
       "      <td>ACTIVE</td>\n",
       "    </tr>\n",
       "    <tr>\n",
       "      <th>78</th>\n",
       "      <td>-483.223602</td>\n",
       "      <td>92.511650</td>\n",
       "      <td>661.490112</td>\n",
       "      <td>0.256365</td>\n",
       "      <td>0.000129</td>\n",
       "      <td>ACTIVE</td>\n",
       "    </tr>\n",
       "    <tr>\n",
       "      <th>79</th>\n",
       "      <td>-483.224091</td>\n",
       "      <td>92.512100</td>\n",
       "      <td>661.490417</td>\n",
       "      <td>0.256367</td>\n",
       "      <td>0.000006</td>\n",
       "      <td>ACTIVE</td>\n",
       "    </tr>\n",
       "  </tbody>\n",
       "</table>\n",
       "<p>80 rows × 6 columns</p>\n",
       "</div>"
      ],
      "text/plain": [
       "                                      x          y           z      time  \\\n",
       "event_id particle_id hit_id                                                \n",
       "5000     1           0      -459.471741  35.686749  680.406738  0.003376   \n",
       "                     1      -460.011810  36.272388  679.806702  0.006753   \n",
       "                     2      -460.630341  36.872669  679.305908  0.010129   \n",
       "                     3      -461.301666  37.448700  678.840576  0.013514   \n",
       "                     4      -461.951935  38.031681  678.373108  0.016870   \n",
       "...                                 ...        ...         ...       ...   \n",
       "                     75     -483.115021  92.394600  661.419922  0.255769   \n",
       "                     76     -483.195190  92.482056  661.471008  0.256210   \n",
       "                     77     -483.206512  92.495033  661.478333  0.256274   \n",
       "                     78     -483.223602  92.511650  661.490112  0.256365   \n",
       "                     79     -483.224091  92.512100  661.490417  0.256367   \n",
       "\n",
       "                               energy   label  \n",
       "event_id particle_id hit_id                    \n",
       "5000     1           0       0.009271  ACTIVE  \n",
       "                     1       0.006503  ACTIVE  \n",
       "                     2       0.003626  ACTIVE  \n",
       "                     3       0.007412  ACTIVE  \n",
       "                     4       0.009619  ACTIVE  \n",
       "...                               ...     ...  \n",
       "                     75      0.002484  ACTIVE  \n",
       "                     76      0.000117  ACTIVE  \n",
       "                     77      0.000056  ACTIVE  \n",
       "                     78      0.000129  ACTIVE  \n",
       "                     79      0.000006  ACTIVE  \n",
       "\n",
       "[80 rows x 6 columns]"
      ]
     },
     "execution_count": 42,
     "metadata": {},
     "output_type": "execute_result"
    }
   ],
   "source": [
    "mc1e_evt"
   ]
  },
  {
   "cell_type": "code",
   "execution_count": 43,
   "metadata": {},
   "outputs": [],
   "source": [
    "times1e = mc1e_evt.time"
   ]
  },
  {
   "cell_type": "code",
   "execution_count": 44,
   "metadata": {},
   "outputs": [
    {
     "data": {
      "text/plain": [
       "<matplotlib.axes._subplots.AxesSubplot at 0x7ff9b1384410>"
      ]
     },
     "execution_count": 44,
     "metadata": {},
     "output_type": "execute_result"
    },
    {
     "data": {
      "image/png": "[encoded data removed]",
      "text/plain": [
       "<Figure size 576x432 with 1 Axes>"
      ]
     },
     "metadata": {
      "needs_background": "light"
     },
     "output_type": "display_data"
    }
   ],
   "source": [
    "times1e.plot()"
   ]
  },
  {
   "cell_type": "markdown",
   "metadata": {},
   "source": [
    "##### First and last hit"
   ]
  },
  {
   "cell_type": "code",
   "execution_count": 45,
   "metadata": {},
   "outputs": [
    {
     "data": {
      "text/plain": [
       "0.0033755803"
      ]
     },
     "execution_count": 45,
     "metadata": {},
     "output_type": "execute_result"
    }
   ],
   "source": [
    "np.min(times1e)"
   ]
  },
  {
   "cell_type": "code",
   "execution_count": 46,
   "metadata": {},
   "outputs": [
    {
     "data": {
      "text/plain": [
       "0.25636715"
      ]
     },
     "execution_count": 46,
     "metadata": {},
     "output_type": "execute_result"
    }
   ],
   "source": [
    "np.max(times1e)"
   ]
  },
  {
   "cell_type": "markdown",
   "metadata": {},
   "source": [
    "##### Get true extremes from function (bb)"
   ]
  },
  {
   "cell_type": "code",
   "execution_count": 49,
   "metadata": {},
   "outputs": [],
   "source": [
    "tebb = get_true_extrema(mcHits_bb, event_id= 0, event_type = \"bb0nu\").df"
   ]
  },
  {
   "cell_type": "code",
   "execution_count": 50,
   "metadata": {},
   "outputs": [
    {
     "data": {
      "text/html": [
       "<div>\n",
       "<style scoped>\n",
       "    .dataframe tbody tr th:only-of-type {\n",
       "        vertical-align: middle;\n",
       "    }\n",
       "\n",
       "    .dataframe tbody tr th {\n",
       "        vertical-align: top;\n",
       "    }\n",
       "\n",
       "    .dataframe thead th {\n",
       "        text-align: right;\n",
       "    }\n",
       "</style>\n",
       "<table border=\"1\" class=\"dataframe\">\n",
       "  <thead>\n",
       "    <tr style=\"text-align: right;\">\n",
       "      <th></th>\n",
       "      <th>x</th>\n",
       "      <th>y</th>\n",
       "      <th>z</th>\n",
       "      <th>time</th>\n",
       "      <th>energy</th>\n",
       "      <th>label</th>\n",
       "    </tr>\n",
       "  </thead>\n",
       "  <tbody>\n",
       "    <tr>\n",
       "      <th>0</th>\n",
       "      <td>-273.207062</td>\n",
       "      <td>-255.572342</td>\n",
       "      <td>724.871460</td>\n",
       "      <td>0.348872</td>\n",
       "      <td>0.001073</td>\n",
       "      <td>ACTIVE</td>\n",
       "    </tr>\n",
       "    <tr>\n",
       "      <th>1</th>\n",
       "      <td>-261.039703</td>\n",
       "      <td>-230.863617</td>\n",
       "      <td>792.874023</td>\n",
       "      <td>0.523512</td>\n",
       "      <td>0.002869</td>\n",
       "      <td>ACTIVE</td>\n",
       "    </tr>\n",
       "  </tbody>\n",
       "</table>\n",
       "</div>"
      ],
      "text/plain": [
       "            x           y           z      time    energy   label\n",
       "0 -273.207062 -255.572342  724.871460  0.348872  0.001073  ACTIVE\n",
       "1 -261.039703 -230.863617  792.874023  0.523512  0.002869  ACTIVE"
      ]
     },
     "execution_count": 50,
     "metadata": {},
     "output_type": "execute_result"
    }
   ],
   "source": [
    "tebb"
   ]
  },
  {
   "cell_type": "code",
   "execution_count": 51,
   "metadata": {},
   "outputs": [
    {
     "data": {
      "text/plain": [
       "0    0.348872\n",
       "1    0.523512\n",
       "Name: time, dtype: float32"
      ]
     },
     "execution_count": 51,
     "metadata": {},
     "output_type": "execute_result"
    }
   ],
   "source": [
    "tebb.time"
   ]
  },
  {
   "cell_type": "code",
   "execution_count": 52,
   "metadata": {},
   "outputs": [
    {
     "data": {
      "text/plain": [
       "True"
      ]
     },
     "execution_count": 52,
     "metadata": {},
     "output_type": "execute_result"
    }
   ],
   "source": [
    "np.allclose(tebb.time[0], np.max(times_bb_p1))"
   ]
  },
  {
   "cell_type": "code",
   "execution_count": 53,
   "metadata": {},
   "outputs": [
    {
     "data": {
      "text/plain": [
       "True"
      ]
     },
     "execution_count": 53,
     "metadata": {},
     "output_type": "execute_result"
    }
   ],
   "source": [
    "np.allclose(tebb.time[1], np.max(times_bb_p2))"
   ]
  },
  {
   "cell_type": "markdown",
   "metadata": {},
   "source": [
    "##### For 1e"
   ]
  },
  {
   "cell_type": "code",
   "execution_count": 54,
   "metadata": {},
   "outputs": [],
   "source": [
    "te1e = get_true_extrema(mcHits_1e, event_id= 5000, event_type = \"1e\").df"
   ]
  },
  {
   "cell_type": "code",
   "execution_count": 55,
   "metadata": {},
   "outputs": [
    {
     "data": {
      "text/html": [
       "<div>\n",
       "<style scoped>\n",
       "    .dataframe tbody tr th:only-of-type {\n",
       "        vertical-align: middle;\n",
       "    }\n",
       "\n",
       "    .dataframe tbody tr th {\n",
       "        vertical-align: top;\n",
       "    }\n",
       "\n",
       "    .dataframe thead th {\n",
       "        text-align: right;\n",
       "    }\n",
       "</style>\n",
       "<table border=\"1\" class=\"dataframe\">\n",
       "  <thead>\n",
       "    <tr style=\"text-align: right;\">\n",
       "      <th></th>\n",
       "      <th>x</th>\n",
       "      <th>y</th>\n",
       "      <th>z</th>\n",
       "      <th>time</th>\n",
       "      <th>energy</th>\n",
       "      <th>label</th>\n",
       "    </tr>\n",
       "  </thead>\n",
       "  <tbody>\n",
       "    <tr>\n",
       "      <th>0</th>\n",
       "      <td>-459.471741</td>\n",
       "      <td>35.686749</td>\n",
       "      <td>680.406738</td>\n",
       "      <td>0.003376</td>\n",
       "      <td>0.009271</td>\n",
       "      <td>ACTIVE</td>\n",
       "    </tr>\n",
       "    <tr>\n",
       "      <th>1</th>\n",
       "      <td>-483.224091</td>\n",
       "      <td>92.512100</td>\n",
       "      <td>661.490417</td>\n",
       "      <td>0.256367</td>\n",
       "      <td>0.000006</td>\n",
       "      <td>ACTIVE</td>\n",
       "    </tr>\n",
       "  </tbody>\n",
       "</table>\n",
       "</div>"
      ],
      "text/plain": [
       "            x          y           z      time    energy   label\n",
       "0 -459.471741  35.686749  680.406738  0.003376  0.009271  ACTIVE\n",
       "1 -483.224091  92.512100  661.490417  0.256367  0.000006  ACTIVE"
      ]
     },
     "execution_count": 55,
     "metadata": {},
     "output_type": "execute_result"
    }
   ],
   "source": [
    "te1e"
   ]
  },
  {
   "cell_type": "code",
   "execution_count": 56,
   "metadata": {},
   "outputs": [
    {
     "data": {
      "text/plain": [
       "0    0.003376\n",
       "1    0.256367\n",
       "Name: time, dtype: float32"
      ]
     },
     "execution_count": 56,
     "metadata": {},
     "output_type": "execute_result"
    }
   ],
   "source": [
    "te1e.time"
   ]
  },
  {
   "cell_type": "code",
   "execution_count": 57,
   "metadata": {},
   "outputs": [
    {
     "data": {
      "text/plain": [
       "True"
      ]
     },
     "execution_count": 57,
     "metadata": {},
     "output_type": "execute_result"
    }
   ],
   "source": [
    "np.allclose(te1e.time[0], np.min(times1e))"
   ]
  },
  {
   "cell_type": "code",
   "execution_count": 58,
   "metadata": {},
   "outputs": [
    {
     "data": {
      "text/plain": [
       "True"
      ]
     },
     "execution_count": 58,
     "metadata": {},
     "output_type": "execute_result"
    }
   ],
   "source": [
    "np.allclose(te1e.time[1], np.max(times1e))"
   ]
  },
  {
   "cell_type": "markdown",
   "metadata": {},
   "source": [
    "#### primary hits"
   ]
  },
  {
   "cell_type": "code",
   "execution_count": 59,
   "metadata": {},
   "outputs": [],
   "source": [
    "mcphits = get_event_hits_from_mchits(mcHits_bb, event_id=0, particle_type='primary')"
   ]
  },
  {
   "cell_type": "code",
   "execution_count": 60,
   "metadata": {},
   "outputs": [
    {
     "data": {
      "text/html": [
       "<div>\n",
       "<style scoped>\n",
       "    .dataframe tbody tr th:only-of-type {\n",
       "        vertical-align: middle;\n",
       "    }\n",
       "\n",
       "    .dataframe tbody tr th {\n",
       "        vertical-align: top;\n",
       "    }\n",
       "\n",
       "    .dataframe thead th {\n",
       "        text-align: right;\n",
       "    }\n",
       "</style>\n",
       "<table border=\"1\" class=\"dataframe\">\n",
       "  <thead>\n",
       "    <tr style=\"text-align: right;\">\n",
       "      <th></th>\n",
       "      <th>x</th>\n",
       "      <th>y</th>\n",
       "      <th>z</th>\n",
       "      <th>energy</th>\n",
       "    </tr>\n",
       "  </thead>\n",
       "  <tbody>\n",
       "    <tr>\n",
       "      <th>0</th>\n",
       "      <td>-270.746246</td>\n",
       "      <td>-240.824417</td>\n",
       "      <td>724.598206</td>\n",
       "      <td>0.005752</td>\n",
       "    </tr>\n",
       "    <tr>\n",
       "      <th>1</th>\n",
       "      <td>-271.566711</td>\n",
       "      <td>-240.745667</td>\n",
       "      <td>724.041504</td>\n",
       "      <td>0.006912</td>\n",
       "    </tr>\n",
       "    <tr>\n",
       "      <th>2</th>\n",
       "      <td>-272.361237</td>\n",
       "      <td>-240.716476</td>\n",
       "      <td>723.438293</td>\n",
       "      <td>0.025096</td>\n",
       "    </tr>\n",
       "    <tr>\n",
       "      <th>3</th>\n",
       "      <td>-273.137329</td>\n",
       "      <td>-240.716278</td>\n",
       "      <td>722.811584</td>\n",
       "      <td>0.007589</td>\n",
       "    </tr>\n",
       "    <tr>\n",
       "      <th>4</th>\n",
       "      <td>-273.232025</td>\n",
       "      <td>-240.705490</td>\n",
       "      <td>722.708618</td>\n",
       "      <td>0.000587</td>\n",
       "    </tr>\n",
       "    <tr>\n",
       "      <th>...</th>\n",
       "      <td>...</td>\n",
       "      <td>...</td>\n",
       "      <td>...</td>\n",
       "      <td>...</td>\n",
       "    </tr>\n",
       "    <tr>\n",
       "      <th>404</th>\n",
       "      <td>-261.045044</td>\n",
       "      <td>-230.865311</td>\n",
       "      <td>792.874207</td>\n",
       "      <td>0.000029</td>\n",
       "    </tr>\n",
       "    <tr>\n",
       "      <th>405</th>\n",
       "      <td>-261.040497</td>\n",
       "      <td>-230.861237</td>\n",
       "      <td>792.875977</td>\n",
       "      <td>0.002607</td>\n",
       "    </tr>\n",
       "    <tr>\n",
       "      <th>406</th>\n",
       "      <td>-261.040619</td>\n",
       "      <td>-230.861526</td>\n",
       "      <td>792.875183</td>\n",
       "      <td>0.000031</td>\n",
       "    </tr>\n",
       "    <tr>\n",
       "      <th>407</th>\n",
       "      <td>-261.040161</td>\n",
       "      <td>-230.861877</td>\n",
       "      <td>792.874268</td>\n",
       "      <td>0.000735</td>\n",
       "    </tr>\n",
       "    <tr>\n",
       "      <th>408</th>\n",
       "      <td>-261.039703</td>\n",
       "      <td>-230.863617</td>\n",
       "      <td>792.874023</td>\n",
       "      <td>0.002869</td>\n",
       "    </tr>\n",
       "  </tbody>\n",
       "</table>\n",
       "<p>409 rows × 4 columns</p>\n",
       "</div>"
      ],
      "text/plain": [
       "              x           y           z    energy\n",
       "0   -270.746246 -240.824417  724.598206  0.005752\n",
       "1   -271.566711 -240.745667  724.041504  0.006912\n",
       "2   -272.361237 -240.716476  723.438293  0.025096\n",
       "3   -273.137329 -240.716278  722.811584  0.007589\n",
       "4   -273.232025 -240.705490  722.708618  0.000587\n",
       "..          ...         ...         ...       ...\n",
       "404 -261.045044 -230.865311  792.874207  0.000029\n",
       "405 -261.040497 -230.861237  792.875977  0.002607\n",
       "406 -261.040619 -230.861526  792.875183  0.000031\n",
       "407 -261.040161 -230.861877  792.874268  0.000735\n",
       "408 -261.039703 -230.863617  792.874023  0.002869\n",
       "\n",
       "[409 rows x 4 columns]"
      ]
     },
     "execution_count": 60,
     "metadata": {},
     "output_type": "execute_result"
    }
   ],
   "source": [
    "mcphits.df"
   ]
  },
  {
   "cell_type": "code",
   "execution_count": 61,
   "metadata": {},
   "outputs": [
    {
     "data": {
      "text/plain": [
       "2.3545222"
      ]
     },
     "execution_count": 61,
     "metadata": {},
     "output_type": "execute_result"
    }
   ],
   "source": [
    "mcphits.df.energy.sum()"
   ]
  },
  {
   "cell_type": "code",
   "execution_count": 62,
   "metadata": {},
   "outputs": [
    {
     "data": {
      "text/plain": [
       "<EventHits>\n",
       "        event number = 0\n",
       "        Columns = ('x', 'y', 'z', 'energy')\n",
       "        "
      ]
     },
     "execution_count": 62,
     "metadata": {},
     "output_type": "execute_result"
    }
   ],
   "source": [
    "mcphits"
   ]
  },
  {
   "cell_type": "code",
   "execution_count": 63,
   "metadata": {},
   "outputs": [],
   "source": [
    "mcphits1e = get_event_hits_from_mchits(mcHits_1e, event_id=5000, particle_type='primary')"
   ]
  },
  {
   "cell_type": "code",
   "execution_count": 64,
   "metadata": {},
   "outputs": [
    {
     "data": {
      "text/html": [
       "<div>\n",
       "<style scoped>\n",
       "    .dataframe tbody tr th:only-of-type {\n",
       "        vertical-align: middle;\n",
       "    }\n",
       "\n",
       "    .dataframe tbody tr th {\n",
       "        vertical-align: top;\n",
       "    }\n",
       "\n",
       "    .dataframe thead th {\n",
       "        text-align: right;\n",
       "    }\n",
       "</style>\n",
       "<table border=\"1\" class=\"dataframe\">\n",
       "  <thead>\n",
       "    <tr style=\"text-align: right;\">\n",
       "      <th></th>\n",
       "      <th>x</th>\n",
       "      <th>y</th>\n",
       "      <th>z</th>\n",
       "      <th>energy</th>\n",
       "    </tr>\n",
       "  </thead>\n",
       "  <tbody>\n",
       "    <tr>\n",
       "      <th>0</th>\n",
       "      <td>-459.471741</td>\n",
       "      <td>35.686749</td>\n",
       "      <td>680.406738</td>\n",
       "      <td>0.009271</td>\n",
       "    </tr>\n",
       "    <tr>\n",
       "      <th>1</th>\n",
       "      <td>-460.011810</td>\n",
       "      <td>36.272388</td>\n",
       "      <td>679.806702</td>\n",
       "      <td>0.006503</td>\n",
       "    </tr>\n",
       "    <tr>\n",
       "      <th>2</th>\n",
       "      <td>-460.630341</td>\n",
       "      <td>36.872669</td>\n",
       "      <td>679.305908</td>\n",
       "      <td>0.003626</td>\n",
       "    </tr>\n",
       "    <tr>\n",
       "      <th>3</th>\n",
       "      <td>-461.301666</td>\n",
       "      <td>37.448700</td>\n",
       "      <td>678.840576</td>\n",
       "      <td>0.007412</td>\n",
       "    </tr>\n",
       "    <tr>\n",
       "      <th>4</th>\n",
       "      <td>-461.951935</td>\n",
       "      <td>38.031681</td>\n",
       "      <td>678.373108</td>\n",
       "      <td>0.009619</td>\n",
       "    </tr>\n",
       "    <tr>\n",
       "      <th>...</th>\n",
       "      <td>...</td>\n",
       "      <td>...</td>\n",
       "      <td>...</td>\n",
       "      <td>...</td>\n",
       "    </tr>\n",
       "    <tr>\n",
       "      <th>75</th>\n",
       "      <td>-483.115021</td>\n",
       "      <td>92.394600</td>\n",
       "      <td>661.419922</td>\n",
       "      <td>0.002484</td>\n",
       "    </tr>\n",
       "    <tr>\n",
       "      <th>76</th>\n",
       "      <td>-483.195190</td>\n",
       "      <td>92.482056</td>\n",
       "      <td>661.471008</td>\n",
       "      <td>0.000117</td>\n",
       "    </tr>\n",
       "    <tr>\n",
       "      <th>77</th>\n",
       "      <td>-483.206512</td>\n",
       "      <td>92.495033</td>\n",
       "      <td>661.478333</td>\n",
       "      <td>0.000056</td>\n",
       "    </tr>\n",
       "    <tr>\n",
       "      <th>78</th>\n",
       "      <td>-483.223602</td>\n",
       "      <td>92.511650</td>\n",
       "      <td>661.490112</td>\n",
       "      <td>0.000129</td>\n",
       "    </tr>\n",
       "    <tr>\n",
       "      <th>79</th>\n",
       "      <td>-483.224091</td>\n",
       "      <td>92.512100</td>\n",
       "      <td>661.490417</td>\n",
       "      <td>0.000006</td>\n",
       "    </tr>\n",
       "  </tbody>\n",
       "</table>\n",
       "<p>80 rows × 4 columns</p>\n",
       "</div>"
      ],
      "text/plain": [
       "             x          y           z    energy\n",
       "0  -459.471741  35.686749  680.406738  0.009271\n",
       "1  -460.011810  36.272388  679.806702  0.006503\n",
       "2  -460.630341  36.872669  679.305908  0.003626\n",
       "3  -461.301666  37.448700  678.840576  0.007412\n",
       "4  -461.951935  38.031681  678.373108  0.009619\n",
       "..         ...        ...         ...       ...\n",
       "75 -483.115021  92.394600  661.419922  0.002484\n",
       "76 -483.195190  92.482056  661.471008  0.000117\n",
       "77 -483.206512  92.495033  661.478333  0.000056\n",
       "78 -483.223602  92.511650  661.490112  0.000129\n",
       "79 -483.224091  92.512100  661.490417  0.000006\n",
       "\n",
       "[80 rows x 4 columns]"
      ]
     },
     "execution_count": 64,
     "metadata": {},
     "output_type": "execute_result"
    }
   ],
   "source": [
    "mcphits1e.df"
   ]
  },
  {
   "cell_type": "markdown",
   "metadata": {},
   "source": [
    "#### all hits"
   ]
  },
  {
   "cell_type": "code",
   "execution_count": 65,
   "metadata": {},
   "outputs": [],
   "source": [
    "mchits = get_event_hits_from_mchits(mcHits_bb, event_id=0, particle_type='all')"
   ]
  },
  {
   "cell_type": "code",
   "execution_count": 66,
   "metadata": {},
   "outputs": [
    {
     "data": {
      "text/plain": [
       "<EventHits>\n",
       "        event number = 0\n",
       "        Columns = ('x', 'y', 'z', 'energy')\n",
       "        "
      ]
     },
     "execution_count": 66,
     "metadata": {},
     "output_type": "execute_result"
    }
   ],
   "source": [
    "mchits"
   ]
  },
  {
   "cell_type": "code",
   "execution_count": 67,
   "metadata": {},
   "outputs": [
    {
     "data": {
      "text/plain": [
       "2.4578302"
      ]
     },
     "execution_count": 67,
     "metadata": {},
     "output_type": "execute_result"
    }
   ],
   "source": [
    "mchits.df.energy.sum()"
   ]
  },
  {
   "cell_type": "code",
   "execution_count": 68,
   "metadata": {},
   "outputs": [
    {
     "data": {
      "image/png": "[encoded data removed]",
      "text/plain": [
       "<Figure size 1008x720 with 2 Axes>"
      ]
     },
     "metadata": {
      "needs_background": "light"
     },
     "output_type": "display_data"
    }
   ],
   "source": [
    "plot_hits3d(mchits.df, autorange = True, figsize   = (14,10))"
   ]
  },
  {
   "cell_type": "code",
   "execution_count": 69,
   "metadata": {},
   "outputs": [
    {
     "data": {
      "image/png": "[encoded data removed]",
      "text/plain": [
       "<Figure size 1008x720 with 2 Axes>"
      ]
     },
     "metadata": {
      "needs_background": "light"
     },
     "output_type": "display_data"
    }
   ],
   "source": [
    "plot_hits3d_and_true_extrema(mchits.df, tebb, autorange = True, figsize   = (14,10))"
   ]
  },
  {
   "cell_type": "code",
   "execution_count": 70,
   "metadata": {},
   "outputs": [],
   "source": [
    "mchits1e = get_event_hits_from_mchits(mcHits_1e, event_id=5000, particle_type='all')"
   ]
  },
  {
   "cell_type": "code",
   "execution_count": 71,
   "metadata": {},
   "outputs": [
    {
     "data": {
      "image/png": "[encoded data removed]",
      "text/plain": [
       "<Figure size 1008x720 with 2 Axes>"
      ]
     },
     "metadata": {
      "needs_background": "light"
     },
     "output_type": "display_data"
    }
   ],
   "source": [
    "plot_hits3d(mchits1e.df, autorange = True, figsize   = (14,10))"
   ]
  },
  {
   "cell_type": "code",
   "execution_count": 72,
   "metadata": {},
   "outputs": [
    {
     "data": {
      "image/png": "[encoded data removed]",
      "text/plain": [
       "<Figure size 1008x720 with 2 Axes>"
      ]
     },
     "metadata": {
      "needs_background": "light"
     },
     "output_type": "display_data"
    }
   ],
   "source": [
    "plot_hits3d_and_true_extrema(mchits1e.df, te1e, autorange = True, figsize   = (14,10))"
   ]
  }
 ],
 "metadata": {
  "kernelspec": {
   "display_name": "Python 3",
   "language": "python",
   "name": "python3"
  },
  "language_info": {
   "codemirror_mode": {
    "name": "ipython",
    "version": 3
   },
   "file_extension": ".py",
   "mimetype": "text/x-python",
   "name": "python",
   "nbconvert_exporter": "python",
   "pygments_lexer": "ipython3",
   "version": "3.7.7"
  }
 },
 "nbformat": 4,
 "nbformat_minor": 4
}
