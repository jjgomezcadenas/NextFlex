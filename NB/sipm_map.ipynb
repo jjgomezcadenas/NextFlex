{
 "cells": [
  {
   "cell_type": "markdown",
   "metadata": {},
   "source": [
    "<p style=\"font-family: Arial; font-size:3.75em;color:purple; font-style:bold\"><br>\n",
    "'SiPM MAP' Study</p><br>"
   ]
  },
  {
   "cell_type": "markdown",
   "metadata": {},
   "source": [
    "# This notebook computes a sipm map needed for the NextFlex studies"
   ]
  },
  {
   "cell_type": "code",
   "execution_count": 15,
   "metadata": {},
   "outputs": [
    {
     "data": {
      "text/html": [
       "<style>body {\n",
       "    margin: 0;\n",
       "    font-family: Helvetica;\n",
       "}\n",
       "table.dataframe {\n",
       "    border-collapse: collapse;\n",
       "    border: none;\n",
       "}\n",
       "table.dataframe tr {\n",
       "    border: none;\n",
       "}\n",
       "table.dataframe td, table.dataframe th {\n",
       "    margin: 0;\n",
       "    border: 1px solid white;\n",
       "    padding-left: 0.25em;\n",
       "    padding-right: 0.25em;\n",
       "}\n",
       "table.dataframe th:not(:empty) {\n",
       "    background-color: #fec;\n",
       "    text-align: left;\n",
       "    font-weight: normal;\n",
       "}\n",
       "table.dataframe tr:nth-child(2) th:empty {\n",
       "    border-left: none;\n",
       "    border-right: 1px dashed #888;\n",
       "}\n",
       "table.dataframe td {\n",
       "    border: 2px solid #ccf;\n",
       "    background-color: #f4f4ff;\n",
       "}\n",
       "h3 {\n",
       "    color: white;\n",
       "    background-color: black;\n",
       "    padding: 0.5em;\n",
       "}\n",
       "\n",
       "h2 {\n",
       "    color: white;\n",
       "    background-color: red;\n",
       "    padding: 0.5em;\n",
       "}\n",
       "\n",
       "h4 {\n",
       "    color: white;\n",
       "    background-color: blue;\n",
       "    padding: 0.5em;\n",
       "}\n",
       "</style>"
      ],
      "text/plain": [
       "<IPython.core.display.HTML object>"
      ]
     },
     "execution_count": 15,
     "metadata": {},
     "output_type": "execute_result"
    }
   ],
   "source": [
    "from IPython.core.display import HTML\n",
    "css = open('style-table.css').read() + open('style-notebook.css').read()\n",
    "HTML('<style>{}</style>'.format(css))"
   ]
  },
  {
   "cell_type": "code",
   "execution_count": 50,
   "metadata": {},
   "outputs": [],
   "source": [
    "# General importings\n",
    "import os\n",
    "import sys\n",
    "import glob\n",
    "import logging\n",
    "import math\n",
    "import numpy  as np\n",
    "import tables as tb\n",
    "import pandas as pd\n",
    "import matplotlib.pyplot as plt\n",
    "from matplotlib import colors\n",
    "import time\n",
    "\n",
    "# Specific IC stuff\n",
    "import invisible_cities.core.system_of_units  as units\n",
    "\n",
    "from invisible_cities.io.mcinfo_io import load_mcconfiguration\n",
    "from invisible_cities.io.mcinfo_io import load_mcparticles_df\n",
    "from invisible_cities.io.mcinfo_io import load_mchits_df\n",
    "from invisible_cities.io.mcinfo_io import load_mcsensor_positions\n",
    "from invisible_cities.io.mcinfo_io import load_mcsensor_response_df\n",
    "from invisible_cities.io.mcinfo_io import get_sensor_types\n",
    "from invisible_cities.io.mcinfo_io import get_sensor_binning\n",
    "from invisible_cities.io.mcinfo_io import get_event_numbers_in_file\n",
    "from invisible_cities.core.core_functions import in_range\n"
   ]
  },
  {
   "cell_type": "code",
   "execution_count": 131,
   "metadata": {},
   "outputs": [],
   "source": [
    "from nextflex.sipm_map import sipm_pos\n",
    "from nextflex.sipm_map import sipm_indx\n",
    "from nextflex.sipm_map import find_pitch\n",
    "from nextflex.core import NN\n",
    "from nextflex.core import Setup"
   ]
  },
  {
   "cell_type": "code",
   "execution_count": 17,
   "metadata": {},
   "outputs": [],
   "source": [
    "%matplotlib inline\n",
    "%load_ext autoreload\n",
    "%autoreload 2"
   ]
  },
  {
   "cell_type": "code",
   "execution_count": 18,
   "metadata": {},
   "outputs": [],
   "source": [
    "plt.rcParams[\"figure.figsize\"] = 8, 6\n",
    "plt.rcParams[\"font.size\"     ] = 14"
   ]
  },
  {
   "cell_type": "markdown",
   "metadata": {},
   "source": [
    "# DATA"
   ]
  },
  {
   "cell_type": "code",
   "execution_count": 206,
   "metadata": {},
   "outputs": [
    {
     "name": "stdout",
     "output_type": "stream",
     "text": [
      "path to data directories =/Users/jj/Development/flexdata\n"
     ]
    }
   ],
   "source": [
    "FDATA = os.environ['FLEXDATA']\n",
    "print(f'path to data directories ={FDATA}')"
   ]
  },
  {
   "cell_type": "code",
   "execution_count": 222,
   "metadata": {},
   "outputs": [
    {
     "name": "stdout",
     "output_type": "stream",
     "text": [
      "\n",
      "        Setup <FLEX100_M6_O6_P10.EL8bar_PMTs_sipmPDE_1.0_maskPDE_1.0_qTh_0.0>:\n",
      "        tracking plane configuration = FLEX100_M6_O6_P10.EL8bar\n",
      "        sipm PDE                     = 1.0\n",
      "        transmission of teflon masks = 1.0\n",
      "        charge threshold             = 0.0\n",
      "        Fibres?                      = False\n",
      "        \n"
     ]
    }
   ],
   "source": [
    "    # define setup\n",
    "setup = Setup(sipmPDE    = 1.0,\n",
    "              maskPDE    = 1.0,\n",
    "              qTh        = 0.0,\n",
    "              tpConfig   = \"FLEX100_M6_O6_P10.EL8bar\")\n",
    "print(setup)\n"
   ]
  },
  {
   "cell_type": "code",
   "execution_count": 229,
   "metadata": {},
   "outputs": [
    {
     "name": "stdout",
     "output_type": "stream",
     "text": [
      "/Users/jj/Development/flexdata/FLEX100_M6_O6_P10.EL8bar\n",
      "for file /Users/jj/Development/flexdata/FLEX100_M6_O6_P10.EL8bar/FLEX100_M6_O6_P10.Kr83.ACTIVE.3099.next.h5 :  pitch = 10.0 mm \n"
     ]
    }
   ],
   "source": [
    "iPATH =  f\"{FDATA}/{setup.tpConfig}\"\n",
    "print(iPATH)\n",
    "ifnames = glob.glob(f\"{iPATH}/*.h5\")\n",
    "pitch = find_pitch(ifnames[0])\n",
    "print(f'for file {ifnames[0]} :  pitch ={pitch : 2.1f} mm ')\n"
   ]
  },
  {
   "cell_type": "code",
   "execution_count": 230,
   "metadata": {},
   "outputs": [],
   "source": [
    "testFile = ifnames[1]"
   ]
  },
  {
   "cell_type": "code",
   "execution_count": 231,
   "metadata": {},
   "outputs": [],
   "source": [
    "mcConfig = load_mcconfiguration(testFile)"
   ]
  },
  {
   "cell_type": "code",
   "execution_count": 232,
   "metadata": {},
   "outputs": [
    {
     "data": {
      "text/html": [
       "<div>\n",
       "<style scoped>\n",
       "    .dataframe tbody tr th:only-of-type {\n",
       "        vertical-align: middle;\n",
       "    }\n",
       "\n",
       "    .dataframe tbody tr th {\n",
       "        vertical-align: top;\n",
       "    }\n",
       "\n",
       "    .dataframe thead th {\n",
       "        text-align: right;\n",
       "    }\n",
       "</style>\n",
       "<table border=\"1\" class=\"dataframe\">\n",
       "  <thead>\n",
       "    <tr style=\"text-align: right;\">\n",
       "      <th></th>\n",
       "      <th>param_key</th>\n",
       "      <th>param_value</th>\n",
       "    </tr>\n",
       "  </thead>\n",
       "  <tbody>\n",
       "    <tr>\n",
       "      <th>0</th>\n",
       "      <td>event_type</td>\n",
       "      <td>other</td>\n",
       "    </tr>\n",
       "    <tr>\n",
       "      <th>1</th>\n",
       "      <td>num_events</td>\n",
       "      <td>100</td>\n",
       "    </tr>\n",
       "    <tr>\n",
       "      <th>2</th>\n",
       "      <td>saved_events</td>\n",
       "      <td>100</td>\n",
       "    </tr>\n",
       "    <tr>\n",
       "      <th>3</th>\n",
       "      <td>interacting_events</td>\n",
       "      <td>100</td>\n",
       "    </tr>\n",
       "    <tr>\n",
       "      <th>4</th>\n",
       "      <td>PmtR11410_binning</td>\n",
       "      <td>0.025000 mus</td>\n",
       "    </tr>\n",
       "    <tr>\n",
       "      <th>...</th>\n",
       "      <td>...</td>\n",
       "      <td>...</td>\n",
       "    </tr>\n",
       "    <tr>\n",
       "      <th>74</th>\n",
       "      <td>/event/verbose</td>\n",
       "      <td>0</td>\n",
       "    </tr>\n",
       "    <tr>\n",
       "      <th>75</th>\n",
       "      <td>/tracking/verbose</td>\n",
       "      <td>0</td>\n",
       "    </tr>\n",
       "    <tr>\n",
       "      <th>76</th>\n",
       "      <td>/nexus/random_seed</td>\n",
       "      <td>993669</td>\n",
       "    </tr>\n",
       "    <tr>\n",
       "      <th>77</th>\n",
       "      <td>/nexus/persistency/start_id</td>\n",
       "      <td>308900</td>\n",
       "    </tr>\n",
       "    <tr>\n",
       "      <th>78</th>\n",
       "      <td>/nexus/persistency/outputFile</td>\n",
       "      <td>/n/holyscratch01/guenette_lab/Users/jmunozv/FL...</td>\n",
       "    </tr>\n",
       "  </tbody>\n",
       "</table>\n",
       "<p>79 rows × 2 columns</p>\n",
       "</div>"
      ],
      "text/plain": [
       "                        param_key  \\\n",
       "0                      event_type   \n",
       "1                      num_events   \n",
       "2                    saved_events   \n",
       "3              interacting_events   \n",
       "4               PmtR11410_binning   \n",
       "..                            ...   \n",
       "74                 /event/verbose   \n",
       "75              /tracking/verbose   \n",
       "76             /nexus/random_seed   \n",
       "77    /nexus/persistency/start_id   \n",
       "78  /nexus/persistency/outputFile   \n",
       "\n",
       "                                          param_value  \n",
       "0                                               other  \n",
       "1                                                 100  \n",
       "2                                                 100  \n",
       "3                                                 100  \n",
       "4                                        0.025000 mus  \n",
       "..                                                ...  \n",
       "74                                                  0  \n",
       "75                                                  0  \n",
       "76                                             993669  \n",
       "77                                             308900  \n",
       "78  /n/holyscratch01/guenette_lab/Users/jmunozv/FL...  \n",
       "\n",
       "[79 rows x 2 columns]"
      ]
     },
     "execution_count": 232,
     "metadata": {},
     "output_type": "execute_result"
    }
   ],
   "source": [
    "mcConfig"
   ]
  },
  {
   "cell_type": "code",
   "execution_count": 233,
   "metadata": {},
   "outputs": [],
   "source": [
    "mcConfig.set_index(\"param_key\", inplace = True)"
   ]
  },
  {
   "cell_type": "code",
   "execution_count": 234,
   "metadata": {},
   "outputs": [
    {
     "data": {
      "text/html": [
       "<div>\n",
       "<style scoped>\n",
       "    .dataframe tbody tr th:only-of-type {\n",
       "        vertical-align: middle;\n",
       "    }\n",
       "\n",
       "    .dataframe tbody tr th {\n",
       "        vertical-align: top;\n",
       "    }\n",
       "\n",
       "    .dataframe thead th {\n",
       "        text-align: right;\n",
       "    }\n",
       "</style>\n",
       "<table border=\"1\" class=\"dataframe\">\n",
       "  <thead>\n",
       "    <tr style=\"text-align: right;\">\n",
       "      <th></th>\n",
       "      <th>param_value</th>\n",
       "    </tr>\n",
       "    <tr>\n",
       "      <th>param_key</th>\n",
       "      <th></th>\n",
       "    </tr>\n",
       "  </thead>\n",
       "  <tbody>\n",
       "    <tr>\n",
       "      <th>event_type</th>\n",
       "      <td>other</td>\n",
       "    </tr>\n",
       "    <tr>\n",
       "      <th>num_events</th>\n",
       "      <td>100</td>\n",
       "    </tr>\n",
       "    <tr>\n",
       "      <th>saved_events</th>\n",
       "      <td>100</td>\n",
       "    </tr>\n",
       "    <tr>\n",
       "      <th>interacting_events</th>\n",
       "      <td>100</td>\n",
       "    </tr>\n",
       "    <tr>\n",
       "      <th>PmtR11410_binning</th>\n",
       "      <td>0.025000 mus</td>\n",
       "    </tr>\n",
       "    <tr>\n",
       "      <th>...</th>\n",
       "      <td>...</td>\n",
       "    </tr>\n",
       "    <tr>\n",
       "      <th>/event/verbose</th>\n",
       "      <td>0</td>\n",
       "    </tr>\n",
       "    <tr>\n",
       "      <th>/tracking/verbose</th>\n",
       "      <td>0</td>\n",
       "    </tr>\n",
       "    <tr>\n",
       "      <th>/nexus/random_seed</th>\n",
       "      <td>993669</td>\n",
       "    </tr>\n",
       "    <tr>\n",
       "      <th>/nexus/persistency/start_id</th>\n",
       "      <td>308900</td>\n",
       "    </tr>\n",
       "    <tr>\n",
       "      <th>/nexus/persistency/outputFile</th>\n",
       "      <td>/n/holyscratch01/guenette_lab/Users/jmunozv/FL...</td>\n",
       "    </tr>\n",
       "  </tbody>\n",
       "</table>\n",
       "<p>79 rows × 1 columns</p>\n",
       "</div>"
      ],
      "text/plain": [
       "                                                                     param_value\n",
       "param_key                                                                       \n",
       "event_type                                                                 other\n",
       "num_events                                                                   100\n",
       "saved_events                                                                 100\n",
       "interacting_events                                                           100\n",
       "PmtR11410_binning                                                   0.025000 mus\n",
       "...                                                                          ...\n",
       "/event/verbose                                                                 0\n",
       "/tracking/verbose                                                              0\n",
       "/nexus/random_seed                                                        993669\n",
       "/nexus/persistency/start_id                                               308900\n",
       "/nexus/persistency/outputFile  /n/holyscratch01/guenette_lab/Users/jmunozv/FL...\n",
       "\n",
       "[79 rows x 1 columns]"
      ]
     },
     "execution_count": 234,
     "metadata": {},
     "output_type": "execute_result"
    }
   ],
   "source": [
    "mcConfig"
   ]
  },
  {
   "cell_type": "code",
   "execution_count": 235,
   "metadata": {},
   "outputs": [],
   "source": [
    "par = mcConfig.loc[\"/Geometry/NextFlex/tp_sipm_pitchX\"]"
   ]
  },
  {
   "cell_type": "code",
   "execution_count": 236,
   "metadata": {},
   "outputs": [
    {
     "data": {
      "text/plain": [
       "param_value           10.   mm\n",
       "Name: /Geometry/NextFlex/tp_sipm_pitchX, dtype: object"
      ]
     },
     "execution_count": 236,
     "metadata": {},
     "output_type": "execute_result"
    }
   ],
   "source": [
    "par"
   ]
  },
  {
   "cell_type": "markdown",
   "metadata": {},
   "source": [
    "# Input data"
   ]
  },
  {
   "cell_type": "code",
   "execution_count": 237,
   "metadata": {},
   "outputs": [
    {
     "name": "stdout",
     "output_type": "stream",
     "text": [
      "                                                param_value\n",
      "param_key                                                  \n",
      "num_events                                              100\n",
      "TP_SiPM_binning                                1.000000 mus\n",
      "/Geometry/NextFlex/e_lifetime                      1000. ms\n",
      "/Geometry/NextFlex/el_gap_length                    10.  mm\n",
      "/Geometry/NextFlex/el_field_int             16. kilovolt/cm\n",
      "/Geometry/NextFlex/tp_teflon_thickness              6.   mm\n",
      "/Geometry/NextFlex/tp_teflon_hole_diam              6.   mm\n",
      "/Geometry/NextFlex/tp_sipm_sizeX                   1.3   mm\n",
      "/Geometry/NextFlex/tp_sipm_pitchX                  10.   mm\n"
     ]
    }
   ],
   "source": [
    "# Verbosing main config parameters\n",
    "\n",
    "main_params = [\"/Geometry/NextFlex/e_lifetime\", \"/Geometry/NextFlex/el_gap_length\",\n",
    "                   \"/Geometry/NextFlex/el_field_int\", \"/Geometry/NextFlex/tp_sipm_anode_dist\",\n",
    "                   \"/Geometry/NextFlex/tp_teflon_thickness\", \"/Geometry/NextFlex/tp_teflon_hole_diam\",\n",
    "                   \"/Geometry/NextFlex/tp_sipm_sizeX\", \"/Geometry/NextFlex/tp_sipm_pitchX\",\n",
    "                   \"num_events\", \"TP_SiPM_binning\", \"F_SENSOR_L_binning\", \"F_SENSOR_R_binning\"]\n",
    "print(mcConfig.loc[mcConfig.index.intersection(main_params)])\n"
   ]
  },
  {
   "cell_type": "markdown",
   "metadata": {},
   "source": [
    "## Extract pitch from params"
   ]
  },
  {
   "cell_type": "code",
   "execution_count": 238,
   "metadata": {},
   "outputs": [
    {
     "data": {
      "text/plain": [
       "10.0"
      ]
     },
     "execution_count": 238,
     "metadata": {},
     "output_type": "execute_result"
    }
   ],
   "source": [
    "pitch"
   ]
  },
  {
   "cell_type": "markdown",
   "metadata": {},
   "source": [
    "## SiPMs are at indices < 10000 in dataframes "
   ]
  },
  {
   "cell_type": "code",
   "execution_count": 239,
   "metadata": {},
   "outputs": [],
   "source": [
    "KEY_sensor_fibres  = 100000\n",
    "KEY_sensor_pmts    = 100\n",
    "sipm_index         = (KEY_sensor_pmts, KEY_sensor_fibres)"
   ]
  },
  {
   "cell_type": "markdown",
   "metadata": {},
   "source": [
    "## Sensors"
   ]
  },
  {
   "cell_type": "code",
   "execution_count": 240,
   "metadata": {},
   "outputs": [
    {
     "data": {
      "text/html": [
       "<div>\n",
       "<style scoped>\n",
       "    .dataframe tbody tr th:only-of-type {\n",
       "        vertical-align: middle;\n",
       "    }\n",
       "\n",
       "    .dataframe tbody tr th {\n",
       "        vertical-align: top;\n",
       "    }\n",
       "\n",
       "    .dataframe thead th {\n",
       "        text-align: right;\n",
       "    }\n",
       "</style>\n",
       "<table border=\"1\" class=\"dataframe\">\n",
       "  <thead>\n",
       "    <tr style=\"text-align: right;\">\n",
       "      <th></th>\n",
       "      <th>bin_width</th>\n",
       "    </tr>\n",
       "    <tr>\n",
       "      <th>sns_name</th>\n",
       "      <th></th>\n",
       "    </tr>\n",
       "  </thead>\n",
       "  <tbody>\n",
       "    <tr>\n",
       "      <th>PmtR11410</th>\n",
       "      <td>25.0</td>\n",
       "    </tr>\n",
       "    <tr>\n",
       "      <th>TP_SiPM</th>\n",
       "      <td>1000.0</td>\n",
       "    </tr>\n",
       "  </tbody>\n",
       "</table>\n",
       "</div>"
      ],
      "text/plain": [
       "           bin_width\n",
       "sns_name            \n",
       "PmtR11410       25.0\n",
       "TP_SiPM       1000.0"
      ]
     },
     "execution_count": 240,
     "metadata": {},
     "output_type": "execute_result"
    }
   ],
   "source": [
    "get_sensor_binning(testFile)"
   ]
  },
  {
   "cell_type": "code",
   "execution_count": 241,
   "metadata": {},
   "outputs": [
    {
     "data": {
      "text/html": [
       "<div>\n",
       "<style scoped>\n",
       "    .dataframe tbody tr th:only-of-type {\n",
       "        vertical-align: middle;\n",
       "    }\n",
       "\n",
       "    .dataframe tbody tr th {\n",
       "        vertical-align: top;\n",
       "    }\n",
       "\n",
       "    .dataframe thead th {\n",
       "        text-align: right;\n",
       "    }\n",
       "</style>\n",
       "<table border=\"1\" class=\"dataframe\">\n",
       "  <thead>\n",
       "    <tr style=\"text-align: right;\">\n",
       "      <th></th>\n",
       "      <th>sensor_id</th>\n",
       "      <th>sensor_name</th>\n",
       "    </tr>\n",
       "  </thead>\n",
       "  <tbody>\n",
       "    <tr>\n",
       "      <th>0</th>\n",
       "      <td>42</td>\n",
       "      <td>PmtR11410</td>\n",
       "    </tr>\n",
       "    <tr>\n",
       "      <th>1</th>\n",
       "      <td>45</td>\n",
       "      <td>PmtR11410</td>\n",
       "    </tr>\n",
       "    <tr>\n",
       "      <th>2</th>\n",
       "      <td>30</td>\n",
       "      <td>PmtR11410</td>\n",
       "    </tr>\n",
       "    <tr>\n",
       "      <th>3</th>\n",
       "      <td>37</td>\n",
       "      <td>PmtR11410</td>\n",
       "    </tr>\n",
       "    <tr>\n",
       "      <th>4</th>\n",
       "      <td>0</td>\n",
       "      <td>PmtR11410</td>\n",
       "    </tr>\n",
       "  </tbody>\n",
       "</table>\n",
       "</div>"
      ],
      "text/plain": [
       "   sensor_id sensor_name\n",
       "0         42   PmtR11410\n",
       "1         45   PmtR11410\n",
       "2         30   PmtR11410\n",
       "3         37   PmtR11410\n",
       "4          0   PmtR11410"
      ]
     },
     "execution_count": 241,
     "metadata": {},
     "output_type": "execute_result"
    }
   ],
   "source": [
    "sns_types = get_sensor_types(testFile)\n",
    "sns_types.head()"
   ]
  },
  {
   "cell_type": "code",
   "execution_count": 242,
   "metadata": {},
   "outputs": [
    {
     "data": {
      "text/plain": [
       "array(['PmtR11410', 'TP_SiPM'], dtype=object)"
      ]
     },
     "execution_count": 242,
     "metadata": {},
     "output_type": "execute_result"
    }
   ],
   "source": [
    "np.unique(sns_types.sensor_name.values)"
   ]
  },
  {
   "cell_type": "code",
   "execution_count": 243,
   "metadata": {},
   "outputs": [
    {
     "data": {
      "text/html": [
       "<div>\n",
       "<style scoped>\n",
       "    .dataframe tbody tr th:only-of-type {\n",
       "        vertical-align: middle;\n",
       "    }\n",
       "\n",
       "    .dataframe tbody tr th {\n",
       "        vertical-align: top;\n",
       "    }\n",
       "\n",
       "    .dataframe thead th {\n",
       "        text-align: right;\n",
       "    }\n",
       "</style>\n",
       "<table border=\"1\" class=\"dataframe\">\n",
       "  <thead>\n",
       "    <tr style=\"text-align: right;\">\n",
       "      <th></th>\n",
       "      <th>sensor_id</th>\n",
       "      <th>sensor_name</th>\n",
       "      <th>x</th>\n",
       "      <th>y</th>\n",
       "      <th>z</th>\n",
       "    </tr>\n",
       "  </thead>\n",
       "  <tbody>\n",
       "    <tr>\n",
       "      <th>0</th>\n",
       "      <td>42</td>\n",
       "      <td>PmtR11410</td>\n",
       "      <td>437.5</td>\n",
       "      <td>108.300003</td>\n",
       "      <td>1468.699951</td>\n",
       "    </tr>\n",
       "    <tr>\n",
       "      <th>1</th>\n",
       "      <td>45</td>\n",
       "      <td>PmtR11410</td>\n",
       "      <td>-437.5</td>\n",
       "      <td>-108.300003</td>\n",
       "      <td>1468.699951</td>\n",
       "    </tr>\n",
       "    <tr>\n",
       "      <th>2</th>\n",
       "      <td>30</td>\n",
       "      <td>PmtR11410</td>\n",
       "      <td>250.0</td>\n",
       "      <td>216.600006</td>\n",
       "      <td>1468.699951</td>\n",
       "    </tr>\n",
       "    <tr>\n",
       "      <th>3</th>\n",
       "      <td>37</td>\n",
       "      <td>PmtR11410</td>\n",
       "      <td>250.0</td>\n",
       "      <td>433.012695</td>\n",
       "      <td>1468.699951</td>\n",
       "    </tr>\n",
       "    <tr>\n",
       "      <th>4</th>\n",
       "      <td>0</td>\n",
       "      <td>PmtR11410</td>\n",
       "      <td>125.0</td>\n",
       "      <td>0.000000</td>\n",
       "      <td>1468.699951</td>\n",
       "    </tr>\n",
       "  </tbody>\n",
       "</table>\n",
       "</div>"
      ],
      "text/plain": [
       "   sensor_id sensor_name      x           y            z\n",
       "0         42   PmtR11410  437.5  108.300003  1468.699951\n",
       "1         45   PmtR11410 -437.5 -108.300003  1468.699951\n",
       "2         30   PmtR11410  250.0  216.600006  1468.699951\n",
       "3         37   PmtR11410  250.0  433.012695  1468.699951\n",
       "4          0   PmtR11410  125.0    0.000000  1468.699951"
      ]
     },
     "execution_count": 243,
     "metadata": {},
     "output_type": "execute_result"
    }
   ],
   "source": [
    "sns_positions = load_mcsensor_positions(testFile)\n",
    "sns_positions.head()"
   ]
  },
  {
   "cell_type": "markdown",
   "metadata": {},
   "source": [
    "## SiPM map"
   ]
  },
  {
   "cell_type": "code",
   "execution_count": 244,
   "metadata": {},
   "outputs": [
    {
     "data": {
      "text/html": [
       "<div>\n",
       "<style scoped>\n",
       "    .dataframe tbody tr th:only-of-type {\n",
       "        vertical-align: middle;\n",
       "    }\n",
       "\n",
       "    .dataframe tbody tr th {\n",
       "        vertical-align: top;\n",
       "    }\n",
       "\n",
       "    .dataframe thead th {\n",
       "        text-align: right;\n",
       "    }\n",
       "</style>\n",
       "<table border=\"1\" class=\"dataframe\">\n",
       "  <thead>\n",
       "    <tr style=\"text-align: right;\">\n",
       "      <th></th>\n",
       "      <th>index</th>\n",
       "      <th>sensor_id</th>\n",
       "      <th>sensor_name</th>\n",
       "      <th>x</th>\n",
       "      <th>y</th>\n",
       "      <th>z</th>\n",
       "    </tr>\n",
       "  </thead>\n",
       "  <tbody>\n",
       "    <tr>\n",
       "      <th>0</th>\n",
       "      <td>60</td>\n",
       "      <td>3491</td>\n",
       "      <td>TP_SiPM</td>\n",
       "      <td>-435.0</td>\n",
       "      <td>-125.0</td>\n",
       "      <td>-23.301001</td>\n",
       "    </tr>\n",
       "    <tr>\n",
       "      <th>1</th>\n",
       "      <td>61</td>\n",
       "      <td>7674</td>\n",
       "      <td>TP_SiPM</td>\n",
       "      <td>125.0</td>\n",
       "      <td>325.0</td>\n",
       "      <td>-23.301001</td>\n",
       "    </tr>\n",
       "    <tr>\n",
       "      <th>2</th>\n",
       "      <td>62</td>\n",
       "      <td>6299</td>\n",
       "      <td>TP_SiPM</td>\n",
       "      <td>-225.0</td>\n",
       "      <td>165.0</td>\n",
       "      <td>-23.301001</td>\n",
       "    </tr>\n",
       "    <tr>\n",
       "      <th>3</th>\n",
       "      <td>63</td>\n",
       "      <td>2766</td>\n",
       "      <td>TP_SiPM</td>\n",
       "      <td>-335.0</td>\n",
       "      <td>-205.0</td>\n",
       "      <td>-23.301001</td>\n",
       "    </tr>\n",
       "    <tr>\n",
       "      <th>4</th>\n",
       "      <td>64</td>\n",
       "      <td>7771</td>\n",
       "      <td>TP_SiPM</td>\n",
       "      <td>-315.0</td>\n",
       "      <td>345.0</td>\n",
       "      <td>-23.301001</td>\n",
       "    </tr>\n",
       "  </tbody>\n",
       "</table>\n",
       "</div>"
      ],
      "text/plain": [
       "   index  sensor_id sensor_name      x      y          z\n",
       "0     60       3491     TP_SiPM -435.0 -125.0 -23.301001\n",
       "1     61       7674     TP_SiPM  125.0  325.0 -23.301001\n",
       "2     62       6299     TP_SiPM -225.0  165.0 -23.301001\n",
       "3     63       2766     TP_SiPM -335.0 -205.0 -23.301001\n",
       "4     64       7771     TP_SiPM -315.0  345.0 -23.301001"
      ]
     },
     "execution_count": 244,
     "metadata": {},
     "output_type": "execute_result"
    }
   ],
   "source": [
    "sipm_positions = sns_positions[in_range(sns_positions.sensor_id, *sipm_index)].reset_index()\n",
    "sipm_positions.head()"
   ]
  },
  {
   "cell_type": "code",
   "execution_count": 245,
   "metadata": {},
   "outputs": [
    {
     "name": "stdout",
     "output_type": "stream",
     "text": [
      "XMAX = 485.0 XMIN = -485.0 YMAX = 485.0 YMIN = -485.0\n"
     ]
    }
   ],
   "source": [
    "XMAX = sipm_positions.x.max()\n",
    "XMIN = sipm_positions.x.min()\n",
    "YMAX = sipm_positions.y.max()\n",
    "YMIN = sipm_positions.y.min()\n",
    "print(f'XMAX = {XMAX} XMIN = {XMIN} YMAX = {YMAX} YMIN = {YMIN}')"
   ]
  },
  {
   "cell_type": "code",
   "execution_count": 246,
   "metadata": {},
   "outputs": [],
   "source": [
    "sipm_map = sipm_pos(sipm_positions, pitch, eps=0.1)"
   ]
  },
  {
   "cell_type": "code",
   "execution_count": 247,
   "metadata": {},
   "outputs": [
    {
     "data": {
      "text/html": [
       "<div>\n",
       "<style scoped>\n",
       "    .dataframe tbody tr th:only-of-type {\n",
       "        vertical-align: middle;\n",
       "    }\n",
       "\n",
       "    .dataframe tbody tr th {\n",
       "        vertical-align: top;\n",
       "    }\n",
       "\n",
       "    .dataframe thead th {\n",
       "        text-align: right;\n",
       "    }\n",
       "</style>\n",
       "<table border=\"1\" class=\"dataframe\">\n",
       "  <thead>\n",
       "    <tr style=\"text-align: right;\">\n",
       "      <th></th>\n",
       "      <th>sensor_id</th>\n",
       "      <th>sensor_name</th>\n",
       "      <th>x</th>\n",
       "      <th>y</th>\n",
       "      <th>xl</th>\n",
       "      <th>xr</th>\n",
       "      <th>yu</th>\n",
       "      <th>yd</th>\n",
       "    </tr>\n",
       "  </thead>\n",
       "  <tbody>\n",
       "    <tr>\n",
       "      <th>0</th>\n",
       "      <td>3491</td>\n",
       "      <td>TP_SiPM</td>\n",
       "      <td>-435.0</td>\n",
       "      <td>-125.0</td>\n",
       "      <td>-445.0</td>\n",
       "      <td>-425.0</td>\n",
       "      <td>-115.0</td>\n",
       "      <td>-135.0</td>\n",
       "    </tr>\n",
       "    <tr>\n",
       "      <th>1</th>\n",
       "      <td>7674</td>\n",
       "      <td>TP_SiPM</td>\n",
       "      <td>125.0</td>\n",
       "      <td>325.0</td>\n",
       "      <td>115.0</td>\n",
       "      <td>135.0</td>\n",
       "      <td>335.0</td>\n",
       "      <td>315.0</td>\n",
       "    </tr>\n",
       "    <tr>\n",
       "      <th>2</th>\n",
       "      <td>6299</td>\n",
       "      <td>TP_SiPM</td>\n",
       "      <td>-225.0</td>\n",
       "      <td>165.0</td>\n",
       "      <td>-235.0</td>\n",
       "      <td>-215.0</td>\n",
       "      <td>175.0</td>\n",
       "      <td>155.0</td>\n",
       "    </tr>\n",
       "    <tr>\n",
       "      <th>3</th>\n",
       "      <td>2766</td>\n",
       "      <td>TP_SiPM</td>\n",
       "      <td>-335.0</td>\n",
       "      <td>-205.0</td>\n",
       "      <td>-345.0</td>\n",
       "      <td>-325.0</td>\n",
       "      <td>-195.0</td>\n",
       "      <td>-215.0</td>\n",
       "    </tr>\n",
       "    <tr>\n",
       "      <th>4</th>\n",
       "      <td>7771</td>\n",
       "      <td>TP_SiPM</td>\n",
       "      <td>-315.0</td>\n",
       "      <td>345.0</td>\n",
       "      <td>-325.0</td>\n",
       "      <td>-305.0</td>\n",
       "      <td>355.0</td>\n",
       "      <td>335.0</td>\n",
       "    </tr>\n",
       "    <tr>\n",
       "      <th>...</th>\n",
       "      <td>...</td>\n",
       "      <td>...</td>\n",
       "      <td>...</td>\n",
       "      <td>...</td>\n",
       "      <td>...</td>\n",
       "      <td>...</td>\n",
       "      <td>...</td>\n",
       "      <td>...</td>\n",
       "    </tr>\n",
       "    <tr>\n",
       "      <th>7479</th>\n",
       "      <td>4477</td>\n",
       "      <td>TP_SiPM</td>\n",
       "      <td>-195.0</td>\n",
       "      <td>-25.0</td>\n",
       "      <td>-205.0</td>\n",
       "      <td>-185.0</td>\n",
       "      <td>-15.0</td>\n",
       "      <td>-35.0</td>\n",
       "    </tr>\n",
       "    <tr>\n",
       "      <th>7480</th>\n",
       "      <td>4331</td>\n",
       "      <td>TP_SiPM</td>\n",
       "      <td>305.0</td>\n",
       "      <td>-45.0</td>\n",
       "      <td>295.0</td>\n",
       "      <td>315.0</td>\n",
       "      <td>-35.0</td>\n",
       "      <td>-55.0</td>\n",
       "    </tr>\n",
       "    <tr>\n",
       "      <th>7481</th>\n",
       "      <td>5759</td>\n",
       "      <td>TP_SiPM</td>\n",
       "      <td>-5.0</td>\n",
       "      <td>105.0</td>\n",
       "      <td>-15.0</td>\n",
       "      <td>5.0</td>\n",
       "      <td>115.0</td>\n",
       "      <td>95.0</td>\n",
       "    </tr>\n",
       "    <tr>\n",
       "      <th>7482</th>\n",
       "      <td>4850</td>\n",
       "      <td>TP_SiPM</td>\n",
       "      <td>-385.0</td>\n",
       "      <td>15.0</td>\n",
       "      <td>-395.0</td>\n",
       "      <td>-375.0</td>\n",
       "      <td>25.0</td>\n",
       "      <td>5.0</td>\n",
       "    </tr>\n",
       "    <tr>\n",
       "      <th>7483</th>\n",
       "      <td>4279</td>\n",
       "      <td>TP_SiPM</td>\n",
       "      <td>-215.0</td>\n",
       "      <td>-45.0</td>\n",
       "      <td>-225.0</td>\n",
       "      <td>-205.0</td>\n",
       "      <td>-35.0</td>\n",
       "      <td>-55.0</td>\n",
       "    </tr>\n",
       "  </tbody>\n",
       "</table>\n",
       "<p>7484 rows × 8 columns</p>\n",
       "</div>"
      ],
      "text/plain": [
       "      sensor_id sensor_name      x      y     xl     xr     yu     yd\n",
       "0          3491     TP_SiPM -435.0 -125.0 -445.0 -425.0 -115.0 -135.0\n",
       "1          7674     TP_SiPM  125.0  325.0  115.0  135.0  335.0  315.0\n",
       "2          6299     TP_SiPM -225.0  165.0 -235.0 -215.0  175.0  155.0\n",
       "3          2766     TP_SiPM -335.0 -205.0 -345.0 -325.0 -195.0 -215.0\n",
       "4          7771     TP_SiPM -315.0  345.0 -325.0 -305.0  355.0  335.0\n",
       "...         ...         ...    ...    ...    ...    ...    ...    ...\n",
       "7479       4477     TP_SiPM -195.0  -25.0 -205.0 -185.0  -15.0  -35.0\n",
       "7480       4331     TP_SiPM  305.0  -45.0  295.0  315.0  -35.0  -55.0\n",
       "7481       5759     TP_SiPM   -5.0  105.0  -15.0    5.0  115.0   95.0\n",
       "7482       4850     TP_SiPM -385.0   15.0 -395.0 -375.0   25.0    5.0\n",
       "7483       4279     TP_SiPM -215.0  -45.0 -225.0 -205.0  -35.0  -55.0\n",
       "\n",
       "[7484 rows x 8 columns]"
      ]
     },
     "execution_count": 247,
     "metadata": {},
     "output_type": "execute_result"
    }
   ],
   "source": [
    "sipm_map"
   ]
  },
  {
   "cell_type": "code",
   "execution_count": 248,
   "metadata": {},
   "outputs": [],
   "source": [
    "sipm_indx(sipm_map)"
   ]
  },
  {
   "cell_type": "code",
   "execution_count": 249,
   "metadata": {},
   "outputs": [
    {
     "data": {
      "text/html": [
       "<div>\n",
       "<style scoped>\n",
       "    .dataframe tbody tr th:only-of-type {\n",
       "        vertical-align: middle;\n",
       "    }\n",
       "\n",
       "    .dataframe tbody tr th {\n",
       "        vertical-align: top;\n",
       "    }\n",
       "\n",
       "    .dataframe thead th {\n",
       "        text-align: right;\n",
       "    }\n",
       "</style>\n",
       "<table border=\"1\" class=\"dataframe\">\n",
       "  <thead>\n",
       "    <tr style=\"text-align: right;\">\n",
       "      <th></th>\n",
       "      <th>sensor_id</th>\n",
       "      <th>sensor_name</th>\n",
       "      <th>x</th>\n",
       "      <th>y</th>\n",
       "      <th>xl</th>\n",
       "      <th>xr</th>\n",
       "      <th>yu</th>\n",
       "      <th>yd</th>\n",
       "      <th>id_xl</th>\n",
       "      <th>id_xr</th>\n",
       "      <th>id_yu</th>\n",
       "      <th>id_yd</th>\n",
       "    </tr>\n",
       "  </thead>\n",
       "  <tbody>\n",
       "    <tr>\n",
       "      <th>0</th>\n",
       "      <td>3491</td>\n",
       "      <td>TP_SiPM</td>\n",
       "      <td>-435.0</td>\n",
       "      <td>-125.0</td>\n",
       "      <td>-445.0</td>\n",
       "      <td>-425.0</td>\n",
       "      <td>-115.0</td>\n",
       "      <td>-135.0</td>\n",
       "      <td>3490</td>\n",
       "      <td>3492</td>\n",
       "      <td>3585</td>\n",
       "      <td>3397</td>\n",
       "    </tr>\n",
       "    <tr>\n",
       "      <th>1</th>\n",
       "      <td>7674</td>\n",
       "      <td>TP_SiPM</td>\n",
       "      <td>125.0</td>\n",
       "      <td>325.0</td>\n",
       "      <td>115.0</td>\n",
       "      <td>135.0</td>\n",
       "      <td>335.0</td>\n",
       "      <td>315.0</td>\n",
       "      <td>7673</td>\n",
       "      <td>7675</td>\n",
       "      <td>7745</td>\n",
       "      <td>7601</td>\n",
       "    </tr>\n",
       "    <tr>\n",
       "      <th>2</th>\n",
       "      <td>6299</td>\n",
       "      <td>TP_SiPM</td>\n",
       "      <td>-225.0</td>\n",
       "      <td>165.0</td>\n",
       "      <td>-235.0</td>\n",
       "      <td>-215.0</td>\n",
       "      <td>175.0</td>\n",
       "      <td>155.0</td>\n",
       "      <td>6298</td>\n",
       "      <td>6300</td>\n",
       "      <td>6391</td>\n",
       "      <td>6207</td>\n",
       "    </tr>\n",
       "    <tr>\n",
       "      <th>3</th>\n",
       "      <td>2766</td>\n",
       "      <td>TP_SiPM</td>\n",
       "      <td>-335.0</td>\n",
       "      <td>-205.0</td>\n",
       "      <td>-345.0</td>\n",
       "      <td>-325.0</td>\n",
       "      <td>-195.0</td>\n",
       "      <td>-215.0</td>\n",
       "      <td>2765</td>\n",
       "      <td>2767</td>\n",
       "      <td>2855</td>\n",
       "      <td>2678</td>\n",
       "    </tr>\n",
       "    <tr>\n",
       "      <th>4</th>\n",
       "      <td>7771</td>\n",
       "      <td>TP_SiPM</td>\n",
       "      <td>-315.0</td>\n",
       "      <td>345.0</td>\n",
       "      <td>-325.0</td>\n",
       "      <td>-305.0</td>\n",
       "      <td>355.0</td>\n",
       "      <td>335.0</td>\n",
       "      <td>7770</td>\n",
       "      <td>7772</td>\n",
       "      <td>7839</td>\n",
       "      <td>7701</td>\n",
       "    </tr>\n",
       "    <tr>\n",
       "      <th>...</th>\n",
       "      <td>...</td>\n",
       "      <td>...</td>\n",
       "      <td>...</td>\n",
       "      <td>...</td>\n",
       "      <td>...</td>\n",
       "      <td>...</td>\n",
       "      <td>...</td>\n",
       "      <td>...</td>\n",
       "      <td>...</td>\n",
       "      <td>...</td>\n",
       "      <td>...</td>\n",
       "      <td>...</td>\n",
       "    </tr>\n",
       "    <tr>\n",
       "      <th>7479</th>\n",
       "      <td>4477</td>\n",
       "      <td>TP_SiPM</td>\n",
       "      <td>-195.0</td>\n",
       "      <td>-25.0</td>\n",
       "      <td>-205.0</td>\n",
       "      <td>-185.0</td>\n",
       "      <td>-15.0</td>\n",
       "      <td>-35.0</td>\n",
       "      <td>4476</td>\n",
       "      <td>4478</td>\n",
       "      <td>4575</td>\n",
       "      <td>4379</td>\n",
       "    </tr>\n",
       "    <tr>\n",
       "      <th>7480</th>\n",
       "      <td>4331</td>\n",
       "      <td>TP_SiPM</td>\n",
       "      <td>305.0</td>\n",
       "      <td>-45.0</td>\n",
       "      <td>295.0</td>\n",
       "      <td>315.0</td>\n",
       "      <td>-35.0</td>\n",
       "      <td>-55.0</td>\n",
       "      <td>4330</td>\n",
       "      <td>4332</td>\n",
       "      <td>4429</td>\n",
       "      <td>4234</td>\n",
       "    </tr>\n",
       "    <tr>\n",
       "      <th>7481</th>\n",
       "      <td>5759</td>\n",
       "      <td>TP_SiPM</td>\n",
       "      <td>-5.0</td>\n",
       "      <td>105.0</td>\n",
       "      <td>-15.0</td>\n",
       "      <td>5.0</td>\n",
       "      <td>115.0</td>\n",
       "      <td>95.0</td>\n",
       "      <td>5758</td>\n",
       "      <td>5760</td>\n",
       "      <td>5854</td>\n",
       "      <td>5663</td>\n",
       "    </tr>\n",
       "    <tr>\n",
       "      <th>7482</th>\n",
       "      <td>4850</td>\n",
       "      <td>TP_SiPM</td>\n",
       "      <td>-385.0</td>\n",
       "      <td>15.0</td>\n",
       "      <td>-395.0</td>\n",
       "      <td>-375.0</td>\n",
       "      <td>25.0</td>\n",
       "      <td>5.0</td>\n",
       "      <td>4849</td>\n",
       "      <td>4851</td>\n",
       "      <td>4948</td>\n",
       "      <td>4752</td>\n",
       "    </tr>\n",
       "    <tr>\n",
       "      <th>7483</th>\n",
       "      <td>4279</td>\n",
       "      <td>TP_SiPM</td>\n",
       "      <td>-215.0</td>\n",
       "      <td>-45.0</td>\n",
       "      <td>-225.0</td>\n",
       "      <td>-205.0</td>\n",
       "      <td>-35.0</td>\n",
       "      <td>-55.0</td>\n",
       "      <td>4278</td>\n",
       "      <td>4280</td>\n",
       "      <td>4377</td>\n",
       "      <td>4182</td>\n",
       "    </tr>\n",
       "  </tbody>\n",
       "</table>\n",
       "<p>7484 rows × 12 columns</p>\n",
       "</div>"
      ],
      "text/plain": [
       "      sensor_id sensor_name      x      y     xl     xr     yu     yd  id_xl  \\\n",
       "0          3491     TP_SiPM -435.0 -125.0 -445.0 -425.0 -115.0 -135.0   3490   \n",
       "1          7674     TP_SiPM  125.0  325.0  115.0  135.0  335.0  315.0   7673   \n",
       "2          6299     TP_SiPM -225.0  165.0 -235.0 -215.0  175.0  155.0   6298   \n",
       "3          2766     TP_SiPM -335.0 -205.0 -345.0 -325.0 -195.0 -215.0   2765   \n",
       "4          7771     TP_SiPM -315.0  345.0 -325.0 -305.0  355.0  335.0   7770   \n",
       "...         ...         ...    ...    ...    ...    ...    ...    ...    ...   \n",
       "7479       4477     TP_SiPM -195.0  -25.0 -205.0 -185.0  -15.0  -35.0   4476   \n",
       "7480       4331     TP_SiPM  305.0  -45.0  295.0  315.0  -35.0  -55.0   4330   \n",
       "7481       5759     TP_SiPM   -5.0  105.0  -15.0    5.0  115.0   95.0   5758   \n",
       "7482       4850     TP_SiPM -385.0   15.0 -395.0 -375.0   25.0    5.0   4849   \n",
       "7483       4279     TP_SiPM -215.0  -45.0 -225.0 -205.0  -35.0  -55.0   4278   \n",
       "\n",
       "      id_xr  id_yu  id_yd  \n",
       "0      3492   3585   3397  \n",
       "1      7675   7745   7601  \n",
       "2      6300   6391   6207  \n",
       "3      2767   2855   2678  \n",
       "4      7772   7839   7701  \n",
       "...     ...    ...    ...  \n",
       "7479   4478   4575   4379  \n",
       "7480   4332   4429   4234  \n",
       "7481   5760   5854   5663  \n",
       "7482   4851   4948   4752  \n",
       "7483   4280   4377   4182  \n",
       "\n",
       "[7484 rows x 12 columns]"
      ]
     },
     "execution_count": 249,
     "metadata": {},
     "output_type": "execute_result"
    }
   ],
   "source": [
    "sipm_map"
   ]
  },
  {
   "cell_type": "code",
   "execution_count": 250,
   "metadata": {},
   "outputs": [
    {
     "data": {
      "text/plain": [
       "True"
      ]
     },
     "execution_count": 250,
     "metadata": {},
     "output_type": "execute_result"
    }
   ],
   "source": [
    "sipm_indx_test(sipm_map)"
   ]
  },
  {
   "cell_type": "code",
   "execution_count": 251,
   "metadata": {},
   "outputs": [
    {
     "data": {
      "text/plain": [
       "<matplotlib.axes._subplots.AxesSubplot at 0x7f88a8b8da50>"
      ]
     },
     "execution_count": 251,
     "metadata": {},
     "output_type": "execute_result"
    },
    {
     "data": {
      "image/png": "[encoded data removed]",
      "text/plain": [
       "<Figure size 576x432 with 1 Axes>"
      ]
     },
     "metadata": {
      "needs_background": "light"
     },
     "output_type": "display_data"
    }
   ],
   "source": [
    "sipm_map.plot(kind='scatter', x='x', y='y')"
   ]
  },
  {
   "cell_type": "code",
   "execution_count": 252,
   "metadata": {},
   "outputs": [
    {
     "data": {
      "text/plain": [
       "<matplotlib.axes._subplots.AxesSubplot at 0x7f885109f090>"
      ]
     },
     "execution_count": 252,
     "metadata": {},
     "output_type": "execute_result"
    },
    {
     "data": {
      "image/png": "[encoded data removed]",
      "text/plain": [
       "<Figure size 576x432 with 1 Axes>"
      ]
     },
     "metadata": {
      "needs_background": "light"
     },
     "output_type": "display_data"
    }
   ],
   "source": [
    "sipm_map.plot(kind='scatter', x='x', y='xl')"
   ]
  },
  {
   "cell_type": "code",
   "execution_count": 253,
   "metadata": {},
   "outputs": [
    {
     "data": {
      "text/plain": [
       "<matplotlib.axes._subplots.AxesSubplot at 0x7f8851067a50>"
      ]
     },
     "execution_count": 253,
     "metadata": {},
     "output_type": "execute_result"
    },
    {
     "data": {
      "image/png": "[encoded data removed]",
      "text/plain": [
       "<Figure size 576x432 with 1 Axes>"
      ]
     },
     "metadata": {
      "needs_background": "light"
     },
     "output_type": "display_data"
    }
   ],
   "source": [
    "sipm_map.plot(kind='scatter', x='x', y='xr')"
   ]
  },
  {
   "cell_type": "code",
   "execution_count": 254,
   "metadata": {},
   "outputs": [
    {
     "data": {
      "text/plain": [
       "<matplotlib.axes._subplots.AxesSubplot at 0x7f8868b82810>"
      ]
     },
     "execution_count": 254,
     "metadata": {},
     "output_type": "execute_result"
    },
    {
     "data": {
      "image/png": "[encoded data removed]",
      "text/plain": [
       "<Figure size 576x432 with 1 Axes>"
      ]
     },
     "metadata": {
      "needs_background": "light"
     },
     "output_type": "display_data"
    }
   ],
   "source": [
    "sipm_map.plot(kind='scatter', x='y', y='yu')"
   ]
  },
  {
   "cell_type": "code",
   "execution_count": 255,
   "metadata": {},
   "outputs": [
    {
     "data": {
      "text/plain": [
       "<matplotlib.axes._subplots.AxesSubplot at 0x7f88093b8510>"
      ]
     },
     "execution_count": 255,
     "metadata": {},
     "output_type": "execute_result"
    },
    {
     "data": {
      "image/png": "[encoded data removed]",
      "text/plain": [
       "<Figure size 576x432 with 1 Axes>"
      ]
     },
     "metadata": {
      "needs_background": "light"
     },
     "output_type": "display_data"
    }
   ],
   "source": [
    "sipm_map.plot(kind='scatter', x='y', y='yd')"
   ]
  },
  {
   "cell_type": "code",
   "execution_count": 70,
   "metadata": {},
   "outputs": [],
   "source": [
    "#sipm_map.to_csv('sipm_map.csv')"
   ]
  },
  {
   "cell_type": "code",
   "execution_count": null,
   "metadata": {},
   "outputs": [],
   "source": []
  }
 ],
 "metadata": {
  "kernelspec": {
   "display_name": "Python 3",
   "language": "python",
   "name": "python3"
  },
  "language_info": {
   "codemirror_mode": {
    "name": "ipython",
    "version": 3
   },
   "file_extension": ".py",
   "mimetype": "text/x-python",
   "name": "python",
   "nbconvert_exporter": "python",
   "pygments_lexer": "ipython3",
   "version": "3.7.7"
  }
 },
 "nbformat": 4,
 "nbformat_minor": 4
}
