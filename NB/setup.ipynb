{
 "cells": [
  {
   "cell_type": "markdown",
   "metadata": {},
   "source": [
    "<p style=\"font-family: Arial; font-size:3.75em;color:purple; font-style:bold\"><br>\n",
    "Setup NB</p><br>"
   ]
  },
  {
   "cell_type": "markdown",
   "metadata": {},
   "source": [
    "# This notebook describes the setup data class"
   ]
  },
  {
   "cell_type": "code",
   "execution_count": 256,
   "metadata": {},
   "outputs": [
    {
     "data": {
      "text/html": [
       "<style>body {\n",
       "    margin: 0;\n",
       "    font-family: Helvetica;\n",
       "}\n",
       "table.dataframe {\n",
       "    border-collapse: collapse;\n",
       "    border: none;\n",
       "}\n",
       "table.dataframe tr {\n",
       "    border: none;\n",
       "}\n",
       "table.dataframe td, table.dataframe th {\n",
       "    margin: 0;\n",
       "    border: 1px solid white;\n",
       "    padding-left: 0.25em;\n",
       "    padding-right: 0.25em;\n",
       "}\n",
       "table.dataframe th:not(:empty) {\n",
       "    background-color: #fec;\n",
       "    text-align: left;\n",
       "    font-weight: normal;\n",
       "}\n",
       "table.dataframe tr:nth-child(2) th:empty {\n",
       "    border-left: none;\n",
       "    border-right: 1px dashed #888;\n",
       "}\n",
       "table.dataframe td {\n",
       "    border: 2px solid #ccf;\n",
       "    background-color: #f4f4ff;\n",
       "}\n",
       "h3 {\n",
       "    color: white;\n",
       "    background-color: black;\n",
       "    padding: 0.5em;\n",
       "}\n",
       "\n",
       "h2 {\n",
       "    color: white;\n",
       "    background-color: red;\n",
       "    padding: 0.5em;\n",
       "}\n",
       "\n",
       "h4 {\n",
       "    color: white;\n",
       "    background-color: blue;\n",
       "    padding: 0.5em;\n",
       "}\n",
       "</style>"
      ],
      "text/plain": [
       "<IPython.core.display.HTML object>"
      ]
     },
     "execution_count": 256,
     "metadata": {},
     "output_type": "execute_result"
    }
   ],
   "source": [
    "from IPython.core.display import HTML\n",
    "css = open('style-table.css').read() + open('style-notebook.css').read()\n",
    "HTML('<style>{}</style>'.format(css))"
   ]
  },
  {
   "cell_type": "code",
   "execution_count": 257,
   "metadata": {},
   "outputs": [],
   "source": [
    "# General importings\n",
    "import os\n",
    "import sys\n",
    "import glob\n",
    "import logging\n",
    "import math\n",
    "import numpy  as np\n",
    "import tables as tb\n",
    "import pandas as pd\n",
    "import matplotlib.pyplot as plt\n",
    "from matplotlib import colors\n",
    "import time\n",
    "\n",
    "# Specific IC stuff\n",
    "import invisible_cities.core.system_of_units  as units\n",
    "\n",
    "from invisible_cities.io.mcinfo_io import load_mcconfiguration\n",
    "from invisible_cities.io.mcinfo_io import load_mcparticles_df\n",
    "from invisible_cities.io.mcinfo_io import load_mchits_df\n",
    "from invisible_cities.io.mcinfo_io import load_mcsensor_positions\n",
    "from invisible_cities.io.mcinfo_io import load_mcsensor_response_df\n",
    "from invisible_cities.io.mcinfo_io import get_sensor_types\n",
    "from invisible_cities.io.mcinfo_io import get_sensor_binning\n",
    "from invisible_cities.io.mcinfo_io import get_event_numbers_in_file\n",
    "from invisible_cities.core.core_functions import in_range\n"
   ]
  },
  {
   "cell_type": "code",
   "execution_count": 366,
   "metadata": {},
   "outputs": [],
   "source": [
    "from nextflex.sipm_map import sipm_pos\n",
    "from nextflex.sipm_map import sipm_indx\n",
    "from nextflex.sipm_map import find_pitch\n",
    "from nextflex.core import NN\n",
    "from nextflex.core import Setup\n",
    "from nextflex.krypton_dst import get_file_name"
   ]
  },
  {
   "cell_type": "code",
   "execution_count": 258,
   "metadata": {},
   "outputs": [],
   "source": [
    "from   dataclasses import dataclass"
   ]
  },
  {
   "cell_type": "code",
   "execution_count": 17,
   "metadata": {},
   "outputs": [],
   "source": [
    "%matplotlib inline\n",
    "%load_ext autoreload\n",
    "%autoreload 2"
   ]
  },
  {
   "cell_type": "code",
   "execution_count": 18,
   "metadata": {},
   "outputs": [],
   "source": [
    "plt.rcParams[\"figure.figsize\"] = 8, 6\n",
    "plt.rcParams[\"font.size\"     ] = 14"
   ]
  },
  {
   "cell_type": "markdown",
   "metadata": {},
   "source": [
    "## DATA"
   ]
  },
  {
   "cell_type": "code",
   "execution_count": 345,
   "metadata": {},
   "outputs": [
    {
     "name": "stdout",
     "output_type": "stream",
     "text": [
      "path to data directories =/Users/jj/Development/flexdata\n"
     ]
    }
   ],
   "source": [
    "FDATA = os.environ['FLEXDATA']\n",
    "print(f'path to data directories ={FDATA}')"
   ]
  },
  {
   "cell_type": "markdown",
   "metadata": {},
   "source": [
    "## A setup with 10 mm pitch"
   ]
  },
  {
   "cell_type": "code",
   "execution_count": 357,
   "metadata": {},
   "outputs": [
    {
     "name": "stdout",
     "output_type": "stream",
     "text": [
      "\n",
      "        Setup <FLEX100_M6_O6_P10.EL8bar_PMTs_sipmPDE_1.0_maskPDE_1.0_qTh_0.0>:\n",
      "        tracking plane configuration = FLEX100_M6_O6_P10.EL8bar\n",
      "        sipm PDE                     = 1.0\n",
      "        transmission of teflon masks = 1.0\n",
      "        charge threshold             = 0.0\n",
      "        energy sensors               = PMTs\n",
      "        pitch                        = 10.0\n",
      "        number of energy sensors     = 60\n",
      "        number of SiPMs              = 7484\n",
      "        root directory               = /Users/jj/Development/flexdata/FLEX100_M6_O6_P10.EL8bar\n",
      "        number of h5 files in dir    = 100\n",
      "        sipm map at                  = /Users/jj/Development/flexdata/flexmaps/sipm_map_10.0_mm.csv\n",
      "        sipm map name                = sipm_map_10.0_mm.csv\n",
      "        \n"
     ]
    }
   ],
   "source": [
    "setup = Setup(flexDATA = FDATA,\n",
    "              sipmPDE  = 1.0,\n",
    "              maskPDE  = 1.0,\n",
    "              qTh      = 0.0,\n",
    "              tpConfig = \"FLEX100_M6_O6_P10.EL8bar\")\n",
    "print(setup)\n"
   ]
  },
  {
   "cell_type": "markdown",
   "metadata": {},
   "source": [
    "## A setup with 15 mm pitch"
   ]
  },
  {
   "cell_type": "code",
   "execution_count": 358,
   "metadata": {},
   "outputs": [
    {
     "name": "stdout",
     "output_type": "stream",
     "text": [
      "\n",
      "        Setup <FLEX100_M6_O6_PMTs_sipmPDE_1.0_maskPDE_1.0_qTh_0.0>:\n",
      "        tracking plane configuration = FLEX100_M6_O6\n",
      "        sipm PDE                     = 1.0\n",
      "        transmission of teflon masks = 1.0\n",
      "        charge threshold             = 0.0\n",
      "        energy sensors               = PMTs\n",
      "        pitch                        = 15.55\n",
      "        number of energy sensors     = 60\n",
      "        number of SiPMs              = 3093\n",
      "        root directory               = /Users/jj/Development/flexdata/FLEX100_M6_O6\n",
      "        number of h5 files in dir    = 100\n",
      "        sipm map at                  = /Users/jj/Development/flexdata/flexmaps/sipm_map_15.6_mm.csv\n",
      "        sipm map name                = sipm_map_15.6_mm.csv\n",
      "        \n"
     ]
    }
   ],
   "source": [
    "setup = Setup(flexDATA = FDATA,\n",
    "              sipmPDE  = 1.0,\n",
    "              maskPDE  = 1.0,\n",
    "              qTh      = 0.0,\n",
    "              tpConfig = \"FLEX100_M6_O6\")\n",
    "print(setup)"
   ]
  },
  {
   "cell_type": "markdown",
   "metadata": {},
   "source": [
    "## A setup with Fibers"
   ]
  },
  {
   "cell_type": "code",
   "execution_count": 359,
   "metadata": {},
   "outputs": [
    {
     "name": "stdout",
     "output_type": "stream",
     "text": [
      "\n",
      "        Setup <FLEX100F_M6_O6.EL8bar_Fibres_sipmPDE_1.0_maskPDE_1.0_qTh_0.0>:\n",
      "        tracking plane configuration = FLEX100F_M6_O6.EL8bar\n",
      "        sipm PDE                     = 1.0\n",
      "        transmission of teflon masks = 1.0\n",
      "        charge threshold             = 0.0\n",
      "        energy sensors               = Fibres\n",
      "        pitch                        = 15.55\n",
      "        number of energy sensors     = 1545\n",
      "        number of SiPMs              = 3093\n",
      "        root directory               = /Users/jj/Development/flexdata/FLEX100F_M6_O6.EL8bar\n",
      "        number of h5 files in dir    = 100\n",
      "        sipm map at                  = /Users/jj/Development/flexdata/flexmaps/sipm_map_15.6_mm.csv\n",
      "        sipm map name                = sipm_map_15.6_mm.csv\n",
      "        \n"
     ]
    }
   ],
   "source": [
    "setup = Setup(flexDATA = FDATA,\n",
    "              sipmPDE  = 1.0,\n",
    "              maskPDE  = 1.0,\n",
    "              qTh      = 0.0,\n",
    "              tpConfig = \"FLEX100F_M6_O6.EL8bar\")\n",
    "print(setup)"
   ]
  },
  {
   "cell_type": "markdown",
   "metadata": {},
   "source": [
    "## Tests related with Setup"
   ]
  },
  {
   "cell_type": "markdown",
   "metadata": {},
   "source": [
    "***\n",
    "get_file_name(ifname, setup)\n",
    "***"
   ]
  },
  {
   "cell_type": "code",
   "execution_count": 371,
   "metadata": {},
   "outputs": [
    {
     "name": "stdout",
     "output_type": "stream",
     "text": [
      "\n",
      "        Setup <FLEX100_M6_O6_PMTs_sipmPDE_1.0_maskPDE_1.0_qTh_0.0>:\n",
      "        tracking plane configuration = FLEX100_M6_O6\n",
      "        sipm PDE                     = 1.0\n",
      "        transmission of teflon masks = 1.0\n",
      "        charge threshold             = 0.0\n",
      "        energy sensors               = PMTs\n",
      "        pitch                        = 15.55\n",
      "        number of energy sensors     = 60\n",
      "        number of SiPMs              = 3093\n",
      "        root directory               = /Users/jj/Development/flexdata/FLEX100_M6_O6\n",
      "        number of h5 files in dir    = 100\n",
      "        sipm map at                  = /Users/jj/Development/flexdata/flexmaps/sipm_map_15.6_mm.csv\n",
      "        sipm map name                = sipm_map_15.6_mm.csv\n",
      "        \n"
     ]
    }
   ],
   "source": [
    "setup = Setup(flexDATA = FDATA,\n",
    "              sipmPDE  = 1.0,\n",
    "              maskPDE  = 1.0,\n",
    "              qTh      = 0.0,\n",
    "              tpConfig = \"FLEX100_M6_O6\")\n",
    "print(setup)"
   ]
  },
  {
   "cell_type": "code",
   "execution_count": 363,
   "metadata": {},
   "outputs": [],
   "source": [
    "ifname = \"/Users/jj/Development/flexdata/FLEX100_M6_O6/FLEX100_M6_O6.Kr83.ACTIVE.1023.next.h5\""
   ]
  },
  {
   "cell_type": "code",
   "execution_count": 367,
   "metadata": {},
   "outputs": [
    {
     "data": {
      "text/plain": [
       "'/Users/jj/Development/flexdata/FLEX100_M6_O6/FLEX100_M6_O6_PMTs_sipmPDE_1.0_maskPDE_1.0_qTh_0.0/FLEX100_M6_O6.Kr83.ACTIVE.1023.next.csv'"
      ]
     },
     "execution_count": 367,
     "metadata": {},
     "output_type": "execute_result"
    }
   ],
   "source": [
    "get_file_name(ifname, setup)"
   ]
  },
  {
   "cell_type": "code",
   "execution_count": null,
   "metadata": {},
   "outputs": [],
   "source": []
  }
 ],
 "metadata": {
  "kernelspec": {
   "display_name": "Python 3",
   "language": "python",
   "name": "python3"
  },
  "language_info": {
   "codemirror_mode": {
    "name": "ipython",
    "version": 3
   },
   "file_extension": ".py",
   "mimetype": "text/x-python",
   "name": "python",
   "nbconvert_exporter": "python",
   "pygments_lexer": "ipython3",
   "version": "3.7.7"
  }
 },
 "nbformat": 4,
 "nbformat_minor": 4
}
