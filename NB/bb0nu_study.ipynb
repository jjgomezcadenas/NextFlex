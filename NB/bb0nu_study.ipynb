{
 "cells": [
  {
   "cell_type": "markdown",
   "metadata": {},
   "source": [
    "<p style=\"font-family: Arial; font-size:3.75em;color:purple; font-style:bold\"><br>\n",
    "$\\beta\\beta0\\nu$ Stuy </p><br>"
   ]
  },
  {
   "cell_type": "markdown",
   "metadata": {},
   "source": [
    "## Study $\\beta\\beta0\\nu$ reconstruction "
   ]
  },
  {
   "cell_type": "code",
   "execution_count": 1,
   "metadata": {},
   "outputs": [
    {
     "data": {
      "text/html": [
       "<style>body {\n",
       "    margin: 0;\n",
       "    font-family: Helvetica;\n",
       "}\n",
       "table.dataframe {\n",
       "    border-collapse: collapse;\n",
       "    border: none;\n",
       "}\n",
       "table.dataframe tr {\n",
       "    border: none;\n",
       "}\n",
       "table.dataframe td, table.dataframe th {\n",
       "    margin: 0;\n",
       "    border: 1px solid white;\n",
       "    padding-left: 0.25em;\n",
       "    padding-right: 0.25em;\n",
       "}\n",
       "table.dataframe th:not(:empty) {\n",
       "    background-color: #fec;\n",
       "    text-align: left;\n",
       "    font-weight: normal;\n",
       "}\n",
       "table.dataframe tr:nth-child(2) th:empty {\n",
       "    border-left: none;\n",
       "    border-right: 1px dashed #888;\n",
       "}\n",
       "table.dataframe td {\n",
       "    border: 2px solid #ccf;\n",
       "    background-color: #f4f4ff;\n",
       "}\n",
       "h3 {\n",
       "    color: white;\n",
       "    background-color: black;\n",
       "    padding: 0.5em;\n",
       "}\n",
       "\n",
       "h2 {\n",
       "    color: white;\n",
       "    background-color: red;\n",
       "    padding: 0.5em;\n",
       "}\n",
       "\n",
       "h4 {\n",
       "    color: white;\n",
       "    background-color: blue;\n",
       "    padding: 0.5em;\n",
       "}\n",
       "</style>"
      ],
      "text/plain": [
       "<IPython.core.display.HTML object>"
      ]
     },
     "execution_count": 1,
     "metadata": {},
     "output_type": "execute_result"
    }
   ],
   "source": [
    "from IPython.core.display import HTML\n",
    "css = open('style-table.css').read() + open('style-notebook.css').read()\n",
    "HTML('<style>{}</style>'.format(css))"
   ]
  },
  {
   "cell_type": "markdown",
   "metadata": {},
   "source": [
    "#### General"
   ]
  },
  {
   "cell_type": "code",
   "execution_count": 2,
   "metadata": {},
   "outputs": [],
   "source": [
    "# General importings\n",
    "import os\n",
    "import sys\n",
    "import glob\n",
    "import logging\n",
    "import math\n",
    "import numpy  as np\n",
    "import warnings\n",
    "import functools\n",
    "import time\n",
    "\n",
    "from scipy.stats import norm\n",
    "import pandas as pd\n",
    "import matplotlib.pyplot as plt\n",
    "from matplotlib import colors\n",
    "from mpl_toolkits.mplot3d import Axes3D \n",
    "import networkx as nx\n",
    "from itertools   import combinations"
   ]
  },
  {
   "cell_type": "code",
   "execution_count": 3,
   "metadata": {},
   "outputs": [],
   "source": [
    "from pandas import DataFrame, Series\n",
    "from typing import List, Tuple\n",
    "from typing import Union\n",
    "from   dataclasses import dataclass"
   ]
  },
  {
   "cell_type": "code",
   "execution_count": 4,
   "metadata": {},
   "outputs": [],
   "source": [
    "%matplotlib inline\n",
    "%load_ext autoreload\n",
    "%autoreload 2"
   ]
  },
  {
   "cell_type": "code",
   "execution_count": 5,
   "metadata": {},
   "outputs": [],
   "source": [
    "plt.rcParams[\"figure.figsize\"] = 8, 6\n",
    "plt.rcParams[\"font.size\"     ] = 14"
   ]
  },
  {
   "cell_type": "code",
   "execution_count": 6,
   "metadata": {},
   "outputs": [],
   "source": [
    "idx = pd.IndexSlice"
   ]
  },
  {
   "cell_type": "markdown",
   "metadata": {},
   "source": [
    "#### IC"
   ]
  },
  {
   "cell_type": "code",
   "execution_count": 7,
   "metadata": {},
   "outputs": [],
   "source": [
    "\n",
    "import invisible_cities.core.system_of_units  as units\n",
    "\n",
    "from invisible_cities.io.mcinfo_io import load_mcconfiguration\n",
    "from invisible_cities.io.mcinfo_io import load_mcparticles_df\n",
    "from invisible_cities.io.mcinfo_io import load_mchits_df\n",
    "from invisible_cities.io.mcinfo_io import load_mcsensor_positions\n",
    "from invisible_cities.io.mcinfo_io import load_mcsensor_response_df\n",
    "from invisible_cities.io.mcinfo_io import get_sensor_types\n",
    "from invisible_cities.io.mcinfo_io import get_sensor_binning\n",
    "from invisible_cities.io.mcinfo_io import get_event_numbers_in_file\n",
    "from invisible_cities.core.core_functions import in_range\n"
   ]
  },
  {
   "cell_type": "markdown",
   "metadata": {},
   "source": [
    "#### TICs"
   ]
  },
  {
   "cell_type": "code",
   "execution_count": 8,
   "metadata": {},
   "outputs": [],
   "source": [
    "from tics.histograms    import h1\n",
    "from tics.pd_tics       import get_index_slice_from_multi_index\n",
    "from tics.graphics_reco import plot_hits3d\n",
    "from tics.stats_tics    import bin_data_with_equal_bin_size\n",
    "from tics.util_tics import get_class_name\n",
    "from tics.util_tics import Range\n",
    "from tics.graphics_reco import plot_gtrack\n",
    "from tics.system_of_units import *"
   ]
  },
  {
   "cell_type": "markdown",
   "metadata": {},
   "source": [
    "#### NetFlex"
   ]
  },
  {
   "cell_type": "code",
   "execution_count": 9,
   "metadata": {},
   "outputs": [],
   "source": [
    "from nextflex.core import Setup"
   ]
  },
  {
   "cell_type": "code",
   "execution_count": 10,
   "metadata": {},
   "outputs": [],
   "source": [
    "from nextflex.core import Setup\n",
    "from nextflex.mctrue_functions import get_mc_particles\n",
    "from nextflex.mctrue_functions import get_mc_primary_particles\n",
    "from nextflex.mctrue_functions import get_mc_vertex\n",
    "from nextflex.mctrue_functions import select_mc_particles\n",
    "from nextflex.mctrue_functions import get_mc_hits\n",
    "from nextflex.mctrue_functions import select_mc_hits\n",
    "from nextflex.mctrue_functions import total_hit_energy\n",
    "from nextflex.mctrue_functions import get_event_hits_from_mchits"
   ]
  },
  {
   "cell_type": "code",
   "execution_count": 11,
   "metadata": {},
   "outputs": [],
   "source": [
    "from nextflex.reco_functions import voxelize_hits\n",
    "from nextflex.reco_functions import get_voxels_as_list\n",
    "from nextflex.reco_functions import voxel_position\n",
    "from nextflex.reco_functions import voxel_energy\n",
    "from nextflex.reco_functions import voxel_nhits\n",
    "from nextflex.reco_functions import distance_between_two_voxels\n",
    "from nextflex.reco_functions import voxel_distances\n",
    "from nextflex.reco_functions import voxel_distance_pairs\n",
    "from nextflex.reco_functions import make_track_graphs\n",
    "from nextflex.reco_functions import gtrack_voxels\n",
    "from nextflex.reco_functions import shortest_paths\n",
    "from nextflex.reco_functions import find_extrema_and_length\n",
    "from nextflex.reco_functions import GTrack\n",
    "from nextflex.reco_functions import voxels_in_blob\n",
    "from nextflex.reco_functions import blob_energy\n",
    "from nextflex.reco_functions import write_gtracks_json\n",
    "from nextflex.reco_functions import load_gtracks_json"
   ]
  },
  {
   "cell_type": "code",
   "execution_count": 12,
   "metadata": {},
   "outputs": [],
   "source": [
    "from nextflex.reco_analysis import reco_gtrack\n",
    "from nextflex.reco_analysis import reco_gtrack\n",
    "from nextflex.reco_analysis import reco_gtrack\n",
    "from nextflex.reco_analysis import reco_gtrack_stats_histos\n",
    "from nextflex.reco_analysis import reco_gtrack_timing_histos\n",
    "from nextflex.reco_analysis import reco_gtrack_blobs\n",
    "from nextflex.reco_analysis import reco_gtrack_blobs_histos\n",
    "from nextflex.reco_analysis import TrackRecoStats\n",
    "from nextflex.reco_analysis import TrackRecoTiming\n",
    "from nextflex.reco_analysis import TrackRecoEventStats\n",
    "from nextflex.reco_analysis import save_to_JSON\n",
    "from nextflex.reco_analysis import load_from_JSON\n",
    "from nextflex.reco_analysis import TrackRecoAnalysisSetup\n",
    "from nextflex.reco_analysis import GtrkStats\n",
    "from nextflex.reco_analysis import gtrack_summary"
   ]
  },
  {
   "cell_type": "markdown",
   "metadata": {},
   "source": [
    "### Input data"
   ]
  },
  {
   "cell_type": "code",
   "execution_count": 13,
   "metadata": {},
   "outputs": [],
   "source": [
    "FDATA = os.environ['FLEXDATA']"
   ]
  },
  {
   "cell_type": "code",
   "execution_count": 14,
   "metadata": {},
   "outputs": [
    {
     "name": "stdout",
     "output_type": "stream",
     "text": [
      "\n",
      "        Setup <FLEX100_M6_O6_EL8bar_bb0nu_PMTs_sipmPDE_1.0_maskPDE_1.0_qTh_0.0>:\n",
      "        tracking plane configuration = FLEX100_M6_O6_EL8bar_bb0nu\n",
      "        sipm PDE                     = 1.0\n",
      "        transmission of teflon masks = 1.0\n",
      "        charge threshold             = 0.0\n",
      "        energy sensors               = PMTs\n",
      "        pitch                        = 15.55\n",
      "        number of energy sensors     = 60\n",
      "        number of SiPMs              = 3093\n",
      "        root directory               = /Users/jj/Development/flexdata/FLEX100_M6_O6_EL8bar_bb0nu\n",
      "        analysis directory           = /Users/jj/Development/flexdata/analysis/FLEX100_M6_O6_EL8bar_bb0nu\n",
      "        number of h5 files in dir    = 208\n",
      "        sipm map at                  = /Users/jj/Development/flexdata/flexmaps/sipm_map_15.6_mm.csv\n",
      "        sipm map name                = sipm_map_15.6_mm.csv\n",
      "        output file                  = /Users/jj/Development/flexdata/kdsts/FLEX100_M6_O6_EL8bar_bb0nu_PMTs_sipmPDE_1.0_maskPDE_1.0_qTh_0.0.csv\n",
      "        \n"
     ]
    }
   ],
   "source": [
    "setup = Setup(flexDATA = FDATA,\n",
    "              sipmPDE  = 1.0,\n",
    "              maskPDE  = 1.0,\n",
    "              qTh      = 0.0,\n",
    "              tpConfig = \"FLEX100_M6_O6_EL8bar_bb0nu\")\n",
    "print(setup)"
   ]
  },
  {
   "cell_type": "code",
   "execution_count": 15,
   "metadata": {},
   "outputs": [
    {
     "name": "stdout",
     "output_type": "stream",
     "text": [
      "found 208 files\n"
     ]
    }
   ],
   "source": [
    "ifnames = glob.glob(f\"{FDATA}/{setup.tpConfig}/*.h5\")\n",
    "print(f'found {len(ifnames)} files')"
   ]
  },
  {
   "cell_type": "markdown",
   "metadata": {},
   "source": [
    "### Run with large voxels"
   ]
  },
  {
   "cell_type": "code",
   "execution_count": 17,
   "metadata": {},
   "outputs": [],
   "source": [
    "voxel_bin  = 5\n",
    "contiguity =10"
   ]
  },
  {
   "cell_type": "code",
   "execution_count": 19,
   "metadata": {},
   "outputs": [
    {
     "name": "stdout",
     "output_type": "stream",
     "text": [
      " Total events analyzed = 4,\n",
      "               Events with a single track = 3\n"
     ]
    }
   ],
   "source": [
    "gtrksEvt, trackRecoStats, trackRecoEventStats, trackRecoTiming = reco_gtrack([ifnames[0]], \n",
    "                                                                          voxel_bin, \n",
    "                                                                          contiguity, \n",
    "                                                                          debug=False)"
   ]
  },
  {
   "cell_type": "code",
   "execution_count": 24,
   "metadata": {},
   "outputs": [],
   "source": [
    "gtrks = gtrksEvt[0]"
   ]
  },
  {
   "cell_type": "code",
   "execution_count": 26,
   "metadata": {},
   "outputs": [
    {
     "data": {
      "text/plain": [
       "[47, 1, 1, 1]"
      ]
     },
     "execution_count": 26,
     "metadata": {},
     "output_type": "execute_result"
    }
   ],
   "source": [
    "nv = [len(gt.voxels) for gt in gtrks ]\n",
    "nv"
   ]
  },
  {
   "cell_type": "code",
   "execution_count": null,
   "metadata": {},
   "outputs": [],
   "source": []
  },
  {
   "cell_type": "code",
   "execution_count": null,
   "metadata": {},
   "outputs": [],
   "source": []
  },
  {
   "cell_type": "code",
   "execution_count": null,
   "metadata": {},
   "outputs": [],
   "source": []
  },
  {
   "cell_type": "markdown",
   "metadata": {},
   "source": [
    "### Save to disk"
   ]
  },
  {
   "cell_type": "code",
   "execution_count": null,
   "metadata": {},
   "outputs": [],
   "source": [
    "traSetup = TrackRecoAnalysisSetup(setup, voxel_bin, contiguity, gtrks,\n",
    "                                 trackRecoStats, trackRecoEventStats, trackRecoTiming)"
   ]
  },
  {
   "cell_type": "code",
   "execution_count": null,
   "metadata": {},
   "outputs": [],
   "source": [
    "traSetup"
   ]
  },
  {
   "cell_type": "code",
   "execution_count": null,
   "metadata": {},
   "outputs": [],
   "source": [
    "save_to_JSON(traSetup.trackRecoStats, traSetup.fileTrackRecoStats, numpy_convert=True)"
   ]
  },
  {
   "cell_type": "code",
   "execution_count": null,
   "metadata": {},
   "outputs": [],
   "source": [
    "save_to_JSON(traSetup.trackRecoTiming, traSetup.fileTrackRecoTiming, numpy_convert=True)"
   ]
  },
  {
   "cell_type": "code",
   "execution_count": null,
   "metadata": {},
   "outputs": [],
   "source": [
    "save_to_JSON(traSetup.trackRecoEventStats, traSetup.fileTrackRecoEventStats, numpy_convert=False)"
   ]
  },
  {
   "cell_type": "code",
   "execution_count": null,
   "metadata": {},
   "outputs": [],
   "source": [
    "write_gtracks_json(traSetup.gtracks, traSetup.fileGTracks)"
   ]
  },
  {
   "cell_type": "markdown",
   "metadata": {},
   "source": [
    "### Load from disk"
   ]
  },
  {
   "cell_type": "code",
   "execution_count": null,
   "metadata": {},
   "outputs": [],
   "source": [
    "trs  = TrackRecoStats(**load_from_JSON(traSetup.fileTrackRecoStats))"
   ]
  },
  {
   "cell_type": "code",
   "execution_count": null,
   "metadata": {},
   "outputs": [],
   "source": [
    "trt  = TrackRecoTiming(**load_from_JSON(traSetup.fileTrackRecoTiming))"
   ]
  },
  {
   "cell_type": "code",
   "execution_count": null,
   "metadata": {},
   "outputs": [],
   "source": [
    "tres = TrackRecoEventStats(**load_from_JSON(traSetup.fileTrackRecoEventStats))"
   ]
  },
  {
   "cell_type": "code",
   "execution_count": null,
   "metadata": {},
   "outputs": [],
   "source": [
    "gtrks = load_gtracks_json(traSetup.fileGTracks)"
   ]
  },
  {
   "cell_type": "markdown",
   "metadata": {},
   "source": [
    "### Run stats and timing"
   ]
  },
  {
   "cell_type": "code",
   "execution_count": null,
   "metadata": {},
   "outputs": [],
   "source": [
    "tres"
   ]
  },
  {
   "cell_type": "code",
   "execution_count": null,
   "metadata": {},
   "outputs": [],
   "source": [
    "reco_gtrack_stats_histos(trs, figsize=(14,10))"
   ]
  },
  {
   "cell_type": "code",
   "execution_count": null,
   "metadata": {},
   "outputs": [],
   "source": [
    "reco_gtrack_timing_histos(trt, figsize=(14,10))"
   ]
  },
  {
   "cell_type": "markdown",
   "metadata": {},
   "source": [
    "### Blobs"
   ]
  },
  {
   "cell_type": "code",
   "execution_count": null,
   "metadata": {},
   "outputs": [],
   "source": [
    "gts = reco_gtrack_blobs(gtrks, rb = 5)"
   ]
  },
  {
   "cell_type": "code",
   "execution_count": null,
   "metadata": {},
   "outputs": [],
   "source": [
    "reco_gtrack_blobs_histos(gts, figsize=(14,10))"
   ]
  },
  {
   "cell_type": "code",
   "execution_count": null,
   "metadata": {},
   "outputs": [],
   "source": [
    "gts = reco_gtrack_blobs(gtrks, rb = 10)"
   ]
  },
  {
   "cell_type": "code",
   "execution_count": null,
   "metadata": {},
   "outputs": [],
   "source": [
    "reco_gtrack_blobs_histos(gts, figsize=(14,10))"
   ]
  },
  {
   "cell_type": "code",
   "execution_count": null,
   "metadata": {},
   "outputs": [],
   "source": [
    "gts = reco_gtrack_blobs(gtrks, rb = 15)"
   ]
  },
  {
   "cell_type": "code",
   "execution_count": null,
   "metadata": {},
   "outputs": [],
   "source": [
    "reco_gtrack_blobs_histos(gts, figsize=(14,10))"
   ]
  },
  {
   "cell_type": "code",
   "execution_count": null,
   "metadata": {},
   "outputs": [],
   "source": [
    "gts = reco_gtrack_blobs(gtrks, rb = 20)"
   ]
  },
  {
   "cell_type": "code",
   "execution_count": null,
   "metadata": {},
   "outputs": [],
   "source": [
    "reco_gtrack_blobs_histos(gts, figsize=(14,10))"
   ]
  },
  {
   "cell_type": "markdown",
   "metadata": {},
   "source": [
    "### Display a few events"
   ]
  },
  {
   "cell_type": "code",
   "execution_count": null,
   "metadata": {},
   "outputs": [],
   "source": [
    "ts = reco_gtrack_blobs(gtrks, rb = 5)"
   ]
  },
  {
   "cell_type": "code",
   "execution_count": null,
   "metadata": {},
   "outputs": [],
   "source": [
    "plot_gtrack(gtrks[0],\n",
    "            rblob     = 5,\n",
    "            autorange = True,\n",
    "            weight    = 'energy',\n",
    "            xrange    = (-500,500),\n",
    "            yrange    = (-500,500),\n",
    "            zrange    = (0,1000),\n",
    "            figsize   = (14,10))"
   ]
  },
  {
   "cell_type": "code",
   "execution_count": null,
   "metadata": {},
   "outputs": [],
   "source": [
    "gtrack_summary(gts,0)"
   ]
  },
  {
   "cell_type": "code",
   "execution_count": null,
   "metadata": {},
   "outputs": [],
   "source": [
    "plot_gtrack(gtrks[1], rblob = 5, figsize = (14,10))"
   ]
  },
  {
   "cell_type": "code",
   "execution_count": null,
   "metadata": {},
   "outputs": [],
   "source": [
    "gtrack_summary(gts,1)"
   ]
  },
  {
   "cell_type": "code",
   "execution_count": null,
   "metadata": {},
   "outputs": [],
   "source": [
    "plot_gtrack(gtrks[2], rblob = 5, figsize = (14,10))"
   ]
  },
  {
   "cell_type": "code",
   "execution_count": null,
   "metadata": {},
   "outputs": [],
   "source": [
    "gtrack_summary(gts,2)"
   ]
  },
  {
   "cell_type": "code",
   "execution_count": null,
   "metadata": {},
   "outputs": [],
   "source": [
    "plot_gtrack(gtrks[5], rblob = 5, figsize = (14,10))"
   ]
  },
  {
   "cell_type": "code",
   "execution_count": null,
   "metadata": {},
   "outputs": [],
   "source": [
    "gtrack_summary(gts,5)"
   ]
  },
  {
   "cell_type": "code",
   "execution_count": null,
   "metadata": {},
   "outputs": [],
   "source": [
    "plot_gtrack(gtrks[10], rblob = 5, figsize = (14,10))"
   ]
  },
  {
   "cell_type": "code",
   "execution_count": null,
   "metadata": {},
   "outputs": [],
   "source": [
    "gtrack_summary(gts,10)"
   ]
  }
 ],
 "metadata": {
  "kernelspec": {
   "display_name": "Python 3",
   "language": "python",
   "name": "python3"
  },
  "language_info": {
   "codemirror_mode": {
    "name": "ipython",
    "version": 3
   },
   "file_extension": ".py",
   "mimetype": "text/x-python",
   "name": "python",
   "nbconvert_exporter": "python",
   "pygments_lexer": "ipython3",
   "version": "3.7.7"
  }
 },
 "nbformat": 4,
 "nbformat_minor": 4
}
